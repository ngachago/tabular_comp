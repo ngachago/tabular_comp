{
 "cells": [
  {
   "cell_type": "markdown",
   "id": "natural-fault",
   "metadata": {},
   "source": [
    "# Kaggle Competition: Tabular Playground Series (Feb 2021)"
   ]
  },
  {
   "cell_type": "code",
   "execution_count": 1,
   "id": "universal-brick",
   "metadata": {},
   "outputs": [],
   "source": [
    "# Data prep imports\n",
    "\n",
    "import pandas as pd\n",
    "import matplotlib.pyplot as plt\n",
    "import seaborn as sns\n",
    "from sklearn.preprocessing import RobustScaler, MinMaxScaler, OneHotEncoder, PolynomialFeatures\n",
    "from sklearn.inspection import permutation_importance"
   ]
  },
  {
   "cell_type": "code",
   "execution_count": 2,
   "id": "flush-cursor",
   "metadata": {},
   "outputs": [],
   "source": [
    "# ML Modeling imports\n",
    "\n",
    "from sklearn.linear_model import LinearRegression, SGDRegressor, RidgeCV, Ridge, Lasso, ElasticNet\n",
    "from sklearn.model_selection import cross_val_score, train_test_split, cross_validate, GridSearchCV, ShuffleSplit\n",
    "import numpy as np\n",
    "from sklearn.dummy import DummyRegressor\n",
    "import math\n",
    "from xgboost import XGBRegressor\n",
    "from sklearn.metrics import mean_squared_error\n",
    "from learning_curves import plot_learning_curve\n",
    "from sklearn.tree import DecisionTreeRegressor\n",
    "from sklearn.ensemble import AdaBoostRegressor, GradientBoostingRegressor, VotingRegressor, RandomForestRegressor, BaggingRegressor, StackingRegressor\n",
    "from sklearn.experimental import enable_halving_search_cv\n",
    "from sklearn.model_selection import HalvingGridSearchCV\n",
    "from sklearn.svm import LinearSVR\n",
    "from sklearn.neighbors import KNeighborsRegressor\n",
    "from sklearn.pipeline import make_pipeline"
   ]
  },
  {
   "cell_type": "code",
   "execution_count": 3,
   "id": "recorded-subcommittee",
   "metadata": {},
   "outputs": [],
   "source": [
    "# DL modeling imports\n",
    "\n",
    "import tensorflow as tf\n",
    "from tensorflow.keras import Sequential, Model, layers, metrics, regularizers\n",
    "from tensorflow.keras.callbacks import EarlyStopping\n",
    "from plot_loss import plot_loss_mae"
   ]
  },
  {
   "cell_type": "markdown",
   "id": "pretty-charter",
   "metadata": {},
   "source": [
    "## Load Data"
   ]
  },
  {
   "cell_type": "markdown",
   "id": "collect-mixture",
   "metadata": {},
   "source": [
    "#### Data Description\n",
    "\n",
    "For this competition, you will be predicting a continuous `target` based on a number of feature columns given in the data. All of the feature columns, `cat0` - `cat9` are categorical, and the feature columns `cont0` - `cont13` are continuous.\n",
    "\n",
    "\n",
    "#### Files\n",
    "\n",
    "- train.csv - the training data with the `target` column\n",
    "- test.csv - the test set; you will be predicting the `target` for each row in this file\n",
    "- sample_submission.csv - a sample submission file in the correct format"
   ]
  },
  {
   "cell_type": "code",
   "execution_count": 2,
   "id": "lightweight-harvey",
   "metadata": {},
   "outputs": [
    {
     "data": {
      "text/html": [
       "<div>\n",
       "<style scoped>\n",
       "    .dataframe tbody tr th:only-of-type {\n",
       "        vertical-align: middle;\n",
       "    }\n",
       "\n",
       "    .dataframe tbody tr th {\n",
       "        vertical-align: top;\n",
       "    }\n",
       "\n",
       "    .dataframe thead th {\n",
       "        text-align: right;\n",
       "    }\n",
       "</style>\n",
       "<table border=\"1\" class=\"dataframe\">\n",
       "  <thead>\n",
       "    <tr style=\"text-align: right;\">\n",
       "      <th></th>\n",
       "      <th>id</th>\n",
       "      <th>cat0</th>\n",
       "      <th>cat1</th>\n",
       "      <th>cat2</th>\n",
       "      <th>cat3</th>\n",
       "      <th>cat4</th>\n",
       "      <th>cat5</th>\n",
       "      <th>cat6</th>\n",
       "      <th>cat7</th>\n",
       "      <th>cat8</th>\n",
       "      <th>...</th>\n",
       "      <th>cont5</th>\n",
       "      <th>cont6</th>\n",
       "      <th>cont7</th>\n",
       "      <th>cont8</th>\n",
       "      <th>cont9</th>\n",
       "      <th>cont10</th>\n",
       "      <th>cont11</th>\n",
       "      <th>cont12</th>\n",
       "      <th>cont13</th>\n",
       "      <th>target</th>\n",
       "    </tr>\n",
       "  </thead>\n",
       "  <tbody>\n",
       "    <tr>\n",
       "      <th>0</th>\n",
       "      <td>1</td>\n",
       "      <td>A</td>\n",
       "      <td>B</td>\n",
       "      <td>A</td>\n",
       "      <td>A</td>\n",
       "      <td>B</td>\n",
       "      <td>D</td>\n",
       "      <td>A</td>\n",
       "      <td>E</td>\n",
       "      <td>C</td>\n",
       "      <td>...</td>\n",
       "      <td>0.881122</td>\n",
       "      <td>0.421650</td>\n",
       "      <td>0.741413</td>\n",
       "      <td>0.895799</td>\n",
       "      <td>0.802461</td>\n",
       "      <td>0.724417</td>\n",
       "      <td>0.701915</td>\n",
       "      <td>0.877618</td>\n",
       "      <td>0.719903</td>\n",
       "      <td>6.994023</td>\n",
       "    </tr>\n",
       "    <tr>\n",
       "      <th>1</th>\n",
       "      <td>2</td>\n",
       "      <td>B</td>\n",
       "      <td>A</td>\n",
       "      <td>A</td>\n",
       "      <td>A</td>\n",
       "      <td>B</td>\n",
       "      <td>B</td>\n",
       "      <td>A</td>\n",
       "      <td>E</td>\n",
       "      <td>A</td>\n",
       "      <td>...</td>\n",
       "      <td>0.440011</td>\n",
       "      <td>0.346230</td>\n",
       "      <td>0.278495</td>\n",
       "      <td>0.593413</td>\n",
       "      <td>0.546056</td>\n",
       "      <td>0.613252</td>\n",
       "      <td>0.741289</td>\n",
       "      <td>0.326679</td>\n",
       "      <td>0.808464</td>\n",
       "      <td>8.071256</td>\n",
       "    </tr>\n",
       "    <tr>\n",
       "      <th>2</th>\n",
       "      <td>3</td>\n",
       "      <td>A</td>\n",
       "      <td>A</td>\n",
       "      <td>A</td>\n",
       "      <td>C</td>\n",
       "      <td>B</td>\n",
       "      <td>D</td>\n",
       "      <td>A</td>\n",
       "      <td>B</td>\n",
       "      <td>C</td>\n",
       "      <td>...</td>\n",
       "      <td>0.914155</td>\n",
       "      <td>0.369602</td>\n",
       "      <td>0.832564</td>\n",
       "      <td>0.865620</td>\n",
       "      <td>0.825251</td>\n",
       "      <td>0.264104</td>\n",
       "      <td>0.695561</td>\n",
       "      <td>0.869133</td>\n",
       "      <td>0.828352</td>\n",
       "      <td>5.760456</td>\n",
       "    </tr>\n",
       "    <tr>\n",
       "      <th>3</th>\n",
       "      <td>4</td>\n",
       "      <td>A</td>\n",
       "      <td>A</td>\n",
       "      <td>A</td>\n",
       "      <td>C</td>\n",
       "      <td>B</td>\n",
       "      <td>D</td>\n",
       "      <td>A</td>\n",
       "      <td>E</td>\n",
       "      <td>G</td>\n",
       "      <td>...</td>\n",
       "      <td>0.934138</td>\n",
       "      <td>0.578930</td>\n",
       "      <td>0.407313</td>\n",
       "      <td>0.868099</td>\n",
       "      <td>0.794402</td>\n",
       "      <td>0.494269</td>\n",
       "      <td>0.698125</td>\n",
       "      <td>0.809799</td>\n",
       "      <td>0.614766</td>\n",
       "      <td>7.806457</td>\n",
       "    </tr>\n",
       "    <tr>\n",
       "      <th>4</th>\n",
       "      <td>6</td>\n",
       "      <td>A</td>\n",
       "      <td>B</td>\n",
       "      <td>A</td>\n",
       "      <td>A</td>\n",
       "      <td>B</td>\n",
       "      <td>B</td>\n",
       "      <td>A</td>\n",
       "      <td>E</td>\n",
       "      <td>C</td>\n",
       "      <td>...</td>\n",
       "      <td>0.382600</td>\n",
       "      <td>0.705940</td>\n",
       "      <td>0.325193</td>\n",
       "      <td>0.440967</td>\n",
       "      <td>0.462146</td>\n",
       "      <td>0.724447</td>\n",
       "      <td>0.683073</td>\n",
       "      <td>0.343457</td>\n",
       "      <td>0.297743</td>\n",
       "      <td>6.868974</td>\n",
       "    </tr>\n",
       "  </tbody>\n",
       "</table>\n",
       "<p>5 rows × 26 columns</p>\n",
       "</div>"
      ],
      "text/plain": [
       "   id cat0 cat1 cat2 cat3 cat4 cat5 cat6 cat7 cat8  ...     cont5     cont6  \\\n",
       "0   1    A    B    A    A    B    D    A    E    C  ...  0.881122  0.421650   \n",
       "1   2    B    A    A    A    B    B    A    E    A  ...  0.440011  0.346230   \n",
       "2   3    A    A    A    C    B    D    A    B    C  ...  0.914155  0.369602   \n",
       "3   4    A    A    A    C    B    D    A    E    G  ...  0.934138  0.578930   \n",
       "4   6    A    B    A    A    B    B    A    E    C  ...  0.382600  0.705940   \n",
       "\n",
       "      cont7     cont8     cont9    cont10    cont11    cont12    cont13  \\\n",
       "0  0.741413  0.895799  0.802461  0.724417  0.701915  0.877618  0.719903   \n",
       "1  0.278495  0.593413  0.546056  0.613252  0.741289  0.326679  0.808464   \n",
       "2  0.832564  0.865620  0.825251  0.264104  0.695561  0.869133  0.828352   \n",
       "3  0.407313  0.868099  0.794402  0.494269  0.698125  0.809799  0.614766   \n",
       "4  0.325193  0.440967  0.462146  0.724447  0.683073  0.343457  0.297743   \n",
       "\n",
       "     target  \n",
       "0  6.994023  \n",
       "1  8.071256  \n",
       "2  5.760456  \n",
       "3  7.806457  \n",
       "4  6.868974  \n",
       "\n",
       "[5 rows x 26 columns]"
      ]
     },
     "execution_count": 2,
     "metadata": {},
     "output_type": "execute_result"
    }
   ],
   "source": [
    "train_df = pd.read_csv('data/train.csv')\n",
    "train_df.head()"
   ]
  },
  {
   "cell_type": "code",
   "execution_count": 48,
   "id": "macro-institute",
   "metadata": {},
   "outputs": [
    {
     "data": {
      "text/html": [
       "<div>\n",
       "<style scoped>\n",
       "    .dataframe tbody tr th:only-of-type {\n",
       "        vertical-align: middle;\n",
       "    }\n",
       "\n",
       "    .dataframe tbody tr th {\n",
       "        vertical-align: top;\n",
       "    }\n",
       "\n",
       "    .dataframe thead th {\n",
       "        text-align: right;\n",
       "    }\n",
       "</style>\n",
       "<table border=\"1\" class=\"dataframe\">\n",
       "  <thead>\n",
       "    <tr style=\"text-align: right;\">\n",
       "      <th></th>\n",
       "      <th>id</th>\n",
       "      <th>cat0</th>\n",
       "      <th>cat1</th>\n",
       "      <th>cat2</th>\n",
       "      <th>cat3</th>\n",
       "      <th>cat4</th>\n",
       "      <th>cat5</th>\n",
       "      <th>cat6</th>\n",
       "      <th>cat7</th>\n",
       "      <th>cat8</th>\n",
       "      <th>...</th>\n",
       "      <th>cont4</th>\n",
       "      <th>cont5</th>\n",
       "      <th>cont6</th>\n",
       "      <th>cont7</th>\n",
       "      <th>cont8</th>\n",
       "      <th>cont9</th>\n",
       "      <th>cont10</th>\n",
       "      <th>cont11</th>\n",
       "      <th>cont12</th>\n",
       "      <th>cont13</th>\n",
       "    </tr>\n",
       "  </thead>\n",
       "  <tbody>\n",
       "    <tr>\n",
       "      <th>0</th>\n",
       "      <td>0</td>\n",
       "      <td>A</td>\n",
       "      <td>B</td>\n",
       "      <td>A</td>\n",
       "      <td>C</td>\n",
       "      <td>B</td>\n",
       "      <td>D</td>\n",
       "      <td>A</td>\n",
       "      <td>E</td>\n",
       "      <td>E</td>\n",
       "      <td>...</td>\n",
       "      <td>0.701679</td>\n",
       "      <td>0.595507</td>\n",
       "      <td>0.286912</td>\n",
       "      <td>0.279884</td>\n",
       "      <td>0.202234</td>\n",
       "      <td>0.242654</td>\n",
       "      <td>0.285147</td>\n",
       "      <td>0.264308</td>\n",
       "      <td>0.653654</td>\n",
       "      <td>0.302448</td>\n",
       "    </tr>\n",
       "    <tr>\n",
       "      <th>1</th>\n",
       "      <td>5</td>\n",
       "      <td>A</td>\n",
       "      <td>B</td>\n",
       "      <td>A</td>\n",
       "      <td>C</td>\n",
       "      <td>B</td>\n",
       "      <td>D</td>\n",
       "      <td>A</td>\n",
       "      <td>E</td>\n",
       "      <td>C</td>\n",
       "      <td>...</td>\n",
       "      <td>0.277480</td>\n",
       "      <td>0.479552</td>\n",
       "      <td>0.397436</td>\n",
       "      <td>0.476742</td>\n",
       "      <td>0.857073</td>\n",
       "      <td>0.516393</td>\n",
       "      <td>0.562065</td>\n",
       "      <td>0.730542</td>\n",
       "      <td>0.318492</td>\n",
       "      <td>0.736251</td>\n",
       "    </tr>\n",
       "    <tr>\n",
       "      <th>2</th>\n",
       "      <td>15</td>\n",
       "      <td>A</td>\n",
       "      <td>B</td>\n",
       "      <td>A</td>\n",
       "      <td>C</td>\n",
       "      <td>B</td>\n",
       "      <td>D</td>\n",
       "      <td>A</td>\n",
       "      <td>E</td>\n",
       "      <td>C</td>\n",
       "      <td>...</td>\n",
       "      <td>0.279508</td>\n",
       "      <td>0.676395</td>\n",
       "      <td>0.695284</td>\n",
       "      <td>0.253316</td>\n",
       "      <td>0.586934</td>\n",
       "      <td>0.548555</td>\n",
       "      <td>0.836193</td>\n",
       "      <td>0.759788</td>\n",
       "      <td>0.333572</td>\n",
       "      <td>0.273905</td>\n",
       "    </tr>\n",
       "    <tr>\n",
       "      <th>3</th>\n",
       "      <td>16</td>\n",
       "      <td>A</td>\n",
       "      <td>A</td>\n",
       "      <td>B</td>\n",
       "      <td>A</td>\n",
       "      <td>B</td>\n",
       "      <td>D</td>\n",
       "      <td>A</td>\n",
       "      <td>E</td>\n",
       "      <td>E</td>\n",
       "      <td>...</td>\n",
       "      <td>0.479503</td>\n",
       "      <td>0.759875</td>\n",
       "      <td>0.240049</td>\n",
       "      <td>0.298074</td>\n",
       "      <td>0.442475</td>\n",
       "      <td>0.596746</td>\n",
       "      <td>0.414131</td>\n",
       "      <td>0.255382</td>\n",
       "      <td>0.589080</td>\n",
       "      <td>0.311625</td>\n",
       "    </tr>\n",
       "    <tr>\n",
       "      <th>4</th>\n",
       "      <td>17</td>\n",
       "      <td>A</td>\n",
       "      <td>B</td>\n",
       "      <td>A</td>\n",
       "      <td>A</td>\n",
       "      <td>B</td>\n",
       "      <td>B</td>\n",
       "      <td>A</td>\n",
       "      <td>E</td>\n",
       "      <td>E</td>\n",
       "      <td>...</td>\n",
       "      <td>0.757845</td>\n",
       "      <td>0.210232</td>\n",
       "      <td>0.329851</td>\n",
       "      <td>0.616663</td>\n",
       "      <td>0.170475</td>\n",
       "      <td>0.263235</td>\n",
       "      <td>0.710961</td>\n",
       "      <td>0.224045</td>\n",
       "      <td>0.285860</td>\n",
       "      <td>0.794931</td>\n",
       "    </tr>\n",
       "  </tbody>\n",
       "</table>\n",
       "<p>5 rows × 25 columns</p>\n",
       "</div>"
      ],
      "text/plain": [
       "   id cat0 cat1 cat2 cat3 cat4 cat5 cat6 cat7 cat8  ...     cont4     cont5  \\\n",
       "0   0    A    B    A    C    B    D    A    E    E  ...  0.701679  0.595507   \n",
       "1   5    A    B    A    C    B    D    A    E    C  ...  0.277480  0.479552   \n",
       "2  15    A    B    A    C    B    D    A    E    C  ...  0.279508  0.676395   \n",
       "3  16    A    A    B    A    B    D    A    E    E  ...  0.479503  0.759875   \n",
       "4  17    A    B    A    A    B    B    A    E    E  ...  0.757845  0.210232   \n",
       "\n",
       "      cont6     cont7     cont8     cont9    cont10    cont11    cont12  \\\n",
       "0  0.286912  0.279884  0.202234  0.242654  0.285147  0.264308  0.653654   \n",
       "1  0.397436  0.476742  0.857073  0.516393  0.562065  0.730542  0.318492   \n",
       "2  0.695284  0.253316  0.586934  0.548555  0.836193  0.759788  0.333572   \n",
       "3  0.240049  0.298074  0.442475  0.596746  0.414131  0.255382  0.589080   \n",
       "4  0.329851  0.616663  0.170475  0.263235  0.710961  0.224045  0.285860   \n",
       "\n",
       "     cont13  \n",
       "0  0.302448  \n",
       "1  0.736251  \n",
       "2  0.273905  \n",
       "3  0.311625  \n",
       "4  0.794931  \n",
       "\n",
       "[5 rows x 25 columns]"
      ]
     },
     "execution_count": 48,
     "metadata": {},
     "output_type": "execute_result"
    }
   ],
   "source": [
    "test_df = pd.read_csv('data/test.csv')\n",
    "test_df.head()"
   ]
  },
  {
   "cell_type": "markdown",
   "id": "unable-speech",
   "metadata": {},
   "source": [
    "# Data Preparation"
   ]
  },
  {
   "cell_type": "markdown",
   "id": "martial-reverse",
   "metadata": {},
   "source": [
    "### Check for duplicates"
   ]
  },
  {
   "cell_type": "code",
   "execution_count": 3,
   "id": "concerned-relief",
   "metadata": {},
   "outputs": [
    {
     "name": "stdout",
     "output_type": "stream",
     "text": [
      "300000\n",
      "300000\n"
     ]
    }
   ],
   "source": [
    "print(len(train_df))\n",
    "train_df = train_df.drop_duplicates()\n",
    "print(len(train_df))"
   ]
  },
  {
   "cell_type": "markdown",
   "id": "south-interview",
   "metadata": {},
   "source": [
    "### Check for missing values"
   ]
  },
  {
   "cell_type": "code",
   "execution_count": 4,
   "id": "innocent-parliament",
   "metadata": {},
   "outputs": [
    {
     "data": {
      "text/plain": [
       "id        0\n",
       "cat0      0\n",
       "cont13    0\n",
       "cont12    0\n",
       "cont11    0\n",
       "cont10    0\n",
       "cont9     0\n",
       "cont8     0\n",
       "cont7     0\n",
       "cont6     0\n",
       "cont5     0\n",
       "cont4     0\n",
       "cont3     0\n",
       "cont2     0\n",
       "cont1     0\n",
       "cont0     0\n",
       "cat9      0\n",
       "cat8      0\n",
       "cat7      0\n",
       "cat6      0\n",
       "cat5      0\n",
       "cat4      0\n",
       "cat3      0\n",
       "cat2      0\n",
       "cat1      0\n",
       "target    0\n",
       "dtype: int64"
      ]
     },
     "execution_count": 4,
     "metadata": {},
     "output_type": "execute_result"
    }
   ],
   "source": [
    "train_df.isnull().sum().sort_values(ascending=False)"
   ]
  },
  {
   "cell_type": "markdown",
   "id": "substantial-swing",
   "metadata": {},
   "source": [
    "### Check for outliers"
   ]
  },
  {
   "cell_type": "code",
   "execution_count": 5,
   "id": "advance-membrane",
   "metadata": {},
   "outputs": [
    {
     "data": {
      "image/png": "[encoded data removed]",
      "text/plain": [
       "<Figure size 1800x1080 with 15 Axes>"
      ]
     },
     "metadata": {
      "needs_background": "light"
     },
     "output_type": "display_data"
    }
   ],
   "source": [
    "fig, axes = plt.subplots(5, 3, figsize=(25, 15))\n",
    "sns.boxplot(x='cont0', data=train_df, ax=axes[0,0])\n",
    "sns.boxplot(x='cont1', data=train_df, ax=axes[0,1])\n",
    "sns.boxplot(x='cont2', data=train_df, ax=axes[0,2])\n",
    "sns.boxplot(x='cont3', data=train_df, ax=axes[1,0])\n",
    "sns.boxplot(x='cont4', data=train_df, ax=axes[1,1])\n",
    "sns.boxplot(x='cont5', data=train_df, ax=axes[1,2])\n",
    "sns.boxplot(x='cont6', data=train_df, ax=axes[2,0])\n",
    "sns.boxplot(x='cont7', data=train_df, ax=axes[2,1])\n",
    "sns.boxplot(x='cont8', data=train_df, ax=axes[2,2])\n",
    "sns.boxplot(x='cont9', data=train_df, ax=axes[3,0])\n",
    "sns.boxplot(x='cont10', data=train_df, ax=axes[3,1])\n",
    "sns.boxplot(x='cont11', data=train_df, ax=axes[3,2])\n",
    "sns.boxplot(x='cont12', data=train_df, ax=axes[4,0])\n",
    "sns.boxplot(x='cont13', data=train_df, ax=axes[4,1])\n",
    "fig.subplots_adjust(hspace=0.5)\n",
    "plt.show()"
   ]
  },
  {
   "cell_type": "markdown",
   "id": "apparent-volleyball",
   "metadata": {},
   "source": [
    "--------------------\n",
    "\n",
    "*Count of outliers on the low side for cont0 and cont2 are less than 1% of the data. However the up side outliers for cont2, cont6, and cont8 are signficant so opting not to drop outliers. Use robust scaler on cont0, cont2, cont6, and cont8. Use MinMax scaler for remaining continuous features.*\n",
    "\n",
    "-----------------"
   ]
  },
  {
   "cell_type": "markdown",
   "id": "waiting-broadcast",
   "metadata": {},
   "source": [
    "### Scale continuous features"
   ]
  },
  {
   "cell_type": "code",
   "execution_count": 6,
   "id": "filled-sugar",
   "metadata": {},
   "outputs": [
    {
     "data": {
      "text/plain": [
       "Index(['id', 'cat0', 'cat1', 'cat2', 'cat3', 'cat4', 'cat5', 'cat6', 'cat7',\n",
       "       'cat8', 'cat9', 'cont0', 'cont1', 'cont2', 'cont3', 'cont4', 'cont5',\n",
       "       'cont6', 'cont7', 'cont8', 'cont9', 'cont10', 'cont11', 'cont12',\n",
       "       'cont13', 'target'],\n",
       "      dtype='object')"
      ]
     },
     "execution_count": 6,
     "metadata": {},
     "output_type": "execute_result"
    }
   ],
   "source": [
    "train_df.columns"
   ]
  },
  {
   "cell_type": "code",
   "execution_count": 7,
   "id": "bulgarian-billy",
   "metadata": {},
   "outputs": [],
   "source": [
    "robust = ['cont0', 'cont2', 'cont6', 'cont8']\n",
    "min_max = ['cont1', 'cont3', 'cont4', 'cont5', 'cont7', 'cont9', 'cont10', 'cont11', 'cont12', 'cont13']"
   ]
  },
  {
   "cell_type": "code",
   "execution_count": 8,
   "id": "split-verse",
   "metadata": {},
   "outputs": [
    {
     "data": {
      "text/html": [
       "<div>\n",
       "<style scoped>\n",
       "    .dataframe tbody tr th:only-of-type {\n",
       "        vertical-align: middle;\n",
       "    }\n",
       "\n",
       "    .dataframe tbody tr th {\n",
       "        vertical-align: top;\n",
       "    }\n",
       "\n",
       "    .dataframe thead th {\n",
       "        text-align: right;\n",
       "    }\n",
       "</style>\n",
       "<table border=\"1\" class=\"dataframe\">\n",
       "  <thead>\n",
       "    <tr style=\"text-align: right;\">\n",
       "      <th></th>\n",
       "      <th>id</th>\n",
       "      <th>cat0</th>\n",
       "      <th>cat1</th>\n",
       "      <th>cat2</th>\n",
       "      <th>cat3</th>\n",
       "      <th>cat4</th>\n",
       "      <th>cat5</th>\n",
       "      <th>cat6</th>\n",
       "      <th>cat7</th>\n",
       "      <th>cat8</th>\n",
       "      <th>...</th>\n",
       "      <th>cont5</th>\n",
       "      <th>cont6</th>\n",
       "      <th>cont7</th>\n",
       "      <th>cont8</th>\n",
       "      <th>cont9</th>\n",
       "      <th>cont10</th>\n",
       "      <th>cont11</th>\n",
       "      <th>cont12</th>\n",
       "      <th>cont13</th>\n",
       "      <th>target</th>\n",
       "    </tr>\n",
       "  </thead>\n",
       "  <tbody>\n",
       "    <tr>\n",
       "      <th>0</th>\n",
       "      <td>1</td>\n",
       "      <td>A</td>\n",
       "      <td>B</td>\n",
       "      <td>A</td>\n",
       "      <td>A</td>\n",
       "      <td>B</td>\n",
       "      <td>D</td>\n",
       "      <td>A</td>\n",
       "      <td>E</td>\n",
       "      <td>C</td>\n",
       "      <td>...</td>\n",
       "      <td>0.881122</td>\n",
       "      <td>0.043732</td>\n",
       "      <td>0.741413</td>\n",
       "      <td>2.018280</td>\n",
       "      <td>0.802461</td>\n",
       "      <td>0.724417</td>\n",
       "      <td>0.701915</td>\n",
       "      <td>0.877618</td>\n",
       "      <td>0.719903</td>\n",
       "      <td>6.994023</td>\n",
       "    </tr>\n",
       "    <tr>\n",
       "      <th>1</th>\n",
       "      <td>2</td>\n",
       "      <td>B</td>\n",
       "      <td>A</td>\n",
       "      <td>A</td>\n",
       "      <td>A</td>\n",
       "      <td>B</td>\n",
       "      <td>B</td>\n",
       "      <td>A</td>\n",
       "      <td>E</td>\n",
       "      <td>A</td>\n",
       "      <td>...</td>\n",
       "      <td>0.440011</td>\n",
       "      <td>-0.241574</td>\n",
       "      <td>0.278495</td>\n",
       "      <td>0.719764</td>\n",
       "      <td>0.546056</td>\n",
       "      <td>0.613252</td>\n",
       "      <td>0.741289</td>\n",
       "      <td>0.326679</td>\n",
       "      <td>0.808464</td>\n",
       "      <td>8.071256</td>\n",
       "    </tr>\n",
       "    <tr>\n",
       "      <th>2</th>\n",
       "      <td>3</td>\n",
       "      <td>A</td>\n",
       "      <td>A</td>\n",
       "      <td>A</td>\n",
       "      <td>C</td>\n",
       "      <td>B</td>\n",
       "      <td>D</td>\n",
       "      <td>A</td>\n",
       "      <td>B</td>\n",
       "      <td>C</td>\n",
       "      <td>...</td>\n",
       "      <td>0.914155</td>\n",
       "      <td>-0.153161</td>\n",
       "      <td>0.832564</td>\n",
       "      <td>1.888681</td>\n",
       "      <td>0.825251</td>\n",
       "      <td>0.264104</td>\n",
       "      <td>0.695561</td>\n",
       "      <td>0.869133</td>\n",
       "      <td>0.828352</td>\n",
       "      <td>5.760456</td>\n",
       "    </tr>\n",
       "    <tr>\n",
       "      <th>3</th>\n",
       "      <td>4</td>\n",
       "      <td>A</td>\n",
       "      <td>A</td>\n",
       "      <td>A</td>\n",
       "      <td>C</td>\n",
       "      <td>B</td>\n",
       "      <td>D</td>\n",
       "      <td>A</td>\n",
       "      <td>E</td>\n",
       "      <td>G</td>\n",
       "      <td>...</td>\n",
       "      <td>0.934138</td>\n",
       "      <td>0.638699</td>\n",
       "      <td>0.407313</td>\n",
       "      <td>1.899329</td>\n",
       "      <td>0.794402</td>\n",
       "      <td>0.494269</td>\n",
       "      <td>0.698125</td>\n",
       "      <td>0.809799</td>\n",
       "      <td>0.614766</td>\n",
       "      <td>7.806457</td>\n",
       "    </tr>\n",
       "    <tr>\n",
       "      <th>4</th>\n",
       "      <td>6</td>\n",
       "      <td>A</td>\n",
       "      <td>B</td>\n",
       "      <td>A</td>\n",
       "      <td>A</td>\n",
       "      <td>B</td>\n",
       "      <td>B</td>\n",
       "      <td>A</td>\n",
       "      <td>E</td>\n",
       "      <td>C</td>\n",
       "      <td>...</td>\n",
       "      <td>0.382600</td>\n",
       "      <td>1.119159</td>\n",
       "      <td>0.325193</td>\n",
       "      <td>0.065125</td>\n",
       "      <td>0.462146</td>\n",
       "      <td>0.724447</td>\n",
       "      <td>0.683073</td>\n",
       "      <td>0.343457</td>\n",
       "      <td>0.297743</td>\n",
       "      <td>6.868974</td>\n",
       "    </tr>\n",
       "  </tbody>\n",
       "</table>\n",
       "<p>5 rows × 26 columns</p>\n",
       "</div>"
      ],
      "text/plain": [
       "   id cat0 cat1 cat2 cat3 cat4 cat5 cat6 cat7 cat8  ...     cont5     cont6  \\\n",
       "0   1    A    B    A    A    B    D    A    E    C  ...  0.881122  0.043732   \n",
       "1   2    B    A    A    A    B    B    A    E    A  ...  0.440011 -0.241574   \n",
       "2   3    A    A    A    C    B    D    A    B    C  ...  0.914155 -0.153161   \n",
       "3   4    A    A    A    C    B    D    A    E    G  ...  0.934138  0.638699   \n",
       "4   6    A    B    A    A    B    B    A    E    C  ...  0.382600  1.119159   \n",
       "\n",
       "      cont7     cont8     cont9    cont10    cont11    cont12    cont13  \\\n",
       "0  0.741413  2.018280  0.802461  0.724417  0.701915  0.877618  0.719903   \n",
       "1  0.278495  0.719764  0.546056  0.613252  0.741289  0.326679  0.808464   \n",
       "2  0.832564  1.888681  0.825251  0.264104  0.695561  0.869133  0.828352   \n",
       "3  0.407313  1.899329  0.794402  0.494269  0.698125  0.809799  0.614766   \n",
       "4  0.325193  0.065125  0.462146  0.724447  0.683073  0.343457  0.297743   \n",
       "\n",
       "     target  \n",
       "0  6.994023  \n",
       "1  8.071256  \n",
       "2  5.760456  \n",
       "3  7.806457  \n",
       "4  6.868974  \n",
       "\n",
       "[5 rows x 26 columns]"
      ]
     },
     "execution_count": 8,
     "metadata": {},
     "output_type": "execute_result"
    }
   ],
   "source": [
    "r_scaler = RobustScaler() \n",
    "r_scaler.fit(train_df[robust])\n",
    "train_df[robust] = r_scaler.transform(train_df[robust])\n",
    "train_df.head()"
   ]
  },
  {
   "cell_type": "code",
   "execution_count": 9,
   "id": "active-armor",
   "metadata": {},
   "outputs": [
    {
     "data": {
      "text/html": [
       "<div>\n",
       "<style scoped>\n",
       "    .dataframe tbody tr th:only-of-type {\n",
       "        vertical-align: middle;\n",
       "    }\n",
       "\n",
       "    .dataframe tbody tr th {\n",
       "        vertical-align: top;\n",
       "    }\n",
       "\n",
       "    .dataframe thead th {\n",
       "        text-align: right;\n",
       "    }\n",
       "</style>\n",
       "<table border=\"1\" class=\"dataframe\">\n",
       "  <thead>\n",
       "    <tr style=\"text-align: right;\">\n",
       "      <th></th>\n",
       "      <th>id</th>\n",
       "      <th>cat0</th>\n",
       "      <th>cat1</th>\n",
       "      <th>cat2</th>\n",
       "      <th>cat3</th>\n",
       "      <th>cat4</th>\n",
       "      <th>cat5</th>\n",
       "      <th>cat6</th>\n",
       "      <th>cat7</th>\n",
       "      <th>cat8</th>\n",
       "      <th>...</th>\n",
       "      <th>cont5</th>\n",
       "      <th>cont6</th>\n",
       "      <th>cont7</th>\n",
       "      <th>cont8</th>\n",
       "      <th>cont9</th>\n",
       "      <th>cont10</th>\n",
       "      <th>cont11</th>\n",
       "      <th>cont12</th>\n",
       "      <th>cont13</th>\n",
       "      <th>target</th>\n",
       "    </tr>\n",
       "  </thead>\n",
       "  <tbody>\n",
       "    <tr>\n",
       "      <th>0</th>\n",
       "      <td>1</td>\n",
       "      <td>A</td>\n",
       "      <td>B</td>\n",
       "      <td>A</td>\n",
       "      <td>A</td>\n",
       "      <td>B</td>\n",
       "      <td>D</td>\n",
       "      <td>A</td>\n",
       "      <td>E</td>\n",
       "      <td>C</td>\n",
       "      <td>...</td>\n",
       "      <td>0.855691</td>\n",
       "      <td>0.043732</td>\n",
       "      <td>0.643496</td>\n",
       "      <td>2.018280</td>\n",
       "      <td>0.811322</td>\n",
       "      <td>0.685241</td>\n",
       "      <td>0.654854</td>\n",
       "      <td>0.913387</td>\n",
       "      <td>0.785206</td>\n",
       "      <td>6.994023</td>\n",
       "    </tr>\n",
       "    <tr>\n",
       "      <th>1</th>\n",
       "      <td>2</td>\n",
       "      <td>B</td>\n",
       "      <td>A</td>\n",
       "      <td>A</td>\n",
       "      <td>A</td>\n",
       "      <td>B</td>\n",
       "      <td>B</td>\n",
       "      <td>A</td>\n",
       "      <td>E</td>\n",
       "      <td>A</td>\n",
       "      <td>...</td>\n",
       "      <td>0.465907</td>\n",
       "      <td>-0.241574</td>\n",
       "      <td>0.084307</td>\n",
       "      <td>0.719764</td>\n",
       "      <td>0.526128</td>\n",
       "      <td>0.570654</td>\n",
       "      <td>0.695283</td>\n",
       "      <td>0.343629</td>\n",
       "      <td>0.908989</td>\n",
       "      <td>8.071256</td>\n",
       "    </tr>\n",
       "    <tr>\n",
       "      <th>2</th>\n",
       "      <td>3</td>\n",
       "      <td>A</td>\n",
       "      <td>A</td>\n",
       "      <td>A</td>\n",
       "      <td>C</td>\n",
       "      <td>B</td>\n",
       "      <td>D</td>\n",
       "      <td>A</td>\n",
       "      <td>B</td>\n",
       "      <td>C</td>\n",
       "      <td>...</td>\n",
       "      <td>0.884880</td>\n",
       "      <td>-0.153161</td>\n",
       "      <td>0.753604</td>\n",
       "      <td>1.888681</td>\n",
       "      <td>0.836672</td>\n",
       "      <td>0.210755</td>\n",
       "      <td>0.648330</td>\n",
       "      <td>0.904611</td>\n",
       "      <td>0.936786</td>\n",
       "      <td>5.760456</td>\n",
       "    </tr>\n",
       "    <tr>\n",
       "      <th>3</th>\n",
       "      <td>4</td>\n",
       "      <td>A</td>\n",
       "      <td>A</td>\n",
       "      <td>A</td>\n",
       "      <td>C</td>\n",
       "      <td>B</td>\n",
       "      <td>D</td>\n",
       "      <td>A</td>\n",
       "      <td>E</td>\n",
       "      <td>G</td>\n",
       "      <td>...</td>\n",
       "      <td>0.902538</td>\n",
       "      <td>0.638699</td>\n",
       "      <td>0.239914</td>\n",
       "      <td>1.899329</td>\n",
       "      <td>0.802359</td>\n",
       "      <td>0.448007</td>\n",
       "      <td>0.650962</td>\n",
       "      <td>0.843251</td>\n",
       "      <td>0.638256</td>\n",
       "      <td>7.806457</td>\n",
       "    </tr>\n",
       "    <tr>\n",
       "      <th>4</th>\n",
       "      <td>6</td>\n",
       "      <td>A</td>\n",
       "      <td>B</td>\n",
       "      <td>A</td>\n",
       "      <td>A</td>\n",
       "      <td>B</td>\n",
       "      <td>B</td>\n",
       "      <td>A</td>\n",
       "      <td>E</td>\n",
       "      <td>C</td>\n",
       "      <td>...</td>\n",
       "      <td>0.415176</td>\n",
       "      <td>1.119159</td>\n",
       "      <td>0.140716</td>\n",
       "      <td>0.065125</td>\n",
       "      <td>0.432796</td>\n",
       "      <td>0.685273</td>\n",
       "      <td>0.635506</td>\n",
       "      <td>0.360980</td>\n",
       "      <td>0.195151</td>\n",
       "      <td>6.868974</td>\n",
       "    </tr>\n",
       "  </tbody>\n",
       "</table>\n",
       "<p>5 rows × 26 columns</p>\n",
       "</div>"
      ],
      "text/plain": [
       "   id cat0 cat1 cat2 cat3 cat4 cat5 cat6 cat7 cat8  ...     cont5     cont6  \\\n",
       "0   1    A    B    A    A    B    D    A    E    C  ...  0.855691  0.043732   \n",
       "1   2    B    A    A    A    B    B    A    E    A  ...  0.465907 -0.241574   \n",
       "2   3    A    A    A    C    B    D    A    B    C  ...  0.884880 -0.153161   \n",
       "3   4    A    A    A    C    B    D    A    E    G  ...  0.902538  0.638699   \n",
       "4   6    A    B    A    A    B    B    A    E    C  ...  0.415176  1.119159   \n",
       "\n",
       "      cont7     cont8     cont9    cont10    cont11    cont12    cont13  \\\n",
       "0  0.643496  2.018280  0.811322  0.685241  0.654854  0.913387  0.785206   \n",
       "1  0.084307  0.719764  0.526128  0.570654  0.695283  0.343629  0.908989   \n",
       "2  0.753604  1.888681  0.836672  0.210755  0.648330  0.904611  0.936786   \n",
       "3  0.239914  1.899329  0.802359  0.448007  0.650962  0.843251  0.638256   \n",
       "4  0.140716  0.065125  0.432796  0.685273  0.635506  0.360980  0.195151   \n",
       "\n",
       "     target  \n",
       "0  6.994023  \n",
       "1  8.071256  \n",
       "2  5.760456  \n",
       "3  7.806457  \n",
       "4  6.868974  \n",
       "\n",
       "[5 rows x 26 columns]"
      ]
     },
     "execution_count": 9,
     "metadata": {},
     "output_type": "execute_result"
    }
   ],
   "source": [
    "mm_scaler = MinMaxScaler()\n",
    "mm_scaler.fit(train_df[min_max])\n",
    "train_df[min_max] = mm_scaler.transform(train_df[min_max])\n",
    "train_df.head()"
   ]
  },
  {
   "cell_type": "markdown",
   "id": "willing-seventh",
   "metadata": {},
   "source": [
    "### Encode categorical features"
   ]
  },
  {
   "cell_type": "code",
   "execution_count": 10,
   "id": "ecological-mainstream",
   "metadata": {},
   "outputs": [
    {
     "data": {
      "text/plain": [
       "array(['A', 'B'], dtype=object)"
      ]
     },
     "execution_count": 10,
     "metadata": {},
     "output_type": "execute_result"
    }
   ],
   "source": [
    "train_df.cat0.unique()"
   ]
  },
  {
   "cell_type": "code",
   "execution_count": 11,
   "id": "adjusted-summer",
   "metadata": {},
   "outputs": [
    {
     "data": {
      "text/html": [
       "<div>\n",
       "<style scoped>\n",
       "    .dataframe tbody tr th:only-of-type {\n",
       "        vertical-align: middle;\n",
       "    }\n",
       "\n",
       "    .dataframe tbody tr th {\n",
       "        vertical-align: top;\n",
       "    }\n",
       "\n",
       "    .dataframe thead th {\n",
       "        text-align: right;\n",
       "    }\n",
       "</style>\n",
       "<table border=\"1\" class=\"dataframe\">\n",
       "  <thead>\n",
       "    <tr style=\"text-align: right;\">\n",
       "      <th></th>\n",
       "      <th>id</th>\n",
       "      <th>cat0</th>\n",
       "      <th>cat1</th>\n",
       "      <th>cat2</th>\n",
       "      <th>cat3</th>\n",
       "      <th>cat4</th>\n",
       "      <th>cat5</th>\n",
       "      <th>cat6</th>\n",
       "      <th>cat7</th>\n",
       "      <th>cat8</th>\n",
       "      <th>...</th>\n",
       "      <th>cont7</th>\n",
       "      <th>cont8</th>\n",
       "      <th>cont9</th>\n",
       "      <th>cont10</th>\n",
       "      <th>cont11</th>\n",
       "      <th>cont12</th>\n",
       "      <th>cont13</th>\n",
       "      <th>target</th>\n",
       "      <th>cat0_a</th>\n",
       "      <th>cat0_b</th>\n",
       "    </tr>\n",
       "  </thead>\n",
       "  <tbody>\n",
       "    <tr>\n",
       "      <th>0</th>\n",
       "      <td>1</td>\n",
       "      <td>A</td>\n",
       "      <td>B</td>\n",
       "      <td>A</td>\n",
       "      <td>A</td>\n",
       "      <td>B</td>\n",
       "      <td>D</td>\n",
       "      <td>A</td>\n",
       "      <td>E</td>\n",
       "      <td>C</td>\n",
       "      <td>...</td>\n",
       "      <td>0.643496</td>\n",
       "      <td>2.018280</td>\n",
       "      <td>0.811322</td>\n",
       "      <td>0.685241</td>\n",
       "      <td>0.654854</td>\n",
       "      <td>0.913387</td>\n",
       "      <td>0.785206</td>\n",
       "      <td>6.994023</td>\n",
       "      <td>1.0</td>\n",
       "      <td>0.0</td>\n",
       "    </tr>\n",
       "    <tr>\n",
       "      <th>1</th>\n",
       "      <td>2</td>\n",
       "      <td>B</td>\n",
       "      <td>A</td>\n",
       "      <td>A</td>\n",
       "      <td>A</td>\n",
       "      <td>B</td>\n",
       "      <td>B</td>\n",
       "      <td>A</td>\n",
       "      <td>E</td>\n",
       "      <td>A</td>\n",
       "      <td>...</td>\n",
       "      <td>0.084307</td>\n",
       "      <td>0.719764</td>\n",
       "      <td>0.526128</td>\n",
       "      <td>0.570654</td>\n",
       "      <td>0.695283</td>\n",
       "      <td>0.343629</td>\n",
       "      <td>0.908989</td>\n",
       "      <td>8.071256</td>\n",
       "      <td>0.0</td>\n",
       "      <td>1.0</td>\n",
       "    </tr>\n",
       "    <tr>\n",
       "      <th>2</th>\n",
       "      <td>3</td>\n",
       "      <td>A</td>\n",
       "      <td>A</td>\n",
       "      <td>A</td>\n",
       "      <td>C</td>\n",
       "      <td>B</td>\n",
       "      <td>D</td>\n",
       "      <td>A</td>\n",
       "      <td>B</td>\n",
       "      <td>C</td>\n",
       "      <td>...</td>\n",
       "      <td>0.753604</td>\n",
       "      <td>1.888681</td>\n",
       "      <td>0.836672</td>\n",
       "      <td>0.210755</td>\n",
       "      <td>0.648330</td>\n",
       "      <td>0.904611</td>\n",
       "      <td>0.936786</td>\n",
       "      <td>5.760456</td>\n",
       "      <td>1.0</td>\n",
       "      <td>0.0</td>\n",
       "    </tr>\n",
       "    <tr>\n",
       "      <th>3</th>\n",
       "      <td>4</td>\n",
       "      <td>A</td>\n",
       "      <td>A</td>\n",
       "      <td>A</td>\n",
       "      <td>C</td>\n",
       "      <td>B</td>\n",
       "      <td>D</td>\n",
       "      <td>A</td>\n",
       "      <td>E</td>\n",
       "      <td>G</td>\n",
       "      <td>...</td>\n",
       "      <td>0.239914</td>\n",
       "      <td>1.899329</td>\n",
       "      <td>0.802359</td>\n",
       "      <td>0.448007</td>\n",
       "      <td>0.650962</td>\n",
       "      <td>0.843251</td>\n",
       "      <td>0.638256</td>\n",
       "      <td>7.806457</td>\n",
       "      <td>1.0</td>\n",
       "      <td>0.0</td>\n",
       "    </tr>\n",
       "    <tr>\n",
       "      <th>4</th>\n",
       "      <td>6</td>\n",
       "      <td>A</td>\n",
       "      <td>B</td>\n",
       "      <td>A</td>\n",
       "      <td>A</td>\n",
       "      <td>B</td>\n",
       "      <td>B</td>\n",
       "      <td>A</td>\n",
       "      <td>E</td>\n",
       "      <td>C</td>\n",
       "      <td>...</td>\n",
       "      <td>0.140716</td>\n",
       "      <td>0.065125</td>\n",
       "      <td>0.432796</td>\n",
       "      <td>0.685273</td>\n",
       "      <td>0.635506</td>\n",
       "      <td>0.360980</td>\n",
       "      <td>0.195151</td>\n",
       "      <td>6.868974</td>\n",
       "      <td>1.0</td>\n",
       "      <td>0.0</td>\n",
       "    </tr>\n",
       "  </tbody>\n",
       "</table>\n",
       "<p>5 rows × 28 columns</p>\n",
       "</div>"
      ],
      "text/plain": [
       "   id cat0 cat1 cat2 cat3 cat4 cat5 cat6 cat7 cat8  ...     cont7     cont8  \\\n",
       "0   1    A    B    A    A    B    D    A    E    C  ...  0.643496  2.018280   \n",
       "1   2    B    A    A    A    B    B    A    E    A  ...  0.084307  0.719764   \n",
       "2   3    A    A    A    C    B    D    A    B    C  ...  0.753604  1.888681   \n",
       "3   4    A    A    A    C    B    D    A    E    G  ...  0.239914  1.899329   \n",
       "4   6    A    B    A    A    B    B    A    E    C  ...  0.140716  0.065125   \n",
       "\n",
       "      cont9    cont10    cont11    cont12    cont13    target  cat0_a  cat0_b  \n",
       "0  0.811322  0.685241  0.654854  0.913387  0.785206  6.994023     1.0     0.0  \n",
       "1  0.526128  0.570654  0.695283  0.343629  0.908989  8.071256     0.0     1.0  \n",
       "2  0.836672  0.210755  0.648330  0.904611  0.936786  5.760456     1.0     0.0  \n",
       "3  0.802359  0.448007  0.650962  0.843251  0.638256  7.806457     1.0     0.0  \n",
       "4  0.432796  0.685273  0.635506  0.360980  0.195151  6.868974     1.0     0.0  \n",
       "\n",
       "[5 rows x 28 columns]"
      ]
     },
     "execution_count": 11,
     "metadata": {},
     "output_type": "execute_result"
    }
   ],
   "source": [
    "ohe0 = OneHotEncoder(sparse = False) \n",
    "ohe0.fit(train_df[['cat0']])\n",
    "cat0_encoded = ohe0.transform(train_df[['cat0']]) \n",
    "train_df['cat0_a'],train_df[\"cat0_b\"] = cat0_encoded.T \n",
    "train_df.head()"
   ]
  },
  {
   "cell_type": "code",
   "execution_count": 12,
   "id": "lesbian-blame",
   "metadata": {
    "scrolled": true
   },
   "outputs": [
    {
     "data": {
      "text/html": [
       "<div>\n",
       "<style scoped>\n",
       "    .dataframe tbody tr th:only-of-type {\n",
       "        vertical-align: middle;\n",
       "    }\n",
       "\n",
       "    .dataframe tbody tr th {\n",
       "        vertical-align: top;\n",
       "    }\n",
       "\n",
       "    .dataframe thead th {\n",
       "        text-align: right;\n",
       "    }\n",
       "</style>\n",
       "<table border=\"1\" class=\"dataframe\">\n",
       "  <thead>\n",
       "    <tr style=\"text-align: right;\">\n",
       "      <th></th>\n",
       "      <th>id</th>\n",
       "      <th>cat1</th>\n",
       "      <th>cat2</th>\n",
       "      <th>cat3</th>\n",
       "      <th>cat4</th>\n",
       "      <th>cat5</th>\n",
       "      <th>cat6</th>\n",
       "      <th>cat7</th>\n",
       "      <th>cat8</th>\n",
       "      <th>cat9</th>\n",
       "      <th>...</th>\n",
       "      <th>cont7</th>\n",
       "      <th>cont8</th>\n",
       "      <th>cont9</th>\n",
       "      <th>cont10</th>\n",
       "      <th>cont11</th>\n",
       "      <th>cont12</th>\n",
       "      <th>cont13</th>\n",
       "      <th>target</th>\n",
       "      <th>cat0_a</th>\n",
       "      <th>cat0_b</th>\n",
       "    </tr>\n",
       "  </thead>\n",
       "  <tbody>\n",
       "    <tr>\n",
       "      <th>0</th>\n",
       "      <td>1</td>\n",
       "      <td>B</td>\n",
       "      <td>A</td>\n",
       "      <td>A</td>\n",
       "      <td>B</td>\n",
       "      <td>D</td>\n",
       "      <td>A</td>\n",
       "      <td>E</td>\n",
       "      <td>C</td>\n",
       "      <td>I</td>\n",
       "      <td>...</td>\n",
       "      <td>0.643496</td>\n",
       "      <td>2.018280</td>\n",
       "      <td>0.811322</td>\n",
       "      <td>0.685241</td>\n",
       "      <td>0.654854</td>\n",
       "      <td>0.913387</td>\n",
       "      <td>0.785206</td>\n",
       "      <td>6.994023</td>\n",
       "      <td>1.0</td>\n",
       "      <td>0.0</td>\n",
       "    </tr>\n",
       "    <tr>\n",
       "      <th>1</th>\n",
       "      <td>2</td>\n",
       "      <td>A</td>\n",
       "      <td>A</td>\n",
       "      <td>A</td>\n",
       "      <td>B</td>\n",
       "      <td>B</td>\n",
       "      <td>A</td>\n",
       "      <td>E</td>\n",
       "      <td>A</td>\n",
       "      <td>F</td>\n",
       "      <td>...</td>\n",
       "      <td>0.084307</td>\n",
       "      <td>0.719764</td>\n",
       "      <td>0.526128</td>\n",
       "      <td>0.570654</td>\n",
       "      <td>0.695283</td>\n",
       "      <td>0.343629</td>\n",
       "      <td>0.908989</td>\n",
       "      <td>8.071256</td>\n",
       "      <td>0.0</td>\n",
       "      <td>1.0</td>\n",
       "    </tr>\n",
       "    <tr>\n",
       "      <th>2</th>\n",
       "      <td>3</td>\n",
       "      <td>A</td>\n",
       "      <td>A</td>\n",
       "      <td>C</td>\n",
       "      <td>B</td>\n",
       "      <td>D</td>\n",
       "      <td>A</td>\n",
       "      <td>B</td>\n",
       "      <td>C</td>\n",
       "      <td>N</td>\n",
       "      <td>...</td>\n",
       "      <td>0.753604</td>\n",
       "      <td>1.888681</td>\n",
       "      <td>0.836672</td>\n",
       "      <td>0.210755</td>\n",
       "      <td>0.648330</td>\n",
       "      <td>0.904611</td>\n",
       "      <td>0.936786</td>\n",
       "      <td>5.760456</td>\n",
       "      <td>1.0</td>\n",
       "      <td>0.0</td>\n",
       "    </tr>\n",
       "    <tr>\n",
       "      <th>3</th>\n",
       "      <td>4</td>\n",
       "      <td>A</td>\n",
       "      <td>A</td>\n",
       "      <td>C</td>\n",
       "      <td>B</td>\n",
       "      <td>D</td>\n",
       "      <td>A</td>\n",
       "      <td>E</td>\n",
       "      <td>G</td>\n",
       "      <td>K</td>\n",
       "      <td>...</td>\n",
       "      <td>0.239914</td>\n",
       "      <td>1.899329</td>\n",
       "      <td>0.802359</td>\n",
       "      <td>0.448007</td>\n",
       "      <td>0.650962</td>\n",
       "      <td>0.843251</td>\n",
       "      <td>0.638256</td>\n",
       "      <td>7.806457</td>\n",
       "      <td>1.0</td>\n",
       "      <td>0.0</td>\n",
       "    </tr>\n",
       "    <tr>\n",
       "      <th>4</th>\n",
       "      <td>6</td>\n",
       "      <td>B</td>\n",
       "      <td>A</td>\n",
       "      <td>A</td>\n",
       "      <td>B</td>\n",
       "      <td>B</td>\n",
       "      <td>A</td>\n",
       "      <td>E</td>\n",
       "      <td>C</td>\n",
       "      <td>F</td>\n",
       "      <td>...</td>\n",
       "      <td>0.140716</td>\n",
       "      <td>0.065125</td>\n",
       "      <td>0.432796</td>\n",
       "      <td>0.685273</td>\n",
       "      <td>0.635506</td>\n",
       "      <td>0.360980</td>\n",
       "      <td>0.195151</td>\n",
       "      <td>6.868974</td>\n",
       "      <td>1.0</td>\n",
       "      <td>0.0</td>\n",
       "    </tr>\n",
       "  </tbody>\n",
       "</table>\n",
       "<p>5 rows × 27 columns</p>\n",
       "</div>"
      ],
      "text/plain": [
       "   id cat1 cat2 cat3 cat4 cat5 cat6 cat7 cat8 cat9  ...     cont7     cont8  \\\n",
       "0   1    B    A    A    B    D    A    E    C    I  ...  0.643496  2.018280   \n",
       "1   2    A    A    A    B    B    A    E    A    F  ...  0.084307  0.719764   \n",
       "2   3    A    A    C    B    D    A    B    C    N  ...  0.753604  1.888681   \n",
       "3   4    A    A    C    B    D    A    E    G    K  ...  0.239914  1.899329   \n",
       "4   6    B    A    A    B    B    A    E    C    F  ...  0.140716  0.065125   \n",
       "\n",
       "      cont9    cont10    cont11    cont12    cont13    target  cat0_a  cat0_b  \n",
       "0  0.811322  0.685241  0.654854  0.913387  0.785206  6.994023     1.0     0.0  \n",
       "1  0.526128  0.570654  0.695283  0.343629  0.908989  8.071256     0.0     1.0  \n",
       "2  0.836672  0.210755  0.648330  0.904611  0.936786  5.760456     1.0     0.0  \n",
       "3  0.802359  0.448007  0.650962  0.843251  0.638256  7.806457     1.0     0.0  \n",
       "4  0.432796  0.685273  0.635506  0.360980  0.195151  6.868974     1.0     0.0  \n",
       "\n",
       "[5 rows x 27 columns]"
      ]
     },
     "execution_count": 12,
     "metadata": {},
     "output_type": "execute_result"
    }
   ],
   "source": [
    "train_df.drop(columns='cat0', inplace=True)\n",
    "train_df.head()"
   ]
  },
  {
   "cell_type": "code",
   "execution_count": 13,
   "id": "genuine-reverse",
   "metadata": {},
   "outputs": [
    {
     "data": {
      "text/plain": [
       "array(['B', 'A'], dtype=object)"
      ]
     },
     "execution_count": 13,
     "metadata": {},
     "output_type": "execute_result"
    }
   ],
   "source": [
    "train_df.cat1.unique()"
   ]
  },
  {
   "cell_type": "code",
   "execution_count": 14,
   "id": "physical-harrison",
   "metadata": {},
   "outputs": [
    {
     "data": {
      "text/html": [
       "<div>\n",
       "<style scoped>\n",
       "    .dataframe tbody tr th:only-of-type {\n",
       "        vertical-align: middle;\n",
       "    }\n",
       "\n",
       "    .dataframe tbody tr th {\n",
       "        vertical-align: top;\n",
       "    }\n",
       "\n",
       "    .dataframe thead th {\n",
       "        text-align: right;\n",
       "    }\n",
       "</style>\n",
       "<table border=\"1\" class=\"dataframe\">\n",
       "  <thead>\n",
       "    <tr style=\"text-align: right;\">\n",
       "      <th></th>\n",
       "      <th>id</th>\n",
       "      <th>cat2</th>\n",
       "      <th>cat3</th>\n",
       "      <th>cat4</th>\n",
       "      <th>cat5</th>\n",
       "      <th>cat6</th>\n",
       "      <th>cat7</th>\n",
       "      <th>cat8</th>\n",
       "      <th>cat9</th>\n",
       "      <th>cont0</th>\n",
       "      <th>...</th>\n",
       "      <th>cont9</th>\n",
       "      <th>cont10</th>\n",
       "      <th>cont11</th>\n",
       "      <th>cont12</th>\n",
       "      <th>cont13</th>\n",
       "      <th>target</th>\n",
       "      <th>cat0_a</th>\n",
       "      <th>cat0_b</th>\n",
       "      <th>cat1_a</th>\n",
       "      <th>cat1_b</th>\n",
       "    </tr>\n",
       "  </thead>\n",
       "  <tbody>\n",
       "    <tr>\n",
       "      <th>0</th>\n",
       "      <td>1</td>\n",
       "      <td>A</td>\n",
       "      <td>A</td>\n",
       "      <td>B</td>\n",
       "      <td>D</td>\n",
       "      <td>A</td>\n",
       "      <td>E</td>\n",
       "      <td>C</td>\n",
       "      <td>I</td>\n",
       "      <td>1.515719</td>\n",
       "      <td>...</td>\n",
       "      <td>0.811322</td>\n",
       "      <td>0.685241</td>\n",
       "      <td>0.654854</td>\n",
       "      <td>0.913387</td>\n",
       "      <td>0.785206</td>\n",
       "      <td>6.994023</td>\n",
       "      <td>1.0</td>\n",
       "      <td>0.0</td>\n",
       "      <td>0.0</td>\n",
       "      <td>1.0</td>\n",
       "    </tr>\n",
       "    <tr>\n",
       "      <th>1</th>\n",
       "      <td>2</td>\n",
       "      <td>A</td>\n",
       "      <td>A</td>\n",
       "      <td>B</td>\n",
       "      <td>B</td>\n",
       "      <td>A</td>\n",
       "      <td>E</td>\n",
       "      <td>A</td>\n",
       "      <td>F</td>\n",
       "      <td>-0.191956</td>\n",
       "      <td>...</td>\n",
       "      <td>0.526128</td>\n",
       "      <td>0.570654</td>\n",
       "      <td>0.695283</td>\n",
       "      <td>0.343629</td>\n",
       "      <td>0.908989</td>\n",
       "      <td>8.071256</td>\n",
       "      <td>0.0</td>\n",
       "      <td>1.0</td>\n",
       "      <td>1.0</td>\n",
       "      <td>0.0</td>\n",
       "    </tr>\n",
       "    <tr>\n",
       "      <th>2</th>\n",
       "      <td>3</td>\n",
       "      <td>A</td>\n",
       "      <td>C</td>\n",
       "      <td>B</td>\n",
       "      <td>D</td>\n",
       "      <td>A</td>\n",
       "      <td>B</td>\n",
       "      <td>C</td>\n",
       "      <td>N</td>\n",
       "      <td>0.844056</td>\n",
       "      <td>...</td>\n",
       "      <td>0.836672</td>\n",
       "      <td>0.210755</td>\n",
       "      <td>0.648330</td>\n",
       "      <td>0.904611</td>\n",
       "      <td>0.936786</td>\n",
       "      <td>5.760456</td>\n",
       "      <td>1.0</td>\n",
       "      <td>0.0</td>\n",
       "      <td>1.0</td>\n",
       "      <td>0.0</td>\n",
       "    </tr>\n",
       "    <tr>\n",
       "      <th>3</th>\n",
       "      <td>4</td>\n",
       "      <td>A</td>\n",
       "      <td>C</td>\n",
       "      <td>B</td>\n",
       "      <td>D</td>\n",
       "      <td>A</td>\n",
       "      <td>E</td>\n",
       "      <td>G</td>\n",
       "      <td>K</td>\n",
       "      <td>0.748864</td>\n",
       "      <td>...</td>\n",
       "      <td>0.802359</td>\n",
       "      <td>0.448007</td>\n",
       "      <td>0.650962</td>\n",
       "      <td>0.843251</td>\n",
       "      <td>0.638256</td>\n",
       "      <td>7.806457</td>\n",
       "      <td>1.0</td>\n",
       "      <td>0.0</td>\n",
       "      <td>1.0</td>\n",
       "      <td>0.0</td>\n",
       "    </tr>\n",
       "    <tr>\n",
       "      <th>4</th>\n",
       "      <td>6</td>\n",
       "      <td>A</td>\n",
       "      <td>A</td>\n",
       "      <td>B</td>\n",
       "      <td>B</td>\n",
       "      <td>A</td>\n",
       "      <td>E</td>\n",
       "      <td>C</td>\n",
       "      <td>F</td>\n",
       "      <td>-0.021612</td>\n",
       "      <td>...</td>\n",
       "      <td>0.432796</td>\n",
       "      <td>0.685273</td>\n",
       "      <td>0.635506</td>\n",
       "      <td>0.360980</td>\n",
       "      <td>0.195151</td>\n",
       "      <td>6.868974</td>\n",
       "      <td>1.0</td>\n",
       "      <td>0.0</td>\n",
       "      <td>0.0</td>\n",
       "      <td>1.0</td>\n",
       "    </tr>\n",
       "  </tbody>\n",
       "</table>\n",
       "<p>5 rows × 28 columns</p>\n",
       "</div>"
      ],
      "text/plain": [
       "   id cat2 cat3 cat4 cat5 cat6 cat7 cat8 cat9     cont0  ...     cont9  \\\n",
       "0   1    A    A    B    D    A    E    C    I  1.515719  ...  0.811322   \n",
       "1   2    A    A    B    B    A    E    A    F -0.191956  ...  0.526128   \n",
       "2   3    A    C    B    D    A    B    C    N  0.844056  ...  0.836672   \n",
       "3   4    A    C    B    D    A    E    G    K  0.748864  ...  0.802359   \n",
       "4   6    A    A    B    B    A    E    C    F -0.021612  ...  0.432796   \n",
       "\n",
       "     cont10    cont11    cont12    cont13    target  cat0_a  cat0_b  cat1_a  \\\n",
       "0  0.685241  0.654854  0.913387  0.785206  6.994023     1.0     0.0     0.0   \n",
       "1  0.570654  0.695283  0.343629  0.908989  8.071256     0.0     1.0     1.0   \n",
       "2  0.210755  0.648330  0.904611  0.936786  5.760456     1.0     0.0     1.0   \n",
       "3  0.448007  0.650962  0.843251  0.638256  7.806457     1.0     0.0     1.0   \n",
       "4  0.685273  0.635506  0.360980  0.195151  6.868974     1.0     0.0     0.0   \n",
       "\n",
       "   cat1_b  \n",
       "0     1.0  \n",
       "1     0.0  \n",
       "2     0.0  \n",
       "3     0.0  \n",
       "4     1.0  \n",
       "\n",
       "[5 rows x 28 columns]"
      ]
     },
     "execution_count": 14,
     "metadata": {},
     "output_type": "execute_result"
    }
   ],
   "source": [
    "ohe1 = OneHotEncoder(sparse = False) \n",
    "ohe1.fit(train_df[['cat1']])\n",
    "cat1_encoded = ohe1.transform(train_df[['cat1']]) \n",
    "train_df['cat1_a'],train_df[\"cat1_b\"] = cat1_encoded.T \n",
    "train_df.drop(columns='cat1', inplace=True)\n",
    "train_df.head()"
   ]
  },
  {
   "cell_type": "code",
   "execution_count": 15,
   "id": "southeast-hungary",
   "metadata": {},
   "outputs": [
    {
     "data": {
      "text/plain": [
       "array(['A', 'B'], dtype=object)"
      ]
     },
     "execution_count": 15,
     "metadata": {},
     "output_type": "execute_result"
    }
   ],
   "source": [
    "train_df.cat2.unique()"
   ]
  },
  {
   "cell_type": "code",
   "execution_count": 16,
   "id": "organized-contest",
   "metadata": {},
   "outputs": [
    {
     "data": {
      "text/html": [
       "<div>\n",
       "<style scoped>\n",
       "    .dataframe tbody tr th:only-of-type {\n",
       "        vertical-align: middle;\n",
       "    }\n",
       "\n",
       "    .dataframe tbody tr th {\n",
       "        vertical-align: top;\n",
       "    }\n",
       "\n",
       "    .dataframe thead th {\n",
       "        text-align: right;\n",
       "    }\n",
       "</style>\n",
       "<table border=\"1\" class=\"dataframe\">\n",
       "  <thead>\n",
       "    <tr style=\"text-align: right;\">\n",
       "      <th></th>\n",
       "      <th>id</th>\n",
       "      <th>cat3</th>\n",
       "      <th>cat4</th>\n",
       "      <th>cat5</th>\n",
       "      <th>cat6</th>\n",
       "      <th>cat7</th>\n",
       "      <th>cat8</th>\n",
       "      <th>cat9</th>\n",
       "      <th>cont0</th>\n",
       "      <th>cont1</th>\n",
       "      <th>...</th>\n",
       "      <th>cont11</th>\n",
       "      <th>cont12</th>\n",
       "      <th>cont13</th>\n",
       "      <th>target</th>\n",
       "      <th>cat0_a</th>\n",
       "      <th>cat0_b</th>\n",
       "      <th>cat1_a</th>\n",
       "      <th>cat1_b</th>\n",
       "      <th>cat2_a</th>\n",
       "      <th>cat2_b</th>\n",
       "    </tr>\n",
       "  </thead>\n",
       "  <tbody>\n",
       "    <tr>\n",
       "      <th>0</th>\n",
       "      <td>1</td>\n",
       "      <td>A</td>\n",
       "      <td>B</td>\n",
       "      <td>D</td>\n",
       "      <td>A</td>\n",
       "      <td>E</td>\n",
       "      <td>C</td>\n",
       "      <td>I</td>\n",
       "      <td>1.515719</td>\n",
       "      <td>0.816091</td>\n",
       "      <td>...</td>\n",
       "      <td>0.654854</td>\n",
       "      <td>0.913387</td>\n",
       "      <td>0.785206</td>\n",
       "      <td>6.994023</td>\n",
       "      <td>1.0</td>\n",
       "      <td>0.0</td>\n",
       "      <td>0.0</td>\n",
       "      <td>1.0</td>\n",
       "      <td>1.0</td>\n",
       "      <td>0.0</td>\n",
       "    </tr>\n",
       "    <tr>\n",
       "      <th>1</th>\n",
       "      <td>2</td>\n",
       "      <td>A</td>\n",
       "      <td>B</td>\n",
       "      <td>B</td>\n",
       "      <td>A</td>\n",
       "      <td>E</td>\n",
       "      <td>A</td>\n",
       "      <td>F</td>\n",
       "      <td>-0.191956</td>\n",
       "      <td>0.076438</td>\n",
       "      <td>...</td>\n",
       "      <td>0.695283</td>\n",
       "      <td>0.343629</td>\n",
       "      <td>0.908989</td>\n",
       "      <td>8.071256</td>\n",
       "      <td>0.0</td>\n",
       "      <td>1.0</td>\n",
       "      <td>1.0</td>\n",
       "      <td>0.0</td>\n",
       "      <td>1.0</td>\n",
       "      <td>0.0</td>\n",
       "    </tr>\n",
       "    <tr>\n",
       "      <th>2</th>\n",
       "      <td>3</td>\n",
       "      <td>C</td>\n",
       "      <td>B</td>\n",
       "      <td>D</td>\n",
       "      <td>A</td>\n",
       "      <td>B</td>\n",
       "      <td>C</td>\n",
       "      <td>N</td>\n",
       "      <td>0.844056</td>\n",
       "      <td>0.898964</td>\n",
       "      <td>...</td>\n",
       "      <td>0.648330</td>\n",
       "      <td>0.904611</td>\n",
       "      <td>0.936786</td>\n",
       "      <td>5.760456</td>\n",
       "      <td>1.0</td>\n",
       "      <td>0.0</td>\n",
       "      <td>1.0</td>\n",
       "      <td>0.0</td>\n",
       "      <td>1.0</td>\n",
       "      <td>0.0</td>\n",
       "    </tr>\n",
       "    <tr>\n",
       "      <th>3</th>\n",
       "      <td>4</td>\n",
       "      <td>C</td>\n",
       "      <td>B</td>\n",
       "      <td>D</td>\n",
       "      <td>A</td>\n",
       "      <td>E</td>\n",
       "      <td>G</td>\n",
       "      <td>K</td>\n",
       "      <td>0.748864</td>\n",
       "      <td>0.911708</td>\n",
       "      <td>...</td>\n",
       "      <td>0.650962</td>\n",
       "      <td>0.843251</td>\n",
       "      <td>0.638256</td>\n",
       "      <td>7.806457</td>\n",
       "      <td>1.0</td>\n",
       "      <td>0.0</td>\n",
       "      <td>1.0</td>\n",
       "      <td>0.0</td>\n",
       "      <td>1.0</td>\n",
       "      <td>0.0</td>\n",
       "    </tr>\n",
       "    <tr>\n",
       "      <th>4</th>\n",
       "      <td>6</td>\n",
       "      <td>A</td>\n",
       "      <td>B</td>\n",
       "      <td>B</td>\n",
       "      <td>A</td>\n",
       "      <td>E</td>\n",
       "      <td>C</td>\n",
       "      <td>F</td>\n",
       "      <td>-0.021612</td>\n",
       "      <td>0.765785</td>\n",
       "      <td>...</td>\n",
       "      <td>0.635506</td>\n",
       "      <td>0.360980</td>\n",
       "      <td>0.195151</td>\n",
       "      <td>6.868974</td>\n",
       "      <td>1.0</td>\n",
       "      <td>0.0</td>\n",
       "      <td>0.0</td>\n",
       "      <td>1.0</td>\n",
       "      <td>1.0</td>\n",
       "      <td>0.0</td>\n",
       "    </tr>\n",
       "  </tbody>\n",
       "</table>\n",
       "<p>5 rows × 29 columns</p>\n",
       "</div>"
      ],
      "text/plain": [
       "   id cat3 cat4 cat5 cat6 cat7 cat8 cat9     cont0     cont1  ...    cont11  \\\n",
       "0   1    A    B    D    A    E    C    I  1.515719  0.816091  ...  0.654854   \n",
       "1   2    A    B    B    A    E    A    F -0.191956  0.076438  ...  0.695283   \n",
       "2   3    C    B    D    A    B    C    N  0.844056  0.898964  ...  0.648330   \n",
       "3   4    C    B    D    A    E    G    K  0.748864  0.911708  ...  0.650962   \n",
       "4   6    A    B    B    A    E    C    F -0.021612  0.765785  ...  0.635506   \n",
       "\n",
       "     cont12    cont13    target  cat0_a  cat0_b  cat1_a  cat1_b  cat2_a  \\\n",
       "0  0.913387  0.785206  6.994023     1.0     0.0     0.0     1.0     1.0   \n",
       "1  0.343629  0.908989  8.071256     0.0     1.0     1.0     0.0     1.0   \n",
       "2  0.904611  0.936786  5.760456     1.0     0.0     1.0     0.0     1.0   \n",
       "3  0.843251  0.638256  7.806457     1.0     0.0     1.0     0.0     1.0   \n",
       "4  0.360980  0.195151  6.868974     1.0     0.0     0.0     1.0     1.0   \n",
       "\n",
       "   cat2_b  \n",
       "0     0.0  \n",
       "1     0.0  \n",
       "2     0.0  \n",
       "3     0.0  \n",
       "4     0.0  \n",
       "\n",
       "[5 rows x 29 columns]"
      ]
     },
     "execution_count": 16,
     "metadata": {},
     "output_type": "execute_result"
    }
   ],
   "source": [
    "ohe2 = OneHotEncoder(sparse = False) \n",
    "ohe2.fit(train_df[['cat2']])\n",
    "cat2_encoded = ohe2.transform(train_df[['cat2']]) \n",
    "train_df['cat2_a'],train_df[\"cat2_b\"] = cat2_encoded.T \n",
    "train_df.drop(columns='cat2', inplace=True)\n",
    "train_df.head()"
   ]
  },
  {
   "cell_type": "code",
   "execution_count": 17,
   "id": "convinced-floor",
   "metadata": {},
   "outputs": [
    {
     "data": {
      "text/plain": [
       "array(['A', 'C', 'D', 'B'], dtype=object)"
      ]
     },
     "execution_count": 17,
     "metadata": {},
     "output_type": "execute_result"
    }
   ],
   "source": [
    "train_df.cat3.unique()"
   ]
  },
  {
   "cell_type": "code",
   "execution_count": 18,
   "id": "connected-tokyo",
   "metadata": {},
   "outputs": [
    {
     "data": {
      "text/html": [
       "<div>\n",
       "<style scoped>\n",
       "    .dataframe tbody tr th:only-of-type {\n",
       "        vertical-align: middle;\n",
       "    }\n",
       "\n",
       "    .dataframe tbody tr th {\n",
       "        vertical-align: top;\n",
       "    }\n",
       "\n",
       "    .dataframe thead th {\n",
       "        text-align: right;\n",
       "    }\n",
       "</style>\n",
       "<table border=\"1\" class=\"dataframe\">\n",
       "  <thead>\n",
       "    <tr style=\"text-align: right;\">\n",
       "      <th></th>\n",
       "      <th>id</th>\n",
       "      <th>cat4</th>\n",
       "      <th>cat5</th>\n",
       "      <th>cat6</th>\n",
       "      <th>cat7</th>\n",
       "      <th>cat8</th>\n",
       "      <th>cat9</th>\n",
       "      <th>cont0</th>\n",
       "      <th>cont1</th>\n",
       "      <th>cont2</th>\n",
       "      <th>...</th>\n",
       "      <th>cat0_a</th>\n",
       "      <th>cat0_b</th>\n",
       "      <th>cat1_a</th>\n",
       "      <th>cat1_b</th>\n",
       "      <th>cat2_a</th>\n",
       "      <th>cat2_b</th>\n",
       "      <th>cat3_a</th>\n",
       "      <th>cat3_b</th>\n",
       "      <th>cat3_c</th>\n",
       "      <th>cat3_d</th>\n",
       "    </tr>\n",
       "  </thead>\n",
       "  <tbody>\n",
       "    <tr>\n",
       "      <th>0</th>\n",
       "      <td>1</td>\n",
       "      <td>B</td>\n",
       "      <td>D</td>\n",
       "      <td>A</td>\n",
       "      <td>E</td>\n",
       "      <td>C</td>\n",
       "      <td>I</td>\n",
       "      <td>1.515719</td>\n",
       "      <td>0.816091</td>\n",
       "      <td>-1.382623</td>\n",
       "      <td>...</td>\n",
       "      <td>1.0</td>\n",
       "      <td>0.0</td>\n",
       "      <td>0.0</td>\n",
       "      <td>1.0</td>\n",
       "      <td>1.0</td>\n",
       "      <td>0.0</td>\n",
       "      <td>1.0</td>\n",
       "      <td>0.0</td>\n",
       "      <td>0.0</td>\n",
       "      <td>0.0</td>\n",
       "    </tr>\n",
       "    <tr>\n",
       "      <th>1</th>\n",
       "      <td>2</td>\n",
       "      <td>B</td>\n",
       "      <td>B</td>\n",
       "      <td>A</td>\n",
       "      <td>E</td>\n",
       "      <td>A</td>\n",
       "      <td>F</td>\n",
       "      <td>-0.191956</td>\n",
       "      <td>0.076438</td>\n",
       "      <td>-0.414735</td>\n",
       "      <td>...</td>\n",
       "      <td>0.0</td>\n",
       "      <td>1.0</td>\n",
       "      <td>1.0</td>\n",
       "      <td>0.0</td>\n",
       "      <td>1.0</td>\n",
       "      <td>0.0</td>\n",
       "      <td>1.0</td>\n",
       "      <td>0.0</td>\n",
       "      <td>0.0</td>\n",
       "      <td>0.0</td>\n",
       "    </tr>\n",
       "    <tr>\n",
       "      <th>2</th>\n",
       "      <td>3</td>\n",
       "      <td>B</td>\n",
       "      <td>D</td>\n",
       "      <td>A</td>\n",
       "      <td>B</td>\n",
       "      <td>C</td>\n",
       "      <td>N</td>\n",
       "      <td>0.844056</td>\n",
       "      <td>0.898964</td>\n",
       "      <td>-0.010912</td>\n",
       "      <td>...</td>\n",
       "      <td>1.0</td>\n",
       "      <td>0.0</td>\n",
       "      <td>1.0</td>\n",
       "      <td>0.0</td>\n",
       "      <td>1.0</td>\n",
       "      <td>0.0</td>\n",
       "      <td>0.0</td>\n",
       "      <td>0.0</td>\n",
       "      <td>1.0</td>\n",
       "      <td>0.0</td>\n",
       "    </tr>\n",
       "    <tr>\n",
       "      <th>3</th>\n",
       "      <td>4</td>\n",
       "      <td>B</td>\n",
       "      <td>D</td>\n",
       "      <td>A</td>\n",
       "      <td>E</td>\n",
       "      <td>G</td>\n",
       "      <td>K</td>\n",
       "      <td>0.748864</td>\n",
       "      <td>0.911708</td>\n",
       "      <td>-1.260978</td>\n",
       "      <td>...</td>\n",
       "      <td>1.0</td>\n",
       "      <td>0.0</td>\n",
       "      <td>1.0</td>\n",
       "      <td>0.0</td>\n",
       "      <td>1.0</td>\n",
       "      <td>0.0</td>\n",
       "      <td>0.0</td>\n",
       "      <td>0.0</td>\n",
       "      <td>1.0</td>\n",
       "      <td>0.0</td>\n",
       "    </tr>\n",
       "    <tr>\n",
       "      <th>4</th>\n",
       "      <td>6</td>\n",
       "      <td>B</td>\n",
       "      <td>B</td>\n",
       "      <td>A</td>\n",
       "      <td>E</td>\n",
       "      <td>C</td>\n",
       "      <td>F</td>\n",
       "      <td>-0.021612</td>\n",
       "      <td>0.765785</td>\n",
       "      <td>0.161776</td>\n",
       "      <td>...</td>\n",
       "      <td>1.0</td>\n",
       "      <td>0.0</td>\n",
       "      <td>0.0</td>\n",
       "      <td>1.0</td>\n",
       "      <td>1.0</td>\n",
       "      <td>0.0</td>\n",
       "      <td>1.0</td>\n",
       "      <td>0.0</td>\n",
       "      <td>0.0</td>\n",
       "      <td>0.0</td>\n",
       "    </tr>\n",
       "  </tbody>\n",
       "</table>\n",
       "<p>5 rows × 32 columns</p>\n",
       "</div>"
      ],
      "text/plain": [
       "   id cat4 cat5 cat6 cat7 cat8 cat9     cont0     cont1     cont2  ...  \\\n",
       "0   1    B    D    A    E    C    I  1.515719  0.816091 -1.382623  ...   \n",
       "1   2    B    B    A    E    A    F -0.191956  0.076438 -0.414735  ...   \n",
       "2   3    B    D    A    B    C    N  0.844056  0.898964 -0.010912  ...   \n",
       "3   4    B    D    A    E    G    K  0.748864  0.911708 -1.260978  ...   \n",
       "4   6    B    B    A    E    C    F -0.021612  0.765785  0.161776  ...   \n",
       "\n",
       "   cat0_a  cat0_b  cat1_a  cat1_b  cat2_a  cat2_b  cat3_a  cat3_b  cat3_c  \\\n",
       "0     1.0     0.0     0.0     1.0     1.0     0.0     1.0     0.0     0.0   \n",
       "1     0.0     1.0     1.0     0.0     1.0     0.0     1.0     0.0     0.0   \n",
       "2     1.0     0.0     1.0     0.0     1.0     0.0     0.0     0.0     1.0   \n",
       "3     1.0     0.0     1.0     0.0     1.0     0.0     0.0     0.0     1.0   \n",
       "4     1.0     0.0     0.0     1.0     1.0     0.0     1.0     0.0     0.0   \n",
       "\n",
       "   cat3_d  \n",
       "0     0.0  \n",
       "1     0.0  \n",
       "2     0.0  \n",
       "3     0.0  \n",
       "4     0.0  \n",
       "\n",
       "[5 rows x 32 columns]"
      ]
     },
     "execution_count": 18,
     "metadata": {},
     "output_type": "execute_result"
    }
   ],
   "source": [
    "ohe3 = OneHotEncoder(sparse = False) \n",
    "ohe3.fit(train_df[['cat3']])\n",
    "cat3_encoded = ohe3.transform(train_df[['cat3']]) \n",
    "train_df['cat3_a'],train_df[\"cat3_b\"], train_df[\"cat3_c\"], train_df[\"cat3_d\"] = cat3_encoded.T \n",
    "train_df.drop(columns='cat3', inplace=True)\n",
    "train_df.head()"
   ]
  },
  {
   "cell_type": "code",
   "execution_count": 19,
   "id": "unavailable-assets",
   "metadata": {},
   "outputs": [
    {
     "data": {
      "text/plain": [
       "array(['B', 'C', 'A', 'D'], dtype=object)"
      ]
     },
     "execution_count": 19,
     "metadata": {},
     "output_type": "execute_result"
    }
   ],
   "source": [
    "train_df.cat4.unique()"
   ]
  },
  {
   "cell_type": "code",
   "execution_count": 20,
   "id": "mighty-dealing",
   "metadata": {},
   "outputs": [
    {
     "data": {
      "text/html": [
       "<div>\n",
       "<style scoped>\n",
       "    .dataframe tbody tr th:only-of-type {\n",
       "        vertical-align: middle;\n",
       "    }\n",
       "\n",
       "    .dataframe tbody tr th {\n",
       "        vertical-align: top;\n",
       "    }\n",
       "\n",
       "    .dataframe thead th {\n",
       "        text-align: right;\n",
       "    }\n",
       "</style>\n",
       "<table border=\"1\" class=\"dataframe\">\n",
       "  <thead>\n",
       "    <tr style=\"text-align: right;\">\n",
       "      <th></th>\n",
       "      <th>id</th>\n",
       "      <th>cat5</th>\n",
       "      <th>cat6</th>\n",
       "      <th>cat7</th>\n",
       "      <th>cat8</th>\n",
       "      <th>cat9</th>\n",
       "      <th>cont0</th>\n",
       "      <th>cont1</th>\n",
       "      <th>cont2</th>\n",
       "      <th>cont3</th>\n",
       "      <th>...</th>\n",
       "      <th>cat2_a</th>\n",
       "      <th>cat2_b</th>\n",
       "      <th>cat3_a</th>\n",
       "      <th>cat3_b</th>\n",
       "      <th>cat3_c</th>\n",
       "      <th>cat3_d</th>\n",
       "      <th>cat4_a</th>\n",
       "      <th>cat4_b</th>\n",
       "      <th>cat4_c</th>\n",
       "      <th>cat4_d</th>\n",
       "    </tr>\n",
       "  </thead>\n",
       "  <tbody>\n",
       "    <tr>\n",
       "      <th>0</th>\n",
       "      <td>1</td>\n",
       "      <td>D</td>\n",
       "      <td>A</td>\n",
       "      <td>E</td>\n",
       "      <td>C</td>\n",
       "      <td>I</td>\n",
       "      <td>1.515719</td>\n",
       "      <td>0.816091</td>\n",
       "      <td>-1.382623</td>\n",
       "      <td>0.095360</td>\n",
       "      <td>...</td>\n",
       "      <td>1.0</td>\n",
       "      <td>0.0</td>\n",
       "      <td>1.0</td>\n",
       "      <td>0.0</td>\n",
       "      <td>0.0</td>\n",
       "      <td>0.0</td>\n",
       "      <td>0.0</td>\n",
       "      <td>1.0</td>\n",
       "      <td>0.0</td>\n",
       "      <td>0.0</td>\n",
       "    </tr>\n",
       "    <tr>\n",
       "      <th>1</th>\n",
       "      <td>2</td>\n",
       "      <td>B</td>\n",
       "      <td>A</td>\n",
       "      <td>E</td>\n",
       "      <td>A</td>\n",
       "      <td>F</td>\n",
       "      <td>-0.191956</td>\n",
       "      <td>0.076438</td>\n",
       "      <td>-0.414735</td>\n",
       "      <td>0.816060</td>\n",
       "      <td>...</td>\n",
       "      <td>1.0</td>\n",
       "      <td>0.0</td>\n",
       "      <td>1.0</td>\n",
       "      <td>0.0</td>\n",
       "      <td>0.0</td>\n",
       "      <td>0.0</td>\n",
       "      <td>0.0</td>\n",
       "      <td>1.0</td>\n",
       "      <td>0.0</td>\n",
       "      <td>0.0</td>\n",
       "    </tr>\n",
       "    <tr>\n",
       "      <th>2</th>\n",
       "      <td>3</td>\n",
       "      <td>D</td>\n",
       "      <td>A</td>\n",
       "      <td>B</td>\n",
       "      <td>C</td>\n",
       "      <td>N</td>\n",
       "      <td>0.844056</td>\n",
       "      <td>0.898964</td>\n",
       "      <td>-0.010912</td>\n",
       "      <td>0.778047</td>\n",
       "      <td>...</td>\n",
       "      <td>1.0</td>\n",
       "      <td>0.0</td>\n",
       "      <td>0.0</td>\n",
       "      <td>0.0</td>\n",
       "      <td>1.0</td>\n",
       "      <td>0.0</td>\n",
       "      <td>0.0</td>\n",
       "      <td>1.0</td>\n",
       "      <td>0.0</td>\n",
       "      <td>0.0</td>\n",
       "    </tr>\n",
       "    <tr>\n",
       "      <th>3</th>\n",
       "      <td>4</td>\n",
       "      <td>D</td>\n",
       "      <td>A</td>\n",
       "      <td>E</td>\n",
       "      <td>G</td>\n",
       "      <td>K</td>\n",
       "      <td>0.748864</td>\n",
       "      <td>0.911708</td>\n",
       "      <td>-1.260978</td>\n",
       "      <td>0.686162</td>\n",
       "      <td>...</td>\n",
       "      <td>1.0</td>\n",
       "      <td>0.0</td>\n",
       "      <td>0.0</td>\n",
       "      <td>0.0</td>\n",
       "      <td>1.0</td>\n",
       "      <td>0.0</td>\n",
       "      <td>0.0</td>\n",
       "      <td>1.0</td>\n",
       "      <td>0.0</td>\n",
       "      <td>0.0</td>\n",
       "    </tr>\n",
       "    <tr>\n",
       "      <th>4</th>\n",
       "      <td>6</td>\n",
       "      <td>B</td>\n",
       "      <td>A</td>\n",
       "      <td>E</td>\n",
       "      <td>C</td>\n",
       "      <td>F</td>\n",
       "      <td>-0.021612</td>\n",
       "      <td>0.765785</td>\n",
       "      <td>0.161776</td>\n",
       "      <td>0.251719</td>\n",
       "      <td>...</td>\n",
       "      <td>1.0</td>\n",
       "      <td>0.0</td>\n",
       "      <td>1.0</td>\n",
       "      <td>0.0</td>\n",
       "      <td>0.0</td>\n",
       "      <td>0.0</td>\n",
       "      <td>0.0</td>\n",
       "      <td>1.0</td>\n",
       "      <td>0.0</td>\n",
       "      <td>0.0</td>\n",
       "    </tr>\n",
       "  </tbody>\n",
       "</table>\n",
       "<p>5 rows × 35 columns</p>\n",
       "</div>"
      ],
      "text/plain": [
       "   id cat5 cat6 cat7 cat8 cat9     cont0     cont1     cont2     cont3  ...  \\\n",
       "0   1    D    A    E    C    I  1.515719  0.816091 -1.382623  0.095360  ...   \n",
       "1   2    B    A    E    A    F -0.191956  0.076438 -0.414735  0.816060  ...   \n",
       "2   3    D    A    B    C    N  0.844056  0.898964 -0.010912  0.778047  ...   \n",
       "3   4    D    A    E    G    K  0.748864  0.911708 -1.260978  0.686162  ...   \n",
       "4   6    B    A    E    C    F -0.021612  0.765785  0.161776  0.251719  ...   \n",
       "\n",
       "   cat2_a  cat2_b  cat3_a  cat3_b  cat3_c  cat3_d  cat4_a  cat4_b  cat4_c  \\\n",
       "0     1.0     0.0     1.0     0.0     0.0     0.0     0.0     1.0     0.0   \n",
       "1     1.0     0.0     1.0     0.0     0.0     0.0     0.0     1.0     0.0   \n",
       "2     1.0     0.0     0.0     0.0     1.0     0.0     0.0     1.0     0.0   \n",
       "3     1.0     0.0     0.0     0.0     1.0     0.0     0.0     1.0     0.0   \n",
       "4     1.0     0.0     1.0     0.0     0.0     0.0     0.0     1.0     0.0   \n",
       "\n",
       "   cat4_d  \n",
       "0     0.0  \n",
       "1     0.0  \n",
       "2     0.0  \n",
       "3     0.0  \n",
       "4     0.0  \n",
       "\n",
       "[5 rows x 35 columns]"
      ]
     },
     "execution_count": 20,
     "metadata": {},
     "output_type": "execute_result"
    }
   ],
   "source": [
    "ohe4 = OneHotEncoder(sparse = False) \n",
    "ohe4.fit(train_df[['cat4']])\n",
    "cat4_encoded = ohe4.transform(train_df[['cat4']]) \n",
    "train_df['cat4_a'],train_df[\"cat4_b\"], train_df[\"cat4_c\"], train_df[\"cat4_d\"] = cat4_encoded.T \n",
    "train_df.drop(columns='cat4', inplace=True)\n",
    "train_df.head()"
   ]
  },
  {
   "cell_type": "code",
   "execution_count": 21,
   "id": "silver-listening",
   "metadata": {},
   "outputs": [
    {
     "data": {
      "text/plain": [
       "array(['D', 'B', 'A', 'C'], dtype=object)"
      ]
     },
     "execution_count": 21,
     "metadata": {},
     "output_type": "execute_result"
    }
   ],
   "source": [
    "train_df.cat5.unique()"
   ]
  },
  {
   "cell_type": "code",
   "execution_count": 22,
   "id": "saving-alfred",
   "metadata": {},
   "outputs": [
    {
     "data": {
      "text/html": [
       "<div>\n",
       "<style scoped>\n",
       "    .dataframe tbody tr th:only-of-type {\n",
       "        vertical-align: middle;\n",
       "    }\n",
       "\n",
       "    .dataframe tbody tr th {\n",
       "        vertical-align: top;\n",
       "    }\n",
       "\n",
       "    .dataframe thead th {\n",
       "        text-align: right;\n",
       "    }\n",
       "</style>\n",
       "<table border=\"1\" class=\"dataframe\">\n",
       "  <thead>\n",
       "    <tr style=\"text-align: right;\">\n",
       "      <th></th>\n",
       "      <th>id</th>\n",
       "      <th>cat6</th>\n",
       "      <th>cat7</th>\n",
       "      <th>cat8</th>\n",
       "      <th>cat9</th>\n",
       "      <th>cont0</th>\n",
       "      <th>cont1</th>\n",
       "      <th>cont2</th>\n",
       "      <th>cont3</th>\n",
       "      <th>cont4</th>\n",
       "      <th>...</th>\n",
       "      <th>cat3_c</th>\n",
       "      <th>cat3_d</th>\n",
       "      <th>cat4_a</th>\n",
       "      <th>cat4_b</th>\n",
       "      <th>cat4_c</th>\n",
       "      <th>cat4_d</th>\n",
       "      <th>cat5_a</th>\n",
       "      <th>cat5_b</th>\n",
       "      <th>cat5_c</th>\n",
       "      <th>cat5_d</th>\n",
       "    </tr>\n",
       "  </thead>\n",
       "  <tbody>\n",
       "    <tr>\n",
       "      <th>0</th>\n",
       "      <td>1</td>\n",
       "      <td>A</td>\n",
       "      <td>E</td>\n",
       "      <td>C</td>\n",
       "      <td>I</td>\n",
       "      <td>1.515719</td>\n",
       "      <td>0.816091</td>\n",
       "      <td>-1.382623</td>\n",
       "      <td>0.095360</td>\n",
       "      <td>0.114564</td>\n",
       "      <td>...</td>\n",
       "      <td>0.0</td>\n",
       "      <td>0.0</td>\n",
       "      <td>0.0</td>\n",
       "      <td>1.0</td>\n",
       "      <td>0.0</td>\n",
       "      <td>0.0</td>\n",
       "      <td>0.0</td>\n",
       "      <td>0.0</td>\n",
       "      <td>0.0</td>\n",
       "      <td>1.0</td>\n",
       "    </tr>\n",
       "    <tr>\n",
       "      <th>1</th>\n",
       "      <td>2</td>\n",
       "      <td>A</td>\n",
       "      <td>E</td>\n",
       "      <td>A</td>\n",
       "      <td>F</td>\n",
       "      <td>-0.191956</td>\n",
       "      <td>0.076438</td>\n",
       "      <td>-0.414735</td>\n",
       "      <td>0.816060</td>\n",
       "      <td>0.115723</td>\n",
       "      <td>...</td>\n",
       "      <td>0.0</td>\n",
       "      <td>0.0</td>\n",
       "      <td>0.0</td>\n",
       "      <td>1.0</td>\n",
       "      <td>0.0</td>\n",
       "      <td>0.0</td>\n",
       "      <td>0.0</td>\n",
       "      <td>1.0</td>\n",
       "      <td>0.0</td>\n",
       "      <td>0.0</td>\n",
       "    </tr>\n",
       "    <tr>\n",
       "      <th>2</th>\n",
       "      <td>3</td>\n",
       "      <td>A</td>\n",
       "      <td>B</td>\n",
       "      <td>C</td>\n",
       "      <td>N</td>\n",
       "      <td>0.844056</td>\n",
       "      <td>0.898964</td>\n",
       "      <td>-0.010912</td>\n",
       "      <td>0.778047</td>\n",
       "      <td>0.129890</td>\n",
       "      <td>...</td>\n",
       "      <td>1.0</td>\n",
       "      <td>0.0</td>\n",
       "      <td>0.0</td>\n",
       "      <td>1.0</td>\n",
       "      <td>0.0</td>\n",
       "      <td>0.0</td>\n",
       "      <td>0.0</td>\n",
       "      <td>0.0</td>\n",
       "      <td>0.0</td>\n",
       "      <td>1.0</td>\n",
       "    </tr>\n",
       "    <tr>\n",
       "      <th>3</th>\n",
       "      <td>4</td>\n",
       "      <td>A</td>\n",
       "      <td>E</td>\n",
       "      <td>G</td>\n",
       "      <td>K</td>\n",
       "      <td>0.748864</td>\n",
       "      <td>0.911708</td>\n",
       "      <td>-1.260978</td>\n",
       "      <td>0.686162</td>\n",
       "      <td>0.721352</td>\n",
       "      <td>...</td>\n",
       "      <td>1.0</td>\n",
       "      <td>0.0</td>\n",
       "      <td>0.0</td>\n",
       "      <td>1.0</td>\n",
       "      <td>0.0</td>\n",
       "      <td>0.0</td>\n",
       "      <td>0.0</td>\n",
       "      <td>0.0</td>\n",
       "      <td>0.0</td>\n",
       "      <td>1.0</td>\n",
       "    </tr>\n",
       "    <tr>\n",
       "      <th>4</th>\n",
       "      <td>6</td>\n",
       "      <td>A</td>\n",
       "      <td>E</td>\n",
       "      <td>C</td>\n",
       "      <td>F</td>\n",
       "      <td>-0.021612</td>\n",
       "      <td>0.765785</td>\n",
       "      <td>0.161776</td>\n",
       "      <td>0.251719</td>\n",
       "      <td>0.111686</td>\n",
       "      <td>...</td>\n",
       "      <td>0.0</td>\n",
       "      <td>0.0</td>\n",
       "      <td>0.0</td>\n",
       "      <td>1.0</td>\n",
       "      <td>0.0</td>\n",
       "      <td>0.0</td>\n",
       "      <td>0.0</td>\n",
       "      <td>1.0</td>\n",
       "      <td>0.0</td>\n",
       "      <td>0.0</td>\n",
       "    </tr>\n",
       "  </tbody>\n",
       "</table>\n",
       "<p>5 rows × 38 columns</p>\n",
       "</div>"
      ],
      "text/plain": [
       "   id cat6 cat7 cat8 cat9     cont0     cont1     cont2     cont3     cont4  \\\n",
       "0   1    A    E    C    I  1.515719  0.816091 -1.382623  0.095360  0.114564   \n",
       "1   2    A    E    A    F -0.191956  0.076438 -0.414735  0.816060  0.115723   \n",
       "2   3    A    B    C    N  0.844056  0.898964 -0.010912  0.778047  0.129890   \n",
       "3   4    A    E    G    K  0.748864  0.911708 -1.260978  0.686162  0.721352   \n",
       "4   6    A    E    C    F -0.021612  0.765785  0.161776  0.251719  0.111686   \n",
       "\n",
       "   ...  cat3_c  cat3_d  cat4_a  cat4_b  cat4_c  cat4_d  cat5_a  cat5_b  \\\n",
       "0  ...     0.0     0.0     0.0     1.0     0.0     0.0     0.0     0.0   \n",
       "1  ...     0.0     0.0     0.0     1.0     0.0     0.0     0.0     1.0   \n",
       "2  ...     1.0     0.0     0.0     1.0     0.0     0.0     0.0     0.0   \n",
       "3  ...     1.0     0.0     0.0     1.0     0.0     0.0     0.0     0.0   \n",
       "4  ...     0.0     0.0     0.0     1.0     0.0     0.0     0.0     1.0   \n",
       "\n",
       "   cat5_c  cat5_d  \n",
       "0     0.0     1.0  \n",
       "1     0.0     0.0  \n",
       "2     0.0     1.0  \n",
       "3     0.0     1.0  \n",
       "4     0.0     0.0  \n",
       "\n",
       "[5 rows x 38 columns]"
      ]
     },
     "execution_count": 22,
     "metadata": {},
     "output_type": "execute_result"
    }
   ],
   "source": [
    "ohe5 = OneHotEncoder(sparse = False) \n",
    "ohe5.fit(train_df[['cat5']])\n",
    "cat5_encoded = ohe5.transform(train_df[['cat5']]) \n",
    "train_df['cat5_a'],train_df[\"cat5_b\"], train_df[\"cat5_c\"], train_df[\"cat5_d\"] = cat5_encoded.T \n",
    "train_df.drop(columns='cat5', inplace=True)\n",
    "train_df.head()"
   ]
  },
  {
   "cell_type": "code",
   "execution_count": 23,
   "id": "weird-senate",
   "metadata": {},
   "outputs": [
    {
     "data": {
      "text/plain": [
       "array(['A', 'B', 'D', 'C', 'E', 'I', 'G', 'H'], dtype=object)"
      ]
     },
     "execution_count": 23,
     "metadata": {},
     "output_type": "execute_result"
    }
   ],
   "source": [
    "train_df.cat6.unique()"
   ]
  },
  {
   "cell_type": "code",
   "execution_count": 24,
   "id": "comfortable-regulation",
   "metadata": {},
   "outputs": [
    {
     "data": {
      "text/html": [
       "<div>\n",
       "<style scoped>\n",
       "    .dataframe tbody tr th:only-of-type {\n",
       "        vertical-align: middle;\n",
       "    }\n",
       "\n",
       "    .dataframe tbody tr th {\n",
       "        vertical-align: top;\n",
       "    }\n",
       "\n",
       "    .dataframe thead th {\n",
       "        text-align: right;\n",
       "    }\n",
       "</style>\n",
       "<table border=\"1\" class=\"dataframe\">\n",
       "  <thead>\n",
       "    <tr style=\"text-align: right;\">\n",
       "      <th></th>\n",
       "      <th>id</th>\n",
       "      <th>cat7</th>\n",
       "      <th>cat8</th>\n",
       "      <th>cat9</th>\n",
       "      <th>cont0</th>\n",
       "      <th>cont1</th>\n",
       "      <th>cont2</th>\n",
       "      <th>cont3</th>\n",
       "      <th>cont4</th>\n",
       "      <th>cont5</th>\n",
       "      <th>...</th>\n",
       "      <th>cat5_c</th>\n",
       "      <th>cat5_d</th>\n",
       "      <th>cat6_a</th>\n",
       "      <th>cat6_b</th>\n",
       "      <th>cat6_c</th>\n",
       "      <th>cat6_d</th>\n",
       "      <th>cat6_e</th>\n",
       "      <th>cat6_g</th>\n",
       "      <th>cat6_h</th>\n",
       "      <th>cat6_i</th>\n",
       "    </tr>\n",
       "  </thead>\n",
       "  <tbody>\n",
       "    <tr>\n",
       "      <th>0</th>\n",
       "      <td>1</td>\n",
       "      <td>E</td>\n",
       "      <td>C</td>\n",
       "      <td>I</td>\n",
       "      <td>1.515719</td>\n",
       "      <td>0.816091</td>\n",
       "      <td>-1.382623</td>\n",
       "      <td>0.095360</td>\n",
       "      <td>0.114564</td>\n",
       "      <td>0.855691</td>\n",
       "      <td>...</td>\n",
       "      <td>0.0</td>\n",
       "      <td>1.0</td>\n",
       "      <td>1.0</td>\n",
       "      <td>0.0</td>\n",
       "      <td>0.0</td>\n",
       "      <td>0.0</td>\n",
       "      <td>0.0</td>\n",
       "      <td>0.0</td>\n",
       "      <td>0.0</td>\n",
       "      <td>0.0</td>\n",
       "    </tr>\n",
       "    <tr>\n",
       "      <th>1</th>\n",
       "      <td>2</td>\n",
       "      <td>E</td>\n",
       "      <td>A</td>\n",
       "      <td>F</td>\n",
       "      <td>-0.191956</td>\n",
       "      <td>0.076438</td>\n",
       "      <td>-0.414735</td>\n",
       "      <td>0.816060</td>\n",
       "      <td>0.115723</td>\n",
       "      <td>0.465907</td>\n",
       "      <td>...</td>\n",
       "      <td>0.0</td>\n",
       "      <td>0.0</td>\n",
       "      <td>1.0</td>\n",
       "      <td>0.0</td>\n",
       "      <td>0.0</td>\n",
       "      <td>0.0</td>\n",
       "      <td>0.0</td>\n",
       "      <td>0.0</td>\n",
       "      <td>0.0</td>\n",
       "      <td>0.0</td>\n",
       "    </tr>\n",
       "    <tr>\n",
       "      <th>2</th>\n",
       "      <td>3</td>\n",
       "      <td>B</td>\n",
       "      <td>C</td>\n",
       "      <td>N</td>\n",
       "      <td>0.844056</td>\n",
       "      <td>0.898964</td>\n",
       "      <td>-0.010912</td>\n",
       "      <td>0.778047</td>\n",
       "      <td>0.129890</td>\n",
       "      <td>0.884880</td>\n",
       "      <td>...</td>\n",
       "      <td>0.0</td>\n",
       "      <td>1.0</td>\n",
       "      <td>1.0</td>\n",
       "      <td>0.0</td>\n",
       "      <td>0.0</td>\n",
       "      <td>0.0</td>\n",
       "      <td>0.0</td>\n",
       "      <td>0.0</td>\n",
       "      <td>0.0</td>\n",
       "      <td>0.0</td>\n",
       "    </tr>\n",
       "    <tr>\n",
       "      <th>3</th>\n",
       "      <td>4</td>\n",
       "      <td>E</td>\n",
       "      <td>G</td>\n",
       "      <td>K</td>\n",
       "      <td>0.748864</td>\n",
       "      <td>0.911708</td>\n",
       "      <td>-1.260978</td>\n",
       "      <td>0.686162</td>\n",
       "      <td>0.721352</td>\n",
       "      <td>0.902538</td>\n",
       "      <td>...</td>\n",
       "      <td>0.0</td>\n",
       "      <td>1.0</td>\n",
       "      <td>1.0</td>\n",
       "      <td>0.0</td>\n",
       "      <td>0.0</td>\n",
       "      <td>0.0</td>\n",
       "      <td>0.0</td>\n",
       "      <td>0.0</td>\n",
       "      <td>0.0</td>\n",
       "      <td>0.0</td>\n",
       "    </tr>\n",
       "    <tr>\n",
       "      <th>4</th>\n",
       "      <td>6</td>\n",
       "      <td>E</td>\n",
       "      <td>C</td>\n",
       "      <td>F</td>\n",
       "      <td>-0.021612</td>\n",
       "      <td>0.765785</td>\n",
       "      <td>0.161776</td>\n",
       "      <td>0.251719</td>\n",
       "      <td>0.111686</td>\n",
       "      <td>0.415176</td>\n",
       "      <td>...</td>\n",
       "      <td>0.0</td>\n",
       "      <td>0.0</td>\n",
       "      <td>1.0</td>\n",
       "      <td>0.0</td>\n",
       "      <td>0.0</td>\n",
       "      <td>0.0</td>\n",
       "      <td>0.0</td>\n",
       "      <td>0.0</td>\n",
       "      <td>0.0</td>\n",
       "      <td>0.0</td>\n",
       "    </tr>\n",
       "  </tbody>\n",
       "</table>\n",
       "<p>5 rows × 45 columns</p>\n",
       "</div>"
      ],
      "text/plain": [
       "   id cat7 cat8 cat9     cont0     cont1     cont2     cont3     cont4  \\\n",
       "0   1    E    C    I  1.515719  0.816091 -1.382623  0.095360  0.114564   \n",
       "1   2    E    A    F -0.191956  0.076438 -0.414735  0.816060  0.115723   \n",
       "2   3    B    C    N  0.844056  0.898964 -0.010912  0.778047  0.129890   \n",
       "3   4    E    G    K  0.748864  0.911708 -1.260978  0.686162  0.721352   \n",
       "4   6    E    C    F -0.021612  0.765785  0.161776  0.251719  0.111686   \n",
       "\n",
       "      cont5  ...  cat5_c  cat5_d  cat6_a  cat6_b  cat6_c  cat6_d  cat6_e  \\\n",
       "0  0.855691  ...     0.0     1.0     1.0     0.0     0.0     0.0     0.0   \n",
       "1  0.465907  ...     0.0     0.0     1.0     0.0     0.0     0.0     0.0   \n",
       "2  0.884880  ...     0.0     1.0     1.0     0.0     0.0     0.0     0.0   \n",
       "3  0.902538  ...     0.0     1.0     1.0     0.0     0.0     0.0     0.0   \n",
       "4  0.415176  ...     0.0     0.0     1.0     0.0     0.0     0.0     0.0   \n",
       "\n",
       "   cat6_g  cat6_h  cat6_i  \n",
       "0     0.0     0.0     0.0  \n",
       "1     0.0     0.0     0.0  \n",
       "2     0.0     0.0     0.0  \n",
       "3     0.0     0.0     0.0  \n",
       "4     0.0     0.0     0.0  \n",
       "\n",
       "[5 rows x 45 columns]"
      ]
     },
     "execution_count": 24,
     "metadata": {},
     "output_type": "execute_result"
    }
   ],
   "source": [
    "ohe6 = OneHotEncoder(sparse = False) \n",
    "ohe6.fit(train_df[['cat6']])\n",
    "cat6_encoded = ohe6.transform(train_df[['cat6']]) \n",
    "train_df['cat6_a'],train_df[\"cat6_b\"], train_df[\"cat6_c\"], train_df[\"cat6_d\"], train_df[\"cat6_e\"], \\\n",
    "train_df[\"cat6_g\"], train_df[\"cat6_h\"], train_df[\"cat6_i\"] = cat6_encoded.T \n",
    "train_df.drop(columns='cat6', inplace=True)\n",
    "train_df.head()"
   ]
  },
  {
   "cell_type": "code",
   "execution_count": 25,
   "id": "serial-pendant",
   "metadata": {},
   "outputs": [
    {
     "data": {
      "text/plain": [
       "array(['E', 'B', 'D', 'G', 'F', 'A', 'C', 'I'], dtype=object)"
      ]
     },
     "execution_count": 25,
     "metadata": {},
     "output_type": "execute_result"
    }
   ],
   "source": [
    "train_df.cat7.unique()"
   ]
  },
  {
   "cell_type": "code",
   "execution_count": 26,
   "id": "fiscal-canada",
   "metadata": {},
   "outputs": [
    {
     "data": {
      "text/html": [
       "<div>\n",
       "<style scoped>\n",
       "    .dataframe tbody tr th:only-of-type {\n",
       "        vertical-align: middle;\n",
       "    }\n",
       "\n",
       "    .dataframe tbody tr th {\n",
       "        vertical-align: top;\n",
       "    }\n",
       "\n",
       "    .dataframe thead th {\n",
       "        text-align: right;\n",
       "    }\n",
       "</style>\n",
       "<table border=\"1\" class=\"dataframe\">\n",
       "  <thead>\n",
       "    <tr style=\"text-align: right;\">\n",
       "      <th></th>\n",
       "      <th>id</th>\n",
       "      <th>cat8</th>\n",
       "      <th>cat9</th>\n",
       "      <th>cont0</th>\n",
       "      <th>cont1</th>\n",
       "      <th>cont2</th>\n",
       "      <th>cont3</th>\n",
       "      <th>cont4</th>\n",
       "      <th>cont5</th>\n",
       "      <th>cont6</th>\n",
       "      <th>...</th>\n",
       "      <th>cat6_h</th>\n",
       "      <th>cat6_i</th>\n",
       "      <th>cat7_a</th>\n",
       "      <th>cat7_b</th>\n",
       "      <th>cat7_c</th>\n",
       "      <th>cat7_d</th>\n",
       "      <th>cat7_e</th>\n",
       "      <th>cat7_f</th>\n",
       "      <th>cat7_g</th>\n",
       "      <th>cat7_i</th>\n",
       "    </tr>\n",
       "  </thead>\n",
       "  <tbody>\n",
       "    <tr>\n",
       "      <th>0</th>\n",
       "      <td>1</td>\n",
       "      <td>C</td>\n",
       "      <td>I</td>\n",
       "      <td>1.515719</td>\n",
       "      <td>0.816091</td>\n",
       "      <td>-1.382623</td>\n",
       "      <td>0.095360</td>\n",
       "      <td>0.114564</td>\n",
       "      <td>0.855691</td>\n",
       "      <td>0.043732</td>\n",
       "      <td>...</td>\n",
       "      <td>0.0</td>\n",
       "      <td>0.0</td>\n",
       "      <td>0.0</td>\n",
       "      <td>0.0</td>\n",
       "      <td>0.0</td>\n",
       "      <td>0.0</td>\n",
       "      <td>1.0</td>\n",
       "      <td>0.0</td>\n",
       "      <td>0.0</td>\n",
       "      <td>0.0</td>\n",
       "    </tr>\n",
       "    <tr>\n",
       "      <th>1</th>\n",
       "      <td>2</td>\n",
       "      <td>A</td>\n",
       "      <td>F</td>\n",
       "      <td>-0.191956</td>\n",
       "      <td>0.076438</td>\n",
       "      <td>-0.414735</td>\n",
       "      <td>0.816060</td>\n",
       "      <td>0.115723</td>\n",
       "      <td>0.465907</td>\n",
       "      <td>-0.241574</td>\n",
       "      <td>...</td>\n",
       "      <td>0.0</td>\n",
       "      <td>0.0</td>\n",
       "      <td>0.0</td>\n",
       "      <td>0.0</td>\n",
       "      <td>0.0</td>\n",
       "      <td>0.0</td>\n",
       "      <td>1.0</td>\n",
       "      <td>0.0</td>\n",
       "      <td>0.0</td>\n",
       "      <td>0.0</td>\n",
       "    </tr>\n",
       "    <tr>\n",
       "      <th>2</th>\n",
       "      <td>3</td>\n",
       "      <td>C</td>\n",
       "      <td>N</td>\n",
       "      <td>0.844056</td>\n",
       "      <td>0.898964</td>\n",
       "      <td>-0.010912</td>\n",
       "      <td>0.778047</td>\n",
       "      <td>0.129890</td>\n",
       "      <td>0.884880</td>\n",
       "      <td>-0.153161</td>\n",
       "      <td>...</td>\n",
       "      <td>0.0</td>\n",
       "      <td>0.0</td>\n",
       "      <td>0.0</td>\n",
       "      <td>1.0</td>\n",
       "      <td>0.0</td>\n",
       "      <td>0.0</td>\n",
       "      <td>0.0</td>\n",
       "      <td>0.0</td>\n",
       "      <td>0.0</td>\n",
       "      <td>0.0</td>\n",
       "    </tr>\n",
       "    <tr>\n",
       "      <th>3</th>\n",
       "      <td>4</td>\n",
       "      <td>G</td>\n",
       "      <td>K</td>\n",
       "      <td>0.748864</td>\n",
       "      <td>0.911708</td>\n",
       "      <td>-1.260978</td>\n",
       "      <td>0.686162</td>\n",
       "      <td>0.721352</td>\n",
       "      <td>0.902538</td>\n",
       "      <td>0.638699</td>\n",
       "      <td>...</td>\n",
       "      <td>0.0</td>\n",
       "      <td>0.0</td>\n",
       "      <td>0.0</td>\n",
       "      <td>0.0</td>\n",
       "      <td>0.0</td>\n",
       "      <td>0.0</td>\n",
       "      <td>1.0</td>\n",
       "      <td>0.0</td>\n",
       "      <td>0.0</td>\n",
       "      <td>0.0</td>\n",
       "    </tr>\n",
       "    <tr>\n",
       "      <th>4</th>\n",
       "      <td>6</td>\n",
       "      <td>C</td>\n",
       "      <td>F</td>\n",
       "      <td>-0.021612</td>\n",
       "      <td>0.765785</td>\n",
       "      <td>0.161776</td>\n",
       "      <td>0.251719</td>\n",
       "      <td>0.111686</td>\n",
       "      <td>0.415176</td>\n",
       "      <td>1.119159</td>\n",
       "      <td>...</td>\n",
       "      <td>0.0</td>\n",
       "      <td>0.0</td>\n",
       "      <td>0.0</td>\n",
       "      <td>0.0</td>\n",
       "      <td>0.0</td>\n",
       "      <td>0.0</td>\n",
       "      <td>1.0</td>\n",
       "      <td>0.0</td>\n",
       "      <td>0.0</td>\n",
       "      <td>0.0</td>\n",
       "    </tr>\n",
       "  </tbody>\n",
       "</table>\n",
       "<p>5 rows × 52 columns</p>\n",
       "</div>"
      ],
      "text/plain": [
       "   id cat8 cat9     cont0     cont1     cont2     cont3     cont4     cont5  \\\n",
       "0   1    C    I  1.515719  0.816091 -1.382623  0.095360  0.114564  0.855691   \n",
       "1   2    A    F -0.191956  0.076438 -0.414735  0.816060  0.115723  0.465907   \n",
       "2   3    C    N  0.844056  0.898964 -0.010912  0.778047  0.129890  0.884880   \n",
       "3   4    G    K  0.748864  0.911708 -1.260978  0.686162  0.721352  0.902538   \n",
       "4   6    C    F -0.021612  0.765785  0.161776  0.251719  0.111686  0.415176   \n",
       "\n",
       "      cont6  ...  cat6_h  cat6_i  cat7_a  cat7_b  cat7_c  cat7_d  cat7_e  \\\n",
       "0  0.043732  ...     0.0     0.0     0.0     0.0     0.0     0.0     1.0   \n",
       "1 -0.241574  ...     0.0     0.0     0.0     0.0     0.0     0.0     1.0   \n",
       "2 -0.153161  ...     0.0     0.0     0.0     1.0     0.0     0.0     0.0   \n",
       "3  0.638699  ...     0.0     0.0     0.0     0.0     0.0     0.0     1.0   \n",
       "4  1.119159  ...     0.0     0.0     0.0     0.0     0.0     0.0     1.0   \n",
       "\n",
       "   cat7_f  cat7_g  cat7_i  \n",
       "0     0.0     0.0     0.0  \n",
       "1     0.0     0.0     0.0  \n",
       "2     0.0     0.0     0.0  \n",
       "3     0.0     0.0     0.0  \n",
       "4     0.0     0.0     0.0  \n",
       "\n",
       "[5 rows x 52 columns]"
      ]
     },
     "execution_count": 26,
     "metadata": {},
     "output_type": "execute_result"
    }
   ],
   "source": [
    "ohe7 = OneHotEncoder(sparse = False) \n",
    "ohe7.fit(train_df[['cat7']])\n",
    "cat7_encoded = ohe7.transform(train_df[['cat7']]) \n",
    "train_df['cat7_a'],train_df[\"cat7_b\"], train_df[\"cat7_c\"], train_df[\"cat7_d\"], train_df[\"cat7_e\"], \\\n",
    "train_df[\"cat7_f\"], train_df[\"cat7_g\"], train_df[\"cat7_i\"] = cat7_encoded.T \n",
    "train_df.drop(columns='cat7', inplace=True)\n",
    "train_df.head()"
   ]
  },
  {
   "cell_type": "code",
   "execution_count": 27,
   "id": "automotive-works",
   "metadata": {},
   "outputs": [
    {
     "data": {
      "text/plain": [
       "array(['C', 'A', 'G', 'E', 'D', 'F', 'B'], dtype=object)"
      ]
     },
     "execution_count": 27,
     "metadata": {},
     "output_type": "execute_result"
    }
   ],
   "source": [
    "train_df.cat8.unique()"
   ]
  },
  {
   "cell_type": "code",
   "execution_count": 28,
   "id": "comprehensive-steps",
   "metadata": {},
   "outputs": [
    {
     "data": {
      "text/html": [
       "<div>\n",
       "<style scoped>\n",
       "    .dataframe tbody tr th:only-of-type {\n",
       "        vertical-align: middle;\n",
       "    }\n",
       "\n",
       "    .dataframe tbody tr th {\n",
       "        vertical-align: top;\n",
       "    }\n",
       "\n",
       "    .dataframe thead th {\n",
       "        text-align: right;\n",
       "    }\n",
       "</style>\n",
       "<table border=\"1\" class=\"dataframe\">\n",
       "  <thead>\n",
       "    <tr style=\"text-align: right;\">\n",
       "      <th></th>\n",
       "      <th>id</th>\n",
       "      <th>cat9</th>\n",
       "      <th>cont0</th>\n",
       "      <th>cont1</th>\n",
       "      <th>cont2</th>\n",
       "      <th>cont3</th>\n",
       "      <th>cont4</th>\n",
       "      <th>cont5</th>\n",
       "      <th>cont6</th>\n",
       "      <th>cont7</th>\n",
       "      <th>...</th>\n",
       "      <th>cat7_f</th>\n",
       "      <th>cat7_g</th>\n",
       "      <th>cat7_i</th>\n",
       "      <th>cat8_a</th>\n",
       "      <th>cat8_b</th>\n",
       "      <th>cat8_c</th>\n",
       "      <th>cat8_d</th>\n",
       "      <th>cat8_e</th>\n",
       "      <th>cat8_f</th>\n",
       "      <th>cat8_g</th>\n",
       "    </tr>\n",
       "  </thead>\n",
       "  <tbody>\n",
       "    <tr>\n",
       "      <th>0</th>\n",
       "      <td>1</td>\n",
       "      <td>I</td>\n",
       "      <td>1.515719</td>\n",
       "      <td>0.816091</td>\n",
       "      <td>-1.382623</td>\n",
       "      <td>0.095360</td>\n",
       "      <td>0.114564</td>\n",
       "      <td>0.855691</td>\n",
       "      <td>0.043732</td>\n",
       "      <td>0.643496</td>\n",
       "      <td>...</td>\n",
       "      <td>0.0</td>\n",
       "      <td>0.0</td>\n",
       "      <td>0.0</td>\n",
       "      <td>0.0</td>\n",
       "      <td>0.0</td>\n",
       "      <td>1.0</td>\n",
       "      <td>0.0</td>\n",
       "      <td>0.0</td>\n",
       "      <td>0.0</td>\n",
       "      <td>0.0</td>\n",
       "    </tr>\n",
       "    <tr>\n",
       "      <th>1</th>\n",
       "      <td>2</td>\n",
       "      <td>F</td>\n",
       "      <td>-0.191956</td>\n",
       "      <td>0.076438</td>\n",
       "      <td>-0.414735</td>\n",
       "      <td>0.816060</td>\n",
       "      <td>0.115723</td>\n",
       "      <td>0.465907</td>\n",
       "      <td>-0.241574</td>\n",
       "      <td>0.084307</td>\n",
       "      <td>...</td>\n",
       "      <td>0.0</td>\n",
       "      <td>0.0</td>\n",
       "      <td>0.0</td>\n",
       "      <td>1.0</td>\n",
       "      <td>0.0</td>\n",
       "      <td>0.0</td>\n",
       "      <td>0.0</td>\n",
       "      <td>0.0</td>\n",
       "      <td>0.0</td>\n",
       "      <td>0.0</td>\n",
       "    </tr>\n",
       "    <tr>\n",
       "      <th>2</th>\n",
       "      <td>3</td>\n",
       "      <td>N</td>\n",
       "      <td>0.844056</td>\n",
       "      <td>0.898964</td>\n",
       "      <td>-0.010912</td>\n",
       "      <td>0.778047</td>\n",
       "      <td>0.129890</td>\n",
       "      <td>0.884880</td>\n",
       "      <td>-0.153161</td>\n",
       "      <td>0.753604</td>\n",
       "      <td>...</td>\n",
       "      <td>0.0</td>\n",
       "      <td>0.0</td>\n",
       "      <td>0.0</td>\n",
       "      <td>0.0</td>\n",
       "      <td>0.0</td>\n",
       "      <td>1.0</td>\n",
       "      <td>0.0</td>\n",
       "      <td>0.0</td>\n",
       "      <td>0.0</td>\n",
       "      <td>0.0</td>\n",
       "    </tr>\n",
       "    <tr>\n",
       "      <th>3</th>\n",
       "      <td>4</td>\n",
       "      <td>K</td>\n",
       "      <td>0.748864</td>\n",
       "      <td>0.911708</td>\n",
       "      <td>-1.260978</td>\n",
       "      <td>0.686162</td>\n",
       "      <td>0.721352</td>\n",
       "      <td>0.902538</td>\n",
       "      <td>0.638699</td>\n",
       "      <td>0.239914</td>\n",
       "      <td>...</td>\n",
       "      <td>0.0</td>\n",
       "      <td>0.0</td>\n",
       "      <td>0.0</td>\n",
       "      <td>0.0</td>\n",
       "      <td>0.0</td>\n",
       "      <td>0.0</td>\n",
       "      <td>0.0</td>\n",
       "      <td>0.0</td>\n",
       "      <td>0.0</td>\n",
       "      <td>1.0</td>\n",
       "    </tr>\n",
       "    <tr>\n",
       "      <th>4</th>\n",
       "      <td>6</td>\n",
       "      <td>F</td>\n",
       "      <td>-0.021612</td>\n",
       "      <td>0.765785</td>\n",
       "      <td>0.161776</td>\n",
       "      <td>0.251719</td>\n",
       "      <td>0.111686</td>\n",
       "      <td>0.415176</td>\n",
       "      <td>1.119159</td>\n",
       "      <td>0.140716</td>\n",
       "      <td>...</td>\n",
       "      <td>0.0</td>\n",
       "      <td>0.0</td>\n",
       "      <td>0.0</td>\n",
       "      <td>0.0</td>\n",
       "      <td>0.0</td>\n",
       "      <td>1.0</td>\n",
       "      <td>0.0</td>\n",
       "      <td>0.0</td>\n",
       "      <td>0.0</td>\n",
       "      <td>0.0</td>\n",
       "    </tr>\n",
       "  </tbody>\n",
       "</table>\n",
       "<p>5 rows × 58 columns</p>\n",
       "</div>"
      ],
      "text/plain": [
       "   id cat9     cont0     cont1     cont2     cont3     cont4     cont5  \\\n",
       "0   1    I  1.515719  0.816091 -1.382623  0.095360  0.114564  0.855691   \n",
       "1   2    F -0.191956  0.076438 -0.414735  0.816060  0.115723  0.465907   \n",
       "2   3    N  0.844056  0.898964 -0.010912  0.778047  0.129890  0.884880   \n",
       "3   4    K  0.748864  0.911708 -1.260978  0.686162  0.721352  0.902538   \n",
       "4   6    F -0.021612  0.765785  0.161776  0.251719  0.111686  0.415176   \n",
       "\n",
       "      cont6     cont7  ...  cat7_f  cat7_g  cat7_i  cat8_a  cat8_b  cat8_c  \\\n",
       "0  0.043732  0.643496  ...     0.0     0.0     0.0     0.0     0.0     1.0   \n",
       "1 -0.241574  0.084307  ...     0.0     0.0     0.0     1.0     0.0     0.0   \n",
       "2 -0.153161  0.753604  ...     0.0     0.0     0.0     0.0     0.0     1.0   \n",
       "3  0.638699  0.239914  ...     0.0     0.0     0.0     0.0     0.0     0.0   \n",
       "4  1.119159  0.140716  ...     0.0     0.0     0.0     0.0     0.0     1.0   \n",
       "\n",
       "   cat8_d  cat8_e  cat8_f  cat8_g  \n",
       "0     0.0     0.0     0.0     0.0  \n",
       "1     0.0     0.0     0.0     0.0  \n",
       "2     0.0     0.0     0.0     0.0  \n",
       "3     0.0     0.0     0.0     1.0  \n",
       "4     0.0     0.0     0.0     0.0  \n",
       "\n",
       "[5 rows x 58 columns]"
      ]
     },
     "execution_count": 28,
     "metadata": {},
     "output_type": "execute_result"
    }
   ],
   "source": [
    "ohe8 = OneHotEncoder(sparse = False) \n",
    "ohe8.fit(train_df[['cat8']])\n",
    "cat8_encoded = ohe8.transform(train_df[['cat8']]) \n",
    "train_df['cat8_a'],train_df[\"cat8_b\"], train_df[\"cat8_c\"], train_df[\"cat8_d\"], train_df[\"cat8_e\"], \\\n",
    "train_df[\"cat8_f\"], train_df[\"cat8_g\"] = cat8_encoded.T \n",
    "train_df.drop(columns='cat8', inplace=True)\n",
    "train_df.head()"
   ]
  },
  {
   "cell_type": "code",
   "execution_count": 34,
   "id": "steady-essex",
   "metadata": {},
   "outputs": [
    {
     "data": {
      "text/plain": [
       "array(['I', 'F', 'N', 'K', 'B', 'L', 'G', 'H', 'O', 'A', 'J', 'M', 'C',\n",
       "       'D', 'E'], dtype=object)"
      ]
     },
     "execution_count": 34,
     "metadata": {},
     "output_type": "execute_result"
    }
   ],
   "source": [
    "train_df.cat9.unique()"
   ]
  },
  {
   "cell_type": "code",
   "execution_count": 35,
   "id": "golden-skill",
   "metadata": {},
   "outputs": [
    {
     "data": {
      "text/html": [
       "<div>\n",
       "<style scoped>\n",
       "    .dataframe tbody tr th:only-of-type {\n",
       "        vertical-align: middle;\n",
       "    }\n",
       "\n",
       "    .dataframe tbody tr th {\n",
       "        vertical-align: top;\n",
       "    }\n",
       "\n",
       "    .dataframe thead th {\n",
       "        text-align: right;\n",
       "    }\n",
       "</style>\n",
       "<table border=\"1\" class=\"dataframe\">\n",
       "  <thead>\n",
       "    <tr style=\"text-align: right;\">\n",
       "      <th></th>\n",
       "      <th>id</th>\n",
       "      <th>cont0</th>\n",
       "      <th>cont1</th>\n",
       "      <th>cont2</th>\n",
       "      <th>cont3</th>\n",
       "      <th>cont4</th>\n",
       "      <th>cont5</th>\n",
       "      <th>cont6</th>\n",
       "      <th>cont7</th>\n",
       "      <th>cont8</th>\n",
       "      <th>...</th>\n",
       "      <th>cat9_f</th>\n",
       "      <th>cat9_g</th>\n",
       "      <th>cat9_h</th>\n",
       "      <th>cat9_i</th>\n",
       "      <th>cat9_j</th>\n",
       "      <th>cat9_k</th>\n",
       "      <th>cat9_l</th>\n",
       "      <th>cat9_m</th>\n",
       "      <th>cat9_n</th>\n",
       "      <th>cat9_o</th>\n",
       "    </tr>\n",
       "  </thead>\n",
       "  <tbody>\n",
       "    <tr>\n",
       "      <th>0</th>\n",
       "      <td>1</td>\n",
       "      <td>1.515719</td>\n",
       "      <td>0.816091</td>\n",
       "      <td>-1.382623</td>\n",
       "      <td>0.095360</td>\n",
       "      <td>0.114564</td>\n",
       "      <td>0.855691</td>\n",
       "      <td>0.043732</td>\n",
       "      <td>0.643496</td>\n",
       "      <td>2.018280</td>\n",
       "      <td>...</td>\n",
       "      <td>0.0</td>\n",
       "      <td>0.0</td>\n",
       "      <td>0.0</td>\n",
       "      <td>1.0</td>\n",
       "      <td>0.0</td>\n",
       "      <td>0.0</td>\n",
       "      <td>0.0</td>\n",
       "      <td>0.0</td>\n",
       "      <td>0.0</td>\n",
       "      <td>0.0</td>\n",
       "    </tr>\n",
       "    <tr>\n",
       "      <th>1</th>\n",
       "      <td>2</td>\n",
       "      <td>-0.191956</td>\n",
       "      <td>0.076438</td>\n",
       "      <td>-0.414735</td>\n",
       "      <td>0.816060</td>\n",
       "      <td>0.115723</td>\n",
       "      <td>0.465907</td>\n",
       "      <td>-0.241574</td>\n",
       "      <td>0.084307</td>\n",
       "      <td>0.719764</td>\n",
       "      <td>...</td>\n",
       "      <td>1.0</td>\n",
       "      <td>0.0</td>\n",
       "      <td>0.0</td>\n",
       "      <td>0.0</td>\n",
       "      <td>0.0</td>\n",
       "      <td>0.0</td>\n",
       "      <td>0.0</td>\n",
       "      <td>0.0</td>\n",
       "      <td>0.0</td>\n",
       "      <td>0.0</td>\n",
       "    </tr>\n",
       "    <tr>\n",
       "      <th>2</th>\n",
       "      <td>3</td>\n",
       "      <td>0.844056</td>\n",
       "      <td>0.898964</td>\n",
       "      <td>-0.010912</td>\n",
       "      <td>0.778047</td>\n",
       "      <td>0.129890</td>\n",
       "      <td>0.884880</td>\n",
       "      <td>-0.153161</td>\n",
       "      <td>0.753604</td>\n",
       "      <td>1.888681</td>\n",
       "      <td>...</td>\n",
       "      <td>0.0</td>\n",
       "      <td>0.0</td>\n",
       "      <td>0.0</td>\n",
       "      <td>0.0</td>\n",
       "      <td>0.0</td>\n",
       "      <td>0.0</td>\n",
       "      <td>0.0</td>\n",
       "      <td>0.0</td>\n",
       "      <td>1.0</td>\n",
       "      <td>0.0</td>\n",
       "    </tr>\n",
       "    <tr>\n",
       "      <th>3</th>\n",
       "      <td>4</td>\n",
       "      <td>0.748864</td>\n",
       "      <td>0.911708</td>\n",
       "      <td>-1.260978</td>\n",
       "      <td>0.686162</td>\n",
       "      <td>0.721352</td>\n",
       "      <td>0.902538</td>\n",
       "      <td>0.638699</td>\n",
       "      <td>0.239914</td>\n",
       "      <td>1.899329</td>\n",
       "      <td>...</td>\n",
       "      <td>0.0</td>\n",
       "      <td>0.0</td>\n",
       "      <td>0.0</td>\n",
       "      <td>0.0</td>\n",
       "      <td>0.0</td>\n",
       "      <td>1.0</td>\n",
       "      <td>0.0</td>\n",
       "      <td>0.0</td>\n",
       "      <td>0.0</td>\n",
       "      <td>0.0</td>\n",
       "    </tr>\n",
       "    <tr>\n",
       "      <th>4</th>\n",
       "      <td>6</td>\n",
       "      <td>-0.021612</td>\n",
       "      <td>0.765785</td>\n",
       "      <td>0.161776</td>\n",
       "      <td>0.251719</td>\n",
       "      <td>0.111686</td>\n",
       "      <td>0.415176</td>\n",
       "      <td>1.119159</td>\n",
       "      <td>0.140716</td>\n",
       "      <td>0.065125</td>\n",
       "      <td>...</td>\n",
       "      <td>1.0</td>\n",
       "      <td>0.0</td>\n",
       "      <td>0.0</td>\n",
       "      <td>0.0</td>\n",
       "      <td>0.0</td>\n",
       "      <td>0.0</td>\n",
       "      <td>0.0</td>\n",
       "      <td>0.0</td>\n",
       "      <td>0.0</td>\n",
       "      <td>0.0</td>\n",
       "    </tr>\n",
       "  </tbody>\n",
       "</table>\n",
       "<p>5 rows × 72 columns</p>\n",
       "</div>"
      ],
      "text/plain": [
       "   id     cont0     cont1     cont2     cont3     cont4     cont5     cont6  \\\n",
       "0   1  1.515719  0.816091 -1.382623  0.095360  0.114564  0.855691  0.043732   \n",
       "1   2 -0.191956  0.076438 -0.414735  0.816060  0.115723  0.465907 -0.241574   \n",
       "2   3  0.844056  0.898964 -0.010912  0.778047  0.129890  0.884880 -0.153161   \n",
       "3   4  0.748864  0.911708 -1.260978  0.686162  0.721352  0.902538  0.638699   \n",
       "4   6 -0.021612  0.765785  0.161776  0.251719  0.111686  0.415176  1.119159   \n",
       "\n",
       "      cont7     cont8  ...  cat9_f  cat9_g  cat9_h  cat9_i  cat9_j  cat9_k  \\\n",
       "0  0.643496  2.018280  ...     0.0     0.0     0.0     1.0     0.0     0.0   \n",
       "1  0.084307  0.719764  ...     1.0     0.0     0.0     0.0     0.0     0.0   \n",
       "2  0.753604  1.888681  ...     0.0     0.0     0.0     0.0     0.0     0.0   \n",
       "3  0.239914  1.899329  ...     0.0     0.0     0.0     0.0     0.0     1.0   \n",
       "4  0.140716  0.065125  ...     1.0     0.0     0.0     0.0     0.0     0.0   \n",
       "\n",
       "   cat9_l  cat9_m  cat9_n  cat9_o  \n",
       "0     0.0     0.0     0.0     0.0  \n",
       "1     0.0     0.0     0.0     0.0  \n",
       "2     0.0     0.0     1.0     0.0  \n",
       "3     0.0     0.0     0.0     0.0  \n",
       "4     0.0     0.0     0.0     0.0  \n",
       "\n",
       "[5 rows x 72 columns]"
      ]
     },
     "execution_count": 35,
     "metadata": {},
     "output_type": "execute_result"
    }
   ],
   "source": [
    "ohe9 = OneHotEncoder(sparse = False) \n",
    "ohe9.fit(train_df[['cat9']])\n",
    "cat9_encoded = ohe9.transform(train_df[['cat9']]) \n",
    "train_df['cat9_a'],train_df[\"cat9_b\"], train_df[\"cat9_c\"], train_df[\"cat9_d\"], train_df[\"cat9_e\"], \\\n",
    "train_df[\"cat9_f\"], train_df[\"cat9_g\"], train_df[\"cat9_h\"], train_df[\"cat9_i\"], train_df[\"cat9_j\"], \\\n",
    "train_df[\"cat9_k\"], train_df[\"cat9_l\"], train_df[\"cat9_m\"], train_df[\"cat9_n\"], train_df[\"cat9_o\"] = cat9_encoded.T \n",
    "train_df.drop(columns='cat9', inplace=True)\n",
    "train_df.head()"
   ]
  },
  {
   "cell_type": "markdown",
   "id": "prerequisite-olive",
   "metadata": {},
   "source": [
    "### Feature selection"
   ]
  },
  {
   "cell_type": "markdown",
   "id": "decimal-selection",
   "metadata": {},
   "source": [
    "#### Check for correlation"
   ]
  },
  {
   "cell_type": "code",
   "execution_count": 42,
   "id": "infectious-shepherd",
   "metadata": {},
   "outputs": [
    {
     "data": {
      "text/plain": [
       "<AxesSubplot:>"
      ]
     },
     "execution_count": 42,
     "metadata": {},
     "output_type": "execute_result"
    },
    {
     "data": {
      "image/png": "[encoded data removed]",
      "text/plain": [
       "<Figure size 1800x1800 with 2 Axes>"
      ]
     },
     "metadata": {
      "needs_background": "light"
     },
     "output_type": "display_data"
    }
   ],
   "source": [
    "corr = train_df.corr()\n",
    "fig, ax = plt.subplots(1, 1, figsize=(25, 25))\n",
    "sns.heatmap(corr, \n",
    "        xticklabels=corr.columns,\n",
    "        yticklabels=corr.columns,\n",
    "        ax=ax, vmin=-1, vmax=1, center= 0, cmap= 'coolwarm',\n",
    "        linewidths=1, linecolor='black',\n",
    "        cbar_kws= {'orientation': 'horizontal'}, \n",
    "        square=True)"
   ]
  },
  {
   "cell_type": "code",
   "execution_count": 44,
   "id": "together-religious",
   "metadata": {},
   "outputs": [
    {
     "data": {
      "text/html": [
       "<div>\n",
       "<style scoped>\n",
       "    .dataframe tbody tr th:only-of-type {\n",
       "        vertical-align: middle;\n",
       "    }\n",
       "\n",
       "    .dataframe tbody tr th {\n",
       "        vertical-align: top;\n",
       "    }\n",
       "\n",
       "    .dataframe thead th {\n",
       "        text-align: right;\n",
       "    }\n",
       "</style>\n",
       "<table border=\"1\" class=\"dataframe\">\n",
       "  <thead>\n",
       "    <tr style=\"text-align: right;\">\n",
       "      <th></th>\n",
       "      <th>feature_1</th>\n",
       "      <th>feature_2</th>\n",
       "      <th>correlation</th>\n",
       "    </tr>\n",
       "  </thead>\n",
       "  <tbody>\n",
       "    <tr>\n",
       "      <th>969</th>\n",
       "      <td>cont12</td>\n",
       "      <td>cat5_d</td>\n",
       "      <td>0.659916</td>\n",
       "    </tr>\n",
       "    <tr>\n",
       "      <th>2389</th>\n",
       "      <td>cat5_d</td>\n",
       "      <td>cont12</td>\n",
       "      <td>0.659916</td>\n",
       "    </tr>\n",
       "    <tr>\n",
       "      <th>942</th>\n",
       "      <td>cont12</td>\n",
       "      <td>cont5</td>\n",
       "      <td>0.631926</td>\n",
       "    </tr>\n",
       "    <tr>\n",
       "      <th>445</th>\n",
       "      <td>cont5</td>\n",
       "      <td>cont12</td>\n",
       "      <td>0.631926</td>\n",
       "    </tr>\n",
       "    <tr>\n",
       "      <th>726</th>\n",
       "      <td>cont9</td>\n",
       "      <td>cont5</td>\n",
       "      <td>0.615836</td>\n",
       "    </tr>\n",
       "  </tbody>\n",
       "</table>\n",
       "</div>"
      ],
      "text/plain": [
       "     feature_1 feature_2  correlation\n",
       "969     cont12    cat5_d     0.659916\n",
       "2389    cat5_d    cont12     0.659916\n",
       "942     cont12     cont5     0.631926\n",
       "445      cont5    cont12     0.631926\n",
       "726      cont9     cont5     0.615836"
      ]
     },
     "execution_count": 44,
     "metadata": {},
     "output_type": "execute_result"
    }
   ],
   "source": [
    "corr_df = corr.unstack().reset_index()\n",
    "corr_df.columns = ['feature_1','feature_2', 'correlation']\n",
    "corr_df.sort_values(by=\"correlation\",ascending=False, inplace=True)\n",
    "corr_df = corr_df[corr_df['feature_1'] != corr_df['feature_2']] # Remove self correlation\n",
    "corr_df.head()"
   ]
  },
  {
   "cell_type": "markdown",
   "id": "minute-village",
   "metadata": {},
   "source": [
    "-----------\n",
    "\n",
    "*The highest feature correlation is ~0.66. Since there aren't many strongly correlated features (over 0.8), I decided to keep all of features based on correlation and check feature importance*\n",
    "\n",
    "---------------"
   ]
  },
  {
   "cell_type": "markdown",
   "id": "accomplished-girlfriend",
   "metadata": {},
   "source": [
    "#### Check feature importance"
   ]
  },
  {
   "cell_type": "code",
   "execution_count": 59,
   "id": "dense-picnic",
   "metadata": {},
   "outputs": [],
   "source": [
    "X = train_df.drop(columns='target')\n",
    "y = train_df.target"
   ]
  },
  {
   "cell_type": "code",
   "execution_count": 52,
   "id": "spiritual-manufacturer",
   "metadata": {},
   "outputs": [
    {
     "data": {
      "text/plain": [
       "-0.8637482861250723"
      ]
     },
     "execution_count": 52,
     "metadata": {},
     "output_type": "execute_result"
    }
   ],
   "source": [
    "model = LinearRegression() \n",
    "scores = cross_val_score(model, X, y, cv=5, scoring='neg_root_mean_squared_error') # Cross validate\n",
    "scores.mean()"
   ]
  },
  {
   "cell_type": "code",
   "execution_count": 50,
   "id": "mathematical-label",
   "metadata": {},
   "outputs": [
    {
     "data": {
      "text/html": [
       "<div>\n",
       "<style scoped>\n",
       "    .dataframe tbody tr th:only-of-type {\n",
       "        vertical-align: middle;\n",
       "    }\n",
       "\n",
       "    .dataframe tbody tr th {\n",
       "        vertical-align: top;\n",
       "    }\n",
       "\n",
       "    .dataframe thead th {\n",
       "        text-align: right;\n",
       "    }\n",
       "</style>\n",
       "<table border=\"1\" class=\"dataframe\">\n",
       "  <thead>\n",
       "    <tr style=\"text-align: right;\">\n",
       "      <th></th>\n",
       "      <th>feature</th>\n",
       "      <th>score decrease</th>\n",
       "    </tr>\n",
       "  </thead>\n",
       "  <tbody>\n",
       "    <tr>\n",
       "      <th>9</th>\n",
       "      <td>cont8</td>\n",
       "      <td>0.011589</td>\n",
       "    </tr>\n",
       "    <tr>\n",
       "      <th>1</th>\n",
       "      <td>cont0</td>\n",
       "      <td>0.00901</td>\n",
       "    </tr>\n",
       "    <tr>\n",
       "      <th>6</th>\n",
       "      <td>cont5</td>\n",
       "      <td>0.007568</td>\n",
       "    </tr>\n",
       "    <tr>\n",
       "      <th>12</th>\n",
       "      <td>cont11</td>\n",
       "      <td>0.0071</td>\n",
       "    </tr>\n",
       "    <tr>\n",
       "      <th>55</th>\n",
       "      <td>cat8_g</td>\n",
       "      <td>0.004995</td>\n",
       "    </tr>\n",
       "    <tr>\n",
       "      <th>...</th>\n",
       "      <td>...</td>\n",
       "      <td>...</td>\n",
       "    </tr>\n",
       "    <tr>\n",
       "      <th>41</th>\n",
       "      <td>cat7_a</td>\n",
       "      <td>0.000001</td>\n",
       "    </tr>\n",
       "    <tr>\n",
       "      <th>25</th>\n",
       "      <td>cat4_a</td>\n",
       "      <td>0.0</td>\n",
       "    </tr>\n",
       "    <tr>\n",
       "      <th>0</th>\n",
       "      <td>id</td>\n",
       "      <td>0.0</td>\n",
       "    </tr>\n",
       "    <tr>\n",
       "      <th>68</th>\n",
       "      <td>cat9_m</td>\n",
       "      <td>-0.0</td>\n",
       "    </tr>\n",
       "    <tr>\n",
       "      <th>50</th>\n",
       "      <td>cat8_b</td>\n",
       "      <td>-0.0</td>\n",
       "    </tr>\n",
       "  </tbody>\n",
       "</table>\n",
       "<p>71 rows × 2 columns</p>\n",
       "</div>"
      ],
      "text/plain": [
       "   feature score decrease\n",
       "9    cont8       0.011589\n",
       "1    cont0        0.00901\n",
       "6    cont5       0.007568\n",
       "12  cont11         0.0071\n",
       "55  cat8_g       0.004995\n",
       "..     ...            ...\n",
       "41  cat7_a       0.000001\n",
       "25  cat4_a            0.0\n",
       "0       id            0.0\n",
       "68  cat9_m           -0.0\n",
       "50  cat8_b           -0.0\n",
       "\n",
       "[71 rows x 2 columns]"
      ]
     },
     "execution_count": 50,
     "metadata": {},
     "output_type": "execute_result"
    }
   ],
   "source": [
    "model = LinearRegression().fit(X, y)\n",
    "permutation_score = permutation_importance(model, X, y)\n",
    "importance_df = pd.DataFrame(np.vstack((X.columns,\n",
    "                                        permutation_score.importances_mean)).T)\n",
    "importance_df.columns=['feature','score decrease']\n",
    "\n",
    "importance_df.sort_values(by=\"score decrease\", ascending = False)"
   ]
  },
  {
   "cell_type": "code",
   "execution_count": 53,
   "id": "prescription-calculation",
   "metadata": {},
   "outputs": [
    {
     "data": {
      "text/html": [
       "<div>\n",
       "<style scoped>\n",
       "    .dataframe tbody tr th:only-of-type {\n",
       "        vertical-align: middle;\n",
       "    }\n",
       "\n",
       "    .dataframe tbody tr th {\n",
       "        vertical-align: top;\n",
       "    }\n",
       "\n",
       "    .dataframe thead th {\n",
       "        text-align: right;\n",
       "    }\n",
       "</style>\n",
       "<table border=\"1\" class=\"dataframe\">\n",
       "  <thead>\n",
       "    <tr style=\"text-align: right;\">\n",
       "      <th></th>\n",
       "      <th>feature</th>\n",
       "      <th>score decrease</th>\n",
       "    </tr>\n",
       "  </thead>\n",
       "  <tbody>\n",
       "    <tr>\n",
       "      <th>50</th>\n",
       "      <td>cat8_b</td>\n",
       "      <td>-0.0</td>\n",
       "    </tr>\n",
       "    <tr>\n",
       "      <th>68</th>\n",
       "      <td>cat9_m</td>\n",
       "      <td>-0.0</td>\n",
       "    </tr>\n",
       "    <tr>\n",
       "      <th>0</th>\n",
       "      <td>id</td>\n",
       "      <td>0.0</td>\n",
       "    </tr>\n",
       "    <tr>\n",
       "      <th>25</th>\n",
       "      <td>cat4_a</td>\n",
       "      <td>0.0</td>\n",
       "    </tr>\n",
       "    <tr>\n",
       "      <th>41</th>\n",
       "      <td>cat7_a</td>\n",
       "      <td>0.000001</td>\n",
       "    </tr>\n",
       "    <tr>\n",
       "      <th>38</th>\n",
       "      <td>cat6_g</td>\n",
       "      <td>0.000001</td>\n",
       "    </tr>\n",
       "    <tr>\n",
       "      <th>39</th>\n",
       "      <td>cat6_h</td>\n",
       "      <td>0.000001</td>\n",
       "    </tr>\n",
       "    <tr>\n",
       "      <th>46</th>\n",
       "      <td>cat7_f</td>\n",
       "      <td>0.000001</td>\n",
       "    </tr>\n",
       "    <tr>\n",
       "      <th>36</th>\n",
       "      <td>cat6_d</td>\n",
       "      <td>0.000001</td>\n",
       "    </tr>\n",
       "    <tr>\n",
       "      <th>43</th>\n",
       "      <td>cat7_c</td>\n",
       "      <td>0.000002</td>\n",
       "    </tr>\n",
       "    <tr>\n",
       "      <th>69</th>\n",
       "      <td>cat9_n</td>\n",
       "      <td>0.000002</td>\n",
       "    </tr>\n",
       "    <tr>\n",
       "      <th>58</th>\n",
       "      <td>cat9_c</td>\n",
       "      <td>0.000003</td>\n",
       "    </tr>\n",
       "    <tr>\n",
       "      <th>40</th>\n",
       "      <td>cat6_i</td>\n",
       "      <td>0.000003</td>\n",
       "    </tr>\n",
       "    <tr>\n",
       "      <th>59</th>\n",
       "      <td>cat9_d</td>\n",
       "      <td>0.000004</td>\n",
       "    </tr>\n",
       "    <tr>\n",
       "      <th>66</th>\n",
       "      <td>cat9_k</td>\n",
       "      <td>0.000004</td>\n",
       "    </tr>\n",
       "    <tr>\n",
       "      <th>37</th>\n",
       "      <td>cat6_e</td>\n",
       "      <td>0.000004</td>\n",
       "    </tr>\n",
       "  </tbody>\n",
       "</table>\n",
       "</div>"
      ],
      "text/plain": [
       "   feature score decrease\n",
       "50  cat8_b           -0.0\n",
       "68  cat9_m           -0.0\n",
       "0       id            0.0\n",
       "25  cat4_a            0.0\n",
       "41  cat7_a       0.000001\n",
       "38  cat6_g       0.000001\n",
       "39  cat6_h       0.000001\n",
       "46  cat7_f       0.000001\n",
       "36  cat6_d       0.000001\n",
       "43  cat7_c       0.000002\n",
       "69  cat9_n       0.000002\n",
       "58  cat9_c       0.000003\n",
       "40  cat6_i       0.000003\n",
       "59  cat9_d       0.000004\n",
       "66  cat9_k       0.000004\n",
       "37  cat6_e       0.000004"
      ]
     },
     "execution_count": 53,
     "metadata": {},
     "output_type": "execute_result"
    }
   ],
   "source": [
    "weak_df = importance_df.sort_values(by=\"score decrease\", ascending = True).head(16)\n",
    "weak_df"
   ]
  },
  {
   "cell_type": "code",
   "execution_count": 54,
   "id": "constitutional-castle",
   "metadata": {},
   "outputs": [
    {
     "data": {
      "text/plain": [
       "array(['cat8_b', 'cat9_m', 'id', 'cat4_a', 'cat7_a', 'cat6_g', 'cat6_h',\n",
       "       'cat7_f', 'cat6_d', 'cat7_c', 'cat9_n', 'cat9_c', 'cat6_i',\n",
       "       'cat9_d', 'cat9_k', 'cat6_e'], dtype=object)"
      ]
     },
     "execution_count": 54,
     "metadata": {},
     "output_type": "execute_result"
    }
   ],
   "source": [
    "weak_df.feature.unique()"
   ]
  },
  {
   "cell_type": "code",
   "execution_count": 60,
   "id": "renewable-fashion",
   "metadata": {},
   "outputs": [
    {
     "data": {
      "text/html": [
       "<div>\n",
       "<style scoped>\n",
       "    .dataframe tbody tr th:only-of-type {\n",
       "        vertical-align: middle;\n",
       "    }\n",
       "\n",
       "    .dataframe tbody tr th {\n",
       "        vertical-align: top;\n",
       "    }\n",
       "\n",
       "    .dataframe thead th {\n",
       "        text-align: right;\n",
       "    }\n",
       "</style>\n",
       "<table border=\"1\" class=\"dataframe\">\n",
       "  <thead>\n",
       "    <tr style=\"text-align: right;\">\n",
       "      <th></th>\n",
       "      <th>cont0</th>\n",
       "      <th>cont1</th>\n",
       "      <th>cont2</th>\n",
       "      <th>cont3</th>\n",
       "      <th>cont4</th>\n",
       "      <th>cont5</th>\n",
       "      <th>cont6</th>\n",
       "      <th>cont7</th>\n",
       "      <th>cont8</th>\n",
       "      <th>cont9</th>\n",
       "      <th>...</th>\n",
       "      <th>cat9_a</th>\n",
       "      <th>cat9_b</th>\n",
       "      <th>cat9_e</th>\n",
       "      <th>cat9_f</th>\n",
       "      <th>cat9_g</th>\n",
       "      <th>cat9_h</th>\n",
       "      <th>cat9_i</th>\n",
       "      <th>cat9_j</th>\n",
       "      <th>cat9_l</th>\n",
       "      <th>cat9_o</th>\n",
       "    </tr>\n",
       "  </thead>\n",
       "  <tbody>\n",
       "    <tr>\n",
       "      <th>0</th>\n",
       "      <td>1.515719</td>\n",
       "      <td>0.816091</td>\n",
       "      <td>-1.382623</td>\n",
       "      <td>0.095360</td>\n",
       "      <td>0.114564</td>\n",
       "      <td>0.855691</td>\n",
       "      <td>0.043732</td>\n",
       "      <td>0.643496</td>\n",
       "      <td>2.018280</td>\n",
       "      <td>0.811322</td>\n",
       "      <td>...</td>\n",
       "      <td>0.0</td>\n",
       "      <td>0.0</td>\n",
       "      <td>0.0</td>\n",
       "      <td>0.0</td>\n",
       "      <td>0.0</td>\n",
       "      <td>0.0</td>\n",
       "      <td>1.0</td>\n",
       "      <td>0.0</td>\n",
       "      <td>0.0</td>\n",
       "      <td>0.0</td>\n",
       "    </tr>\n",
       "    <tr>\n",
       "      <th>1</th>\n",
       "      <td>-0.191956</td>\n",
       "      <td>0.076438</td>\n",
       "      <td>-0.414735</td>\n",
       "      <td>0.816060</td>\n",
       "      <td>0.115723</td>\n",
       "      <td>0.465907</td>\n",
       "      <td>-0.241574</td>\n",
       "      <td>0.084307</td>\n",
       "      <td>0.719764</td>\n",
       "      <td>0.526128</td>\n",
       "      <td>...</td>\n",
       "      <td>0.0</td>\n",
       "      <td>0.0</td>\n",
       "      <td>0.0</td>\n",
       "      <td>1.0</td>\n",
       "      <td>0.0</td>\n",
       "      <td>0.0</td>\n",
       "      <td>0.0</td>\n",
       "      <td>0.0</td>\n",
       "      <td>0.0</td>\n",
       "      <td>0.0</td>\n",
       "    </tr>\n",
       "    <tr>\n",
       "      <th>2</th>\n",
       "      <td>0.844056</td>\n",
       "      <td>0.898964</td>\n",
       "      <td>-0.010912</td>\n",
       "      <td>0.778047</td>\n",
       "      <td>0.129890</td>\n",
       "      <td>0.884880</td>\n",
       "      <td>-0.153161</td>\n",
       "      <td>0.753604</td>\n",
       "      <td>1.888681</td>\n",
       "      <td>0.836672</td>\n",
       "      <td>...</td>\n",
       "      <td>0.0</td>\n",
       "      <td>0.0</td>\n",
       "      <td>0.0</td>\n",
       "      <td>0.0</td>\n",
       "      <td>0.0</td>\n",
       "      <td>0.0</td>\n",
       "      <td>0.0</td>\n",
       "      <td>0.0</td>\n",
       "      <td>0.0</td>\n",
       "      <td>0.0</td>\n",
       "    </tr>\n",
       "    <tr>\n",
       "      <th>3</th>\n",
       "      <td>0.748864</td>\n",
       "      <td>0.911708</td>\n",
       "      <td>-1.260978</td>\n",
       "      <td>0.686162</td>\n",
       "      <td>0.721352</td>\n",
       "      <td>0.902538</td>\n",
       "      <td>0.638699</td>\n",
       "      <td>0.239914</td>\n",
       "      <td>1.899329</td>\n",
       "      <td>0.802359</td>\n",
       "      <td>...</td>\n",
       "      <td>0.0</td>\n",
       "      <td>0.0</td>\n",
       "      <td>0.0</td>\n",
       "      <td>0.0</td>\n",
       "      <td>0.0</td>\n",
       "      <td>0.0</td>\n",
       "      <td>0.0</td>\n",
       "      <td>0.0</td>\n",
       "      <td>0.0</td>\n",
       "      <td>0.0</td>\n",
       "    </tr>\n",
       "    <tr>\n",
       "      <th>4</th>\n",
       "      <td>-0.021612</td>\n",
       "      <td>0.765785</td>\n",
       "      <td>0.161776</td>\n",
       "      <td>0.251719</td>\n",
       "      <td>0.111686</td>\n",
       "      <td>0.415176</td>\n",
       "      <td>1.119159</td>\n",
       "      <td>0.140716</td>\n",
       "      <td>0.065125</td>\n",
       "      <td>0.432796</td>\n",
       "      <td>...</td>\n",
       "      <td>0.0</td>\n",
       "      <td>0.0</td>\n",
       "      <td>0.0</td>\n",
       "      <td>1.0</td>\n",
       "      <td>0.0</td>\n",
       "      <td>0.0</td>\n",
       "      <td>0.0</td>\n",
       "      <td>0.0</td>\n",
       "      <td>0.0</td>\n",
       "      <td>0.0</td>\n",
       "    </tr>\n",
       "  </tbody>\n",
       "</table>\n",
       "<p>5 rows × 55 columns</p>\n",
       "</div>"
      ],
      "text/plain": [
       "      cont0     cont1     cont2     cont3     cont4     cont5     cont6  \\\n",
       "0  1.515719  0.816091 -1.382623  0.095360  0.114564  0.855691  0.043732   \n",
       "1 -0.191956  0.076438 -0.414735  0.816060  0.115723  0.465907 -0.241574   \n",
       "2  0.844056  0.898964 -0.010912  0.778047  0.129890  0.884880 -0.153161   \n",
       "3  0.748864  0.911708 -1.260978  0.686162  0.721352  0.902538  0.638699   \n",
       "4 -0.021612  0.765785  0.161776  0.251719  0.111686  0.415176  1.119159   \n",
       "\n",
       "      cont7     cont8     cont9  ...  cat9_a  cat9_b  cat9_e  cat9_f  cat9_g  \\\n",
       "0  0.643496  2.018280  0.811322  ...     0.0     0.0     0.0     0.0     0.0   \n",
       "1  0.084307  0.719764  0.526128  ...     0.0     0.0     0.0     1.0     0.0   \n",
       "2  0.753604  1.888681  0.836672  ...     0.0     0.0     0.0     0.0     0.0   \n",
       "3  0.239914  1.899329  0.802359  ...     0.0     0.0     0.0     0.0     0.0   \n",
       "4  0.140716  0.065125  0.432796  ...     0.0     0.0     0.0     1.0     0.0   \n",
       "\n",
       "   cat9_h  cat9_i  cat9_j  cat9_l  cat9_o  \n",
       "0     0.0     1.0     0.0     0.0     0.0  \n",
       "1     0.0     0.0     0.0     0.0     0.0  \n",
       "2     0.0     0.0     0.0     0.0     0.0  \n",
       "3     0.0     0.0     0.0     0.0     0.0  \n",
       "4     0.0     0.0     0.0     0.0     0.0  \n",
       "\n",
       "[5 rows x 55 columns]"
      ]
     },
     "execution_count": 60,
     "metadata": {},
     "output_type": "execute_result"
    }
   ],
   "source": [
    "X = X.drop(columns=['cat8_b', 'cat9_m', 'id', 'cat4_a', 'cat7_a', 'cat6_g', 'cat6_h',\n",
    "       'cat7_f', 'cat6_d', 'cat7_c', 'cat9_n', 'cat9_c', 'cat6_i',\n",
    "       'cat9_d', 'cat9_k', 'cat6_e'])\n",
    "model = LinearRegression() \n",
    "scores = cross_val_score(model, X, y, cv=5, scoring='neg_root_mean_squared_error') # Cross validate\n",
    "scores.mean()\n",
    "X.head()"
   ]
  },
  {
   "cell_type": "code",
   "execution_count": 56,
   "id": "bronze-dietary",
   "metadata": {},
   "outputs": [
    {
     "data": {
      "text/html": [
       "<div>\n",
       "<style scoped>\n",
       "    .dataframe tbody tr th:only-of-type {\n",
       "        vertical-align: middle;\n",
       "    }\n",
       "\n",
       "    .dataframe tbody tr th {\n",
       "        vertical-align: top;\n",
       "    }\n",
       "\n",
       "    .dataframe thead th {\n",
       "        text-align: right;\n",
       "    }\n",
       "</style>\n",
       "<table border=\"1\" class=\"dataframe\">\n",
       "  <thead>\n",
       "    <tr style=\"text-align: right;\">\n",
       "      <th></th>\n",
       "      <th>feature</th>\n",
       "      <th>score decrease</th>\n",
       "    </tr>\n",
       "  </thead>\n",
       "  <tbody>\n",
       "    <tr>\n",
       "      <th>9</th>\n",
       "      <td>cont8</td>\n",
       "      <td>0.011589</td>\n",
       "    </tr>\n",
       "    <tr>\n",
       "      <th>1</th>\n",
       "      <td>cont0</td>\n",
       "      <td>0.00901</td>\n",
       "    </tr>\n",
       "    <tr>\n",
       "      <th>6</th>\n",
       "      <td>cont5</td>\n",
       "      <td>0.007568</td>\n",
       "    </tr>\n",
       "    <tr>\n",
       "      <th>12</th>\n",
       "      <td>cont11</td>\n",
       "      <td>0.0071</td>\n",
       "    </tr>\n",
       "    <tr>\n",
       "      <th>55</th>\n",
       "      <td>cat8_g</td>\n",
       "      <td>0.004995</td>\n",
       "    </tr>\n",
       "    <tr>\n",
       "      <th>18</th>\n",
       "      <td>cat1_b</td>\n",
       "      <td>0.004431</td>\n",
       "    </tr>\n",
       "    <tr>\n",
       "      <th>17</th>\n",
       "      <td>cat1_a</td>\n",
       "      <td>0.004431</td>\n",
       "    </tr>\n",
       "    <tr>\n",
       "      <th>64</th>\n",
       "      <td>cat9_i</td>\n",
       "      <td>0.003828</td>\n",
       "    </tr>\n",
       "    <tr>\n",
       "      <th>67</th>\n",
       "      <td>cat9_l</td>\n",
       "      <td>0.00362</td>\n",
       "    </tr>\n",
       "    <tr>\n",
       "      <th>2</th>\n",
       "      <td>cont1</td>\n",
       "      <td>0.003187</td>\n",
       "    </tr>\n",
       "    <tr>\n",
       "      <th>30</th>\n",
       "      <td>cat5_b</td>\n",
       "      <td>0.002723</td>\n",
       "    </tr>\n",
       "    <tr>\n",
       "      <th>19</th>\n",
       "      <td>cat2_a</td>\n",
       "      <td>0.002655</td>\n",
       "    </tr>\n",
       "    <tr>\n",
       "      <th>20</th>\n",
       "      <td>cat2_b</td>\n",
       "      <td>0.002655</td>\n",
       "    </tr>\n",
       "    <tr>\n",
       "      <th>21</th>\n",
       "      <td>cat3_a</td>\n",
       "      <td>0.002453</td>\n",
       "    </tr>\n",
       "    <tr>\n",
       "      <th>45</th>\n",
       "      <td>cat7_e</td>\n",
       "      <td>0.002317</td>\n",
       "    </tr>\n",
       "    <tr>\n",
       "      <th>32</th>\n",
       "      <td>cat5_d</td>\n",
       "      <td>0.002169</td>\n",
       "    </tr>\n",
       "  </tbody>\n",
       "</table>\n",
       "</div>"
      ],
      "text/plain": [
       "   feature score decrease\n",
       "9    cont8       0.011589\n",
       "1    cont0        0.00901\n",
       "6    cont5       0.007568\n",
       "12  cont11         0.0071\n",
       "55  cat8_g       0.004995\n",
       "18  cat1_b       0.004431\n",
       "17  cat1_a       0.004431\n",
       "64  cat9_i       0.003828\n",
       "67  cat9_l        0.00362\n",
       "2    cont1       0.003187\n",
       "30  cat5_b       0.002723\n",
       "19  cat2_a       0.002655\n",
       "20  cat2_b       0.002655\n",
       "21  cat3_a       0.002453\n",
       "45  cat7_e       0.002317\n",
       "32  cat5_d       0.002169"
      ]
     },
     "execution_count": 56,
     "metadata": {},
     "output_type": "execute_result"
    }
   ],
   "source": [
    "strong_df = importance_df.sort_values(by=\"score decrease\", ascending = False).head(16)\n",
    "strong_df"
   ]
  },
  {
   "cell_type": "code",
   "execution_count": 57,
   "id": "mobile-failing",
   "metadata": {},
   "outputs": [
    {
     "data": {
      "text/plain": [
       "array(['cont8', 'cont0', 'cont5', 'cont11', 'cat8_g', 'cat1_b', 'cat1_a',\n",
       "       'cat9_i', 'cat9_l', 'cont1', 'cat5_b', 'cat2_a', 'cat2_b',\n",
       "       'cat3_a', 'cat7_e', 'cat5_d'], dtype=object)"
      ]
     },
     "execution_count": 57,
     "metadata": {},
     "output_type": "execute_result"
    }
   ],
   "source": [
    "strong_df.feature.unique()"
   ]
  },
  {
   "cell_type": "code",
   "execution_count": 58,
   "id": "fifteen-aspect",
   "metadata": {},
   "outputs": [
    {
     "data": {
      "text/plain": [
       "-0.867446007690982"
      ]
     },
     "execution_count": 58,
     "metadata": {},
     "output_type": "execute_result"
    }
   ],
   "source": [
    "# X = X[['cont8', 'cont0', 'cont5', 'cont11', 'cat8_g', 'cat1_b', 'cat1_a',\n",
    "#        'cat9_i', 'cat9_l', 'cont1', 'cat5_b', 'cat2_a', 'cat2_b',\n",
    "#        'cat3_a', 'cat7_e', 'cat5_d']]\n",
    "# model = LinearRegression() \n",
    "# scores = cross_val_score(model, X, y, cv=5, scoring='neg_root_mean_squared_error') # Cross validate\n",
    "# scores.mean()"
   ]
  },
  {
   "cell_type": "markdown",
   "id": "small-actor",
   "metadata": {},
   "source": [
    "------------\n",
    "\n",
    "*Tried dropping 20% weakest features vs. keeping 20% strongest features. Too much information is lost with option B so going with dropping 20% weakest features.*\n",
    "\n",
    "-----------"
   ]
  },
  {
   "cell_type": "code",
   "execution_count": 62,
   "id": "further-fisher",
   "metadata": {},
   "outputs": [],
   "source": [
    "# Save progress\n",
    "\n",
    "X.to_csv('data/X_train.csv', index=False)\n",
    "y.to_csv('data/y_train.csv', index=False)"
   ]
  },
  {
   "cell_type": "markdown",
   "id": "logical-hungarian",
   "metadata": {},
   "source": [
    "### Complete same steps on test data"
   ]
  },
  {
   "cell_type": "code",
   "execution_count": 49,
   "id": "express-hypothetical",
   "metadata": {},
   "outputs": [
    {
     "name": "stdout",
     "output_type": "stream",
     "text": [
      "200000\n",
      "200000\n"
     ]
    }
   ],
   "source": [
    "# Check for duplicates\n",
    "\n",
    "print(len(test_df))\n",
    "test_df = test_df.drop_duplicates()\n",
    "print(len(test_df))"
   ]
  },
  {
   "cell_type": "code",
   "execution_count": 50,
   "id": "sought-tracy",
   "metadata": {},
   "outputs": [
    {
     "data": {
      "text/plain": [
       "id        0\n",
       "cont2     0\n",
       "cont12    0\n",
       "cont11    0\n",
       "cont10    0\n",
       "cont9     0\n",
       "cont8     0\n",
       "cont7     0\n",
       "cont6     0\n",
       "cont5     0\n",
       "cont4     0\n",
       "cont3     0\n",
       "cont1     0\n",
       "cat0      0\n",
       "cont0     0\n",
       "cat9      0\n",
       "cat8      0\n",
       "cat7      0\n",
       "cat6      0\n",
       "cat5      0\n",
       "cat4      0\n",
       "cat3      0\n",
       "cat2      0\n",
       "cat1      0\n",
       "cont13    0\n",
       "dtype: int64"
      ]
     },
     "execution_count": 50,
     "metadata": {},
     "output_type": "execute_result"
    }
   ],
   "source": [
    "# Check for missing values\n",
    "\n",
    "test_df.isnull().sum().sort_values(ascending=False)"
   ]
  },
  {
   "cell_type": "code",
   "execution_count": 51,
   "id": "serial-bibliography",
   "metadata": {},
   "outputs": [
    {
     "data": {
      "image/png": "[encoded data removed]",
      "text/plain": [
       "<Figure size 1800x1080 with 15 Axes>"
      ]
     },
     "metadata": {
      "needs_background": "light"
     },
     "output_type": "display_data"
    }
   ],
   "source": [
    "# Check for outliers\n",
    "\n",
    "fig, axes = plt.subplots(5, 3, figsize=(25, 15))\n",
    "sns.boxplot(x='cont0', data=test_df, ax=axes[0,0])\n",
    "sns.boxplot(x='cont1', data=test_df, ax=axes[0,1])\n",
    "sns.boxplot(x='cont2', data=test_df, ax=axes[0,2])\n",
    "sns.boxplot(x='cont3', data=test_df, ax=axes[1,0])\n",
    "sns.boxplot(x='cont4', data=test_df, ax=axes[1,1])\n",
    "sns.boxplot(x='cont5', data=test_df, ax=axes[1,2])\n",
    "sns.boxplot(x='cont6', data=test_df, ax=axes[2,0])\n",
    "sns.boxplot(x='cont7', data=test_df, ax=axes[2,1])\n",
    "sns.boxplot(x='cont8', data=test_df, ax=axes[2,2])\n",
    "sns.boxplot(x='cont9', data=test_df, ax=axes[3,0])\n",
    "sns.boxplot(x='cont10', data=test_df, ax=axes[3,1])\n",
    "sns.boxplot(x='cont11', data=test_df, ax=axes[3,2])\n",
    "sns.boxplot(x='cont12', data=test_df, ax=axes[4,0])\n",
    "sns.boxplot(x='cont13', data=test_df, ax=axes[4,1])\n",
    "fig.subplots_adjust(hspace=0.5)\n",
    "plt.show()"
   ]
  },
  {
   "cell_type": "code",
   "execution_count": 52,
   "id": "clinical-league",
   "metadata": {},
   "outputs": [
    {
     "data": {
      "text/html": [
       "<div>\n",
       "<style scoped>\n",
       "    .dataframe tbody tr th:only-of-type {\n",
       "        vertical-align: middle;\n",
       "    }\n",
       "\n",
       "    .dataframe tbody tr th {\n",
       "        vertical-align: top;\n",
       "    }\n",
       "\n",
       "    .dataframe thead th {\n",
       "        text-align: right;\n",
       "    }\n",
       "</style>\n",
       "<table border=\"1\" class=\"dataframe\">\n",
       "  <thead>\n",
       "    <tr style=\"text-align: right;\">\n",
       "      <th></th>\n",
       "      <th>id</th>\n",
       "      <th>cat0</th>\n",
       "      <th>cat1</th>\n",
       "      <th>cat2</th>\n",
       "      <th>cat3</th>\n",
       "      <th>cat4</th>\n",
       "      <th>cat5</th>\n",
       "      <th>cat6</th>\n",
       "      <th>cat7</th>\n",
       "      <th>cat8</th>\n",
       "      <th>...</th>\n",
       "      <th>cont4</th>\n",
       "      <th>cont5</th>\n",
       "      <th>cont6</th>\n",
       "      <th>cont7</th>\n",
       "      <th>cont8</th>\n",
       "      <th>cont9</th>\n",
       "      <th>cont10</th>\n",
       "      <th>cont11</th>\n",
       "      <th>cont12</th>\n",
       "      <th>cont13</th>\n",
       "    </tr>\n",
       "  </thead>\n",
       "  <tbody>\n",
       "    <tr>\n",
       "      <th>0</th>\n",
       "      <td>0</td>\n",
       "      <td>A</td>\n",
       "      <td>B</td>\n",
       "      <td>A</td>\n",
       "      <td>C</td>\n",
       "      <td>B</td>\n",
       "      <td>D</td>\n",
       "      <td>A</td>\n",
       "      <td>E</td>\n",
       "      <td>E</td>\n",
       "      <td>...</td>\n",
       "      <td>0.701679</td>\n",
       "      <td>0.595507</td>\n",
       "      <td>-0.467832</td>\n",
       "      <td>0.279884</td>\n",
       "      <td>-0.960400</td>\n",
       "      <td>0.242654</td>\n",
       "      <td>0.285147</td>\n",
       "      <td>0.264308</td>\n",
       "      <td>0.653654</td>\n",
       "      <td>0.302448</td>\n",
       "    </tr>\n",
       "    <tr>\n",
       "      <th>1</th>\n",
       "      <td>5</td>\n",
       "      <td>A</td>\n",
       "      <td>B</td>\n",
       "      <td>A</td>\n",
       "      <td>C</td>\n",
       "      <td>B</td>\n",
       "      <td>D</td>\n",
       "      <td>A</td>\n",
       "      <td>E</td>\n",
       "      <td>C</td>\n",
       "      <td>...</td>\n",
       "      <td>0.277480</td>\n",
       "      <td>0.479552</td>\n",
       "      <td>-0.047920</td>\n",
       "      <td>0.476742</td>\n",
       "      <td>1.855678</td>\n",
       "      <td>0.516393</td>\n",
       "      <td>0.562065</td>\n",
       "      <td>0.730542</td>\n",
       "      <td>0.318492</td>\n",
       "      <td>0.736251</td>\n",
       "    </tr>\n",
       "    <tr>\n",
       "      <th>2</th>\n",
       "      <td>15</td>\n",
       "      <td>A</td>\n",
       "      <td>B</td>\n",
       "      <td>A</td>\n",
       "      <td>C</td>\n",
       "      <td>B</td>\n",
       "      <td>D</td>\n",
       "      <td>A</td>\n",
       "      <td>E</td>\n",
       "      <td>C</td>\n",
       "      <td>...</td>\n",
       "      <td>0.279508</td>\n",
       "      <td>0.676395</td>\n",
       "      <td>1.083683</td>\n",
       "      <td>0.253316</td>\n",
       "      <td>0.693966</td>\n",
       "      <td>0.548555</td>\n",
       "      <td>0.836193</td>\n",
       "      <td>0.759788</td>\n",
       "      <td>0.333572</td>\n",
       "      <td>0.273905</td>\n",
       "    </tr>\n",
       "    <tr>\n",
       "      <th>3</th>\n",
       "      <td>16</td>\n",
       "      <td>A</td>\n",
       "      <td>A</td>\n",
       "      <td>B</td>\n",
       "      <td>A</td>\n",
       "      <td>B</td>\n",
       "      <td>D</td>\n",
       "      <td>A</td>\n",
       "      <td>E</td>\n",
       "      <td>E</td>\n",
       "      <td>...</td>\n",
       "      <td>0.479503</td>\n",
       "      <td>0.759875</td>\n",
       "      <td>-0.645878</td>\n",
       "      <td>0.298074</td>\n",
       "      <td>0.072737</td>\n",
       "      <td>0.596746</td>\n",
       "      <td>0.414131</td>\n",
       "      <td>0.255382</td>\n",
       "      <td>0.589080</td>\n",
       "      <td>0.311625</td>\n",
       "    </tr>\n",
       "    <tr>\n",
       "      <th>4</th>\n",
       "      <td>17</td>\n",
       "      <td>A</td>\n",
       "      <td>B</td>\n",
       "      <td>A</td>\n",
       "      <td>A</td>\n",
       "      <td>B</td>\n",
       "      <td>B</td>\n",
       "      <td>A</td>\n",
       "      <td>E</td>\n",
       "      <td>E</td>\n",
       "      <td>...</td>\n",
       "      <td>0.757845</td>\n",
       "      <td>0.210232</td>\n",
       "      <td>-0.304696</td>\n",
       "      <td>0.616663</td>\n",
       "      <td>-1.096976</td>\n",
       "      <td>0.263235</td>\n",
       "      <td>0.710961</td>\n",
       "      <td>0.224045</td>\n",
       "      <td>0.285860</td>\n",
       "      <td>0.794931</td>\n",
       "    </tr>\n",
       "  </tbody>\n",
       "</table>\n",
       "<p>5 rows × 25 columns</p>\n",
       "</div>"
      ],
      "text/plain": [
       "   id cat0 cat1 cat2 cat3 cat4 cat5 cat6 cat7 cat8  ...     cont4     cont5  \\\n",
       "0   0    A    B    A    C    B    D    A    E    E  ...  0.701679  0.595507   \n",
       "1   5    A    B    A    C    B    D    A    E    C  ...  0.277480  0.479552   \n",
       "2  15    A    B    A    C    B    D    A    E    C  ...  0.279508  0.676395   \n",
       "3  16    A    A    B    A    B    D    A    E    E  ...  0.479503  0.759875   \n",
       "4  17    A    B    A    A    B    B    A    E    E  ...  0.757845  0.210232   \n",
       "\n",
       "      cont6     cont7     cont8     cont9    cont10    cont11    cont12  \\\n",
       "0 -0.467832  0.279884 -0.960400  0.242654  0.285147  0.264308  0.653654   \n",
       "1 -0.047920  0.476742  1.855678  0.516393  0.562065  0.730542  0.318492   \n",
       "2  1.083683  0.253316  0.693966  0.548555  0.836193  0.759788  0.333572   \n",
       "3 -0.645878  0.298074  0.072737  0.596746  0.414131  0.255382  0.589080   \n",
       "4 -0.304696  0.616663 -1.096976  0.263235  0.710961  0.224045  0.285860   \n",
       "\n",
       "     cont13  \n",
       "0  0.302448  \n",
       "1  0.736251  \n",
       "2  0.273905  \n",
       "3  0.311625  \n",
       "4  0.794931  \n",
       "\n",
       "[5 rows x 25 columns]"
      ]
     },
     "execution_count": 52,
     "metadata": {},
     "output_type": "execute_result"
    }
   ],
   "source": [
    "# Scale continuous features - robust scaler\n",
    "\n",
    "r_scaler = RobustScaler() \n",
    "r_scaler.fit(test_df[robust])\n",
    "test_df[robust] = r_scaler.transform(test_df[robust])\n",
    "test_df.head()"
   ]
  },
  {
   "cell_type": "code",
   "execution_count": 53,
   "id": "sustainable-assembly",
   "metadata": {},
   "outputs": [
    {
     "data": {
      "text/html": [
       "<div>\n",
       "<style scoped>\n",
       "    .dataframe tbody tr th:only-of-type {\n",
       "        vertical-align: middle;\n",
       "    }\n",
       "\n",
       "    .dataframe tbody tr th {\n",
       "        vertical-align: top;\n",
       "    }\n",
       "\n",
       "    .dataframe thead th {\n",
       "        text-align: right;\n",
       "    }\n",
       "</style>\n",
       "<table border=\"1\" class=\"dataframe\">\n",
       "  <thead>\n",
       "    <tr style=\"text-align: right;\">\n",
       "      <th></th>\n",
       "      <th>id</th>\n",
       "      <th>cat0</th>\n",
       "      <th>cat1</th>\n",
       "      <th>cat2</th>\n",
       "      <th>cat3</th>\n",
       "      <th>cat4</th>\n",
       "      <th>cat5</th>\n",
       "      <th>cat6</th>\n",
       "      <th>cat7</th>\n",
       "      <th>cat8</th>\n",
       "      <th>...</th>\n",
       "      <th>cont4</th>\n",
       "      <th>cont5</th>\n",
       "      <th>cont6</th>\n",
       "      <th>cont7</th>\n",
       "      <th>cont8</th>\n",
       "      <th>cont9</th>\n",
       "      <th>cont10</th>\n",
       "      <th>cont11</th>\n",
       "      <th>cont12</th>\n",
       "      <th>cont13</th>\n",
       "    </tr>\n",
       "  </thead>\n",
       "  <tbody>\n",
       "    <tr>\n",
       "      <th>0</th>\n",
       "      <td>0</td>\n",
       "      <td>A</td>\n",
       "      <td>B</td>\n",
       "      <td>A</td>\n",
       "      <td>C</td>\n",
       "      <td>B</td>\n",
       "      <td>D</td>\n",
       "      <td>A</td>\n",
       "      <td>E</td>\n",
       "      <td>E</td>\n",
       "      <td>...</td>\n",
       "      <td>0.646458</td>\n",
       "      <td>0.594293</td>\n",
       "      <td>-0.467832</td>\n",
       "      <td>0.082901</td>\n",
       "      <td>-0.960400</td>\n",
       "      <td>0.181973</td>\n",
       "      <td>0.230258</td>\n",
       "      <td>0.200179</td>\n",
       "      <td>0.672012</td>\n",
       "      <td>0.202090</td>\n",
       "    </tr>\n",
       "    <tr>\n",
       "      <th>1</th>\n",
       "      <td>5</td>\n",
       "      <td>A</td>\n",
       "      <td>B</td>\n",
       "      <td>A</td>\n",
       "      <td>C</td>\n",
       "      <td>B</td>\n",
       "      <td>D</td>\n",
       "      <td>A</td>\n",
       "      <td>E</td>\n",
       "      <td>C</td>\n",
       "      <td>...</td>\n",
       "      <td>0.110513</td>\n",
       "      <td>0.488834</td>\n",
       "      <td>-0.047920</td>\n",
       "      <td>0.318204</td>\n",
       "      <td>1.855678</td>\n",
       "      <td>0.493316</td>\n",
       "      <td>0.515667</td>\n",
       "      <td>0.681469</td>\n",
       "      <td>0.320500</td>\n",
       "      <td>0.801660</td>\n",
       "    </tr>\n",
       "    <tr>\n",
       "      <th>2</th>\n",
       "      <td>15</td>\n",
       "      <td>A</td>\n",
       "      <td>B</td>\n",
       "      <td>A</td>\n",
       "      <td>C</td>\n",
       "      <td>B</td>\n",
       "      <td>D</td>\n",
       "      <td>A</td>\n",
       "      <td>E</td>\n",
       "      <td>C</td>\n",
       "      <td>...</td>\n",
       "      <td>0.113075</td>\n",
       "      <td>0.667858</td>\n",
       "      <td>1.083683</td>\n",
       "      <td>0.051145</td>\n",
       "      <td>0.693966</td>\n",
       "      <td>0.529895</td>\n",
       "      <td>0.798202</td>\n",
       "      <td>0.711660</td>\n",
       "      <td>0.336316</td>\n",
       "      <td>0.162641</td>\n",
       "    </tr>\n",
       "    <tr>\n",
       "      <th>3</th>\n",
       "      <td>16</td>\n",
       "      <td>A</td>\n",
       "      <td>A</td>\n",
       "      <td>B</td>\n",
       "      <td>A</td>\n",
       "      <td>B</td>\n",
       "      <td>D</td>\n",
       "      <td>A</td>\n",
       "      <td>E</td>\n",
       "      <td>E</td>\n",
       "      <td>...</td>\n",
       "      <td>0.365754</td>\n",
       "      <td>0.743781</td>\n",
       "      <td>-0.645878</td>\n",
       "      <td>0.104644</td>\n",
       "      <td>0.072737</td>\n",
       "      <td>0.584707</td>\n",
       "      <td>0.363196</td>\n",
       "      <td>0.190965</td>\n",
       "      <td>0.604288</td>\n",
       "      <td>0.214774</td>\n",
       "    </tr>\n",
       "    <tr>\n",
       "      <th>4</th>\n",
       "      <td>17</td>\n",
       "      <td>A</td>\n",
       "      <td>B</td>\n",
       "      <td>A</td>\n",
       "      <td>A</td>\n",
       "      <td>B</td>\n",
       "      <td>B</td>\n",
       "      <td>A</td>\n",
       "      <td>E</td>\n",
       "      <td>E</td>\n",
       "      <td>...</td>\n",
       "      <td>0.717419</td>\n",
       "      <td>0.243894</td>\n",
       "      <td>-0.304696</td>\n",
       "      <td>0.485452</td>\n",
       "      <td>-1.096976</td>\n",
       "      <td>0.205381</td>\n",
       "      <td>0.669130</td>\n",
       "      <td>0.158616</td>\n",
       "      <td>0.286277</td>\n",
       "      <td>0.882763</td>\n",
       "    </tr>\n",
       "  </tbody>\n",
       "</table>\n",
       "<p>5 rows × 25 columns</p>\n",
       "</div>"
      ],
      "text/plain": [
       "   id cat0 cat1 cat2 cat3 cat4 cat5 cat6 cat7 cat8  ...     cont4     cont5  \\\n",
       "0   0    A    B    A    C    B    D    A    E    E  ...  0.646458  0.594293   \n",
       "1   5    A    B    A    C    B    D    A    E    C  ...  0.110513  0.488834   \n",
       "2  15    A    B    A    C    B    D    A    E    C  ...  0.113075  0.667858   \n",
       "3  16    A    A    B    A    B    D    A    E    E  ...  0.365754  0.743781   \n",
       "4  17    A    B    A    A    B    B    A    E    E  ...  0.717419  0.243894   \n",
       "\n",
       "      cont6     cont7     cont8     cont9    cont10    cont11    cont12  \\\n",
       "0 -0.467832  0.082901 -0.960400  0.181973  0.230258  0.200179  0.672012   \n",
       "1 -0.047920  0.318204  1.855678  0.493316  0.515667  0.681469  0.320500   \n",
       "2  1.083683  0.051145  0.693966  0.529895  0.798202  0.711660  0.336316   \n",
       "3 -0.645878  0.104644  0.072737  0.584707  0.363196  0.190965  0.604288   \n",
       "4 -0.304696  0.485452 -1.096976  0.205381  0.669130  0.158616  0.286277   \n",
       "\n",
       "     cont13  \n",
       "0  0.202090  \n",
       "1  0.801660  \n",
       "2  0.162641  \n",
       "3  0.214774  \n",
       "4  0.882763  \n",
       "\n",
       "[5 rows x 25 columns]"
      ]
     },
     "execution_count": 53,
     "metadata": {},
     "output_type": "execute_result"
    }
   ],
   "source": [
    "# Scale continuous features - MinMax scaler\n",
    "\n",
    "mm_scaler = MinMaxScaler()\n",
    "mm_scaler.fit(test_df[min_max])\n",
    "test_df[min_max] = mm_scaler.transform(test_df[min_max])\n",
    "test_df.head()"
   ]
  },
  {
   "cell_type": "code",
   "execution_count": 54,
   "id": "visible-synthesis",
   "metadata": {},
   "outputs": [
    {
     "data": {
      "text/plain": [
       "array(['A', 'B'], dtype=object)"
      ]
     },
     "execution_count": 54,
     "metadata": {},
     "output_type": "execute_result"
    }
   ],
   "source": [
    "# Encode categorical features\n",
    "\n",
    "test_df.cat0.unique()"
   ]
  },
  {
   "cell_type": "code",
   "execution_count": 55,
   "id": "banned-thought",
   "metadata": {},
   "outputs": [
    {
     "data": {
      "text/html": [
       "<div>\n",
       "<style scoped>\n",
       "    .dataframe tbody tr th:only-of-type {\n",
       "        vertical-align: middle;\n",
       "    }\n",
       "\n",
       "    .dataframe tbody tr th {\n",
       "        vertical-align: top;\n",
       "    }\n",
       "\n",
       "    .dataframe thead th {\n",
       "        text-align: right;\n",
       "    }\n",
       "</style>\n",
       "<table border=\"1\" class=\"dataframe\">\n",
       "  <thead>\n",
       "    <tr style=\"text-align: right;\">\n",
       "      <th></th>\n",
       "      <th>id</th>\n",
       "      <th>cat1</th>\n",
       "      <th>cat2</th>\n",
       "      <th>cat3</th>\n",
       "      <th>cat4</th>\n",
       "      <th>cat5</th>\n",
       "      <th>cat6</th>\n",
       "      <th>cat7</th>\n",
       "      <th>cat8</th>\n",
       "      <th>cat9</th>\n",
       "      <th>...</th>\n",
       "      <th>cont6</th>\n",
       "      <th>cont7</th>\n",
       "      <th>cont8</th>\n",
       "      <th>cont9</th>\n",
       "      <th>cont10</th>\n",
       "      <th>cont11</th>\n",
       "      <th>cont12</th>\n",
       "      <th>cont13</th>\n",
       "      <th>cat0_a</th>\n",
       "      <th>cat0_b</th>\n",
       "    </tr>\n",
       "  </thead>\n",
       "  <tbody>\n",
       "    <tr>\n",
       "      <th>0</th>\n",
       "      <td>0</td>\n",
       "      <td>B</td>\n",
       "      <td>A</td>\n",
       "      <td>C</td>\n",
       "      <td>B</td>\n",
       "      <td>D</td>\n",
       "      <td>A</td>\n",
       "      <td>E</td>\n",
       "      <td>E</td>\n",
       "      <td>G</td>\n",
       "      <td>...</td>\n",
       "      <td>-0.467832</td>\n",
       "      <td>0.082901</td>\n",
       "      <td>-0.960400</td>\n",
       "      <td>0.181973</td>\n",
       "      <td>0.230258</td>\n",
       "      <td>0.200179</td>\n",
       "      <td>0.672012</td>\n",
       "      <td>0.202090</td>\n",
       "      <td>1.0</td>\n",
       "      <td>0.0</td>\n",
       "    </tr>\n",
       "    <tr>\n",
       "      <th>1</th>\n",
       "      <td>5</td>\n",
       "      <td>B</td>\n",
       "      <td>A</td>\n",
       "      <td>C</td>\n",
       "      <td>B</td>\n",
       "      <td>D</td>\n",
       "      <td>A</td>\n",
       "      <td>E</td>\n",
       "      <td>C</td>\n",
       "      <td>L</td>\n",
       "      <td>...</td>\n",
       "      <td>-0.047920</td>\n",
       "      <td>0.318204</td>\n",
       "      <td>1.855678</td>\n",
       "      <td>0.493316</td>\n",
       "      <td>0.515667</td>\n",
       "      <td>0.681469</td>\n",
       "      <td>0.320500</td>\n",
       "      <td>0.801660</td>\n",
       "      <td>1.0</td>\n",
       "      <td>0.0</td>\n",
       "    </tr>\n",
       "    <tr>\n",
       "      <th>2</th>\n",
       "      <td>15</td>\n",
       "      <td>B</td>\n",
       "      <td>A</td>\n",
       "      <td>C</td>\n",
       "      <td>B</td>\n",
       "      <td>D</td>\n",
       "      <td>A</td>\n",
       "      <td>E</td>\n",
       "      <td>C</td>\n",
       "      <td>F</td>\n",
       "      <td>...</td>\n",
       "      <td>1.083683</td>\n",
       "      <td>0.051145</td>\n",
       "      <td>0.693966</td>\n",
       "      <td>0.529895</td>\n",
       "      <td>0.798202</td>\n",
       "      <td>0.711660</td>\n",
       "      <td>0.336316</td>\n",
       "      <td>0.162641</td>\n",
       "      <td>1.0</td>\n",
       "      <td>0.0</td>\n",
       "    </tr>\n",
       "    <tr>\n",
       "      <th>3</th>\n",
       "      <td>16</td>\n",
       "      <td>A</td>\n",
       "      <td>B</td>\n",
       "      <td>A</td>\n",
       "      <td>B</td>\n",
       "      <td>D</td>\n",
       "      <td>A</td>\n",
       "      <td>E</td>\n",
       "      <td>E</td>\n",
       "      <td>F</td>\n",
       "      <td>...</td>\n",
       "      <td>-0.645878</td>\n",
       "      <td>0.104644</td>\n",
       "      <td>0.072737</td>\n",
       "      <td>0.584707</td>\n",
       "      <td>0.363196</td>\n",
       "      <td>0.190965</td>\n",
       "      <td>0.604288</td>\n",
       "      <td>0.214774</td>\n",
       "      <td>1.0</td>\n",
       "      <td>0.0</td>\n",
       "    </tr>\n",
       "    <tr>\n",
       "      <th>4</th>\n",
       "      <td>17</td>\n",
       "      <td>B</td>\n",
       "      <td>A</td>\n",
       "      <td>A</td>\n",
       "      <td>B</td>\n",
       "      <td>B</td>\n",
       "      <td>A</td>\n",
       "      <td>E</td>\n",
       "      <td>E</td>\n",
       "      <td>I</td>\n",
       "      <td>...</td>\n",
       "      <td>-0.304696</td>\n",
       "      <td>0.485452</td>\n",
       "      <td>-1.096976</td>\n",
       "      <td>0.205381</td>\n",
       "      <td>0.669130</td>\n",
       "      <td>0.158616</td>\n",
       "      <td>0.286277</td>\n",
       "      <td>0.882763</td>\n",
       "      <td>1.0</td>\n",
       "      <td>0.0</td>\n",
       "    </tr>\n",
       "  </tbody>\n",
       "</table>\n",
       "<p>5 rows × 26 columns</p>\n",
       "</div>"
      ],
      "text/plain": [
       "   id cat1 cat2 cat3 cat4 cat5 cat6 cat7 cat8 cat9  ...     cont6     cont7  \\\n",
       "0   0    B    A    C    B    D    A    E    E    G  ... -0.467832  0.082901   \n",
       "1   5    B    A    C    B    D    A    E    C    L  ... -0.047920  0.318204   \n",
       "2  15    B    A    C    B    D    A    E    C    F  ...  1.083683  0.051145   \n",
       "3  16    A    B    A    B    D    A    E    E    F  ... -0.645878  0.104644   \n",
       "4  17    B    A    A    B    B    A    E    E    I  ... -0.304696  0.485452   \n",
       "\n",
       "      cont8     cont9    cont10    cont11    cont12    cont13  cat0_a  cat0_b  \n",
       "0 -0.960400  0.181973  0.230258  0.200179  0.672012  0.202090     1.0     0.0  \n",
       "1  1.855678  0.493316  0.515667  0.681469  0.320500  0.801660     1.0     0.0  \n",
       "2  0.693966  0.529895  0.798202  0.711660  0.336316  0.162641     1.0     0.0  \n",
       "3  0.072737  0.584707  0.363196  0.190965  0.604288  0.214774     1.0     0.0  \n",
       "4 -1.096976  0.205381  0.669130  0.158616  0.286277  0.882763     1.0     0.0  \n",
       "\n",
       "[5 rows x 26 columns]"
      ]
     },
     "execution_count": 55,
     "metadata": {},
     "output_type": "execute_result"
    }
   ],
   "source": [
    "ohe0 = OneHotEncoder(sparse = False) \n",
    "ohe0.fit(test_df[['cat0']])\n",
    "cat0_encoded = ohe0.transform(test_df[['cat0']]) \n",
    "test_df['cat0_a'],test_df[\"cat0_b\"] = cat0_encoded.T \n",
    "test_df.drop(columns='cat0', inplace=True)\n",
    "test_df.head()"
   ]
  },
  {
   "cell_type": "code",
   "execution_count": 56,
   "id": "expensive-sense",
   "metadata": {},
   "outputs": [
    {
     "data": {
      "text/plain": [
       "array(['B', 'A'], dtype=object)"
      ]
     },
     "execution_count": 56,
     "metadata": {},
     "output_type": "execute_result"
    }
   ],
   "source": [
    "test_df.cat1.unique()"
   ]
  },
  {
   "cell_type": "code",
   "execution_count": 57,
   "id": "comparable-checkout",
   "metadata": {},
   "outputs": [
    {
     "data": {
      "text/html": [
       "<div>\n",
       "<style scoped>\n",
       "    .dataframe tbody tr th:only-of-type {\n",
       "        vertical-align: middle;\n",
       "    }\n",
       "\n",
       "    .dataframe tbody tr th {\n",
       "        vertical-align: top;\n",
       "    }\n",
       "\n",
       "    .dataframe thead th {\n",
       "        text-align: right;\n",
       "    }\n",
       "</style>\n",
       "<table border=\"1\" class=\"dataframe\">\n",
       "  <thead>\n",
       "    <tr style=\"text-align: right;\">\n",
       "      <th></th>\n",
       "      <th>id</th>\n",
       "      <th>cat2</th>\n",
       "      <th>cat3</th>\n",
       "      <th>cat4</th>\n",
       "      <th>cat5</th>\n",
       "      <th>cat6</th>\n",
       "      <th>cat7</th>\n",
       "      <th>cat8</th>\n",
       "      <th>cat9</th>\n",
       "      <th>cont0</th>\n",
       "      <th>...</th>\n",
       "      <th>cont8</th>\n",
       "      <th>cont9</th>\n",
       "      <th>cont10</th>\n",
       "      <th>cont11</th>\n",
       "      <th>cont12</th>\n",
       "      <th>cont13</th>\n",
       "      <th>cat0_a</th>\n",
       "      <th>cat0_b</th>\n",
       "      <th>cat1_a</th>\n",
       "      <th>cat1_b</th>\n",
       "    </tr>\n",
       "  </thead>\n",
       "  <tbody>\n",
       "    <tr>\n",
       "      <th>0</th>\n",
       "      <td>0</td>\n",
       "      <td>A</td>\n",
       "      <td>C</td>\n",
       "      <td>B</td>\n",
       "      <td>D</td>\n",
       "      <td>A</td>\n",
       "      <td>E</td>\n",
       "      <td>E</td>\n",
       "      <td>G</td>\n",
       "      <td>-0.567908</td>\n",
       "      <td>...</td>\n",
       "      <td>-0.960400</td>\n",
       "      <td>0.181973</td>\n",
       "      <td>0.230258</td>\n",
       "      <td>0.200179</td>\n",
       "      <td>0.672012</td>\n",
       "      <td>0.202090</td>\n",
       "      <td>1.0</td>\n",
       "      <td>0.0</td>\n",
       "      <td>0.0</td>\n",
       "      <td>1.0</td>\n",
       "    </tr>\n",
       "    <tr>\n",
       "      <th>1</th>\n",
       "      <td>5</td>\n",
       "      <td>A</td>\n",
       "      <td>C</td>\n",
       "      <td>B</td>\n",
       "      <td>D</td>\n",
       "      <td>A</td>\n",
       "      <td>E</td>\n",
       "      <td>C</td>\n",
       "      <td>L</td>\n",
       "      <td>-0.317526</td>\n",
       "      <td>...</td>\n",
       "      <td>1.855678</td>\n",
       "      <td>0.493316</td>\n",
       "      <td>0.515667</td>\n",
       "      <td>0.681469</td>\n",
       "      <td>0.320500</td>\n",
       "      <td>0.801660</td>\n",
       "      <td>1.0</td>\n",
       "      <td>0.0</td>\n",
       "      <td>0.0</td>\n",
       "      <td>1.0</td>\n",
       "    </tr>\n",
       "    <tr>\n",
       "      <th>2</th>\n",
       "      <td>15</td>\n",
       "      <td>A</td>\n",
       "      <td>C</td>\n",
       "      <td>B</td>\n",
       "      <td>D</td>\n",
       "      <td>A</td>\n",
       "      <td>E</td>\n",
       "      <td>C</td>\n",
       "      <td>F</td>\n",
       "      <td>0.133915</td>\n",
       "      <td>...</td>\n",
       "      <td>0.693966</td>\n",
       "      <td>0.529895</td>\n",
       "      <td>0.798202</td>\n",
       "      <td>0.711660</td>\n",
       "      <td>0.336316</td>\n",
       "      <td>0.162641</td>\n",
       "      <td>1.0</td>\n",
       "      <td>0.0</td>\n",
       "      <td>0.0</td>\n",
       "      <td>1.0</td>\n",
       "    </tr>\n",
       "    <tr>\n",
       "      <th>3</th>\n",
       "      <td>16</td>\n",
       "      <td>B</td>\n",
       "      <td>A</td>\n",
       "      <td>B</td>\n",
       "      <td>D</td>\n",
       "      <td>A</td>\n",
       "      <td>E</td>\n",
       "      <td>E</td>\n",
       "      <td>F</td>\n",
       "      <td>-0.186435</td>\n",
       "      <td>...</td>\n",
       "      <td>0.072737</td>\n",
       "      <td>0.584707</td>\n",
       "      <td>0.363196</td>\n",
       "      <td>0.190965</td>\n",
       "      <td>0.604288</td>\n",
       "      <td>0.214774</td>\n",
       "      <td>1.0</td>\n",
       "      <td>0.0</td>\n",
       "      <td>1.0</td>\n",
       "      <td>0.0</td>\n",
       "    </tr>\n",
       "    <tr>\n",
       "      <th>4</th>\n",
       "      <td>17</td>\n",
       "      <td>A</td>\n",
       "      <td>A</td>\n",
       "      <td>B</td>\n",
       "      <td>B</td>\n",
       "      <td>A</td>\n",
       "      <td>E</td>\n",
       "      <td>E</td>\n",
       "      <td>I</td>\n",
       "      <td>-0.361730</td>\n",
       "      <td>...</td>\n",
       "      <td>-1.096976</td>\n",
       "      <td>0.205381</td>\n",
       "      <td>0.669130</td>\n",
       "      <td>0.158616</td>\n",
       "      <td>0.286277</td>\n",
       "      <td>0.882763</td>\n",
       "      <td>1.0</td>\n",
       "      <td>0.0</td>\n",
       "      <td>0.0</td>\n",
       "      <td>1.0</td>\n",
       "    </tr>\n",
       "  </tbody>\n",
       "</table>\n",
       "<p>5 rows × 27 columns</p>\n",
       "</div>"
      ],
      "text/plain": [
       "   id cat2 cat3 cat4 cat5 cat6 cat7 cat8 cat9     cont0  ...     cont8  \\\n",
       "0   0    A    C    B    D    A    E    E    G -0.567908  ... -0.960400   \n",
       "1   5    A    C    B    D    A    E    C    L -0.317526  ...  1.855678   \n",
       "2  15    A    C    B    D    A    E    C    F  0.133915  ...  0.693966   \n",
       "3  16    B    A    B    D    A    E    E    F -0.186435  ...  0.072737   \n",
       "4  17    A    A    B    B    A    E    E    I -0.361730  ... -1.096976   \n",
       "\n",
       "      cont9    cont10    cont11    cont12    cont13  cat0_a  cat0_b  cat1_a  \\\n",
       "0  0.181973  0.230258  0.200179  0.672012  0.202090     1.0     0.0     0.0   \n",
       "1  0.493316  0.515667  0.681469  0.320500  0.801660     1.0     0.0     0.0   \n",
       "2  0.529895  0.798202  0.711660  0.336316  0.162641     1.0     0.0     0.0   \n",
       "3  0.584707  0.363196  0.190965  0.604288  0.214774     1.0     0.0     1.0   \n",
       "4  0.205381  0.669130  0.158616  0.286277  0.882763     1.0     0.0     0.0   \n",
       "\n",
       "   cat1_b  \n",
       "0     1.0  \n",
       "1     1.0  \n",
       "2     1.0  \n",
       "3     0.0  \n",
       "4     1.0  \n",
       "\n",
       "[5 rows x 27 columns]"
      ]
     },
     "execution_count": 57,
     "metadata": {},
     "output_type": "execute_result"
    }
   ],
   "source": [
    "ohe1 = OneHotEncoder(sparse = False) \n",
    "ohe1.fit(test_df[['cat1']])\n",
    "cat1_encoded = ohe1.transform(test_df[['cat1']]) \n",
    "test_df['cat1_a'],test_df[\"cat1_b\"] = cat1_encoded.T \n",
    "test_df.drop(columns='cat1', inplace=True)\n",
    "test_df.head()"
   ]
  },
  {
   "cell_type": "code",
   "execution_count": 58,
   "id": "hundred-employee",
   "metadata": {},
   "outputs": [
    {
     "data": {
      "text/plain": [
       "array(['A', 'B'], dtype=object)"
      ]
     },
     "execution_count": 58,
     "metadata": {},
     "output_type": "execute_result"
    }
   ],
   "source": [
    "test_df.cat2.unique()"
   ]
  },
  {
   "cell_type": "code",
   "execution_count": 59,
   "id": "naval-panama",
   "metadata": {},
   "outputs": [
    {
     "data": {
      "text/html": [
       "<div>\n",
       "<style scoped>\n",
       "    .dataframe tbody tr th:only-of-type {\n",
       "        vertical-align: middle;\n",
       "    }\n",
       "\n",
       "    .dataframe tbody tr th {\n",
       "        vertical-align: top;\n",
       "    }\n",
       "\n",
       "    .dataframe thead th {\n",
       "        text-align: right;\n",
       "    }\n",
       "</style>\n",
       "<table border=\"1\" class=\"dataframe\">\n",
       "  <thead>\n",
       "    <tr style=\"text-align: right;\">\n",
       "      <th></th>\n",
       "      <th>id</th>\n",
       "      <th>cat3</th>\n",
       "      <th>cat4</th>\n",
       "      <th>cat5</th>\n",
       "      <th>cat6</th>\n",
       "      <th>cat7</th>\n",
       "      <th>cat8</th>\n",
       "      <th>cat9</th>\n",
       "      <th>cont0</th>\n",
       "      <th>cont1</th>\n",
       "      <th>...</th>\n",
       "      <th>cont10</th>\n",
       "      <th>cont11</th>\n",
       "      <th>cont12</th>\n",
       "      <th>cont13</th>\n",
       "      <th>cat0_a</th>\n",
       "      <th>cat0_b</th>\n",
       "      <th>cat1_a</th>\n",
       "      <th>cat1_b</th>\n",
       "      <th>cat2_a</th>\n",
       "      <th>cat2_b</th>\n",
       "    </tr>\n",
       "  </thead>\n",
       "  <tbody>\n",
       "    <tr>\n",
       "      <th>0</th>\n",
       "      <td>0</td>\n",
       "      <td>C</td>\n",
       "      <td>B</td>\n",
       "      <td>D</td>\n",
       "      <td>A</td>\n",
       "      <td>E</td>\n",
       "      <td>E</td>\n",
       "      <td>G</td>\n",
       "      <td>-0.567908</td>\n",
       "      <td>0.670395</td>\n",
       "      <td>...</td>\n",
       "      <td>0.230258</td>\n",
       "      <td>0.200179</td>\n",
       "      <td>0.672012</td>\n",
       "      <td>0.202090</td>\n",
       "      <td>1.0</td>\n",
       "      <td>0.0</td>\n",
       "      <td>0.0</td>\n",
       "      <td>1.0</td>\n",
       "      <td>1.0</td>\n",
       "      <td>0.0</td>\n",
       "    </tr>\n",
       "    <tr>\n",
       "      <th>1</th>\n",
       "      <td>5</td>\n",
       "      <td>C</td>\n",
       "      <td>B</td>\n",
       "      <td>D</td>\n",
       "      <td>A</td>\n",
       "      <td>E</td>\n",
       "      <td>C</td>\n",
       "      <td>L</td>\n",
       "      <td>-0.317526</td>\n",
       "      <td>0.744706</td>\n",
       "      <td>...</td>\n",
       "      <td>0.515667</td>\n",
       "      <td>0.681469</td>\n",
       "      <td>0.320500</td>\n",
       "      <td>0.801660</td>\n",
       "      <td>1.0</td>\n",
       "      <td>0.0</td>\n",
       "      <td>0.0</td>\n",
       "      <td>1.0</td>\n",
       "      <td>1.0</td>\n",
       "      <td>0.0</td>\n",
       "    </tr>\n",
       "    <tr>\n",
       "      <th>2</th>\n",
       "      <td>15</td>\n",
       "      <td>C</td>\n",
       "      <td>B</td>\n",
       "      <td>D</td>\n",
       "      <td>A</td>\n",
       "      <td>E</td>\n",
       "      <td>C</td>\n",
       "      <td>F</td>\n",
       "      <td>0.133915</td>\n",
       "      <td>0.745355</td>\n",
       "      <td>...</td>\n",
       "      <td>0.798202</td>\n",
       "      <td>0.711660</td>\n",
       "      <td>0.336316</td>\n",
       "      <td>0.162641</td>\n",
       "      <td>1.0</td>\n",
       "      <td>0.0</td>\n",
       "      <td>0.0</td>\n",
       "      <td>1.0</td>\n",
       "      <td>1.0</td>\n",
       "      <td>0.0</td>\n",
       "    </tr>\n",
       "    <tr>\n",
       "      <th>3</th>\n",
       "      <td>16</td>\n",
       "      <td>A</td>\n",
       "      <td>B</td>\n",
       "      <td>D</td>\n",
       "      <td>A</td>\n",
       "      <td>E</td>\n",
       "      <td>E</td>\n",
       "      <td>F</td>\n",
       "      <td>-0.186435</td>\n",
       "      <td>0.599089</td>\n",
       "      <td>...</td>\n",
       "      <td>0.363196</td>\n",
       "      <td>0.190965</td>\n",
       "      <td>0.604288</td>\n",
       "      <td>0.214774</td>\n",
       "      <td>1.0</td>\n",
       "      <td>0.0</td>\n",
       "      <td>1.0</td>\n",
       "      <td>0.0</td>\n",
       "      <td>0.0</td>\n",
       "      <td>1.0</td>\n",
       "    </tr>\n",
       "    <tr>\n",
       "      <th>4</th>\n",
       "      <td>17</td>\n",
       "      <td>A</td>\n",
       "      <td>B</td>\n",
       "      <td>B</td>\n",
       "      <td>A</td>\n",
       "      <td>E</td>\n",
       "      <td>E</td>\n",
       "      <td>I</td>\n",
       "      <td>-0.361730</td>\n",
       "      <td>0.895997</td>\n",
       "      <td>...</td>\n",
       "      <td>0.669130</td>\n",
       "      <td>0.158616</td>\n",
       "      <td>0.286277</td>\n",
       "      <td>0.882763</td>\n",
       "      <td>1.0</td>\n",
       "      <td>0.0</td>\n",
       "      <td>0.0</td>\n",
       "      <td>1.0</td>\n",
       "      <td>1.0</td>\n",
       "      <td>0.0</td>\n",
       "    </tr>\n",
       "  </tbody>\n",
       "</table>\n",
       "<p>5 rows × 28 columns</p>\n",
       "</div>"
      ],
      "text/plain": [
       "   id cat3 cat4 cat5 cat6 cat7 cat8 cat9     cont0     cont1  ...    cont10  \\\n",
       "0   0    C    B    D    A    E    E    G -0.567908  0.670395  ...  0.230258   \n",
       "1   5    C    B    D    A    E    C    L -0.317526  0.744706  ...  0.515667   \n",
       "2  15    C    B    D    A    E    C    F  0.133915  0.745355  ...  0.798202   \n",
       "3  16    A    B    D    A    E    E    F -0.186435  0.599089  ...  0.363196   \n",
       "4  17    A    B    B    A    E    E    I -0.361730  0.895997  ...  0.669130   \n",
       "\n",
       "     cont11    cont12    cont13  cat0_a  cat0_b  cat1_a  cat1_b  cat2_a  \\\n",
       "0  0.200179  0.672012  0.202090     1.0     0.0     0.0     1.0     1.0   \n",
       "1  0.681469  0.320500  0.801660     1.0     0.0     0.0     1.0     1.0   \n",
       "2  0.711660  0.336316  0.162641     1.0     0.0     0.0     1.0     1.0   \n",
       "3  0.190965  0.604288  0.214774     1.0     0.0     1.0     0.0     0.0   \n",
       "4  0.158616  0.286277  0.882763     1.0     0.0     0.0     1.0     1.0   \n",
       "\n",
       "   cat2_b  \n",
       "0     0.0  \n",
       "1     0.0  \n",
       "2     0.0  \n",
       "3     1.0  \n",
       "4     0.0  \n",
       "\n",
       "[5 rows x 28 columns]"
      ]
     },
     "execution_count": 59,
     "metadata": {},
     "output_type": "execute_result"
    }
   ],
   "source": [
    "ohe2 = OneHotEncoder(sparse = False) \n",
    "ohe2.fit(test_df[['cat2']])\n",
    "cat2_encoded = ohe2.transform(test_df[['cat2']]) \n",
    "test_df['cat2_a'],test_df[\"cat2_b\"] = cat2_encoded.T \n",
    "test_df.drop(columns='cat2', inplace=True)\n",
    "test_df.head()"
   ]
  },
  {
   "cell_type": "code",
   "execution_count": 60,
   "id": "bulgarian-fountain",
   "metadata": {},
   "outputs": [
    {
     "data": {
      "text/plain": [
       "array(['C', 'A', 'D', 'B'], dtype=object)"
      ]
     },
     "execution_count": 60,
     "metadata": {},
     "output_type": "execute_result"
    }
   ],
   "source": [
    "test_df.cat3.unique()"
   ]
  },
  {
   "cell_type": "code",
   "execution_count": 61,
   "id": "interior-summit",
   "metadata": {},
   "outputs": [
    {
     "data": {
      "text/html": [
       "<div>\n",
       "<style scoped>\n",
       "    .dataframe tbody tr th:only-of-type {\n",
       "        vertical-align: middle;\n",
       "    }\n",
       "\n",
       "    .dataframe tbody tr th {\n",
       "        vertical-align: top;\n",
       "    }\n",
       "\n",
       "    .dataframe thead th {\n",
       "        text-align: right;\n",
       "    }\n",
       "</style>\n",
       "<table border=\"1\" class=\"dataframe\">\n",
       "  <thead>\n",
       "    <tr style=\"text-align: right;\">\n",
       "      <th></th>\n",
       "      <th>id</th>\n",
       "      <th>cat4</th>\n",
       "      <th>cat5</th>\n",
       "      <th>cat6</th>\n",
       "      <th>cat7</th>\n",
       "      <th>cat8</th>\n",
       "      <th>cat9</th>\n",
       "      <th>cont0</th>\n",
       "      <th>cont1</th>\n",
       "      <th>cont2</th>\n",
       "      <th>...</th>\n",
       "      <th>cat0_a</th>\n",
       "      <th>cat0_b</th>\n",
       "      <th>cat1_a</th>\n",
       "      <th>cat1_b</th>\n",
       "      <th>cat2_a</th>\n",
       "      <th>cat2_b</th>\n",
       "      <th>cat3_a</th>\n",
       "      <th>cat3_b</th>\n",
       "      <th>cat3_c</th>\n",
       "      <th>cat3_d</th>\n",
       "    </tr>\n",
       "  </thead>\n",
       "  <tbody>\n",
       "    <tr>\n",
       "      <th>0</th>\n",
       "      <td>0</td>\n",
       "      <td>B</td>\n",
       "      <td>D</td>\n",
       "      <td>A</td>\n",
       "      <td>E</td>\n",
       "      <td>E</td>\n",
       "      <td>G</td>\n",
       "      <td>-0.567908</td>\n",
       "      <td>0.670395</td>\n",
       "      <td>0.122399</td>\n",
       "      <td>...</td>\n",
       "      <td>1.0</td>\n",
       "      <td>0.0</td>\n",
       "      <td>0.0</td>\n",
       "      <td>1.0</td>\n",
       "      <td>1.0</td>\n",
       "      <td>0.0</td>\n",
       "      <td>0.0</td>\n",
       "      <td>0.0</td>\n",
       "      <td>1.0</td>\n",
       "      <td>0.0</td>\n",
       "    </tr>\n",
       "    <tr>\n",
       "      <th>1</th>\n",
       "      <td>5</td>\n",
       "      <td>B</td>\n",
       "      <td>D</td>\n",
       "      <td>A</td>\n",
       "      <td>E</td>\n",
       "      <td>C</td>\n",
       "      <td>L</td>\n",
       "      <td>-0.317526</td>\n",
       "      <td>0.744706</td>\n",
       "      <td>-0.666361</td>\n",
       "      <td>...</td>\n",
       "      <td>1.0</td>\n",
       "      <td>0.0</td>\n",
       "      <td>0.0</td>\n",
       "      <td>1.0</td>\n",
       "      <td>1.0</td>\n",
       "      <td>0.0</td>\n",
       "      <td>0.0</td>\n",
       "      <td>0.0</td>\n",
       "      <td>1.0</td>\n",
       "      <td>0.0</td>\n",
       "    </tr>\n",
       "    <tr>\n",
       "      <th>2</th>\n",
       "      <td>15</td>\n",
       "      <td>B</td>\n",
       "      <td>D</td>\n",
       "      <td>A</td>\n",
       "      <td>E</td>\n",
       "      <td>C</td>\n",
       "      <td>F</td>\n",
       "      <td>0.133915</td>\n",
       "      <td>0.745355</td>\n",
       "      <td>1.265707</td>\n",
       "      <td>...</td>\n",
       "      <td>1.0</td>\n",
       "      <td>0.0</td>\n",
       "      <td>0.0</td>\n",
       "      <td>1.0</td>\n",
       "      <td>1.0</td>\n",
       "      <td>0.0</td>\n",
       "      <td>0.0</td>\n",
       "      <td>0.0</td>\n",
       "      <td>1.0</td>\n",
       "      <td>0.0</td>\n",
       "    </tr>\n",
       "    <tr>\n",
       "      <th>3</th>\n",
       "      <td>16</td>\n",
       "      <td>B</td>\n",
       "      <td>D</td>\n",
       "      <td>A</td>\n",
       "      <td>E</td>\n",
       "      <td>E</td>\n",
       "      <td>F</td>\n",
       "      <td>-0.186435</td>\n",
       "      <td>0.599089</td>\n",
       "      <td>1.078007</td>\n",
       "      <td>...</td>\n",
       "      <td>1.0</td>\n",
       "      <td>0.0</td>\n",
       "      <td>1.0</td>\n",
       "      <td>0.0</td>\n",
       "      <td>0.0</td>\n",
       "      <td>1.0</td>\n",
       "      <td>1.0</td>\n",
       "      <td>0.0</td>\n",
       "      <td>0.0</td>\n",
       "      <td>0.0</td>\n",
       "    </tr>\n",
       "    <tr>\n",
       "      <th>4</th>\n",
       "      <td>17</td>\n",
       "      <td>B</td>\n",
       "      <td>B</td>\n",
       "      <td>A</td>\n",
       "      <td>E</td>\n",
       "      <td>E</td>\n",
       "      <td>I</td>\n",
       "      <td>-0.361730</td>\n",
       "      <td>0.895997</td>\n",
       "      <td>-0.589673</td>\n",
       "      <td>...</td>\n",
       "      <td>1.0</td>\n",
       "      <td>0.0</td>\n",
       "      <td>0.0</td>\n",
       "      <td>1.0</td>\n",
       "      <td>1.0</td>\n",
       "      <td>0.0</td>\n",
       "      <td>1.0</td>\n",
       "      <td>0.0</td>\n",
       "      <td>0.0</td>\n",
       "      <td>0.0</td>\n",
       "    </tr>\n",
       "  </tbody>\n",
       "</table>\n",
       "<p>5 rows × 31 columns</p>\n",
       "</div>"
      ],
      "text/plain": [
       "   id cat4 cat5 cat6 cat7 cat8 cat9     cont0     cont1     cont2  ...  \\\n",
       "0   0    B    D    A    E    E    G -0.567908  0.670395  0.122399  ...   \n",
       "1   5    B    D    A    E    C    L -0.317526  0.744706 -0.666361  ...   \n",
       "2  15    B    D    A    E    C    F  0.133915  0.745355  1.265707  ...   \n",
       "3  16    B    D    A    E    E    F -0.186435  0.599089  1.078007  ...   \n",
       "4  17    B    B    A    E    E    I -0.361730  0.895997 -0.589673  ...   \n",
       "\n",
       "   cat0_a  cat0_b  cat1_a  cat1_b  cat2_a  cat2_b  cat3_a  cat3_b  cat3_c  \\\n",
       "0     1.0     0.0     0.0     1.0     1.0     0.0     0.0     0.0     1.0   \n",
       "1     1.0     0.0     0.0     1.0     1.0     0.0     0.0     0.0     1.0   \n",
       "2     1.0     0.0     0.0     1.0     1.0     0.0     0.0     0.0     1.0   \n",
       "3     1.0     0.0     1.0     0.0     0.0     1.0     1.0     0.0     0.0   \n",
       "4     1.0     0.0     0.0     1.0     1.0     0.0     1.0     0.0     0.0   \n",
       "\n",
       "   cat3_d  \n",
       "0     0.0  \n",
       "1     0.0  \n",
       "2     0.0  \n",
       "3     0.0  \n",
       "4     0.0  \n",
       "\n",
       "[5 rows x 31 columns]"
      ]
     },
     "execution_count": 61,
     "metadata": {},
     "output_type": "execute_result"
    }
   ],
   "source": [
    "ohe3 = OneHotEncoder(sparse = False) \n",
    "ohe3.fit(test_df[['cat3']])\n",
    "cat3_encoded = ohe3.transform(test_df[['cat3']]) \n",
    "test_df['cat3_a'],test_df[\"cat3_b\"], test_df[\"cat3_c\"], test_df[\"cat3_d\"] = cat3_encoded.T \n",
    "test_df.drop(columns='cat3', inplace=True)\n",
    "test_df.head()"
   ]
  },
  {
   "cell_type": "code",
   "execution_count": 62,
   "id": "productive-atlas",
   "metadata": {},
   "outputs": [
    {
     "data": {
      "text/plain": [
       "array(['B', 'A', 'C', 'D'], dtype=object)"
      ]
     },
     "execution_count": 62,
     "metadata": {},
     "output_type": "execute_result"
    }
   ],
   "source": [
    "test_df.cat4.unique()"
   ]
  },
  {
   "cell_type": "code",
   "execution_count": 63,
   "id": "outer-school",
   "metadata": {},
   "outputs": [
    {
     "data": {
      "text/html": [
       "<div>\n",
       "<style scoped>\n",
       "    .dataframe tbody tr th:only-of-type {\n",
       "        vertical-align: middle;\n",
       "    }\n",
       "\n",
       "    .dataframe tbody tr th {\n",
       "        vertical-align: top;\n",
       "    }\n",
       "\n",
       "    .dataframe thead th {\n",
       "        text-align: right;\n",
       "    }\n",
       "</style>\n",
       "<table border=\"1\" class=\"dataframe\">\n",
       "  <thead>\n",
       "    <tr style=\"text-align: right;\">\n",
       "      <th></th>\n",
       "      <th>id</th>\n",
       "      <th>cat5</th>\n",
       "      <th>cat6</th>\n",
       "      <th>cat7</th>\n",
       "      <th>cat8</th>\n",
       "      <th>cat9</th>\n",
       "      <th>cont0</th>\n",
       "      <th>cont1</th>\n",
       "      <th>cont2</th>\n",
       "      <th>cont3</th>\n",
       "      <th>...</th>\n",
       "      <th>cat2_a</th>\n",
       "      <th>cat2_b</th>\n",
       "      <th>cat3_a</th>\n",
       "      <th>cat3_b</th>\n",
       "      <th>cat3_c</th>\n",
       "      <th>cat3_d</th>\n",
       "      <th>cat4_a</th>\n",
       "      <th>cat4_b</th>\n",
       "      <th>cat4_c</th>\n",
       "      <th>cat4_d</th>\n",
       "    </tr>\n",
       "  </thead>\n",
       "  <tbody>\n",
       "    <tr>\n",
       "      <th>0</th>\n",
       "      <td>0</td>\n",
       "      <td>D</td>\n",
       "      <td>A</td>\n",
       "      <td>E</td>\n",
       "      <td>E</td>\n",
       "      <td>G</td>\n",
       "      <td>-0.567908</td>\n",
       "      <td>0.670395</td>\n",
       "      <td>0.122399</td>\n",
       "      <td>0.023265</td>\n",
       "      <td>...</td>\n",
       "      <td>1.0</td>\n",
       "      <td>0.0</td>\n",
       "      <td>0.0</td>\n",
       "      <td>0.0</td>\n",
       "      <td>1.0</td>\n",
       "      <td>0.0</td>\n",
       "      <td>0.0</td>\n",
       "      <td>1.0</td>\n",
       "      <td>0.0</td>\n",
       "      <td>0.0</td>\n",
       "    </tr>\n",
       "    <tr>\n",
       "      <th>1</th>\n",
       "      <td>5</td>\n",
       "      <td>D</td>\n",
       "      <td>A</td>\n",
       "      <td>E</td>\n",
       "      <td>C</td>\n",
       "      <td>L</td>\n",
       "      <td>-0.317526</td>\n",
       "      <td>0.744706</td>\n",
       "      <td>-0.666361</td>\n",
       "      <td>0.059415</td>\n",
       "      <td>...</td>\n",
       "      <td>1.0</td>\n",
       "      <td>0.0</td>\n",
       "      <td>0.0</td>\n",
       "      <td>0.0</td>\n",
       "      <td>1.0</td>\n",
       "      <td>0.0</td>\n",
       "      <td>0.0</td>\n",
       "      <td>1.0</td>\n",
       "      <td>0.0</td>\n",
       "      <td>0.0</td>\n",
       "    </tr>\n",
       "    <tr>\n",
       "      <th>2</th>\n",
       "      <td>15</td>\n",
       "      <td>D</td>\n",
       "      <td>A</td>\n",
       "      <td>E</td>\n",
       "      <td>C</td>\n",
       "      <td>F</td>\n",
       "      <td>0.133915</td>\n",
       "      <td>0.745355</td>\n",
       "      <td>1.265707</td>\n",
       "      <td>0.073736</td>\n",
       "      <td>...</td>\n",
       "      <td>1.0</td>\n",
       "      <td>0.0</td>\n",
       "      <td>0.0</td>\n",
       "      <td>0.0</td>\n",
       "      <td>1.0</td>\n",
       "      <td>0.0</td>\n",
       "      <td>0.0</td>\n",
       "      <td>1.0</td>\n",
       "      <td>0.0</td>\n",
       "      <td>0.0</td>\n",
       "    </tr>\n",
       "    <tr>\n",
       "      <th>3</th>\n",
       "      <td>16</td>\n",
       "      <td>D</td>\n",
       "      <td>A</td>\n",
       "      <td>E</td>\n",
       "      <td>E</td>\n",
       "      <td>F</td>\n",
       "      <td>-0.186435</td>\n",
       "      <td>0.599089</td>\n",
       "      <td>1.078007</td>\n",
       "      <td>0.065598</td>\n",
       "      <td>...</td>\n",
       "      <td>0.0</td>\n",
       "      <td>1.0</td>\n",
       "      <td>1.0</td>\n",
       "      <td>0.0</td>\n",
       "      <td>0.0</td>\n",
       "      <td>0.0</td>\n",
       "      <td>0.0</td>\n",
       "      <td>1.0</td>\n",
       "      <td>0.0</td>\n",
       "      <td>0.0</td>\n",
       "    </tr>\n",
       "    <tr>\n",
       "      <th>4</th>\n",
       "      <td>17</td>\n",
       "      <td>B</td>\n",
       "      <td>A</td>\n",
       "      <td>E</td>\n",
       "      <td>E</td>\n",
       "      <td>I</td>\n",
       "      <td>-0.361730</td>\n",
       "      <td>0.895997</td>\n",
       "      <td>-0.589673</td>\n",
       "      <td>0.064361</td>\n",
       "      <td>...</td>\n",
       "      <td>1.0</td>\n",
       "      <td>0.0</td>\n",
       "      <td>1.0</td>\n",
       "      <td>0.0</td>\n",
       "      <td>0.0</td>\n",
       "      <td>0.0</td>\n",
       "      <td>0.0</td>\n",
       "      <td>1.0</td>\n",
       "      <td>0.0</td>\n",
       "      <td>0.0</td>\n",
       "    </tr>\n",
       "  </tbody>\n",
       "</table>\n",
       "<p>5 rows × 34 columns</p>\n",
       "</div>"
      ],
      "text/plain": [
       "   id cat5 cat6 cat7 cat8 cat9     cont0     cont1     cont2     cont3  ...  \\\n",
       "0   0    D    A    E    E    G -0.567908  0.670395  0.122399  0.023265  ...   \n",
       "1   5    D    A    E    C    L -0.317526  0.744706 -0.666361  0.059415  ...   \n",
       "2  15    D    A    E    C    F  0.133915  0.745355  1.265707  0.073736  ...   \n",
       "3  16    D    A    E    E    F -0.186435  0.599089  1.078007  0.065598  ...   \n",
       "4  17    B    A    E    E    I -0.361730  0.895997 -0.589673  0.064361  ...   \n",
       "\n",
       "   cat2_a  cat2_b  cat3_a  cat3_b  cat3_c  cat3_d  cat4_a  cat4_b  cat4_c  \\\n",
       "0     1.0     0.0     0.0     0.0     1.0     0.0     0.0     1.0     0.0   \n",
       "1     1.0     0.0     0.0     0.0     1.0     0.0     0.0     1.0     0.0   \n",
       "2     1.0     0.0     0.0     0.0     1.0     0.0     0.0     1.0     0.0   \n",
       "3     0.0     1.0     1.0     0.0     0.0     0.0     0.0     1.0     0.0   \n",
       "4     1.0     0.0     1.0     0.0     0.0     0.0     0.0     1.0     0.0   \n",
       "\n",
       "   cat4_d  \n",
       "0     0.0  \n",
       "1     0.0  \n",
       "2     0.0  \n",
       "3     0.0  \n",
       "4     0.0  \n",
       "\n",
       "[5 rows x 34 columns]"
      ]
     },
     "execution_count": 63,
     "metadata": {},
     "output_type": "execute_result"
    }
   ],
   "source": [
    "ohe4 = OneHotEncoder(sparse = False) \n",
    "ohe4.fit(test_df[['cat4']])\n",
    "cat4_encoded = ohe4.transform(test_df[['cat4']]) \n",
    "test_df['cat4_a'],test_df[\"cat4_b\"], test_df[\"cat4_c\"], test_df[\"cat4_d\"] = cat4_encoded.T \n",
    "test_df.drop(columns='cat4', inplace=True)\n",
    "test_df.head()"
   ]
  },
  {
   "cell_type": "code",
   "execution_count": 64,
   "id": "abstract-supervisor",
   "metadata": {},
   "outputs": [
    {
     "data": {
      "text/plain": [
       "array(['D', 'B', 'A', 'C'], dtype=object)"
      ]
     },
     "execution_count": 64,
     "metadata": {},
     "output_type": "execute_result"
    }
   ],
   "source": [
    "test_df.cat5.unique()"
   ]
  },
  {
   "cell_type": "code",
   "execution_count": 65,
   "id": "contemporary-plane",
   "metadata": {},
   "outputs": [
    {
     "data": {
      "text/html": [
       "<div>\n",
       "<style scoped>\n",
       "    .dataframe tbody tr th:only-of-type {\n",
       "        vertical-align: middle;\n",
       "    }\n",
       "\n",
       "    .dataframe tbody tr th {\n",
       "        vertical-align: top;\n",
       "    }\n",
       "\n",
       "    .dataframe thead th {\n",
       "        text-align: right;\n",
       "    }\n",
       "</style>\n",
       "<table border=\"1\" class=\"dataframe\">\n",
       "  <thead>\n",
       "    <tr style=\"text-align: right;\">\n",
       "      <th></th>\n",
       "      <th>id</th>\n",
       "      <th>cat6</th>\n",
       "      <th>cat7</th>\n",
       "      <th>cat8</th>\n",
       "      <th>cat9</th>\n",
       "      <th>cont0</th>\n",
       "      <th>cont1</th>\n",
       "      <th>cont2</th>\n",
       "      <th>cont3</th>\n",
       "      <th>cont4</th>\n",
       "      <th>...</th>\n",
       "      <th>cat3_c</th>\n",
       "      <th>cat3_d</th>\n",
       "      <th>cat4_a</th>\n",
       "      <th>cat4_b</th>\n",
       "      <th>cat4_c</th>\n",
       "      <th>cat4_d</th>\n",
       "      <th>cat5_a</th>\n",
       "      <th>cat5_b</th>\n",
       "      <th>cat5_c</th>\n",
       "      <th>cat5_d</th>\n",
       "    </tr>\n",
       "  </thead>\n",
       "  <tbody>\n",
       "    <tr>\n",
       "      <th>0</th>\n",
       "      <td>0</td>\n",
       "      <td>A</td>\n",
       "      <td>E</td>\n",
       "      <td>E</td>\n",
       "      <td>G</td>\n",
       "      <td>-0.567908</td>\n",
       "      <td>0.670395</td>\n",
       "      <td>0.122399</td>\n",
       "      <td>0.023265</td>\n",
       "      <td>0.646458</td>\n",
       "      <td>...</td>\n",
       "      <td>1.0</td>\n",
       "      <td>0.0</td>\n",
       "      <td>0.0</td>\n",
       "      <td>1.0</td>\n",
       "      <td>0.0</td>\n",
       "      <td>0.0</td>\n",
       "      <td>0.0</td>\n",
       "      <td>0.0</td>\n",
       "      <td>0.0</td>\n",
       "      <td>1.0</td>\n",
       "    </tr>\n",
       "    <tr>\n",
       "      <th>1</th>\n",
       "      <td>5</td>\n",
       "      <td>A</td>\n",
       "      <td>E</td>\n",
       "      <td>C</td>\n",
       "      <td>L</td>\n",
       "      <td>-0.317526</td>\n",
       "      <td>0.744706</td>\n",
       "      <td>-0.666361</td>\n",
       "      <td>0.059415</td>\n",
       "      <td>0.110513</td>\n",
       "      <td>...</td>\n",
       "      <td>1.0</td>\n",
       "      <td>0.0</td>\n",
       "      <td>0.0</td>\n",
       "      <td>1.0</td>\n",
       "      <td>0.0</td>\n",
       "      <td>0.0</td>\n",
       "      <td>0.0</td>\n",
       "      <td>0.0</td>\n",
       "      <td>0.0</td>\n",
       "      <td>1.0</td>\n",
       "    </tr>\n",
       "    <tr>\n",
       "      <th>2</th>\n",
       "      <td>15</td>\n",
       "      <td>A</td>\n",
       "      <td>E</td>\n",
       "      <td>C</td>\n",
       "      <td>F</td>\n",
       "      <td>0.133915</td>\n",
       "      <td>0.745355</td>\n",
       "      <td>1.265707</td>\n",
       "      <td>0.073736</td>\n",
       "      <td>0.113075</td>\n",
       "      <td>...</td>\n",
       "      <td>1.0</td>\n",
       "      <td>0.0</td>\n",
       "      <td>0.0</td>\n",
       "      <td>1.0</td>\n",
       "      <td>0.0</td>\n",
       "      <td>0.0</td>\n",
       "      <td>0.0</td>\n",
       "      <td>0.0</td>\n",
       "      <td>0.0</td>\n",
       "      <td>1.0</td>\n",
       "    </tr>\n",
       "    <tr>\n",
       "      <th>3</th>\n",
       "      <td>16</td>\n",
       "      <td>A</td>\n",
       "      <td>E</td>\n",
       "      <td>E</td>\n",
       "      <td>F</td>\n",
       "      <td>-0.186435</td>\n",
       "      <td>0.599089</td>\n",
       "      <td>1.078007</td>\n",
       "      <td>0.065598</td>\n",
       "      <td>0.365754</td>\n",
       "      <td>...</td>\n",
       "      <td>0.0</td>\n",
       "      <td>0.0</td>\n",
       "      <td>0.0</td>\n",
       "      <td>1.0</td>\n",
       "      <td>0.0</td>\n",
       "      <td>0.0</td>\n",
       "      <td>0.0</td>\n",
       "      <td>0.0</td>\n",
       "      <td>0.0</td>\n",
       "      <td>1.0</td>\n",
       "    </tr>\n",
       "    <tr>\n",
       "      <th>4</th>\n",
       "      <td>17</td>\n",
       "      <td>A</td>\n",
       "      <td>E</td>\n",
       "      <td>E</td>\n",
       "      <td>I</td>\n",
       "      <td>-0.361730</td>\n",
       "      <td>0.895997</td>\n",
       "      <td>-0.589673</td>\n",
       "      <td>0.064361</td>\n",
       "      <td>0.717419</td>\n",
       "      <td>...</td>\n",
       "      <td>0.0</td>\n",
       "      <td>0.0</td>\n",
       "      <td>0.0</td>\n",
       "      <td>1.0</td>\n",
       "      <td>0.0</td>\n",
       "      <td>0.0</td>\n",
       "      <td>0.0</td>\n",
       "      <td>1.0</td>\n",
       "      <td>0.0</td>\n",
       "      <td>0.0</td>\n",
       "    </tr>\n",
       "  </tbody>\n",
       "</table>\n",
       "<p>5 rows × 37 columns</p>\n",
       "</div>"
      ],
      "text/plain": [
       "   id cat6 cat7 cat8 cat9     cont0     cont1     cont2     cont3     cont4  \\\n",
       "0   0    A    E    E    G -0.567908  0.670395  0.122399  0.023265  0.646458   \n",
       "1   5    A    E    C    L -0.317526  0.744706 -0.666361  0.059415  0.110513   \n",
       "2  15    A    E    C    F  0.133915  0.745355  1.265707  0.073736  0.113075   \n",
       "3  16    A    E    E    F -0.186435  0.599089  1.078007  0.065598  0.365754   \n",
       "4  17    A    E    E    I -0.361730  0.895997 -0.589673  0.064361  0.717419   \n",
       "\n",
       "   ...  cat3_c  cat3_d  cat4_a  cat4_b  cat4_c  cat4_d  cat5_a  cat5_b  \\\n",
       "0  ...     1.0     0.0     0.0     1.0     0.0     0.0     0.0     0.0   \n",
       "1  ...     1.0     0.0     0.0     1.0     0.0     0.0     0.0     0.0   \n",
       "2  ...     1.0     0.0     0.0     1.0     0.0     0.0     0.0     0.0   \n",
       "3  ...     0.0     0.0     0.0     1.0     0.0     0.0     0.0     0.0   \n",
       "4  ...     0.0     0.0     0.0     1.0     0.0     0.0     0.0     1.0   \n",
       "\n",
       "   cat5_c  cat5_d  \n",
       "0     0.0     1.0  \n",
       "1     0.0     1.0  \n",
       "2     0.0     1.0  \n",
       "3     0.0     1.0  \n",
       "4     0.0     0.0  \n",
       "\n",
       "[5 rows x 37 columns]"
      ]
     },
     "execution_count": 65,
     "metadata": {},
     "output_type": "execute_result"
    }
   ],
   "source": [
    "ohe5 = OneHotEncoder(sparse = False) \n",
    "ohe5.fit(test_df[['cat5']])\n",
    "cat5_encoded = ohe5.transform(test_df[['cat5']]) \n",
    "test_df['cat5_a'],test_df[\"cat5_b\"], test_df[\"cat5_c\"], test_df[\"cat5_d\"] = cat5_encoded.T \n",
    "test_df.drop(columns='cat5', inplace=True)\n",
    "test_df.head()"
   ]
  },
  {
   "cell_type": "code",
   "execution_count": 66,
   "id": "noted-television",
   "metadata": {},
   "outputs": [
    {
     "data": {
      "text/plain": [
       "array(['A', 'B', 'C', 'D', 'E', 'I', 'H'], dtype=object)"
      ]
     },
     "execution_count": 66,
     "metadata": {},
     "output_type": "execute_result"
    }
   ],
   "source": [
    "test_df.cat6.unique()"
   ]
  },
  {
   "cell_type": "code",
   "execution_count": 67,
   "id": "resident-causing",
   "metadata": {},
   "outputs": [
    {
     "data": {
      "text/html": [
       "<div>\n",
       "<style scoped>\n",
       "    .dataframe tbody tr th:only-of-type {\n",
       "        vertical-align: middle;\n",
       "    }\n",
       "\n",
       "    .dataframe tbody tr th {\n",
       "        vertical-align: top;\n",
       "    }\n",
       "\n",
       "    .dataframe thead th {\n",
       "        text-align: right;\n",
       "    }\n",
       "</style>\n",
       "<table border=\"1\" class=\"dataframe\">\n",
       "  <thead>\n",
       "    <tr style=\"text-align: right;\">\n",
       "      <th></th>\n",
       "      <th>id</th>\n",
       "      <th>cat7</th>\n",
       "      <th>cat8</th>\n",
       "      <th>cat9</th>\n",
       "      <th>cont0</th>\n",
       "      <th>cont1</th>\n",
       "      <th>cont2</th>\n",
       "      <th>cont3</th>\n",
       "      <th>cont4</th>\n",
       "      <th>cont5</th>\n",
       "      <th>...</th>\n",
       "      <th>cat5_b</th>\n",
       "      <th>cat5_c</th>\n",
       "      <th>cat5_d</th>\n",
       "      <th>cat6_a</th>\n",
       "      <th>cat6_b</th>\n",
       "      <th>cat6_c</th>\n",
       "      <th>cat6_d</th>\n",
       "      <th>cat6_e</th>\n",
       "      <th>cat6_h</th>\n",
       "      <th>cat6_i</th>\n",
       "    </tr>\n",
       "  </thead>\n",
       "  <tbody>\n",
       "    <tr>\n",
       "      <th>0</th>\n",
       "      <td>0</td>\n",
       "      <td>E</td>\n",
       "      <td>E</td>\n",
       "      <td>G</td>\n",
       "      <td>-0.567908</td>\n",
       "      <td>0.670395</td>\n",
       "      <td>0.122399</td>\n",
       "      <td>0.023265</td>\n",
       "      <td>0.646458</td>\n",
       "      <td>0.594293</td>\n",
       "      <td>...</td>\n",
       "      <td>0.0</td>\n",
       "      <td>0.0</td>\n",
       "      <td>1.0</td>\n",
       "      <td>1.0</td>\n",
       "      <td>0.0</td>\n",
       "      <td>0.0</td>\n",
       "      <td>0.0</td>\n",
       "      <td>0.0</td>\n",
       "      <td>0.0</td>\n",
       "      <td>0.0</td>\n",
       "    </tr>\n",
       "    <tr>\n",
       "      <th>1</th>\n",
       "      <td>5</td>\n",
       "      <td>E</td>\n",
       "      <td>C</td>\n",
       "      <td>L</td>\n",
       "      <td>-0.317526</td>\n",
       "      <td>0.744706</td>\n",
       "      <td>-0.666361</td>\n",
       "      <td>0.059415</td>\n",
       "      <td>0.110513</td>\n",
       "      <td>0.488834</td>\n",
       "      <td>...</td>\n",
       "      <td>0.0</td>\n",
       "      <td>0.0</td>\n",
       "      <td>1.0</td>\n",
       "      <td>1.0</td>\n",
       "      <td>0.0</td>\n",
       "      <td>0.0</td>\n",
       "      <td>0.0</td>\n",
       "      <td>0.0</td>\n",
       "      <td>0.0</td>\n",
       "      <td>0.0</td>\n",
       "    </tr>\n",
       "    <tr>\n",
       "      <th>2</th>\n",
       "      <td>15</td>\n",
       "      <td>E</td>\n",
       "      <td>C</td>\n",
       "      <td>F</td>\n",
       "      <td>0.133915</td>\n",
       "      <td>0.745355</td>\n",
       "      <td>1.265707</td>\n",
       "      <td>0.073736</td>\n",
       "      <td>0.113075</td>\n",
       "      <td>0.667858</td>\n",
       "      <td>...</td>\n",
       "      <td>0.0</td>\n",
       "      <td>0.0</td>\n",
       "      <td>1.0</td>\n",
       "      <td>1.0</td>\n",
       "      <td>0.0</td>\n",
       "      <td>0.0</td>\n",
       "      <td>0.0</td>\n",
       "      <td>0.0</td>\n",
       "      <td>0.0</td>\n",
       "      <td>0.0</td>\n",
       "    </tr>\n",
       "    <tr>\n",
       "      <th>3</th>\n",
       "      <td>16</td>\n",
       "      <td>E</td>\n",
       "      <td>E</td>\n",
       "      <td>F</td>\n",
       "      <td>-0.186435</td>\n",
       "      <td>0.599089</td>\n",
       "      <td>1.078007</td>\n",
       "      <td>0.065598</td>\n",
       "      <td>0.365754</td>\n",
       "      <td>0.743781</td>\n",
       "      <td>...</td>\n",
       "      <td>0.0</td>\n",
       "      <td>0.0</td>\n",
       "      <td>1.0</td>\n",
       "      <td>1.0</td>\n",
       "      <td>0.0</td>\n",
       "      <td>0.0</td>\n",
       "      <td>0.0</td>\n",
       "      <td>0.0</td>\n",
       "      <td>0.0</td>\n",
       "      <td>0.0</td>\n",
       "    </tr>\n",
       "    <tr>\n",
       "      <th>4</th>\n",
       "      <td>17</td>\n",
       "      <td>E</td>\n",
       "      <td>E</td>\n",
       "      <td>I</td>\n",
       "      <td>-0.361730</td>\n",
       "      <td>0.895997</td>\n",
       "      <td>-0.589673</td>\n",
       "      <td>0.064361</td>\n",
       "      <td>0.717419</td>\n",
       "      <td>0.243894</td>\n",
       "      <td>...</td>\n",
       "      <td>1.0</td>\n",
       "      <td>0.0</td>\n",
       "      <td>0.0</td>\n",
       "      <td>1.0</td>\n",
       "      <td>0.0</td>\n",
       "      <td>0.0</td>\n",
       "      <td>0.0</td>\n",
       "      <td>0.0</td>\n",
       "      <td>0.0</td>\n",
       "      <td>0.0</td>\n",
       "    </tr>\n",
       "  </tbody>\n",
       "</table>\n",
       "<p>5 rows × 43 columns</p>\n",
       "</div>"
      ],
      "text/plain": [
       "   id cat7 cat8 cat9     cont0     cont1     cont2     cont3     cont4  \\\n",
       "0   0    E    E    G -0.567908  0.670395  0.122399  0.023265  0.646458   \n",
       "1   5    E    C    L -0.317526  0.744706 -0.666361  0.059415  0.110513   \n",
       "2  15    E    C    F  0.133915  0.745355  1.265707  0.073736  0.113075   \n",
       "3  16    E    E    F -0.186435  0.599089  1.078007  0.065598  0.365754   \n",
       "4  17    E    E    I -0.361730  0.895997 -0.589673  0.064361  0.717419   \n",
       "\n",
       "      cont5  ...  cat5_b  cat5_c  cat5_d  cat6_a  cat6_b  cat6_c  cat6_d  \\\n",
       "0  0.594293  ...     0.0     0.0     1.0     1.0     0.0     0.0     0.0   \n",
       "1  0.488834  ...     0.0     0.0     1.0     1.0     0.0     0.0     0.0   \n",
       "2  0.667858  ...     0.0     0.0     1.0     1.0     0.0     0.0     0.0   \n",
       "3  0.743781  ...     0.0     0.0     1.0     1.0     0.0     0.0     0.0   \n",
       "4  0.243894  ...     1.0     0.0     0.0     1.0     0.0     0.0     0.0   \n",
       "\n",
       "   cat6_e  cat6_h  cat6_i  \n",
       "0     0.0     0.0     0.0  \n",
       "1     0.0     0.0     0.0  \n",
       "2     0.0     0.0     0.0  \n",
       "3     0.0     0.0     0.0  \n",
       "4     0.0     0.0     0.0  \n",
       "\n",
       "[5 rows x 43 columns]"
      ]
     },
     "execution_count": 67,
     "metadata": {},
     "output_type": "execute_result"
    }
   ],
   "source": [
    "ohe6 = OneHotEncoder(sparse = False) \n",
    "ohe6.fit(test_df[['cat6']])\n",
    "cat6_encoded = ohe6.transform(test_df[['cat6']]) \n",
    "test_df['cat6_a'],test_df[\"cat6_b\"], test_df[\"cat6_c\"], test_df[\"cat6_d\"], test_df[\"cat6_e\"], \\\n",
    "test_df[\"cat6_h\"], test_df[\"cat6_i\"] = cat6_encoded.T \n",
    "test_df.drop(columns='cat6', inplace=True)\n",
    "test_df.head()"
   ]
  },
  {
   "cell_type": "code",
   "execution_count": 68,
   "id": "adjusted-future",
   "metadata": {},
   "outputs": [
    {
     "data": {
      "text/plain": [
       "array(['E', 'D', 'B', 'G', 'F', 'I', 'A', 'C'], dtype=object)"
      ]
     },
     "execution_count": 68,
     "metadata": {},
     "output_type": "execute_result"
    }
   ],
   "source": [
    "test_df.cat7.unique()"
   ]
  },
  {
   "cell_type": "code",
   "execution_count": 69,
   "id": "occasional-howard",
   "metadata": {},
   "outputs": [
    {
     "data": {
      "text/html": [
       "<div>\n",
       "<style scoped>\n",
       "    .dataframe tbody tr th:only-of-type {\n",
       "        vertical-align: middle;\n",
       "    }\n",
       "\n",
       "    .dataframe tbody tr th {\n",
       "        vertical-align: top;\n",
       "    }\n",
       "\n",
       "    .dataframe thead th {\n",
       "        text-align: right;\n",
       "    }\n",
       "</style>\n",
       "<table border=\"1\" class=\"dataframe\">\n",
       "  <thead>\n",
       "    <tr style=\"text-align: right;\">\n",
       "      <th></th>\n",
       "      <th>id</th>\n",
       "      <th>cat8</th>\n",
       "      <th>cat9</th>\n",
       "      <th>cont0</th>\n",
       "      <th>cont1</th>\n",
       "      <th>cont2</th>\n",
       "      <th>cont3</th>\n",
       "      <th>cont4</th>\n",
       "      <th>cont5</th>\n",
       "      <th>cont6</th>\n",
       "      <th>...</th>\n",
       "      <th>cat6_h</th>\n",
       "      <th>cat6_i</th>\n",
       "      <th>cat7_a</th>\n",
       "      <th>cat7_b</th>\n",
       "      <th>cat7_c</th>\n",
       "      <th>cat7_d</th>\n",
       "      <th>cat7_e</th>\n",
       "      <th>cat7_f</th>\n",
       "      <th>cat7_g</th>\n",
       "      <th>cat7_i</th>\n",
       "    </tr>\n",
       "  </thead>\n",
       "  <tbody>\n",
       "    <tr>\n",
       "      <th>0</th>\n",
       "      <td>0</td>\n",
       "      <td>E</td>\n",
       "      <td>G</td>\n",
       "      <td>-0.567908</td>\n",
       "      <td>0.670395</td>\n",
       "      <td>0.122399</td>\n",
       "      <td>0.023265</td>\n",
       "      <td>0.646458</td>\n",
       "      <td>0.594293</td>\n",
       "      <td>-0.467832</td>\n",
       "      <td>...</td>\n",
       "      <td>0.0</td>\n",
       "      <td>0.0</td>\n",
       "      <td>0.0</td>\n",
       "      <td>0.0</td>\n",
       "      <td>0.0</td>\n",
       "      <td>0.0</td>\n",
       "      <td>1.0</td>\n",
       "      <td>0.0</td>\n",
       "      <td>0.0</td>\n",
       "      <td>0.0</td>\n",
       "    </tr>\n",
       "    <tr>\n",
       "      <th>1</th>\n",
       "      <td>5</td>\n",
       "      <td>C</td>\n",
       "      <td>L</td>\n",
       "      <td>-0.317526</td>\n",
       "      <td>0.744706</td>\n",
       "      <td>-0.666361</td>\n",
       "      <td>0.059415</td>\n",
       "      <td>0.110513</td>\n",
       "      <td>0.488834</td>\n",
       "      <td>-0.047920</td>\n",
       "      <td>...</td>\n",
       "      <td>0.0</td>\n",
       "      <td>0.0</td>\n",
       "      <td>0.0</td>\n",
       "      <td>0.0</td>\n",
       "      <td>0.0</td>\n",
       "      <td>0.0</td>\n",
       "      <td>1.0</td>\n",
       "      <td>0.0</td>\n",
       "      <td>0.0</td>\n",
       "      <td>0.0</td>\n",
       "    </tr>\n",
       "    <tr>\n",
       "      <th>2</th>\n",
       "      <td>15</td>\n",
       "      <td>C</td>\n",
       "      <td>F</td>\n",
       "      <td>0.133915</td>\n",
       "      <td>0.745355</td>\n",
       "      <td>1.265707</td>\n",
       "      <td>0.073736</td>\n",
       "      <td>0.113075</td>\n",
       "      <td>0.667858</td>\n",
       "      <td>1.083683</td>\n",
       "      <td>...</td>\n",
       "      <td>0.0</td>\n",
       "      <td>0.0</td>\n",
       "      <td>0.0</td>\n",
       "      <td>0.0</td>\n",
       "      <td>0.0</td>\n",
       "      <td>0.0</td>\n",
       "      <td>1.0</td>\n",
       "      <td>0.0</td>\n",
       "      <td>0.0</td>\n",
       "      <td>0.0</td>\n",
       "    </tr>\n",
       "    <tr>\n",
       "      <th>3</th>\n",
       "      <td>16</td>\n",
       "      <td>E</td>\n",
       "      <td>F</td>\n",
       "      <td>-0.186435</td>\n",
       "      <td>0.599089</td>\n",
       "      <td>1.078007</td>\n",
       "      <td>0.065598</td>\n",
       "      <td>0.365754</td>\n",
       "      <td>0.743781</td>\n",
       "      <td>-0.645878</td>\n",
       "      <td>...</td>\n",
       "      <td>0.0</td>\n",
       "      <td>0.0</td>\n",
       "      <td>0.0</td>\n",
       "      <td>0.0</td>\n",
       "      <td>0.0</td>\n",
       "      <td>0.0</td>\n",
       "      <td>1.0</td>\n",
       "      <td>0.0</td>\n",
       "      <td>0.0</td>\n",
       "      <td>0.0</td>\n",
       "    </tr>\n",
       "    <tr>\n",
       "      <th>4</th>\n",
       "      <td>17</td>\n",
       "      <td>E</td>\n",
       "      <td>I</td>\n",
       "      <td>-0.361730</td>\n",
       "      <td>0.895997</td>\n",
       "      <td>-0.589673</td>\n",
       "      <td>0.064361</td>\n",
       "      <td>0.717419</td>\n",
       "      <td>0.243894</td>\n",
       "      <td>-0.304696</td>\n",
       "      <td>...</td>\n",
       "      <td>0.0</td>\n",
       "      <td>0.0</td>\n",
       "      <td>0.0</td>\n",
       "      <td>0.0</td>\n",
       "      <td>0.0</td>\n",
       "      <td>0.0</td>\n",
       "      <td>1.0</td>\n",
       "      <td>0.0</td>\n",
       "      <td>0.0</td>\n",
       "      <td>0.0</td>\n",
       "    </tr>\n",
       "  </tbody>\n",
       "</table>\n",
       "<p>5 rows × 50 columns</p>\n",
       "</div>"
      ],
      "text/plain": [
       "   id cat8 cat9     cont0     cont1     cont2     cont3     cont4     cont5  \\\n",
       "0   0    E    G -0.567908  0.670395  0.122399  0.023265  0.646458  0.594293   \n",
       "1   5    C    L -0.317526  0.744706 -0.666361  0.059415  0.110513  0.488834   \n",
       "2  15    C    F  0.133915  0.745355  1.265707  0.073736  0.113075  0.667858   \n",
       "3  16    E    F -0.186435  0.599089  1.078007  0.065598  0.365754  0.743781   \n",
       "4  17    E    I -0.361730  0.895997 -0.589673  0.064361  0.717419  0.243894   \n",
       "\n",
       "      cont6  ...  cat6_h  cat6_i  cat7_a  cat7_b  cat7_c  cat7_d  cat7_e  \\\n",
       "0 -0.467832  ...     0.0     0.0     0.0     0.0     0.0     0.0     1.0   \n",
       "1 -0.047920  ...     0.0     0.0     0.0     0.0     0.0     0.0     1.0   \n",
       "2  1.083683  ...     0.0     0.0     0.0     0.0     0.0     0.0     1.0   \n",
       "3 -0.645878  ...     0.0     0.0     0.0     0.0     0.0     0.0     1.0   \n",
       "4 -0.304696  ...     0.0     0.0     0.0     0.0     0.0     0.0     1.0   \n",
       "\n",
       "   cat7_f  cat7_g  cat7_i  \n",
       "0     0.0     0.0     0.0  \n",
       "1     0.0     0.0     0.0  \n",
       "2     0.0     0.0     0.0  \n",
       "3     0.0     0.0     0.0  \n",
       "4     0.0     0.0     0.0  \n",
       "\n",
       "[5 rows x 50 columns]"
      ]
     },
     "execution_count": 69,
     "metadata": {},
     "output_type": "execute_result"
    }
   ],
   "source": [
    "ohe7 = OneHotEncoder(sparse = False) \n",
    "ohe7.fit(test_df[['cat7']])\n",
    "cat7_encoded = ohe7.transform(test_df[['cat7']]) \n",
    "test_df['cat7_a'],test_df[\"cat7_b\"], test_df[\"cat7_c\"], test_df[\"cat7_d\"], test_df[\"cat7_e\"], \\\n",
    "test_df[\"cat7_f\"], test_df[\"cat7_g\"], test_df[\"cat7_i\"] = cat7_encoded.T \n",
    "test_df.drop(columns='cat7', inplace=True)\n",
    "test_df.head()"
   ]
  },
  {
   "cell_type": "code",
   "execution_count": 70,
   "id": "japanese-weapon",
   "metadata": {},
   "outputs": [
    {
     "data": {
      "text/plain": [
       "array(['E', 'C', 'D', 'G', 'A', 'F', 'B'], dtype=object)"
      ]
     },
     "execution_count": 70,
     "metadata": {},
     "output_type": "execute_result"
    }
   ],
   "source": [
    "test_df.cat8.unique()"
   ]
  },
  {
   "cell_type": "code",
   "execution_count": 71,
   "id": "stable-architect",
   "metadata": {},
   "outputs": [
    {
     "data": {
      "text/html": [
       "<div>\n",
       "<style scoped>\n",
       "    .dataframe tbody tr th:only-of-type {\n",
       "        vertical-align: middle;\n",
       "    }\n",
       "\n",
       "    .dataframe tbody tr th {\n",
       "        vertical-align: top;\n",
       "    }\n",
       "\n",
       "    .dataframe thead th {\n",
       "        text-align: right;\n",
       "    }\n",
       "</style>\n",
       "<table border=\"1\" class=\"dataframe\">\n",
       "  <thead>\n",
       "    <tr style=\"text-align: right;\">\n",
       "      <th></th>\n",
       "      <th>id</th>\n",
       "      <th>cat9</th>\n",
       "      <th>cont0</th>\n",
       "      <th>cont1</th>\n",
       "      <th>cont2</th>\n",
       "      <th>cont3</th>\n",
       "      <th>cont4</th>\n",
       "      <th>cont5</th>\n",
       "      <th>cont6</th>\n",
       "      <th>cont7</th>\n",
       "      <th>...</th>\n",
       "      <th>cat7_f</th>\n",
       "      <th>cat7_g</th>\n",
       "      <th>cat7_i</th>\n",
       "      <th>cat8_a</th>\n",
       "      <th>cat8_b</th>\n",
       "      <th>cat8_c</th>\n",
       "      <th>cat8_d</th>\n",
       "      <th>cat8_e</th>\n",
       "      <th>cat8_f</th>\n",
       "      <th>cat8_g</th>\n",
       "    </tr>\n",
       "  </thead>\n",
       "  <tbody>\n",
       "    <tr>\n",
       "      <th>0</th>\n",
       "      <td>0</td>\n",
       "      <td>G</td>\n",
       "      <td>-0.567908</td>\n",
       "      <td>0.670395</td>\n",
       "      <td>0.122399</td>\n",
       "      <td>0.023265</td>\n",
       "      <td>0.646458</td>\n",
       "      <td>0.594293</td>\n",
       "      <td>-0.467832</td>\n",
       "      <td>0.082901</td>\n",
       "      <td>...</td>\n",
       "      <td>0.0</td>\n",
       "      <td>0.0</td>\n",
       "      <td>0.0</td>\n",
       "      <td>0.0</td>\n",
       "      <td>0.0</td>\n",
       "      <td>0.0</td>\n",
       "      <td>0.0</td>\n",
       "      <td>1.0</td>\n",
       "      <td>0.0</td>\n",
       "      <td>0.0</td>\n",
       "    </tr>\n",
       "    <tr>\n",
       "      <th>1</th>\n",
       "      <td>5</td>\n",
       "      <td>L</td>\n",
       "      <td>-0.317526</td>\n",
       "      <td>0.744706</td>\n",
       "      <td>-0.666361</td>\n",
       "      <td>0.059415</td>\n",
       "      <td>0.110513</td>\n",
       "      <td>0.488834</td>\n",
       "      <td>-0.047920</td>\n",
       "      <td>0.318204</td>\n",
       "      <td>...</td>\n",
       "      <td>0.0</td>\n",
       "      <td>0.0</td>\n",
       "      <td>0.0</td>\n",
       "      <td>0.0</td>\n",
       "      <td>0.0</td>\n",
       "      <td>1.0</td>\n",
       "      <td>0.0</td>\n",
       "      <td>0.0</td>\n",
       "      <td>0.0</td>\n",
       "      <td>0.0</td>\n",
       "    </tr>\n",
       "    <tr>\n",
       "      <th>2</th>\n",
       "      <td>15</td>\n",
       "      <td>F</td>\n",
       "      <td>0.133915</td>\n",
       "      <td>0.745355</td>\n",
       "      <td>1.265707</td>\n",
       "      <td>0.073736</td>\n",
       "      <td>0.113075</td>\n",
       "      <td>0.667858</td>\n",
       "      <td>1.083683</td>\n",
       "      <td>0.051145</td>\n",
       "      <td>...</td>\n",
       "      <td>0.0</td>\n",
       "      <td>0.0</td>\n",
       "      <td>0.0</td>\n",
       "      <td>0.0</td>\n",
       "      <td>0.0</td>\n",
       "      <td>1.0</td>\n",
       "      <td>0.0</td>\n",
       "      <td>0.0</td>\n",
       "      <td>0.0</td>\n",
       "      <td>0.0</td>\n",
       "    </tr>\n",
       "    <tr>\n",
       "      <th>3</th>\n",
       "      <td>16</td>\n",
       "      <td>F</td>\n",
       "      <td>-0.186435</td>\n",
       "      <td>0.599089</td>\n",
       "      <td>1.078007</td>\n",
       "      <td>0.065598</td>\n",
       "      <td>0.365754</td>\n",
       "      <td>0.743781</td>\n",
       "      <td>-0.645878</td>\n",
       "      <td>0.104644</td>\n",
       "      <td>...</td>\n",
       "      <td>0.0</td>\n",
       "      <td>0.0</td>\n",
       "      <td>0.0</td>\n",
       "      <td>0.0</td>\n",
       "      <td>0.0</td>\n",
       "      <td>0.0</td>\n",
       "      <td>0.0</td>\n",
       "      <td>1.0</td>\n",
       "      <td>0.0</td>\n",
       "      <td>0.0</td>\n",
       "    </tr>\n",
       "    <tr>\n",
       "      <th>4</th>\n",
       "      <td>17</td>\n",
       "      <td>I</td>\n",
       "      <td>-0.361730</td>\n",
       "      <td>0.895997</td>\n",
       "      <td>-0.589673</td>\n",
       "      <td>0.064361</td>\n",
       "      <td>0.717419</td>\n",
       "      <td>0.243894</td>\n",
       "      <td>-0.304696</td>\n",
       "      <td>0.485452</td>\n",
       "      <td>...</td>\n",
       "      <td>0.0</td>\n",
       "      <td>0.0</td>\n",
       "      <td>0.0</td>\n",
       "      <td>0.0</td>\n",
       "      <td>0.0</td>\n",
       "      <td>0.0</td>\n",
       "      <td>0.0</td>\n",
       "      <td>1.0</td>\n",
       "      <td>0.0</td>\n",
       "      <td>0.0</td>\n",
       "    </tr>\n",
       "  </tbody>\n",
       "</table>\n",
       "<p>5 rows × 56 columns</p>\n",
       "</div>"
      ],
      "text/plain": [
       "   id cat9     cont0     cont1     cont2     cont3     cont4     cont5  \\\n",
       "0   0    G -0.567908  0.670395  0.122399  0.023265  0.646458  0.594293   \n",
       "1   5    L -0.317526  0.744706 -0.666361  0.059415  0.110513  0.488834   \n",
       "2  15    F  0.133915  0.745355  1.265707  0.073736  0.113075  0.667858   \n",
       "3  16    F -0.186435  0.599089  1.078007  0.065598  0.365754  0.743781   \n",
       "4  17    I -0.361730  0.895997 -0.589673  0.064361  0.717419  0.243894   \n",
       "\n",
       "      cont6     cont7  ...  cat7_f  cat7_g  cat7_i  cat8_a  cat8_b  cat8_c  \\\n",
       "0 -0.467832  0.082901  ...     0.0     0.0     0.0     0.0     0.0     0.0   \n",
       "1 -0.047920  0.318204  ...     0.0     0.0     0.0     0.0     0.0     1.0   \n",
       "2  1.083683  0.051145  ...     0.0     0.0     0.0     0.0     0.0     1.0   \n",
       "3 -0.645878  0.104644  ...     0.0     0.0     0.0     0.0     0.0     0.0   \n",
       "4 -0.304696  0.485452  ...     0.0     0.0     0.0     0.0     0.0     0.0   \n",
       "\n",
       "   cat8_d  cat8_e  cat8_f  cat8_g  \n",
       "0     0.0     1.0     0.0     0.0  \n",
       "1     0.0     0.0     0.0     0.0  \n",
       "2     0.0     0.0     0.0     0.0  \n",
       "3     0.0     1.0     0.0     0.0  \n",
       "4     0.0     1.0     0.0     0.0  \n",
       "\n",
       "[5 rows x 56 columns]"
      ]
     },
     "execution_count": 71,
     "metadata": {},
     "output_type": "execute_result"
    }
   ],
   "source": [
    "ohe8 = OneHotEncoder(sparse = False) \n",
    "ohe8.fit(test_df[['cat8']])\n",
    "cat8_encoded = ohe8.transform(test_df[['cat8']]) \n",
    "test_df['cat8_a'],test_df[\"cat8_b\"], test_df[\"cat8_c\"], test_df[\"cat8_d\"], test_df[\"cat8_e\"], \\\n",
    "test_df[\"cat8_f\"], test_df[\"cat8_g\"] = cat8_encoded.T \n",
    "test_df.drop(columns='cat8', inplace=True)\n",
    "test_df.head()"
   ]
  },
  {
   "cell_type": "code",
   "execution_count": 72,
   "id": "productive-stephen",
   "metadata": {},
   "outputs": [
    {
     "data": {
      "text/plain": [
       "array(['G', 'L', 'F', 'I', 'A', 'K', 'M', 'O', 'N', 'H', 'B', 'J', 'C',\n",
       "       'E', 'D'], dtype=object)"
      ]
     },
     "execution_count": 72,
     "metadata": {},
     "output_type": "execute_result"
    }
   ],
   "source": [
    "test_df.cat9.unique()"
   ]
  },
  {
   "cell_type": "code",
   "execution_count": 73,
   "id": "micro-consolidation",
   "metadata": {},
   "outputs": [
    {
     "data": {
      "text/html": [
       "<div>\n",
       "<style scoped>\n",
       "    .dataframe tbody tr th:only-of-type {\n",
       "        vertical-align: middle;\n",
       "    }\n",
       "\n",
       "    .dataframe tbody tr th {\n",
       "        vertical-align: top;\n",
       "    }\n",
       "\n",
       "    .dataframe thead th {\n",
       "        text-align: right;\n",
       "    }\n",
       "</style>\n",
       "<table border=\"1\" class=\"dataframe\">\n",
       "  <thead>\n",
       "    <tr style=\"text-align: right;\">\n",
       "      <th></th>\n",
       "      <th>id</th>\n",
       "      <th>cont0</th>\n",
       "      <th>cont1</th>\n",
       "      <th>cont2</th>\n",
       "      <th>cont3</th>\n",
       "      <th>cont4</th>\n",
       "      <th>cont5</th>\n",
       "      <th>cont6</th>\n",
       "      <th>cont7</th>\n",
       "      <th>cont8</th>\n",
       "      <th>...</th>\n",
       "      <th>cat9_f</th>\n",
       "      <th>cat9_g</th>\n",
       "      <th>cat9_h</th>\n",
       "      <th>cat9_i</th>\n",
       "      <th>cat9_j</th>\n",
       "      <th>cat9_k</th>\n",
       "      <th>cat9_l</th>\n",
       "      <th>cat9_m</th>\n",
       "      <th>cat9_n</th>\n",
       "      <th>cat9_o</th>\n",
       "    </tr>\n",
       "  </thead>\n",
       "  <tbody>\n",
       "    <tr>\n",
       "      <th>0</th>\n",
       "      <td>0</td>\n",
       "      <td>-0.567908</td>\n",
       "      <td>0.670395</td>\n",
       "      <td>0.122399</td>\n",
       "      <td>0.023265</td>\n",
       "      <td>0.646458</td>\n",
       "      <td>0.594293</td>\n",
       "      <td>-0.467832</td>\n",
       "      <td>0.082901</td>\n",
       "      <td>-0.960400</td>\n",
       "      <td>...</td>\n",
       "      <td>0.0</td>\n",
       "      <td>1.0</td>\n",
       "      <td>0.0</td>\n",
       "      <td>0.0</td>\n",
       "      <td>0.0</td>\n",
       "      <td>0.0</td>\n",
       "      <td>0.0</td>\n",
       "      <td>0.0</td>\n",
       "      <td>0.0</td>\n",
       "      <td>0.0</td>\n",
       "    </tr>\n",
       "    <tr>\n",
       "      <th>1</th>\n",
       "      <td>5</td>\n",
       "      <td>-0.317526</td>\n",
       "      <td>0.744706</td>\n",
       "      <td>-0.666361</td>\n",
       "      <td>0.059415</td>\n",
       "      <td>0.110513</td>\n",
       "      <td>0.488834</td>\n",
       "      <td>-0.047920</td>\n",
       "      <td>0.318204</td>\n",
       "      <td>1.855678</td>\n",
       "      <td>...</td>\n",
       "      <td>0.0</td>\n",
       "      <td>0.0</td>\n",
       "      <td>0.0</td>\n",
       "      <td>0.0</td>\n",
       "      <td>0.0</td>\n",
       "      <td>0.0</td>\n",
       "      <td>1.0</td>\n",
       "      <td>0.0</td>\n",
       "      <td>0.0</td>\n",
       "      <td>0.0</td>\n",
       "    </tr>\n",
       "    <tr>\n",
       "      <th>2</th>\n",
       "      <td>15</td>\n",
       "      <td>0.133915</td>\n",
       "      <td>0.745355</td>\n",
       "      <td>1.265707</td>\n",
       "      <td>0.073736</td>\n",
       "      <td>0.113075</td>\n",
       "      <td>0.667858</td>\n",
       "      <td>1.083683</td>\n",
       "      <td>0.051145</td>\n",
       "      <td>0.693966</td>\n",
       "      <td>...</td>\n",
       "      <td>1.0</td>\n",
       "      <td>0.0</td>\n",
       "      <td>0.0</td>\n",
       "      <td>0.0</td>\n",
       "      <td>0.0</td>\n",
       "      <td>0.0</td>\n",
       "      <td>0.0</td>\n",
       "      <td>0.0</td>\n",
       "      <td>0.0</td>\n",
       "      <td>0.0</td>\n",
       "    </tr>\n",
       "    <tr>\n",
       "      <th>3</th>\n",
       "      <td>16</td>\n",
       "      <td>-0.186435</td>\n",
       "      <td>0.599089</td>\n",
       "      <td>1.078007</td>\n",
       "      <td>0.065598</td>\n",
       "      <td>0.365754</td>\n",
       "      <td>0.743781</td>\n",
       "      <td>-0.645878</td>\n",
       "      <td>0.104644</td>\n",
       "      <td>0.072737</td>\n",
       "      <td>...</td>\n",
       "      <td>1.0</td>\n",
       "      <td>0.0</td>\n",
       "      <td>0.0</td>\n",
       "      <td>0.0</td>\n",
       "      <td>0.0</td>\n",
       "      <td>0.0</td>\n",
       "      <td>0.0</td>\n",
       "      <td>0.0</td>\n",
       "      <td>0.0</td>\n",
       "      <td>0.0</td>\n",
       "    </tr>\n",
       "    <tr>\n",
       "      <th>4</th>\n",
       "      <td>17</td>\n",
       "      <td>-0.361730</td>\n",
       "      <td>0.895997</td>\n",
       "      <td>-0.589673</td>\n",
       "      <td>0.064361</td>\n",
       "      <td>0.717419</td>\n",
       "      <td>0.243894</td>\n",
       "      <td>-0.304696</td>\n",
       "      <td>0.485452</td>\n",
       "      <td>-1.096976</td>\n",
       "      <td>...</td>\n",
       "      <td>0.0</td>\n",
       "      <td>0.0</td>\n",
       "      <td>0.0</td>\n",
       "      <td>1.0</td>\n",
       "      <td>0.0</td>\n",
       "      <td>0.0</td>\n",
       "      <td>0.0</td>\n",
       "      <td>0.0</td>\n",
       "      <td>0.0</td>\n",
       "      <td>0.0</td>\n",
       "    </tr>\n",
       "  </tbody>\n",
       "</table>\n",
       "<p>5 rows × 70 columns</p>\n",
       "</div>"
      ],
      "text/plain": [
       "   id     cont0     cont1     cont2     cont3     cont4     cont5     cont6  \\\n",
       "0   0 -0.567908  0.670395  0.122399  0.023265  0.646458  0.594293 -0.467832   \n",
       "1   5 -0.317526  0.744706 -0.666361  0.059415  0.110513  0.488834 -0.047920   \n",
       "2  15  0.133915  0.745355  1.265707  0.073736  0.113075  0.667858  1.083683   \n",
       "3  16 -0.186435  0.599089  1.078007  0.065598  0.365754  0.743781 -0.645878   \n",
       "4  17 -0.361730  0.895997 -0.589673  0.064361  0.717419  0.243894 -0.304696   \n",
       "\n",
       "      cont7     cont8  ...  cat9_f  cat9_g  cat9_h  cat9_i  cat9_j  cat9_k  \\\n",
       "0  0.082901 -0.960400  ...     0.0     1.0     0.0     0.0     0.0     0.0   \n",
       "1  0.318204  1.855678  ...     0.0     0.0     0.0     0.0     0.0     0.0   \n",
       "2  0.051145  0.693966  ...     1.0     0.0     0.0     0.0     0.0     0.0   \n",
       "3  0.104644  0.072737  ...     1.0     0.0     0.0     0.0     0.0     0.0   \n",
       "4  0.485452 -1.096976  ...     0.0     0.0     0.0     1.0     0.0     0.0   \n",
       "\n",
       "   cat9_l  cat9_m  cat9_n  cat9_o  \n",
       "0     0.0     0.0     0.0     0.0  \n",
       "1     1.0     0.0     0.0     0.0  \n",
       "2     0.0     0.0     0.0     0.0  \n",
       "3     0.0     0.0     0.0     0.0  \n",
       "4     0.0     0.0     0.0     0.0  \n",
       "\n",
       "[5 rows x 70 columns]"
      ]
     },
     "execution_count": 73,
     "metadata": {},
     "output_type": "execute_result"
    }
   ],
   "source": [
    "ohe9 = OneHotEncoder(sparse = False) \n",
    "ohe9.fit(test_df[['cat9']])\n",
    "cat9_encoded = ohe9.transform(test_df[['cat9']]) \n",
    "test_df['cat9_a'],test_df[\"cat9_b\"], test_df[\"cat9_c\"], test_df[\"cat9_d\"], test_df[\"cat9_e\"], \\\n",
    "test_df[\"cat9_f\"], test_df[\"cat9_g\"], test_df[\"cat9_h\"], test_df[\"cat9_i\"], test_df[\"cat9_j\"], \\\n",
    "test_df[\"cat9_k\"], test_df[\"cat9_l\"], test_df[\"cat9_m\"], test_df[\"cat9_n\"], test_df[\"cat9_o\"] = cat9_encoded.T \n",
    "test_df.drop(columns='cat9', inplace=True)\n",
    "test_df.head()"
   ]
  },
  {
   "cell_type": "code",
   "execution_count": 74,
   "id": "played-marriage",
   "metadata": {},
   "outputs": [
    {
     "data": {
      "text/html": [
       "<div>\n",
       "<style scoped>\n",
       "    .dataframe tbody tr th:only-of-type {\n",
       "        vertical-align: middle;\n",
       "    }\n",
       "\n",
       "    .dataframe tbody tr th {\n",
       "        vertical-align: top;\n",
       "    }\n",
       "\n",
       "    .dataframe thead th {\n",
       "        text-align: right;\n",
       "    }\n",
       "</style>\n",
       "<table border=\"1\" class=\"dataframe\">\n",
       "  <thead>\n",
       "    <tr style=\"text-align: right;\">\n",
       "      <th></th>\n",
       "      <th>id</th>\n",
       "      <th>cont0</th>\n",
       "      <th>cont1</th>\n",
       "      <th>cont2</th>\n",
       "      <th>cont3</th>\n",
       "      <th>cont4</th>\n",
       "      <th>cont5</th>\n",
       "      <th>cont6</th>\n",
       "      <th>cont7</th>\n",
       "      <th>cont8</th>\n",
       "      <th>...</th>\n",
       "      <th>cat9_f</th>\n",
       "      <th>cat9_g</th>\n",
       "      <th>cat9_h</th>\n",
       "      <th>cat9_i</th>\n",
       "      <th>cat9_j</th>\n",
       "      <th>cat9_k</th>\n",
       "      <th>cat9_l</th>\n",
       "      <th>cat9_m</th>\n",
       "      <th>cat9_n</th>\n",
       "      <th>cat9_o</th>\n",
       "    </tr>\n",
       "  </thead>\n",
       "  <tbody>\n",
       "    <tr>\n",
       "      <th>0</th>\n",
       "      <td>0</td>\n",
       "      <td>-0.567908</td>\n",
       "      <td>0.670395</td>\n",
       "      <td>0.122399</td>\n",
       "      <td>0.023265</td>\n",
       "      <td>0.646458</td>\n",
       "      <td>0.594293</td>\n",
       "      <td>-0.467832</td>\n",
       "      <td>0.082901</td>\n",
       "      <td>-0.960400</td>\n",
       "      <td>...</td>\n",
       "      <td>0.0</td>\n",
       "      <td>1.0</td>\n",
       "      <td>0.0</td>\n",
       "      <td>0.0</td>\n",
       "      <td>0.0</td>\n",
       "      <td>0.0</td>\n",
       "      <td>0.0</td>\n",
       "      <td>0.0</td>\n",
       "      <td>0.0</td>\n",
       "      <td>0.0</td>\n",
       "    </tr>\n",
       "    <tr>\n",
       "      <th>1</th>\n",
       "      <td>5</td>\n",
       "      <td>-0.317526</td>\n",
       "      <td>0.744706</td>\n",
       "      <td>-0.666361</td>\n",
       "      <td>0.059415</td>\n",
       "      <td>0.110513</td>\n",
       "      <td>0.488834</td>\n",
       "      <td>-0.047920</td>\n",
       "      <td>0.318204</td>\n",
       "      <td>1.855678</td>\n",
       "      <td>...</td>\n",
       "      <td>0.0</td>\n",
       "      <td>0.0</td>\n",
       "      <td>0.0</td>\n",
       "      <td>0.0</td>\n",
       "      <td>0.0</td>\n",
       "      <td>0.0</td>\n",
       "      <td>1.0</td>\n",
       "      <td>0.0</td>\n",
       "      <td>0.0</td>\n",
       "      <td>0.0</td>\n",
       "    </tr>\n",
       "    <tr>\n",
       "      <th>2</th>\n",
       "      <td>15</td>\n",
       "      <td>0.133915</td>\n",
       "      <td>0.745355</td>\n",
       "      <td>1.265707</td>\n",
       "      <td>0.073736</td>\n",
       "      <td>0.113075</td>\n",
       "      <td>0.667858</td>\n",
       "      <td>1.083683</td>\n",
       "      <td>0.051145</td>\n",
       "      <td>0.693966</td>\n",
       "      <td>...</td>\n",
       "      <td>1.0</td>\n",
       "      <td>0.0</td>\n",
       "      <td>0.0</td>\n",
       "      <td>0.0</td>\n",
       "      <td>0.0</td>\n",
       "      <td>0.0</td>\n",
       "      <td>0.0</td>\n",
       "      <td>0.0</td>\n",
       "      <td>0.0</td>\n",
       "      <td>0.0</td>\n",
       "    </tr>\n",
       "    <tr>\n",
       "      <th>3</th>\n",
       "      <td>16</td>\n",
       "      <td>-0.186435</td>\n",
       "      <td>0.599089</td>\n",
       "      <td>1.078007</td>\n",
       "      <td>0.065598</td>\n",
       "      <td>0.365754</td>\n",
       "      <td>0.743781</td>\n",
       "      <td>-0.645878</td>\n",
       "      <td>0.104644</td>\n",
       "      <td>0.072737</td>\n",
       "      <td>...</td>\n",
       "      <td>1.0</td>\n",
       "      <td>0.0</td>\n",
       "      <td>0.0</td>\n",
       "      <td>0.0</td>\n",
       "      <td>0.0</td>\n",
       "      <td>0.0</td>\n",
       "      <td>0.0</td>\n",
       "      <td>0.0</td>\n",
       "      <td>0.0</td>\n",
       "      <td>0.0</td>\n",
       "    </tr>\n",
       "    <tr>\n",
       "      <th>4</th>\n",
       "      <td>17</td>\n",
       "      <td>-0.361730</td>\n",
       "      <td>0.895997</td>\n",
       "      <td>-0.589673</td>\n",
       "      <td>0.064361</td>\n",
       "      <td>0.717419</td>\n",
       "      <td>0.243894</td>\n",
       "      <td>-0.304696</td>\n",
       "      <td>0.485452</td>\n",
       "      <td>-1.096976</td>\n",
       "      <td>...</td>\n",
       "      <td>0.0</td>\n",
       "      <td>0.0</td>\n",
       "      <td>0.0</td>\n",
       "      <td>1.0</td>\n",
       "      <td>0.0</td>\n",
       "      <td>0.0</td>\n",
       "      <td>0.0</td>\n",
       "      <td>0.0</td>\n",
       "      <td>0.0</td>\n",
       "      <td>0.0</td>\n",
       "    </tr>\n",
       "  </tbody>\n",
       "</table>\n",
       "<p>5 rows × 70 columns</p>\n",
       "</div>"
      ],
      "text/plain": [
       "   id     cont0     cont1     cont2     cont3     cont4     cont5     cont6  \\\n",
       "0   0 -0.567908  0.670395  0.122399  0.023265  0.646458  0.594293 -0.467832   \n",
       "1   5 -0.317526  0.744706 -0.666361  0.059415  0.110513  0.488834 -0.047920   \n",
       "2  15  0.133915  0.745355  1.265707  0.073736  0.113075  0.667858  1.083683   \n",
       "3  16 -0.186435  0.599089  1.078007  0.065598  0.365754  0.743781 -0.645878   \n",
       "4  17 -0.361730  0.895997 -0.589673  0.064361  0.717419  0.243894 -0.304696   \n",
       "\n",
       "      cont7     cont8  ...  cat9_f  cat9_g  cat9_h  cat9_i  cat9_j  cat9_k  \\\n",
       "0  0.082901 -0.960400  ...     0.0     1.0     0.0     0.0     0.0     0.0   \n",
       "1  0.318204  1.855678  ...     0.0     0.0     0.0     0.0     0.0     0.0   \n",
       "2  0.051145  0.693966  ...     1.0     0.0     0.0     0.0     0.0     0.0   \n",
       "3  0.104644  0.072737  ...     1.0     0.0     0.0     0.0     0.0     0.0   \n",
       "4  0.485452 -1.096976  ...     0.0     0.0     0.0     1.0     0.0     0.0   \n",
       "\n",
       "   cat9_l  cat9_m  cat9_n  cat9_o  \n",
       "0     0.0     0.0     0.0     0.0  \n",
       "1     1.0     0.0     0.0     0.0  \n",
       "2     0.0     0.0     0.0     0.0  \n",
       "3     0.0     0.0     0.0     0.0  \n",
       "4     0.0     0.0     0.0     0.0  \n",
       "\n",
       "[5 rows x 70 columns]"
      ]
     },
     "execution_count": 74,
     "metadata": {},
     "output_type": "execute_result"
    }
   ],
   "source": [
    "# Feature selection\n",
    "\n",
    "X_test = test_df\n",
    "X_test.head()"
   ]
  },
  {
   "cell_type": "code",
   "execution_count": 76,
   "id": "completed-passport",
   "metadata": {},
   "outputs": [
    {
     "data": {
      "text/html": [
       "<div>\n",
       "<style scoped>\n",
       "    .dataframe tbody tr th:only-of-type {\n",
       "        vertical-align: middle;\n",
       "    }\n",
       "\n",
       "    .dataframe tbody tr th {\n",
       "        vertical-align: top;\n",
       "    }\n",
       "\n",
       "    .dataframe thead th {\n",
       "        text-align: right;\n",
       "    }\n",
       "</style>\n",
       "<table border=\"1\" class=\"dataframe\">\n",
       "  <thead>\n",
       "    <tr style=\"text-align: right;\">\n",
       "      <th></th>\n",
       "      <th>cont0</th>\n",
       "      <th>cont1</th>\n",
       "      <th>cont2</th>\n",
       "      <th>cont3</th>\n",
       "      <th>cont4</th>\n",
       "      <th>cont5</th>\n",
       "      <th>cont6</th>\n",
       "      <th>cont7</th>\n",
       "      <th>cont8</th>\n",
       "      <th>cont9</th>\n",
       "      <th>...</th>\n",
       "      <th>cat9_a</th>\n",
       "      <th>cat9_b</th>\n",
       "      <th>cat9_e</th>\n",
       "      <th>cat9_f</th>\n",
       "      <th>cat9_g</th>\n",
       "      <th>cat9_h</th>\n",
       "      <th>cat9_i</th>\n",
       "      <th>cat9_j</th>\n",
       "      <th>cat9_l</th>\n",
       "      <th>cat9_o</th>\n",
       "    </tr>\n",
       "  </thead>\n",
       "  <tbody>\n",
       "    <tr>\n",
       "      <th>0</th>\n",
       "      <td>-0.567908</td>\n",
       "      <td>0.670395</td>\n",
       "      <td>0.122399</td>\n",
       "      <td>0.023265</td>\n",
       "      <td>0.646458</td>\n",
       "      <td>0.594293</td>\n",
       "      <td>-0.467832</td>\n",
       "      <td>0.082901</td>\n",
       "      <td>-0.960400</td>\n",
       "      <td>0.181973</td>\n",
       "      <td>...</td>\n",
       "      <td>0.0</td>\n",
       "      <td>0.0</td>\n",
       "      <td>0.0</td>\n",
       "      <td>0.0</td>\n",
       "      <td>1.0</td>\n",
       "      <td>0.0</td>\n",
       "      <td>0.0</td>\n",
       "      <td>0.0</td>\n",
       "      <td>0.0</td>\n",
       "      <td>0.0</td>\n",
       "    </tr>\n",
       "    <tr>\n",
       "      <th>1</th>\n",
       "      <td>-0.317526</td>\n",
       "      <td>0.744706</td>\n",
       "      <td>-0.666361</td>\n",
       "      <td>0.059415</td>\n",
       "      <td>0.110513</td>\n",
       "      <td>0.488834</td>\n",
       "      <td>-0.047920</td>\n",
       "      <td>0.318204</td>\n",
       "      <td>1.855678</td>\n",
       "      <td>0.493316</td>\n",
       "      <td>...</td>\n",
       "      <td>0.0</td>\n",
       "      <td>0.0</td>\n",
       "      <td>0.0</td>\n",
       "      <td>0.0</td>\n",
       "      <td>0.0</td>\n",
       "      <td>0.0</td>\n",
       "      <td>0.0</td>\n",
       "      <td>0.0</td>\n",
       "      <td>1.0</td>\n",
       "      <td>0.0</td>\n",
       "    </tr>\n",
       "    <tr>\n",
       "      <th>2</th>\n",
       "      <td>0.133915</td>\n",
       "      <td>0.745355</td>\n",
       "      <td>1.265707</td>\n",
       "      <td>0.073736</td>\n",
       "      <td>0.113075</td>\n",
       "      <td>0.667858</td>\n",
       "      <td>1.083683</td>\n",
       "      <td>0.051145</td>\n",
       "      <td>0.693966</td>\n",
       "      <td>0.529895</td>\n",
       "      <td>...</td>\n",
       "      <td>0.0</td>\n",
       "      <td>0.0</td>\n",
       "      <td>0.0</td>\n",
       "      <td>1.0</td>\n",
       "      <td>0.0</td>\n",
       "      <td>0.0</td>\n",
       "      <td>0.0</td>\n",
       "      <td>0.0</td>\n",
       "      <td>0.0</td>\n",
       "      <td>0.0</td>\n",
       "    </tr>\n",
       "    <tr>\n",
       "      <th>3</th>\n",
       "      <td>-0.186435</td>\n",
       "      <td>0.599089</td>\n",
       "      <td>1.078007</td>\n",
       "      <td>0.065598</td>\n",
       "      <td>0.365754</td>\n",
       "      <td>0.743781</td>\n",
       "      <td>-0.645878</td>\n",
       "      <td>0.104644</td>\n",
       "      <td>0.072737</td>\n",
       "      <td>0.584707</td>\n",
       "      <td>...</td>\n",
       "      <td>0.0</td>\n",
       "      <td>0.0</td>\n",
       "      <td>0.0</td>\n",
       "      <td>1.0</td>\n",
       "      <td>0.0</td>\n",
       "      <td>0.0</td>\n",
       "      <td>0.0</td>\n",
       "      <td>0.0</td>\n",
       "      <td>0.0</td>\n",
       "      <td>0.0</td>\n",
       "    </tr>\n",
       "    <tr>\n",
       "      <th>4</th>\n",
       "      <td>-0.361730</td>\n",
       "      <td>0.895997</td>\n",
       "      <td>-0.589673</td>\n",
       "      <td>0.064361</td>\n",
       "      <td>0.717419</td>\n",
       "      <td>0.243894</td>\n",
       "      <td>-0.304696</td>\n",
       "      <td>0.485452</td>\n",
       "      <td>-1.096976</td>\n",
       "      <td>0.205381</td>\n",
       "      <td>...</td>\n",
       "      <td>0.0</td>\n",
       "      <td>0.0</td>\n",
       "      <td>0.0</td>\n",
       "      <td>0.0</td>\n",
       "      <td>0.0</td>\n",
       "      <td>0.0</td>\n",
       "      <td>1.0</td>\n",
       "      <td>0.0</td>\n",
       "      <td>0.0</td>\n",
       "      <td>0.0</td>\n",
       "    </tr>\n",
       "  </tbody>\n",
       "</table>\n",
       "<p>5 rows × 55 columns</p>\n",
       "</div>"
      ],
      "text/plain": [
       "      cont0     cont1     cont2     cont3     cont4     cont5     cont6  \\\n",
       "0 -0.567908  0.670395  0.122399  0.023265  0.646458  0.594293 -0.467832   \n",
       "1 -0.317526  0.744706 -0.666361  0.059415  0.110513  0.488834 -0.047920   \n",
       "2  0.133915  0.745355  1.265707  0.073736  0.113075  0.667858  1.083683   \n",
       "3 -0.186435  0.599089  1.078007  0.065598  0.365754  0.743781 -0.645878   \n",
       "4 -0.361730  0.895997 -0.589673  0.064361  0.717419  0.243894 -0.304696   \n",
       "\n",
       "      cont7     cont8     cont9  ...  cat9_a  cat9_b  cat9_e  cat9_f  cat9_g  \\\n",
       "0  0.082901 -0.960400  0.181973  ...     0.0     0.0     0.0     0.0     1.0   \n",
       "1  0.318204  1.855678  0.493316  ...     0.0     0.0     0.0     0.0     0.0   \n",
       "2  0.051145  0.693966  0.529895  ...     0.0     0.0     0.0     1.0     0.0   \n",
       "3  0.104644  0.072737  0.584707  ...     0.0     0.0     0.0     1.0     0.0   \n",
       "4  0.485452 -1.096976  0.205381  ...     0.0     0.0     0.0     0.0     0.0   \n",
       "\n",
       "   cat9_h  cat9_i  cat9_j  cat9_l  cat9_o  \n",
       "0     0.0     0.0     0.0     0.0     0.0  \n",
       "1     0.0     0.0     0.0     1.0     0.0  \n",
       "2     0.0     0.0     0.0     0.0     0.0  \n",
       "3     0.0     0.0     0.0     0.0     0.0  \n",
       "4     0.0     1.0     0.0     0.0     0.0  \n",
       "\n",
       "[5 rows x 55 columns]"
      ]
     },
     "execution_count": 76,
     "metadata": {},
     "output_type": "execute_result"
    }
   ],
   "source": [
    "X_test = X_test.drop(columns=['cat8_b', 'cat9_m', 'id', 'cat4_a', 'cat7_a', 'cat6_h',\n",
    "       'cat7_f', 'cat6_d', 'cat7_c', 'cat9_n', 'cat9_c', 'cat6_i',\n",
    "       'cat9_d', 'cat9_k', 'cat6_e'])\n",
    "X_test.head()"
   ]
  },
  {
   "cell_type": "code",
   "execution_count": 77,
   "id": "caroline-newfoundland",
   "metadata": {},
   "outputs": [],
   "source": [
    "# Save progress\n",
    "\n",
    "X_test.to_csv('data/X_test.csv', index=False)"
   ]
  },
  {
   "cell_type": "markdown",
   "id": "ready-earthquake",
   "metadata": {},
   "source": [
    "# Machine Learning Models"
   ]
  },
  {
   "cell_type": "markdown",
   "id": "overhead-cradle",
   "metadata": {},
   "source": [
    "## Establish baseline"
   ]
  },
  {
   "cell_type": "code",
   "execution_count": 84,
   "id": "crucial-terrace",
   "metadata": {},
   "outputs": [
    {
     "data": {
      "text/plain": [
       "-0.787290185420595"
      ]
     },
     "execution_count": 84,
     "metadata": {},
     "output_type": "execute_result"
    }
   ],
   "source": [
    "X = pd.read_csv('data/X_train.csv')\n",
    "y = pd.read_csv('data/y_train.csv')\n",
    "\n",
    "# Baseline model\n",
    "baseline_model = DummyRegressor()\n",
    "\n",
    "# Cross validate model\n",
    "cv_results = cross_validate(baseline_model, X, y, cv=5, scoring='neg_mean_squared_error') \n",
    "                      \n",
    "# Cross validation output\n",
    "cv_results['test_score'].mean()"
   ]
  },
  {
   "cell_type": "code",
   "execution_count": 85,
   "id": "extreme-fabric",
   "metadata": {},
   "outputs": [
    {
     "name": "stdout",
     "output_type": "stream",
     "text": [
      "RMSE = 0.8872937424667183\n"
     ]
    }
   ],
   "source": [
    "print('RMSE =', math.sqrt(abs(cv_results['test_score'].mean())))"
   ]
  },
  {
   "cell_type": "markdown",
   "id": "substantial-catholic",
   "metadata": {},
   "source": [
    "## Model with XGBRegressor"
   ]
  },
  {
   "cell_type": "code",
   "execution_count": 88,
   "id": "naughty-eagle",
   "metadata": {},
   "outputs": [],
   "source": [
    "X_train, X_val, y_train, y_val = train_test_split(X, y, test_size=0.3, random_state=3)"
   ]
  },
  {
   "cell_type": "code",
   "execution_count": 89,
   "id": "broke-listing",
   "metadata": {},
   "outputs": [
    {
     "name": "stdout",
     "output_type": "stream",
     "text": [
      "[0]\tvalidation_0-rmse:6.32122\n",
      "[1]\tvalidation_0-rmse:5.70162\n",
      "[2]\tvalidation_0-rmse:5.14535\n"
     ]
    }
   ],
   "source": [
    "xgb = XGBRegressor(n_estimators=3, max_depth=3, learning_rate=0.1)\n",
    "xgb.fit(X_train, y_train, \n",
    "        eval_set=[(X_val, y_val)], \n",
    "        early_stopping_rounds=5) \n",
    "y_pred = xgb.predict(X_val)"
   ]
  },
  {
   "cell_type": "code",
   "execution_count": 93,
   "id": "european-safety",
   "metadata": {},
   "outputs": [
    {
     "name": "stdout",
     "output_type": "stream",
     "text": [
      "RMSE = 5.14535421495048\n"
     ]
    }
   ],
   "source": [
    "xgb_mse = mean_squared_error(y_true=y_val, y_pred=y_pred)\n",
    "print('RMSE =', math.sqrt(abs(xgb_mse)))"
   ]
  },
  {
   "cell_type": "code",
   "execution_count": 94,
   "id": "necessary-aquarium",
   "metadata": {},
   "outputs": [
    {
     "name": "stdout",
     "output_type": "stream",
     "text": [
      "Fitting 5 folds for each of 27 candidates, totalling 135 fits\n",
      "Wall time: 23min 9s\n"
     ]
    },
    {
     "data": {
      "text/plain": [
       "GridSearchCV(estimator=XGBRegressor(base_score=None, booster=None,\n",
       "                                    colsample_bylevel=None,\n",
       "                                    colsample_bynode=None,\n",
       "                                    colsample_bytree=None, gamma=None,\n",
       "                                    gpu_id=None, importance_type='gain',\n",
       "                                    interaction_constraints=None,\n",
       "                                    learning_rate=None, max_delta_step=None,\n",
       "                                    max_depth=None, min_child_weight=None,\n",
       "                                    missing=nan, monotone_constraints=None,\n",
       "                                    n_estimators=100, n_jobs=None,\n",
       "                                    num_parallel_tree=None, random_state=None,\n",
       "                                    reg_alpha=None, reg_lambda=None,\n",
       "                                    scale_pos_weight=None, subsample=None,\n",
       "                                    tree_method=None, validate_parameters=None,\n",
       "                                    verbosity=None),\n",
       "             n_jobs=-1,\n",
       "             param_grid={'learning_rate': [0.001, 0.01, 0.1],\n",
       "                         'max_depth': [3, 5, 10],\n",
       "                         'n_estimators': [30, 50, 100]},\n",
       "             scoring='neg_mean_squared_error', verbose=2)"
      ]
     },
     "execution_count": 94,
     "metadata": {},
     "output_type": "execute_result"
    }
   ],
   "source": [
    "%%time\n",
    "\n",
    "estimator = XGBRegressor()\n",
    "\n",
    "parameters = {\n",
    "    'n_estimators': [30, 50, 100],\n",
    "    'max_depth': [3, 5, 10],\n",
    "    'learning_rate': [0.001, 0.01, 0.1]\n",
    "    }\n",
    "\n",
    "grid_search = GridSearchCV(estimator, parameters, n_jobs=-1, \n",
    "                           verbose=2, scoring = \"neg_mean_squared_error\", refit=True)\n",
    "\n",
    "grid_search.fit(X_train, y_train)"
   ]
  },
  {
   "cell_type": "code",
   "execution_count": 95,
   "id": "direct-special",
   "metadata": {},
   "outputs": [
    {
     "name": "stdout",
     "output_type": "stream",
     "text": [
      "Best estimator: XGBRegressor(base_score=0.5, booster='gbtree', colsample_bylevel=1,\n",
      "             colsample_bynode=1, colsample_bytree=1, gamma=0, gpu_id=-1,\n",
      "             importance_type='gain', interaction_constraints='',\n",
      "             learning_rate=0.1, max_delta_step=0, max_depth=5,\n",
      "             min_child_weight=1, missing=nan, monotone_constraints='()',\n",
      "             n_estimators=100, n_jobs=8, num_parallel_tree=1, random_state=0,\n",
      "             reg_alpha=0, reg_lambda=1, scale_pos_weight=1, subsample=1,\n",
      "             tree_method='exact', validate_parameters=1, verbosity=None)\n",
      "Best parameters: {'learning_rate': 0.1, 'max_depth': 5, 'n_estimators': 100}\n"
     ]
    }
   ],
   "source": [
    "print(f'Best estimator: {grid_search.best_estimator_}')\n",
    "print(f'Best parameters: {grid_search.best_params_}')"
   ]
  },
  {
   "cell_type": "code",
   "execution_count": 96,
   "id": "satisfied-secretariat",
   "metadata": {},
   "outputs": [
    {
     "name": "stdout",
     "output_type": "stream",
     "text": [
      "RMSE = 0.8464456234130507\n"
     ]
    }
   ],
   "source": [
    "y_pred = grid_search.predict(X_val)\n",
    "mse = mean_squared_error(y_true=y_val, y_pred=y_pred)\n",
    "print('RMSE =', math.sqrt(abs(mse)))"
   ]
  },
  {
   "cell_type": "code",
   "execution_count": 99,
   "id": "promising-viking",
   "metadata": {},
   "outputs": [
    {
     "name": "stdout",
     "output_type": "stream",
     "text": [
      "Fitting 5 folds for each of 3 candidates, totalling 15 fits\n",
      "Wall time: 6min 56s\n"
     ]
    },
    {
     "data": {
      "text/plain": [
       "GridSearchCV(estimator=XGBRegressor(base_score=0.5, booster='gbtree',\n",
       "                                    colsample_bylevel=1, colsample_bynode=1,\n",
       "                                    colsample_bytree=1, gamma=0, gpu_id=-1,\n",
       "                                    importance_type='gain',\n",
       "                                    interaction_constraints='',\n",
       "                                    learning_rate=0.1, max_delta_step=0,\n",
       "                                    max_depth=5, min_child_weight=1,\n",
       "                                    missing=nan, monotone_constraints='()',\n",
       "                                    n_estimators=100, n_jobs=8,\n",
       "                                    num_parallel_tree=1, random_state=0,\n",
       "                                    reg_alpha=0, reg_lambda=1,\n",
       "                                    scale_pos_weight=1, subsample=1,\n",
       "                                    tree_method='exact', validate_parameters=1,\n",
       "                                    verbosity=None),\n",
       "             n_jobs=-1, param_grid={'n_estimators': [100, 150, 250]},\n",
       "             scoring='neg_mean_squared_error', verbose=1)"
      ]
     },
     "execution_count": 99,
     "metadata": {},
     "output_type": "execute_result"
    }
   ],
   "source": [
    "%%time\n",
    "\n",
    "# Second iteration\n",
    "\n",
    "xgb_2 = XGBRegressor(base_score=0.5, booster='gbtree', colsample_bylevel=1,\n",
    "             colsample_bynode=1, colsample_bytree=1, gamma=0, gpu_id=-1,\n",
    "             importance_type='gain', interaction_constraints='',\n",
    "             learning_rate=0.1, max_delta_step=0, max_depth=5,\n",
    "             min_child_weight=1, monotone_constraints='()',\n",
    "             n_jobs=8, num_parallel_tree=1, random_state=0,\n",
    "             reg_alpha=0, reg_lambda=1, scale_pos_weight=1, subsample=1,\n",
    "             tree_method='exact', validate_parameters=1, verbosity=None)\n",
    "\n",
    "parameters_2 = {\n",
    "    'n_estimators': [100, 150, 250],\n",
    "    }\n",
    "\n",
    "grid_search_2 = GridSearchCV(xgb_2, parameters_2, n_jobs=-1, \n",
    "                           verbose=1, scoring = \"neg_mean_squared_error\", refit=True)\n",
    "\n",
    "grid_search_2.fit(X_train, y_train)"
   ]
  },
  {
   "cell_type": "code",
   "execution_count": 100,
   "id": "young-organic",
   "metadata": {},
   "outputs": [
    {
     "name": "stdout",
     "output_type": "stream",
     "text": [
      "Best estimator: XGBRegressor(base_score=0.5, booster='gbtree', colsample_bylevel=1,\n",
      "             colsample_bynode=1, colsample_bytree=1, gamma=0, gpu_id=-1,\n",
      "             importance_type='gain', interaction_constraints='',\n",
      "             learning_rate=0.1, max_delta_step=0, max_depth=5,\n",
      "             min_child_weight=1, missing=nan, monotone_constraints='()',\n",
      "             n_estimators=250, n_jobs=8, num_parallel_tree=1, random_state=0,\n",
      "             reg_alpha=0, reg_lambda=1, scale_pos_weight=1, subsample=1,\n",
      "             tree_method='exact', validate_parameters=1, verbosity=None)\n",
      "Best parameters: {'n_estimators': 250}\n"
     ]
    }
   ],
   "source": [
    "print(f'Best estimator: {grid_search_2.best_estimator_}')\n",
    "print(f'Best parameters: {grid_search_2.best_params_}')"
   ]
  },
  {
   "cell_type": "code",
   "execution_count": 101,
   "id": "textile-likelihood",
   "metadata": {},
   "outputs": [
    {
     "name": "stdout",
     "output_type": "stream",
     "text": [
      "RMSE = 0.8435297762161591\n"
     ]
    }
   ],
   "source": [
    "y_pred_2 = grid_search_2.predict(X_val)\n",
    "mse_2 = mean_squared_error(y_true=y_val, y_pred=y_pred_2)\n",
    "print('RMSE =', math.sqrt(abs(mse_2)))"
   ]
  },
  {
   "cell_type": "code",
   "execution_count": 102,
   "id": "chubby-custody",
   "metadata": {},
   "outputs": [
    {
     "name": "stdout",
     "output_type": "stream",
     "text": [
      "Fitting 5 folds for each of 3 candidates, totalling 15 fits\n",
      "Wall time: 14min 1s\n"
     ]
    },
    {
     "data": {
      "text/plain": [
       "GridSearchCV(estimator=XGBRegressor(base_score=None, booster=None,\n",
       "                                    colsample_bylevel=None,\n",
       "                                    colsample_bynode=None,\n",
       "                                    colsample_bytree=None, gamma=None,\n",
       "                                    gpu_id=None, importance_type='gain',\n",
       "                                    interaction_constraints=None,\n",
       "                                    learning_rate=0.1, max_delta_step=None,\n",
       "                                    max_depth=5, min_child_weight=None,\n",
       "                                    missing=nan, monotone_constraints=None,\n",
       "                                    n_estimators=100, n_jobs=None,\n",
       "                                    num_parallel_tree=None, random_state=None,\n",
       "                                    reg_alpha=None, reg_lambda=None,\n",
       "                                    scale_pos_weight=None, subsample=None,\n",
       "                                    tree_method=None, validate_parameters=None,\n",
       "                                    verbosity=None),\n",
       "             n_jobs=-1, param_grid={'n_estimators': [250, 350, 450]},\n",
       "             scoring='neg_mean_squared_error', verbose=1)"
      ]
     },
     "execution_count": 102,
     "metadata": {},
     "output_type": "execute_result"
    }
   ],
   "source": [
    "%%time\n",
    "\n",
    "# Third iteration\n",
    "\n",
    "xgb_3 = XGBRegressor(learning_rate=0.1, max_depth=5)\n",
    "\n",
    "parameters_3 = {\n",
    "    'n_estimators': [250, 350, 450],\n",
    "    }\n",
    "\n",
    "grid_search_3 = GridSearchCV(xgb_3, parameters_3, n_jobs=-1, \n",
    "                           verbose=1, scoring = \"neg_mean_squared_error\", refit=True)\n",
    "\n",
    "grid_search_3.fit(X_train, y_train)"
   ]
  },
  {
   "cell_type": "code",
   "execution_count": 103,
   "id": "driven-liver",
   "metadata": {},
   "outputs": [
    {
     "name": "stdout",
     "output_type": "stream",
     "text": [
      "Best estimator: XGBRegressor(base_score=0.5, booster='gbtree', colsample_bylevel=1,\n",
      "             colsample_bynode=1, colsample_bytree=1, gamma=0, gpu_id=-1,\n",
      "             importance_type='gain', interaction_constraints='',\n",
      "             learning_rate=0.1, max_delta_step=0, max_depth=5,\n",
      "             min_child_weight=1, missing=nan, monotone_constraints='()',\n",
      "             n_estimators=350, n_jobs=8, num_parallel_tree=1, random_state=0,\n",
      "             reg_alpha=0, reg_lambda=1, scale_pos_weight=1, subsample=1,\n",
      "             tree_method='exact', validate_parameters=1, verbosity=None)\n",
      "Best parameters: {'n_estimators': 350}\n"
     ]
    }
   ],
   "source": [
    "print(f'Best estimator: {grid_search_3.best_estimator_}')\n",
    "print(f'Best parameters: {grid_search_3.best_params_}')"
   ]
  },
  {
   "cell_type": "code",
   "execution_count": 104,
   "id": "heated-franklin",
   "metadata": {},
   "outputs": [
    {
     "name": "stdout",
     "output_type": "stream",
     "text": [
      "RMSE = 0.8434329186368216\n"
     ]
    }
   ],
   "source": [
    "y_pred_3 = grid_search_3.predict(X_val)\n",
    "mse_3 = mean_squared_error(y_true=y_val, y_pred=y_pred_3)\n",
    "print('RMSE =', math.sqrt(abs(mse_3)))"
   ]
  },
  {
   "cell_type": "markdown",
   "id": "current-premiere",
   "metadata": {},
   "source": [
    "### XGBRegressor Learning Curves"
   ]
  },
  {
   "cell_type": "code",
   "execution_count": 113,
   "id": "complicated-deposit",
   "metadata": {},
   "outputs": [
    {
     "data": {
      "image/png": "[encoded data removed]",
      "text/plain": [
       "<Figure size 1440x360 with 3 Axes>"
      ]
     },
     "metadata": {
      "needs_background": "light"
     },
     "output_type": "display_data"
    },
    {
     "name": "stdout",
     "output_type": "stream",
     "text": [
      "Wall time: 32min 5s\n"
     ]
    }
   ],
   "source": [
    "%%time\n",
    "\n",
    "title = \"XGBRegressor Learning Curves\"\n",
    "\n",
    "# Cross validation with 100 iterations to get smoother mean test and train\n",
    "# score curves, each time with 20% data randomly selected as a validation set.\n",
    "# XGBRegressor is more expensive so we do a lower number of CV iterations:\n",
    "cv = ShuffleSplit(n_splits=10, test_size=0.3, random_state=3)\n",
    "\n",
    "estimator = XGBRegressor(n_estimators=350, learning_rate=0.1, max_depth=5)\n",
    "    \n",
    "plot_learning_curve(estimator, title, X, y, axes=None,\n",
    "                    cv=cv, n_jobs=4)\n",
    "\n",
    "plt.show()"
   ]
  },
  {
   "cell_type": "markdown",
   "id": "interracial-stereo",
   "metadata": {},
   "source": [
    "### XGBRegressor Submission"
   ]
  },
  {
   "cell_type": "code",
   "execution_count": 108,
   "id": "acceptable-course",
   "metadata": {},
   "outputs": [
    {
     "data": {
      "text/html": [
       "<div>\n",
       "<style scoped>\n",
       "    .dataframe tbody tr th:only-of-type {\n",
       "        vertical-align: middle;\n",
       "    }\n",
       "\n",
       "    .dataframe tbody tr th {\n",
       "        vertical-align: top;\n",
       "    }\n",
       "\n",
       "    .dataframe thead th {\n",
       "        text-align: right;\n",
       "    }\n",
       "</style>\n",
       "<table border=\"1\" class=\"dataframe\">\n",
       "  <thead>\n",
       "    <tr style=\"text-align: right;\">\n",
       "      <th></th>\n",
       "      <th>cont0</th>\n",
       "      <th>cont1</th>\n",
       "      <th>cont2</th>\n",
       "      <th>cont3</th>\n",
       "      <th>cont4</th>\n",
       "      <th>cont5</th>\n",
       "      <th>cont6</th>\n",
       "      <th>cont7</th>\n",
       "      <th>cont8</th>\n",
       "      <th>cont9</th>\n",
       "      <th>...</th>\n",
       "      <th>cat9_a</th>\n",
       "      <th>cat9_b</th>\n",
       "      <th>cat9_e</th>\n",
       "      <th>cat9_f</th>\n",
       "      <th>cat9_g</th>\n",
       "      <th>cat9_h</th>\n",
       "      <th>cat9_i</th>\n",
       "      <th>cat9_j</th>\n",
       "      <th>cat9_l</th>\n",
       "      <th>cat9_o</th>\n",
       "    </tr>\n",
       "  </thead>\n",
       "  <tbody>\n",
       "    <tr>\n",
       "      <th>0</th>\n",
       "      <td>-0.567908</td>\n",
       "      <td>0.670395</td>\n",
       "      <td>0.122399</td>\n",
       "      <td>0.023265</td>\n",
       "      <td>0.646458</td>\n",
       "      <td>0.594293</td>\n",
       "      <td>-0.467832</td>\n",
       "      <td>0.082901</td>\n",
       "      <td>-0.960400</td>\n",
       "      <td>0.181973</td>\n",
       "      <td>...</td>\n",
       "      <td>0.0</td>\n",
       "      <td>0.0</td>\n",
       "      <td>0.0</td>\n",
       "      <td>0.0</td>\n",
       "      <td>1.0</td>\n",
       "      <td>0.0</td>\n",
       "      <td>0.0</td>\n",
       "      <td>0.0</td>\n",
       "      <td>0.0</td>\n",
       "      <td>0.0</td>\n",
       "    </tr>\n",
       "    <tr>\n",
       "      <th>1</th>\n",
       "      <td>-0.317526</td>\n",
       "      <td>0.744706</td>\n",
       "      <td>-0.666361</td>\n",
       "      <td>0.059415</td>\n",
       "      <td>0.110513</td>\n",
       "      <td>0.488834</td>\n",
       "      <td>-0.047920</td>\n",
       "      <td>0.318204</td>\n",
       "      <td>1.855678</td>\n",
       "      <td>0.493316</td>\n",
       "      <td>...</td>\n",
       "      <td>0.0</td>\n",
       "      <td>0.0</td>\n",
       "      <td>0.0</td>\n",
       "      <td>0.0</td>\n",
       "      <td>0.0</td>\n",
       "      <td>0.0</td>\n",
       "      <td>0.0</td>\n",
       "      <td>0.0</td>\n",
       "      <td>1.0</td>\n",
       "      <td>0.0</td>\n",
       "    </tr>\n",
       "    <tr>\n",
       "      <th>2</th>\n",
       "      <td>0.133915</td>\n",
       "      <td>0.745355</td>\n",
       "      <td>1.265707</td>\n",
       "      <td>0.073736</td>\n",
       "      <td>0.113075</td>\n",
       "      <td>0.667858</td>\n",
       "      <td>1.083683</td>\n",
       "      <td>0.051145</td>\n",
       "      <td>0.693966</td>\n",
       "      <td>0.529895</td>\n",
       "      <td>...</td>\n",
       "      <td>0.0</td>\n",
       "      <td>0.0</td>\n",
       "      <td>0.0</td>\n",
       "      <td>1.0</td>\n",
       "      <td>0.0</td>\n",
       "      <td>0.0</td>\n",
       "      <td>0.0</td>\n",
       "      <td>0.0</td>\n",
       "      <td>0.0</td>\n",
       "      <td>0.0</td>\n",
       "    </tr>\n",
       "    <tr>\n",
       "      <th>3</th>\n",
       "      <td>-0.186435</td>\n",
       "      <td>0.599089</td>\n",
       "      <td>1.078007</td>\n",
       "      <td>0.065598</td>\n",
       "      <td>0.365754</td>\n",
       "      <td>0.743781</td>\n",
       "      <td>-0.645878</td>\n",
       "      <td>0.104644</td>\n",
       "      <td>0.072737</td>\n",
       "      <td>0.584707</td>\n",
       "      <td>...</td>\n",
       "      <td>0.0</td>\n",
       "      <td>0.0</td>\n",
       "      <td>0.0</td>\n",
       "      <td>1.0</td>\n",
       "      <td>0.0</td>\n",
       "      <td>0.0</td>\n",
       "      <td>0.0</td>\n",
       "      <td>0.0</td>\n",
       "      <td>0.0</td>\n",
       "      <td>0.0</td>\n",
       "    </tr>\n",
       "    <tr>\n",
       "      <th>4</th>\n",
       "      <td>-0.361730</td>\n",
       "      <td>0.895997</td>\n",
       "      <td>-0.589673</td>\n",
       "      <td>0.064361</td>\n",
       "      <td>0.717419</td>\n",
       "      <td>0.243894</td>\n",
       "      <td>-0.304696</td>\n",
       "      <td>0.485452</td>\n",
       "      <td>-1.096976</td>\n",
       "      <td>0.205381</td>\n",
       "      <td>...</td>\n",
       "      <td>0.0</td>\n",
       "      <td>0.0</td>\n",
       "      <td>0.0</td>\n",
       "      <td>0.0</td>\n",
       "      <td>0.0</td>\n",
       "      <td>0.0</td>\n",
       "      <td>1.0</td>\n",
       "      <td>0.0</td>\n",
       "      <td>0.0</td>\n",
       "      <td>0.0</td>\n",
       "    </tr>\n",
       "  </tbody>\n",
       "</table>\n",
       "<p>5 rows × 55 columns</p>\n",
       "</div>"
      ],
      "text/plain": [
       "      cont0     cont1     cont2     cont3     cont4     cont5     cont6  \\\n",
       "0 -0.567908  0.670395  0.122399  0.023265  0.646458  0.594293 -0.467832   \n",
       "1 -0.317526  0.744706 -0.666361  0.059415  0.110513  0.488834 -0.047920   \n",
       "2  0.133915  0.745355  1.265707  0.073736  0.113075  0.667858  1.083683   \n",
       "3 -0.186435  0.599089  1.078007  0.065598  0.365754  0.743781 -0.645878   \n",
       "4 -0.361730  0.895997 -0.589673  0.064361  0.717419  0.243894 -0.304696   \n",
       "\n",
       "      cont7     cont8     cont9  ...  cat9_a  cat9_b  cat9_e  cat9_f  cat9_g  \\\n",
       "0  0.082901 -0.960400  0.181973  ...     0.0     0.0     0.0     0.0     1.0   \n",
       "1  0.318204  1.855678  0.493316  ...     0.0     0.0     0.0     0.0     0.0   \n",
       "2  0.051145  0.693966  0.529895  ...     0.0     0.0     0.0     1.0     0.0   \n",
       "3  0.104644  0.072737  0.584707  ...     0.0     0.0     0.0     1.0     0.0   \n",
       "4  0.485452 -1.096976  0.205381  ...     0.0     0.0     0.0     0.0     0.0   \n",
       "\n",
       "   cat9_h  cat9_i  cat9_j  cat9_l  cat9_o  \n",
       "0     0.0     0.0     0.0     0.0     0.0  \n",
       "1     0.0     0.0     0.0     1.0     0.0  \n",
       "2     0.0     0.0     0.0     0.0     0.0  \n",
       "3     0.0     0.0     0.0     0.0     0.0  \n",
       "4     0.0     1.0     0.0     0.0     0.0  \n",
       "\n",
       "[5 rows x 55 columns]"
      ]
     },
     "execution_count": 108,
     "metadata": {},
     "output_type": "execute_result"
    }
   ],
   "source": [
    "test = pd.read_csv('data/X_test.csv')\n",
    "test.head()"
   ]
  },
  {
   "cell_type": "code",
   "execution_count": 109,
   "id": "scenic-hobby",
   "metadata": {},
   "outputs": [
    {
     "data": {
      "text/html": [
       "<div>\n",
       "<style scoped>\n",
       "    .dataframe tbody tr th:only-of-type {\n",
       "        vertical-align: middle;\n",
       "    }\n",
       "\n",
       "    .dataframe tbody tr th {\n",
       "        vertical-align: top;\n",
       "    }\n",
       "\n",
       "    .dataframe thead th {\n",
       "        text-align: right;\n",
       "    }\n",
       "</style>\n",
       "<table border=\"1\" class=\"dataframe\">\n",
       "  <thead>\n",
       "    <tr style=\"text-align: right;\">\n",
       "      <th></th>\n",
       "      <th>id</th>\n",
       "      <th>target</th>\n",
       "    </tr>\n",
       "  </thead>\n",
       "  <tbody>\n",
       "    <tr>\n",
       "      <th>0</th>\n",
       "      <td>0</td>\n",
       "      <td>0.5</td>\n",
       "    </tr>\n",
       "    <tr>\n",
       "      <th>1</th>\n",
       "      <td>5</td>\n",
       "      <td>0.5</td>\n",
       "    </tr>\n",
       "    <tr>\n",
       "      <th>2</th>\n",
       "      <td>15</td>\n",
       "      <td>0.5</td>\n",
       "    </tr>\n",
       "    <tr>\n",
       "      <th>3</th>\n",
       "      <td>16</td>\n",
       "      <td>0.5</td>\n",
       "    </tr>\n",
       "    <tr>\n",
       "      <th>4</th>\n",
       "      <td>17</td>\n",
       "      <td>0.5</td>\n",
       "    </tr>\n",
       "  </tbody>\n",
       "</table>\n",
       "</div>"
      ],
      "text/plain": [
       "   id  target\n",
       "0   0     0.5\n",
       "1   5     0.5\n",
       "2  15     0.5\n",
       "3  16     0.5\n",
       "4  17     0.5"
      ]
     },
     "execution_count": 109,
     "metadata": {},
     "output_type": "execute_result"
    }
   ],
   "source": [
    "submission = pd.read_csv('data/sample_submission.csv')\n",
    "submission.head()"
   ]
  },
  {
   "cell_type": "code",
   "execution_count": 110,
   "id": "relevant-empty",
   "metadata": {},
   "outputs": [
    {
     "data": {
      "text/html": [
       "<div>\n",
       "<style scoped>\n",
       "    .dataframe tbody tr th:only-of-type {\n",
       "        vertical-align: middle;\n",
       "    }\n",
       "\n",
       "    .dataframe tbody tr th {\n",
       "        vertical-align: top;\n",
       "    }\n",
       "\n",
       "    .dataframe thead th {\n",
       "        text-align: right;\n",
       "    }\n",
       "</style>\n",
       "<table border=\"1\" class=\"dataframe\">\n",
       "  <thead>\n",
       "    <tr style=\"text-align: right;\">\n",
       "      <th></th>\n",
       "      <th>id</th>\n",
       "      <th>target</th>\n",
       "    </tr>\n",
       "  </thead>\n",
       "  <tbody>\n",
       "    <tr>\n",
       "      <th>0</th>\n",
       "      <td>0</td>\n",
       "      <td>7.719434</td>\n",
       "    </tr>\n",
       "    <tr>\n",
       "      <th>1</th>\n",
       "      <td>5</td>\n",
       "      <td>7.778706</td>\n",
       "    </tr>\n",
       "    <tr>\n",
       "      <th>2</th>\n",
       "      <td>15</td>\n",
       "      <td>7.617655</td>\n",
       "    </tr>\n",
       "    <tr>\n",
       "      <th>3</th>\n",
       "      <td>16</td>\n",
       "      <td>7.578147</td>\n",
       "    </tr>\n",
       "    <tr>\n",
       "      <th>4</th>\n",
       "      <td>17</td>\n",
       "      <td>7.414889</td>\n",
       "    </tr>\n",
       "  </tbody>\n",
       "</table>\n",
       "</div>"
      ],
      "text/plain": [
       "   id    target\n",
       "0   0  7.719434\n",
       "1   5  7.778706\n",
       "2  15  7.617655\n",
       "3  16  7.578147\n",
       "4  17  7.414889"
      ]
     },
     "execution_count": 110,
     "metadata": {},
     "output_type": "execute_result"
    }
   ],
   "source": [
    "submission['target'] = grid_search_3.predict(test)\n",
    "submission.head()"
   ]
  },
  {
   "cell_type": "code",
   "execution_count": 111,
   "id": "exciting-beatles",
   "metadata": {},
   "outputs": [],
   "source": [
    "submission.to_csv('data/xgb.csv', index=False)"
   ]
  },
  {
   "cell_type": "markdown",
   "id": "latin-cheat",
   "metadata": {},
   "source": [
    "## Model with AdaBoostRegressor"
   ]
  },
  {
   "cell_type": "markdown",
   "id": "confirmed-cowboy",
   "metadata": {},
   "source": [
    "### Tune DecisionTreeRegressor"
   ]
  },
  {
   "cell_type": "code",
   "execution_count": 3,
   "id": "ready-receiver",
   "metadata": {},
   "outputs": [],
   "source": [
    "X = pd.read_csv('data/X_train.csv')\n",
    "y = pd.read_csv('data/y_train.csv')"
   ]
  },
  {
   "cell_type": "code",
   "execution_count": 4,
   "id": "willing-croatia",
   "metadata": {},
   "outputs": [],
   "source": [
    "X_train, X_val, y_train, y_val = train_test_split(X, y, test_size=0.3, random_state=3)"
   ]
  },
  {
   "cell_type": "code",
   "execution_count": 4,
   "id": "automated-burning",
   "metadata": {},
   "outputs": [
    {
     "name": "stdout",
     "output_type": "stream",
     "text": [
      "Fitting 5 folds for each of 8 candidates, totalling 40 fits\n",
      "Wall time: 1min 16s\n"
     ]
    },
    {
     "data": {
      "text/plain": [
       "GridSearchCV(estimator=DecisionTreeRegressor(), n_jobs=-1,\n",
       "             param_grid={'criterion': ['mse', 'friedman_mse'],\n",
       "                         'max_depth': [3, 5], 'splitter': ['best', 'random']},\n",
       "             scoring='neg_mean_squared_error', verbose=1)"
      ]
     },
     "execution_count": 4,
     "metadata": {},
     "output_type": "execute_result"
    }
   ],
   "source": [
    "%%time\n",
    "\n",
    "dec_tree = DecisionTreeRegressor()\n",
    "\n",
    "parameters = {\n",
    "    'criterion': ['mse', 'friedman_mse'],\n",
    "    'splitter': ['best', 'random'],\n",
    "    'max_depth': [3, 5]\n",
    "    }\n",
    "\n",
    "grid_search = GridSearchCV(dec_tree, parameters, n_jobs=-1, \n",
    "                           verbose=1, scoring = \"neg_mean_squared_error\", refit=True)\n",
    "\n",
    "grid_search.fit(X_train, y_train)"
   ]
  },
  {
   "cell_type": "code",
   "execution_count": 5,
   "id": "material-reception",
   "metadata": {},
   "outputs": [
    {
     "name": "stdout",
     "output_type": "stream",
     "text": [
      "Best estimator: DecisionTreeRegressor(max_depth=5)\n",
      "Best parameters: {'criterion': 'mse', 'max_depth': 5, 'splitter': 'best'}\n"
     ]
    }
   ],
   "source": [
    "print(f'Best estimator: {grid_search.best_estimator_}')\n",
    "print(f'Best parameters: {grid_search.best_params_}')"
   ]
  },
  {
   "cell_type": "code",
   "execution_count": 6,
   "id": "southeast-symbol",
   "metadata": {},
   "outputs": [
    {
     "name": "stdout",
     "output_type": "stream",
     "text": [
      "RMSE = 0.8685492402850901\n"
     ]
    }
   ],
   "source": [
    "y_pred = grid_search.predict(X_val)\n",
    "mse = mean_squared_error(y_true=y_val, y_pred=y_pred)\n",
    "print('RMSE =', math.sqrt(abs(mse)))"
   ]
  },
  {
   "cell_type": "markdown",
   "id": "everyday-horse",
   "metadata": {},
   "source": [
    "### Tune AdaBoostRegressor"
   ]
  },
  {
   "cell_type": "code",
   "execution_count": 5,
   "id": "average-capitol",
   "metadata": {},
   "outputs": [
    {
     "name": "stdout",
     "output_type": "stream",
     "text": [
      "n_iterations: 4\n",
      "n_required_iterations: 4\n",
      "n_possible_iterations: 4\n",
      "min_resources_: 7777\n",
      "max_resources_: 210000\n",
      "aggressive_elimination: False\n",
      "factor: 3\n",
      "----------\n",
      "iter: 0\n",
      "n_candidates: 27\n",
      "n_resources: 7777\n",
      "Fitting 5 folds for each of 27 candidates, totalling 135 fits\n",
      "----------\n",
      "iter: 1\n",
      "n_candidates: 9\n",
      "n_resources: 23331\n",
      "Fitting 5 folds for each of 9 candidates, totalling 45 fits\n",
      "----------\n",
      "iter: 2\n",
      "n_candidates: 3\n",
      "n_resources: 69993\n",
      "Fitting 5 folds for each of 3 candidates, totalling 15 fits\n",
      "----------\n",
      "iter: 3\n",
      "n_candidates: 1\n",
      "n_resources: 209979\n",
      "Fitting 5 folds for each of 1 candidates, totalling 5 fits\n"
     ]
    },
    {
     "name": "stderr",
     "output_type": "stream",
     "text": [
      "c:\\users\\njeri\\.venvs\\tabular_comp\\lib\\site-packages\\sklearn\\utils\\validation.py:63: DataConversionWarning: A column-vector y was passed when a 1d array was expected. Please change the shape of y to (n_samples, ), for example using ravel().\n",
      "  return f(*args, **kwargs)\n"
     ]
    },
    {
     "name": "stdout",
     "output_type": "stream",
     "text": [
      "Wall time: 51min 19s\n"
     ]
    },
    {
     "data": {
      "text/plain": [
       "HalvingGridSearchCV(estimator=AdaBoostRegressor(base_estimator=DecisionTreeRegressor(max_depth=5,\n",
       "                                                                                     random_state=3)),\n",
       "                    n_jobs=-1,\n",
       "                    param_grid={'learning_rate': [1, 0.1, 0.01],\n",
       "                                'loss': ['linear', 'square', 'exponential'],\n",
       "                                'n_estimators': [50, 100, 150]},\n",
       "                    refit=<function _refit_callable at 0x0000026869BCBA68>,\n",
       "                    scoring='neg_mean_squared_error', verbose=1)"
      ]
     },
     "execution_count": 5,
     "metadata": {},
     "output_type": "execute_result"
    }
   ],
   "source": [
    "%%time\n",
    "\n",
    "estimator = DecisionTreeRegressor(criterion='mse', max_depth=5, splitter='best', random_state=3)\n",
    "ada = AdaBoostRegressor(base_estimator=estimator)\n",
    "\n",
    "parameters = {\n",
    "    'n_estimators': [50, 100, 150],\n",
    "    'learning_rate': [1, 0.1, 0.01],\n",
    "    'loss': ['linear', 'square', 'exponential']\n",
    "    }\n",
    "\n",
    "grid_search = HalvingGridSearchCV(ada, parameters, n_jobs=-1, \n",
    "                           verbose=1, scoring = \"neg_mean_squared_error\", refit=True)\n",
    "\n",
    "grid_search.fit(X_train, y_train)"
   ]
  },
  {
   "cell_type": "code",
   "execution_count": 7,
   "id": "color-voice",
   "metadata": {},
   "outputs": [
    {
     "name": "stdout",
     "output_type": "stream",
     "text": [
      "Best estimator: AdaBoostRegressor(base_estimator=DecisionTreeRegressor(max_depth=5,\n",
      "                                                       random_state=3),\n",
      "                  learning_rate=0.1, loss='exponential', n_estimators=100)\n",
      "Best parameters: {'learning_rate': 0.1, 'loss': 'exponential', 'n_estimators': 100}\n"
     ]
    }
   ],
   "source": [
    "print(f'Best estimator: {grid_search.best_estimator_}')\n",
    "print(f'Best parameters: {grid_search.best_params_}')"
   ]
  },
  {
   "cell_type": "code",
   "execution_count": 9,
   "id": "professional-pipeline",
   "metadata": {},
   "outputs": [
    {
     "name": "stdout",
     "output_type": "stream",
     "text": [
      "RMSE = 0.864489495071042\n"
     ]
    }
   ],
   "source": [
    "y_pred = grid_search.predict(X_val)\n",
    "mse = mean_squared_error(y_true=y_val, y_pred=y_pred)\n",
    "print('RMSE =', math.sqrt(abs(mse)))"
   ]
  },
  {
   "cell_type": "markdown",
   "id": "bigger-measurement",
   "metadata": {},
   "source": [
    "## Model with GradientBoostingRegressor"
   ]
  },
  {
   "cell_type": "code",
   "execution_count": 11,
   "id": "living-license",
   "metadata": {},
   "outputs": [
    {
     "name": "stdout",
     "output_type": "stream",
     "text": [
      "n_iterations: 4\n",
      "n_required_iterations: 4\n",
      "n_possible_iterations: 4\n",
      "min_resources_: 7777\n",
      "max_resources_: 210000\n",
      "aggressive_elimination: False\n",
      "factor: 3\n",
      "----------\n",
      "iter: 0\n",
      "n_candidates: 27\n",
      "n_resources: 7777\n",
      "Fitting 5 folds for each of 27 candidates, totalling 135 fits\n",
      "----------\n",
      "iter: 1\n",
      "n_candidates: 9\n",
      "n_resources: 23331\n",
      "Fitting 5 folds for each of 9 candidates, totalling 45 fits\n",
      "----------\n",
      "iter: 2\n",
      "n_candidates: 3\n",
      "n_resources: 69993\n",
      "Fitting 5 folds for each of 3 candidates, totalling 15 fits\n",
      "----------\n",
      "iter: 3\n",
      "n_candidates: 1\n",
      "n_resources: 209979\n",
      "Fitting 5 folds for each of 1 candidates, totalling 5 fits\n"
     ]
    },
    {
     "name": "stderr",
     "output_type": "stream",
     "text": [
      "c:\\users\\njeri\\.venvs\\tabular_comp\\lib\\site-packages\\sklearn\\utils\\validation.py:63: DataConversionWarning: A column-vector y was passed when a 1d array was expected. Please change the shape of y to (n_samples, ), for example using ravel().\n",
      "  return f(*args, **kwargs)\n"
     ]
    },
    {
     "name": "stdout",
     "output_type": "stream",
     "text": [
      "Wall time: 1h 7min 23s\n"
     ]
    },
    {
     "data": {
      "text/plain": [
       "HalvingGridSearchCV(estimator=GradientBoostingRegressor(), n_jobs=-1,\n",
       "                    param_grid={'learning_rate': [0.1, 0.01, 0.001],\n",
       "                                'loss': ['ls', 'lad', 'huber'],\n",
       "                                'n_estimators': [100, 200, 300]},\n",
       "                    refit=<function _refit_callable at 0x0000026869BCBA68>,\n",
       "                    scoring='neg_mean_squared_error', verbose=1)"
      ]
     },
     "execution_count": 11,
     "metadata": {},
     "output_type": "execute_result"
    }
   ],
   "source": [
    "%%time\n",
    "\n",
    "gbr = GradientBoostingRegressor()\n",
    "\n",
    "parameters = {\n",
    "    'n_estimators': [100, 200, 300],\n",
    "    'learning_rate': [0.1, 0.01, 0.001],\n",
    "    'loss': ['ls', 'lad', 'huber']\n",
    "    }\n",
    "\n",
    "grid_search = HalvingGridSearchCV(gbr, parameters, n_jobs=-1, \n",
    "                           verbose=1, scoring = \"neg_mean_squared_error\", refit=True)\n",
    "\n",
    "grid_search.fit(X_train, y_train)"
   ]
  },
  {
   "cell_type": "code",
   "execution_count": 12,
   "id": "silent-switzerland",
   "metadata": {},
   "outputs": [
    {
     "name": "stdout",
     "output_type": "stream",
     "text": [
      "Best estimator: GradientBoostingRegressor(n_estimators=300)\n",
      "Best parameters: {'learning_rate': 0.1, 'loss': 'ls', 'n_estimators': 300}\n"
     ]
    }
   ],
   "source": [
    "print(f'Best estimator: {grid_search.best_estimator_}')\n",
    "print(f'Best parameters: {grid_search.best_params_}')"
   ]
  },
  {
   "cell_type": "code",
   "execution_count": 13,
   "id": "wooden-interstate",
   "metadata": {},
   "outputs": [
    {
     "name": "stdout",
     "output_type": "stream",
     "text": [
      "RMSE = 0.8440764232304617\n"
     ]
    }
   ],
   "source": [
    "y_pred = grid_search.predict(X_val)\n",
    "mse = mean_squared_error(y_true=y_val, y_pred=y_pred)\n",
    "print('RMSE =', math.sqrt(abs(mse)))"
   ]
  },
  {
   "cell_type": "code",
   "execution_count": 14,
   "id": "modified-placement",
   "metadata": {},
   "outputs": [
    {
     "name": "stdout",
     "output_type": "stream",
     "text": [
      "n_iterations: 3\n",
      "n_required_iterations: 3\n",
      "n_possible_iterations: 3\n",
      "min_resources_: 23333\n",
      "max_resources_: 210000\n",
      "aggressive_elimination: False\n",
      "factor: 3\n",
      "----------\n",
      "iter: 0\n",
      "n_candidates: 18\n",
      "n_resources: 23333\n",
      "Fitting 5 folds for each of 18 candidates, totalling 90 fits\n",
      "----------\n",
      "iter: 1\n",
      "n_candidates: 6\n",
      "n_resources: 69999\n",
      "Fitting 5 folds for each of 6 candidates, totalling 30 fits\n",
      "----------\n",
      "iter: 2\n",
      "n_candidates: 2\n",
      "n_resources: 209997\n",
      "Fitting 5 folds for each of 2 candidates, totalling 10 fits\n"
     ]
    },
    {
     "name": "stderr",
     "output_type": "stream",
     "text": [
      "c:\\users\\njeri\\.venvs\\tabular_comp\\lib\\site-packages\\sklearn\\utils\\validation.py:63: DataConversionWarning: A column-vector y was passed when a 1d array was expected. Please change the shape of y to (n_samples, ), for example using ravel().\n",
      "  return f(*args, **kwargs)\n"
     ]
    },
    {
     "name": "stdout",
     "output_type": "stream",
     "text": [
      "Wall time: 1h 10min 26s\n"
     ]
    },
    {
     "data": {
      "text/plain": [
       "HalvingGridSearchCV(estimator=GradientBoostingRegressor(), n_jobs=-1,\n",
       "                    param_grid={'loss': ['ls', 'quantile'],\n",
       "                                'n_estimators': [300, 350, 400],\n",
       "                                'subsample': [1, 0.7, 0.4]},\n",
       "                    refit=<function _refit_callable at 0x0000026869BCBA68>,\n",
       "                    scoring='neg_mean_squared_error', verbose=1)"
      ]
     },
     "execution_count": 14,
     "metadata": {},
     "output_type": "execute_result"
    }
   ],
   "source": [
    "%%time\n",
    "\n",
    "## Second iteration\n",
    "\n",
    "gbr_2 = GradientBoostingRegressor(learning_rate=0.1)\n",
    "\n",
    "parameters_2 = {\n",
    "    'n_estimators': [300, 350, 400],\n",
    "    'subsample': [1, 0.7, 0.4],\n",
    "    'loss': ['ls', 'quantile']\n",
    "    }\n",
    "\n",
    "search_2 = HalvingGridSearchCV(gbr_2, parameters_2, n_jobs=-1, \n",
    "                           verbose=1, scoring = \"neg_mean_squared_error\", refit=True)\n",
    "\n",
    "search_2.fit(X_train, y_train)"
   ]
  },
  {
   "cell_type": "code",
   "execution_count": 15,
   "id": "dental-technique",
   "metadata": {},
   "outputs": [
    {
     "name": "stdout",
     "output_type": "stream",
     "text": [
      "Best estimator: GradientBoostingRegressor(n_estimators=350, subsample=0.7)\n",
      "Best parameters: {'loss': 'ls', 'n_estimators': 350, 'subsample': 0.7}\n"
     ]
    }
   ],
   "source": [
    "print(f'Best estimator: {search_2.best_estimator_}')\n",
    "print(f'Best parameters: {search_2.best_params_}')"
   ]
  },
  {
   "cell_type": "code",
   "execution_count": 16,
   "id": "entertaining-talent",
   "metadata": {},
   "outputs": [
    {
     "name": "stdout",
     "output_type": "stream",
     "text": [
      "RMSE = 0.8434234165719741\n"
     ]
    }
   ],
   "source": [
    "y_pred_2 = search_2.predict(X_val)\n",
    "mse_2 = mean_squared_error(y_true=y_val, y_pred=y_pred_2)\n",
    "print('RMSE =', math.sqrt(abs(mse_2)))"
   ]
  },
  {
   "cell_type": "markdown",
   "id": "elegant-textbook",
   "metadata": {},
   "source": [
    "### GBR Submission"
   ]
  },
  {
   "cell_type": "code",
   "execution_count": 17,
   "id": "affecting-review",
   "metadata": {},
   "outputs": [
    {
     "data": {
      "text/html": [
       "<div>\n",
       "<style scoped>\n",
       "    .dataframe tbody tr th:only-of-type {\n",
       "        vertical-align: middle;\n",
       "    }\n",
       "\n",
       "    .dataframe tbody tr th {\n",
       "        vertical-align: top;\n",
       "    }\n",
       "\n",
       "    .dataframe thead th {\n",
       "        text-align: right;\n",
       "    }\n",
       "</style>\n",
       "<table border=\"1\" class=\"dataframe\">\n",
       "  <thead>\n",
       "    <tr style=\"text-align: right;\">\n",
       "      <th></th>\n",
       "      <th>cont0</th>\n",
       "      <th>cont1</th>\n",
       "      <th>cont2</th>\n",
       "      <th>cont3</th>\n",
       "      <th>cont4</th>\n",
       "      <th>cont5</th>\n",
       "      <th>cont6</th>\n",
       "      <th>cont7</th>\n",
       "      <th>cont8</th>\n",
       "      <th>cont9</th>\n",
       "      <th>...</th>\n",
       "      <th>cat9_a</th>\n",
       "      <th>cat9_b</th>\n",
       "      <th>cat9_e</th>\n",
       "      <th>cat9_f</th>\n",
       "      <th>cat9_g</th>\n",
       "      <th>cat9_h</th>\n",
       "      <th>cat9_i</th>\n",
       "      <th>cat9_j</th>\n",
       "      <th>cat9_l</th>\n",
       "      <th>cat9_o</th>\n",
       "    </tr>\n",
       "  </thead>\n",
       "  <tbody>\n",
       "    <tr>\n",
       "      <th>0</th>\n",
       "      <td>-0.567908</td>\n",
       "      <td>0.670395</td>\n",
       "      <td>0.122399</td>\n",
       "      <td>0.023265</td>\n",
       "      <td>0.646458</td>\n",
       "      <td>0.594293</td>\n",
       "      <td>-0.467832</td>\n",
       "      <td>0.082901</td>\n",
       "      <td>-0.960400</td>\n",
       "      <td>0.181973</td>\n",
       "      <td>...</td>\n",
       "      <td>0.0</td>\n",
       "      <td>0.0</td>\n",
       "      <td>0.0</td>\n",
       "      <td>0.0</td>\n",
       "      <td>1.0</td>\n",
       "      <td>0.0</td>\n",
       "      <td>0.0</td>\n",
       "      <td>0.0</td>\n",
       "      <td>0.0</td>\n",
       "      <td>0.0</td>\n",
       "    </tr>\n",
       "    <tr>\n",
       "      <th>1</th>\n",
       "      <td>-0.317526</td>\n",
       "      <td>0.744706</td>\n",
       "      <td>-0.666361</td>\n",
       "      <td>0.059415</td>\n",
       "      <td>0.110513</td>\n",
       "      <td>0.488834</td>\n",
       "      <td>-0.047920</td>\n",
       "      <td>0.318204</td>\n",
       "      <td>1.855678</td>\n",
       "      <td>0.493316</td>\n",
       "      <td>...</td>\n",
       "      <td>0.0</td>\n",
       "      <td>0.0</td>\n",
       "      <td>0.0</td>\n",
       "      <td>0.0</td>\n",
       "      <td>0.0</td>\n",
       "      <td>0.0</td>\n",
       "      <td>0.0</td>\n",
       "      <td>0.0</td>\n",
       "      <td>1.0</td>\n",
       "      <td>0.0</td>\n",
       "    </tr>\n",
       "    <tr>\n",
       "      <th>2</th>\n",
       "      <td>0.133915</td>\n",
       "      <td>0.745355</td>\n",
       "      <td>1.265707</td>\n",
       "      <td>0.073736</td>\n",
       "      <td>0.113075</td>\n",
       "      <td>0.667858</td>\n",
       "      <td>1.083683</td>\n",
       "      <td>0.051145</td>\n",
       "      <td>0.693966</td>\n",
       "      <td>0.529895</td>\n",
       "      <td>...</td>\n",
       "      <td>0.0</td>\n",
       "      <td>0.0</td>\n",
       "      <td>0.0</td>\n",
       "      <td>1.0</td>\n",
       "      <td>0.0</td>\n",
       "      <td>0.0</td>\n",
       "      <td>0.0</td>\n",
       "      <td>0.0</td>\n",
       "      <td>0.0</td>\n",
       "      <td>0.0</td>\n",
       "    </tr>\n",
       "    <tr>\n",
       "      <th>3</th>\n",
       "      <td>-0.186435</td>\n",
       "      <td>0.599089</td>\n",
       "      <td>1.078007</td>\n",
       "      <td>0.065598</td>\n",
       "      <td>0.365754</td>\n",
       "      <td>0.743781</td>\n",
       "      <td>-0.645878</td>\n",
       "      <td>0.104644</td>\n",
       "      <td>0.072737</td>\n",
       "      <td>0.584707</td>\n",
       "      <td>...</td>\n",
       "      <td>0.0</td>\n",
       "      <td>0.0</td>\n",
       "      <td>0.0</td>\n",
       "      <td>1.0</td>\n",
       "      <td>0.0</td>\n",
       "      <td>0.0</td>\n",
       "      <td>0.0</td>\n",
       "      <td>0.0</td>\n",
       "      <td>0.0</td>\n",
       "      <td>0.0</td>\n",
       "    </tr>\n",
       "    <tr>\n",
       "      <th>4</th>\n",
       "      <td>-0.361730</td>\n",
       "      <td>0.895997</td>\n",
       "      <td>-0.589673</td>\n",
       "      <td>0.064361</td>\n",
       "      <td>0.717419</td>\n",
       "      <td>0.243894</td>\n",
       "      <td>-0.304696</td>\n",
       "      <td>0.485452</td>\n",
       "      <td>-1.096976</td>\n",
       "      <td>0.205381</td>\n",
       "      <td>...</td>\n",
       "      <td>0.0</td>\n",
       "      <td>0.0</td>\n",
       "      <td>0.0</td>\n",
       "      <td>0.0</td>\n",
       "      <td>0.0</td>\n",
       "      <td>0.0</td>\n",
       "      <td>1.0</td>\n",
       "      <td>0.0</td>\n",
       "      <td>0.0</td>\n",
       "      <td>0.0</td>\n",
       "    </tr>\n",
       "  </tbody>\n",
       "</table>\n",
       "<p>5 rows × 55 columns</p>\n",
       "</div>"
      ],
      "text/plain": [
       "      cont0     cont1     cont2     cont3     cont4     cont5     cont6  \\\n",
       "0 -0.567908  0.670395  0.122399  0.023265  0.646458  0.594293 -0.467832   \n",
       "1 -0.317526  0.744706 -0.666361  0.059415  0.110513  0.488834 -0.047920   \n",
       "2  0.133915  0.745355  1.265707  0.073736  0.113075  0.667858  1.083683   \n",
       "3 -0.186435  0.599089  1.078007  0.065598  0.365754  0.743781 -0.645878   \n",
       "4 -0.361730  0.895997 -0.589673  0.064361  0.717419  0.243894 -0.304696   \n",
       "\n",
       "      cont7     cont8     cont9  ...  cat9_a  cat9_b  cat9_e  cat9_f  cat9_g  \\\n",
       "0  0.082901 -0.960400  0.181973  ...     0.0     0.0     0.0     0.0     1.0   \n",
       "1  0.318204  1.855678  0.493316  ...     0.0     0.0     0.0     0.0     0.0   \n",
       "2  0.051145  0.693966  0.529895  ...     0.0     0.0     0.0     1.0     0.0   \n",
       "3  0.104644  0.072737  0.584707  ...     0.0     0.0     0.0     1.0     0.0   \n",
       "4  0.485452 -1.096976  0.205381  ...     0.0     0.0     0.0     0.0     0.0   \n",
       "\n",
       "   cat9_h  cat9_i  cat9_j  cat9_l  cat9_o  \n",
       "0     0.0     0.0     0.0     0.0     0.0  \n",
       "1     0.0     0.0     0.0     1.0     0.0  \n",
       "2     0.0     0.0     0.0     0.0     0.0  \n",
       "3     0.0     0.0     0.0     0.0     0.0  \n",
       "4     0.0     1.0     0.0     0.0     0.0  \n",
       "\n",
       "[5 rows x 55 columns]"
      ]
     },
     "execution_count": 17,
     "metadata": {},
     "output_type": "execute_result"
    }
   ],
   "source": [
    "test = pd.read_csv('data/X_test.csv')\n",
    "test.head()"
   ]
  },
  {
   "cell_type": "code",
   "execution_count": 18,
   "id": "compact-delhi",
   "metadata": {},
   "outputs": [
    {
     "data": {
      "text/html": [
       "<div>\n",
       "<style scoped>\n",
       "    .dataframe tbody tr th:only-of-type {\n",
       "        vertical-align: middle;\n",
       "    }\n",
       "\n",
       "    .dataframe tbody tr th {\n",
       "        vertical-align: top;\n",
       "    }\n",
       "\n",
       "    .dataframe thead th {\n",
       "        text-align: right;\n",
       "    }\n",
       "</style>\n",
       "<table border=\"1\" class=\"dataframe\">\n",
       "  <thead>\n",
       "    <tr style=\"text-align: right;\">\n",
       "      <th></th>\n",
       "      <th>id</th>\n",
       "      <th>target</th>\n",
       "    </tr>\n",
       "  </thead>\n",
       "  <tbody>\n",
       "    <tr>\n",
       "      <th>0</th>\n",
       "      <td>0</td>\n",
       "      <td>0.5</td>\n",
       "    </tr>\n",
       "    <tr>\n",
       "      <th>1</th>\n",
       "      <td>5</td>\n",
       "      <td>0.5</td>\n",
       "    </tr>\n",
       "    <tr>\n",
       "      <th>2</th>\n",
       "      <td>15</td>\n",
       "      <td>0.5</td>\n",
       "    </tr>\n",
       "    <tr>\n",
       "      <th>3</th>\n",
       "      <td>16</td>\n",
       "      <td>0.5</td>\n",
       "    </tr>\n",
       "    <tr>\n",
       "      <th>4</th>\n",
       "      <td>17</td>\n",
       "      <td>0.5</td>\n",
       "    </tr>\n",
       "  </tbody>\n",
       "</table>\n",
       "</div>"
      ],
      "text/plain": [
       "   id  target\n",
       "0   0     0.5\n",
       "1   5     0.5\n",
       "2  15     0.5\n",
       "3  16     0.5\n",
       "4  17     0.5"
      ]
     },
     "execution_count": 18,
     "metadata": {},
     "output_type": "execute_result"
    }
   ],
   "source": [
    "submission = pd.read_csv('data/sample_submission.csv')\n",
    "submission.head()"
   ]
  },
  {
   "cell_type": "code",
   "execution_count": 19,
   "id": "juvenile-bacteria",
   "metadata": {},
   "outputs": [
    {
     "data": {
      "text/html": [
       "<div>\n",
       "<style scoped>\n",
       "    .dataframe tbody tr th:only-of-type {\n",
       "        vertical-align: middle;\n",
       "    }\n",
       "\n",
       "    .dataframe tbody tr th {\n",
       "        vertical-align: top;\n",
       "    }\n",
       "\n",
       "    .dataframe thead th {\n",
       "        text-align: right;\n",
       "    }\n",
       "</style>\n",
       "<table border=\"1\" class=\"dataframe\">\n",
       "  <thead>\n",
       "    <tr style=\"text-align: right;\">\n",
       "      <th></th>\n",
       "      <th>id</th>\n",
       "      <th>target</th>\n",
       "    </tr>\n",
       "  </thead>\n",
       "  <tbody>\n",
       "    <tr>\n",
       "      <th>0</th>\n",
       "      <td>0</td>\n",
       "      <td>7.521744</td>\n",
       "    </tr>\n",
       "    <tr>\n",
       "      <th>1</th>\n",
       "      <td>5</td>\n",
       "      <td>7.805596</td>\n",
       "    </tr>\n",
       "    <tr>\n",
       "      <th>2</th>\n",
       "      <td>15</td>\n",
       "      <td>7.629301</td>\n",
       "    </tr>\n",
       "    <tr>\n",
       "      <th>3</th>\n",
       "      <td>16</td>\n",
       "      <td>7.423091</td>\n",
       "    </tr>\n",
       "    <tr>\n",
       "      <th>4</th>\n",
       "      <td>17</td>\n",
       "      <td>7.294840</td>\n",
       "    </tr>\n",
       "  </tbody>\n",
       "</table>\n",
       "</div>"
      ],
      "text/plain": [
       "   id    target\n",
       "0   0  7.521744\n",
       "1   5  7.805596\n",
       "2  15  7.629301\n",
       "3  16  7.423091\n",
       "4  17  7.294840"
      ]
     },
     "execution_count": 19,
     "metadata": {},
     "output_type": "execute_result"
    }
   ],
   "source": [
    "submission['target'] = search_2.predict(test)\n",
    "submission.head()"
   ]
  },
  {
   "cell_type": "code",
   "execution_count": 20,
   "id": "streaming-portal",
   "metadata": {},
   "outputs": [],
   "source": [
    "submission.to_csv('data/gbr.csv', index=False)"
   ]
  },
  {
   "cell_type": "markdown",
   "id": "varied-recognition",
   "metadata": {},
   "source": [
    "## Model with Voting Regressor"
   ]
  },
  {
   "cell_type": "code",
   "execution_count": 25,
   "id": "essential-africa",
   "metadata": {},
   "outputs": [
    {
     "name": "stderr",
     "output_type": "stream",
     "text": [
      "c:\\users\\njeri\\.venvs\\tabular_comp\\lib\\site-packages\\sklearn\\utils\\validation.py:63: DataConversionWarning: A column-vector y was passed when a 1d array was expected. Please change the shape of y to (n_samples, ), for example using ravel().\n",
      "  return f(*args, **kwargs)\n"
     ]
    },
    {
     "name": "stdout",
     "output_type": "stream",
     "text": [
      "Wall time: 5min 38s\n"
     ]
    },
    {
     "data": {
      "text/plain": [
       "VotingRegressor(estimators=[('xgb',\n",
       "                             XGBRegressor(base_score=None, booster=None,\n",
       "                                          colsample_bylevel=None,\n",
       "                                          colsample_bynode=None,\n",
       "                                          colsample_bytree=None, gamma=None,\n",
       "                                          gpu_id=None, importance_type='gain',\n",
       "                                          interaction_constraints=None,\n",
       "                                          learning_rate=0.1,\n",
       "                                          max_delta_step=None, max_depth=5,\n",
       "                                          min_child_weight=None, missing=nan,\n",
       "                                          monotone_constraints=None,\n",
       "                                          n_estimators=350, n_jobs=None,\n",
       "                                          num_parallel_tree=None,\n",
       "                                          random_state=3, reg_alpha=None,\n",
       "                                          reg_lambda=None,\n",
       "                                          scale_pos_weight=None, subsample=None,\n",
       "                                          tree_method=None,\n",
       "                                          validate_parameters=None,\n",
       "                                          verbosity=None)),\n",
       "                            ('gbr',\n",
       "                             GradientBoostingRegressor(n_estimators=350,\n",
       "                                                       subsample=0.7))],\n",
       "                n_jobs=-1, verbose=True)"
      ]
     },
     "execution_count": 25,
     "metadata": {},
     "output_type": "execute_result"
    }
   ],
   "source": [
    "%%time\n",
    "\n",
    "xgb = XGBRegressor(learning_rate=0.1, max_depth=5, n_estimators=350, random_state=3)\n",
    "gbr = GradientBoostingRegressor(learning_rate=0.1, loss='ls', n_estimators=350, subsample=0.7)\n",
    "vr = VotingRegressor(\n",
    "    estimators=[('xgb', xgb), ('gbr', gbr)],\n",
    "    n_jobs=-1, verbose=True\n",
    "    )\n",
    "vr.fit(X_train, y_train)"
   ]
  },
  {
   "cell_type": "code",
   "execution_count": 26,
   "id": "affected-triple",
   "metadata": {},
   "outputs": [
    {
     "name": "stdout",
     "output_type": "stream",
     "text": [
      "RMSE = 0.8427787428408751\n"
     ]
    }
   ],
   "source": [
    "y_pred = vr.predict(X_val)\n",
    "mse = mean_squared_error(y_true=y_val, y_pred=y_pred)\n",
    "print('RMSE =', math.sqrt(abs(mse)))"
   ]
  },
  {
   "cell_type": "markdown",
   "id": "heated-drove",
   "metadata": {},
   "source": [
    "### Voting Regressor Submission"
   ]
  },
  {
   "cell_type": "code",
   "execution_count": 27,
   "id": "respiratory-toner",
   "metadata": {},
   "outputs": [],
   "source": [
    "test = pd.read_csv('data/X_test.csv')\n",
    "submission = pd.read_csv('data/sample_submission.csv')\n",
    "submission['target'] = vr.predict(test)\n",
    "submission.to_csv('data/vr.csv', index=False)"
   ]
  },
  {
   "cell_type": "markdown",
   "id": "behavioral-underground",
   "metadata": {},
   "source": [
    "## RandomForest Model"
   ]
  },
  {
   "cell_type": "code",
   "execution_count": 3,
   "id": "front-politics",
   "metadata": {},
   "outputs": [],
   "source": [
    "X = pd.read_csv('data/X_train.csv')\n",
    "y = pd.read_csv('data/y_train.csv')"
   ]
  },
  {
   "cell_type": "code",
   "execution_count": 4,
   "id": "equipped-cargo",
   "metadata": {},
   "outputs": [],
   "source": [
    "X_train, X_val, y_train, y_val = train_test_split(X, y, test_size=0.3, random_state=3)"
   ]
  },
  {
   "cell_type": "code",
   "execution_count": 9,
   "id": "impressed-stopping",
   "metadata": {},
   "outputs": [
    {
     "name": "stderr",
     "output_type": "stream",
     "text": [
      "c:\\users\\njeri\\.venvs\\tabular_comp\\lib\\site-packages\\ipykernel_launcher.py:3: DataConversionWarning: A column-vector y was passed when a 1d array was expected. Please change the shape of y to (n_samples,), for example using ravel().\n",
      "  This is separate from the ipykernel package so we can avoid doing imports until\n"
     ]
    },
    {
     "name": "stdout",
     "output_type": "stream",
     "text": [
      "Wall time: 9min 40s\n"
     ]
    },
    {
     "data": {
      "text/plain": [
       "RandomForestRegressor(max_depth=5, n_estimators=300)"
      ]
     },
     "execution_count": 9,
     "metadata": {},
     "output_type": "execute_result"
    }
   ],
   "source": [
    "%%time\n",
    "\n",
    "rf = RandomForestRegressor(n_estimators=300, criterion='mse', max_depth=5)\n",
    "\n",
    "rf.fit(X_train, y_train)"
   ]
  },
  {
   "cell_type": "code",
   "execution_count": 10,
   "id": "arranged-commonwealth",
   "metadata": {},
   "outputs": [
    {
     "name": "stdout",
     "output_type": "stream",
     "text": [
      "RMSE = 0.8657956621115992\n"
     ]
    }
   ],
   "source": [
    "y_pred = rf.predict(X_val)\n",
    "mse = mean_squared_error(y_true=y_val, y_pred=y_pred)\n",
    "print('RMSE =', math.sqrt(abs(mse)))"
   ]
  },
  {
   "cell_type": "code",
   "execution_count": 11,
   "id": "bridal-disney",
   "metadata": {},
   "outputs": [
    {
     "name": "stderr",
     "output_type": "stream",
     "text": [
      "c:\\users\\njeri\\.venvs\\tabular_comp\\lib\\site-packages\\ipykernel_launcher.py:5: DataConversionWarning: A column-vector y was passed when a 1d array was expected. Please change the shape of y to (n_samples,), for example using ravel().\n",
      "  \"\"\"\n"
     ]
    },
    {
     "name": "stdout",
     "output_type": "stream",
     "text": [
      "Wall time: 12min 47s\n"
     ]
    },
    {
     "data": {
      "text/plain": [
       "RandomForestRegressor(max_depth=5, n_estimators=400)"
      ]
     },
     "execution_count": 11,
     "metadata": {},
     "output_type": "execute_result"
    }
   ],
   "source": [
    "%%time\n",
    "\n",
    "# second iteration\n",
    "\n",
    "rf_2 = RandomForestRegressor(n_estimators=400, criterion='mse', max_depth=5)\n",
    "\n",
    "rf_2.fit(X_train, y_train)"
   ]
  },
  {
   "cell_type": "code",
   "execution_count": 12,
   "id": "clinical-amplifier",
   "metadata": {},
   "outputs": [
    {
     "name": "stdout",
     "output_type": "stream",
     "text": [
      "RMSE = 0.8658817232074387\n"
     ]
    }
   ],
   "source": [
    "y_pred_2 = rf_2.predict(X_val)\n",
    "mse_2 = mean_squared_error(y_true=y_val, y_pred=y_pred_2)\n",
    "print('RMSE =', math.sqrt(abs(mse_2)))"
   ]
  },
  {
   "cell_type": "code",
   "execution_count": 13,
   "id": "sought-hardwood",
   "metadata": {},
   "outputs": [
    {
     "name": "stderr",
     "output_type": "stream",
     "text": [
      "c:\\users\\njeri\\.venvs\\tabular_comp\\lib\\site-packages\\ipykernel_launcher.py:5: DataConversionWarning: A column-vector y was passed when a 1d array was expected. Please change the shape of y to (n_samples,), for example using ravel().\n",
      "  \"\"\"\n"
     ]
    },
    {
     "ename": "KeyboardInterrupt",
     "evalue": "",
     "output_type": "error",
     "traceback": [
      "\u001b[1;31m---------------------------------------------------------------------------\u001b[0m",
      "\u001b[1;31mKeyboardInterrupt\u001b[0m                         Traceback (most recent call last)",
      "\u001b[1;32m<timed exec>\u001b[0m in \u001b[0;36m<module>\u001b[1;34m\u001b[0m\n",
      "\u001b[1;32mc:\\users\\njeri\\.venvs\\tabular_comp\\lib\\site-packages\\sklearn\\ensemble\\_forest.py\u001b[0m in \u001b[0;36mfit\u001b[1;34m(self, X, y, sample_weight)\u001b[0m\n\u001b[0;32m    391\u001b[0m                     \u001b[0mverbose\u001b[0m\u001b[1;33m=\u001b[0m\u001b[0mself\u001b[0m\u001b[1;33m.\u001b[0m\u001b[0mverbose\u001b[0m\u001b[1;33m,\u001b[0m \u001b[0mclass_weight\u001b[0m\u001b[1;33m=\u001b[0m\u001b[0mself\u001b[0m\u001b[1;33m.\u001b[0m\u001b[0mclass_weight\u001b[0m\u001b[1;33m,\u001b[0m\u001b[1;33m\u001b[0m\u001b[1;33m\u001b[0m\u001b[0m\n\u001b[0;32m    392\u001b[0m                     n_samples_bootstrap=n_samples_bootstrap)\n\u001b[1;32m--> 393\u001b[1;33m                 for i, t in enumerate(trees))\n\u001b[0m\u001b[0;32m    394\u001b[0m \u001b[1;33m\u001b[0m\u001b[0m\n\u001b[0;32m    395\u001b[0m             \u001b[1;31m# Collect newly grown trees\u001b[0m\u001b[1;33m\u001b[0m\u001b[1;33m\u001b[0m\u001b[1;33m\u001b[0m\u001b[0m\n",
      "\u001b[1;32mc:\\users\\njeri\\.venvs\\tabular_comp\\lib\\site-packages\\joblib\\parallel.py\u001b[0m in \u001b[0;36m__call__\u001b[1;34m(self, iterable)\u001b[0m\n\u001b[0;32m   1039\u001b[0m             \u001b[1;31m# remaining jobs.\u001b[0m\u001b[1;33m\u001b[0m\u001b[1;33m\u001b[0m\u001b[1;33m\u001b[0m\u001b[0m\n\u001b[0;32m   1040\u001b[0m             \u001b[0mself\u001b[0m\u001b[1;33m.\u001b[0m\u001b[0m_iterating\u001b[0m \u001b[1;33m=\u001b[0m \u001b[1;32mFalse\u001b[0m\u001b[1;33m\u001b[0m\u001b[1;33m\u001b[0m\u001b[0m\n\u001b[1;32m-> 1041\u001b[1;33m             \u001b[1;32mif\u001b[0m \u001b[0mself\u001b[0m\u001b[1;33m.\u001b[0m\u001b[0mdispatch_one_batch\u001b[0m\u001b[1;33m(\u001b[0m\u001b[0miterator\u001b[0m\u001b[1;33m)\u001b[0m\u001b[1;33m:\u001b[0m\u001b[1;33m\u001b[0m\u001b[1;33m\u001b[0m\u001b[0m\n\u001b[0m\u001b[0;32m   1042\u001b[0m                 \u001b[0mself\u001b[0m\u001b[1;33m.\u001b[0m\u001b[0m_iterating\u001b[0m \u001b[1;33m=\u001b[0m \u001b[0mself\u001b[0m\u001b[1;33m.\u001b[0m\u001b[0m_original_iterator\u001b[0m \u001b[1;32mis\u001b[0m \u001b[1;32mnot\u001b[0m \u001b[1;32mNone\u001b[0m\u001b[1;33m\u001b[0m\u001b[1;33m\u001b[0m\u001b[0m\n\u001b[0;32m   1043\u001b[0m \u001b[1;33m\u001b[0m\u001b[0m\n",
      "\u001b[1;32mc:\\users\\njeri\\.venvs\\tabular_comp\\lib\\site-packages\\joblib\\parallel.py\u001b[0m in \u001b[0;36mdispatch_one_batch\u001b[1;34m(self, iterator)\u001b[0m\n\u001b[0;32m    857\u001b[0m                 \u001b[1;32mreturn\u001b[0m \u001b[1;32mFalse\u001b[0m\u001b[1;33m\u001b[0m\u001b[1;33m\u001b[0m\u001b[0m\n\u001b[0;32m    858\u001b[0m             \u001b[1;32melse\u001b[0m\u001b[1;33m:\u001b[0m\u001b[1;33m\u001b[0m\u001b[1;33m\u001b[0m\u001b[0m\n\u001b[1;32m--> 859\u001b[1;33m                 \u001b[0mself\u001b[0m\u001b[1;33m.\u001b[0m\u001b[0m_dispatch\u001b[0m\u001b[1;33m(\u001b[0m\u001b[0mtasks\u001b[0m\u001b[1;33m)\u001b[0m\u001b[1;33m\u001b[0m\u001b[1;33m\u001b[0m\u001b[0m\n\u001b[0m\u001b[0;32m    860\u001b[0m                 \u001b[1;32mreturn\u001b[0m \u001b[1;32mTrue\u001b[0m\u001b[1;33m\u001b[0m\u001b[1;33m\u001b[0m\u001b[0m\n\u001b[0;32m    861\u001b[0m \u001b[1;33m\u001b[0m\u001b[0m\n",
      "\u001b[1;32mc:\\users\\njeri\\.venvs\\tabular_comp\\lib\\site-packages\\joblib\\parallel.py\u001b[0m in \u001b[0;36m_dispatch\u001b[1;34m(self, batch)\u001b[0m\n\u001b[0;32m    775\u001b[0m         \u001b[1;32mwith\u001b[0m \u001b[0mself\u001b[0m\u001b[1;33m.\u001b[0m\u001b[0m_lock\u001b[0m\u001b[1;33m:\u001b[0m\u001b[1;33m\u001b[0m\u001b[1;33m\u001b[0m\u001b[0m\n\u001b[0;32m    776\u001b[0m             \u001b[0mjob_idx\u001b[0m \u001b[1;33m=\u001b[0m \u001b[0mlen\u001b[0m\u001b[1;33m(\u001b[0m\u001b[0mself\u001b[0m\u001b[1;33m.\u001b[0m\u001b[0m_jobs\u001b[0m\u001b[1;33m)\u001b[0m\u001b[1;33m\u001b[0m\u001b[1;33m\u001b[0m\u001b[0m\n\u001b[1;32m--> 777\u001b[1;33m             \u001b[0mjob\u001b[0m \u001b[1;33m=\u001b[0m \u001b[0mself\u001b[0m\u001b[1;33m.\u001b[0m\u001b[0m_backend\u001b[0m\u001b[1;33m.\u001b[0m\u001b[0mapply_async\u001b[0m\u001b[1;33m(\u001b[0m\u001b[0mbatch\u001b[0m\u001b[1;33m,\u001b[0m \u001b[0mcallback\u001b[0m\u001b[1;33m=\u001b[0m\u001b[0mcb\u001b[0m\u001b[1;33m)\u001b[0m\u001b[1;33m\u001b[0m\u001b[1;33m\u001b[0m\u001b[0m\n\u001b[0m\u001b[0;32m    778\u001b[0m             \u001b[1;31m# A job can complete so quickly than its callback is\u001b[0m\u001b[1;33m\u001b[0m\u001b[1;33m\u001b[0m\u001b[1;33m\u001b[0m\u001b[0m\n\u001b[0;32m    779\u001b[0m             \u001b[1;31m# called before we get here, causing self._jobs to\u001b[0m\u001b[1;33m\u001b[0m\u001b[1;33m\u001b[0m\u001b[1;33m\u001b[0m\u001b[0m\n",
      "\u001b[1;32mc:\\users\\njeri\\.venvs\\tabular_comp\\lib\\site-packages\\joblib\\_parallel_backends.py\u001b[0m in \u001b[0;36mapply_async\u001b[1;34m(self, func, callback)\u001b[0m\n\u001b[0;32m    206\u001b[0m     \u001b[1;32mdef\u001b[0m \u001b[0mapply_async\u001b[0m\u001b[1;33m(\u001b[0m\u001b[0mself\u001b[0m\u001b[1;33m,\u001b[0m \u001b[0mfunc\u001b[0m\u001b[1;33m,\u001b[0m \u001b[0mcallback\u001b[0m\u001b[1;33m=\u001b[0m\u001b[1;32mNone\u001b[0m\u001b[1;33m)\u001b[0m\u001b[1;33m:\u001b[0m\u001b[1;33m\u001b[0m\u001b[1;33m\u001b[0m\u001b[0m\n\u001b[0;32m    207\u001b[0m         \u001b[1;34m\"\"\"Schedule a func to be run\"\"\"\u001b[0m\u001b[1;33m\u001b[0m\u001b[1;33m\u001b[0m\u001b[0m\n\u001b[1;32m--> 208\u001b[1;33m         \u001b[0mresult\u001b[0m \u001b[1;33m=\u001b[0m \u001b[0mImmediateResult\u001b[0m\u001b[1;33m(\u001b[0m\u001b[0mfunc\u001b[0m\u001b[1;33m)\u001b[0m\u001b[1;33m\u001b[0m\u001b[1;33m\u001b[0m\u001b[0m\n\u001b[0m\u001b[0;32m    209\u001b[0m         \u001b[1;32mif\u001b[0m \u001b[0mcallback\u001b[0m\u001b[1;33m:\u001b[0m\u001b[1;33m\u001b[0m\u001b[1;33m\u001b[0m\u001b[0m\n\u001b[0;32m    210\u001b[0m             \u001b[0mcallback\u001b[0m\u001b[1;33m(\u001b[0m\u001b[0mresult\u001b[0m\u001b[1;33m)\u001b[0m\u001b[1;33m\u001b[0m\u001b[1;33m\u001b[0m\u001b[0m\n",
      "\u001b[1;32mc:\\users\\njeri\\.venvs\\tabular_comp\\lib\\site-packages\\joblib\\_parallel_backends.py\u001b[0m in \u001b[0;36m__init__\u001b[1;34m(self, batch)\u001b[0m\n\u001b[0;32m    570\u001b[0m         \u001b[1;31m# Don't delay the application, to avoid keeping the input\u001b[0m\u001b[1;33m\u001b[0m\u001b[1;33m\u001b[0m\u001b[1;33m\u001b[0m\u001b[0m\n\u001b[0;32m    571\u001b[0m         \u001b[1;31m# arguments in memory\u001b[0m\u001b[1;33m\u001b[0m\u001b[1;33m\u001b[0m\u001b[1;33m\u001b[0m\u001b[0m\n\u001b[1;32m--> 572\u001b[1;33m         \u001b[0mself\u001b[0m\u001b[1;33m.\u001b[0m\u001b[0mresults\u001b[0m \u001b[1;33m=\u001b[0m \u001b[0mbatch\u001b[0m\u001b[1;33m(\u001b[0m\u001b[1;33m)\u001b[0m\u001b[1;33m\u001b[0m\u001b[1;33m\u001b[0m\u001b[0m\n\u001b[0m\u001b[0;32m    573\u001b[0m \u001b[1;33m\u001b[0m\u001b[0m\n\u001b[0;32m    574\u001b[0m     \u001b[1;32mdef\u001b[0m \u001b[0mget\u001b[0m\u001b[1;33m(\u001b[0m\u001b[0mself\u001b[0m\u001b[1;33m)\u001b[0m\u001b[1;33m:\u001b[0m\u001b[1;33m\u001b[0m\u001b[1;33m\u001b[0m\u001b[0m\n",
      "\u001b[1;32mc:\\users\\njeri\\.venvs\\tabular_comp\\lib\\site-packages\\joblib\\parallel.py\u001b[0m in \u001b[0;36m__call__\u001b[1;34m(self)\u001b[0m\n\u001b[0;32m    261\u001b[0m         \u001b[1;32mwith\u001b[0m \u001b[0mparallel_backend\u001b[0m\u001b[1;33m(\u001b[0m\u001b[0mself\u001b[0m\u001b[1;33m.\u001b[0m\u001b[0m_backend\u001b[0m\u001b[1;33m,\u001b[0m \u001b[0mn_jobs\u001b[0m\u001b[1;33m=\u001b[0m\u001b[0mself\u001b[0m\u001b[1;33m.\u001b[0m\u001b[0m_n_jobs\u001b[0m\u001b[1;33m)\u001b[0m\u001b[1;33m:\u001b[0m\u001b[1;33m\u001b[0m\u001b[1;33m\u001b[0m\u001b[0m\n\u001b[0;32m    262\u001b[0m             return [func(*args, **kwargs)\n\u001b[1;32m--> 263\u001b[1;33m                     for func, args, kwargs in self.items]\n\u001b[0m\u001b[0;32m    264\u001b[0m \u001b[1;33m\u001b[0m\u001b[0m\n\u001b[0;32m    265\u001b[0m     \u001b[1;32mdef\u001b[0m \u001b[0m__reduce__\u001b[0m\u001b[1;33m(\u001b[0m\u001b[0mself\u001b[0m\u001b[1;33m)\u001b[0m\u001b[1;33m:\u001b[0m\u001b[1;33m\u001b[0m\u001b[1;33m\u001b[0m\u001b[0m\n",
      "\u001b[1;32mc:\\users\\njeri\\.venvs\\tabular_comp\\lib\\site-packages\\joblib\\parallel.py\u001b[0m in \u001b[0;36m<listcomp>\u001b[1;34m(.0)\u001b[0m\n\u001b[0;32m    261\u001b[0m         \u001b[1;32mwith\u001b[0m \u001b[0mparallel_backend\u001b[0m\u001b[1;33m(\u001b[0m\u001b[0mself\u001b[0m\u001b[1;33m.\u001b[0m\u001b[0m_backend\u001b[0m\u001b[1;33m,\u001b[0m \u001b[0mn_jobs\u001b[0m\u001b[1;33m=\u001b[0m\u001b[0mself\u001b[0m\u001b[1;33m.\u001b[0m\u001b[0m_n_jobs\u001b[0m\u001b[1;33m)\u001b[0m\u001b[1;33m:\u001b[0m\u001b[1;33m\u001b[0m\u001b[1;33m\u001b[0m\u001b[0m\n\u001b[0;32m    262\u001b[0m             return [func(*args, **kwargs)\n\u001b[1;32m--> 263\u001b[1;33m                     for func, args, kwargs in self.items]\n\u001b[0m\u001b[0;32m    264\u001b[0m \u001b[1;33m\u001b[0m\u001b[0m\n\u001b[0;32m    265\u001b[0m     \u001b[1;32mdef\u001b[0m \u001b[0m__reduce__\u001b[0m\u001b[1;33m(\u001b[0m\u001b[0mself\u001b[0m\u001b[1;33m)\u001b[0m\u001b[1;33m:\u001b[0m\u001b[1;33m\u001b[0m\u001b[1;33m\u001b[0m\u001b[0m\n",
      "\u001b[1;32mc:\\users\\njeri\\.venvs\\tabular_comp\\lib\\site-packages\\sklearn\\utils\\fixes.py\u001b[0m in \u001b[0;36m__call__\u001b[1;34m(self, *args, **kwargs)\u001b[0m\n\u001b[0;32m    220\u001b[0m     \u001b[1;32mdef\u001b[0m \u001b[0m__call__\u001b[0m\u001b[1;33m(\u001b[0m\u001b[0mself\u001b[0m\u001b[1;33m,\u001b[0m \u001b[1;33m*\u001b[0m\u001b[0margs\u001b[0m\u001b[1;33m,\u001b[0m \u001b[1;33m**\u001b[0m\u001b[0mkwargs\u001b[0m\u001b[1;33m)\u001b[0m\u001b[1;33m:\u001b[0m\u001b[1;33m\u001b[0m\u001b[1;33m\u001b[0m\u001b[0m\n\u001b[0;32m    221\u001b[0m         \u001b[1;32mwith\u001b[0m \u001b[0mconfig_context\u001b[0m\u001b[1;33m(\u001b[0m\u001b[1;33m**\u001b[0m\u001b[0mself\u001b[0m\u001b[1;33m.\u001b[0m\u001b[0mconfig\u001b[0m\u001b[1;33m)\u001b[0m\u001b[1;33m:\u001b[0m\u001b[1;33m\u001b[0m\u001b[1;33m\u001b[0m\u001b[0m\n\u001b[1;32m--> 222\u001b[1;33m             \u001b[1;32mreturn\u001b[0m \u001b[0mself\u001b[0m\u001b[1;33m.\u001b[0m\u001b[0mfunction\u001b[0m\u001b[1;33m(\u001b[0m\u001b[1;33m*\u001b[0m\u001b[0margs\u001b[0m\u001b[1;33m,\u001b[0m \u001b[1;33m**\u001b[0m\u001b[0mkwargs\u001b[0m\u001b[1;33m)\u001b[0m\u001b[1;33m\u001b[0m\u001b[1;33m\u001b[0m\u001b[0m\n\u001b[0m",
      "\u001b[1;32mc:\\users\\njeri\\.venvs\\tabular_comp\\lib\\site-packages\\sklearn\\ensemble\\_forest.py\u001b[0m in \u001b[0;36m_parallel_build_trees\u001b[1;34m(tree, forest, X, y, sample_weight, tree_idx, n_trees, verbose, class_weight, n_samples_bootstrap)\u001b[0m\n\u001b[0;32m    167\u001b[0m                                                         indices=indices)\n\u001b[0;32m    168\u001b[0m \u001b[1;33m\u001b[0m\u001b[0m\n\u001b[1;32m--> 169\u001b[1;33m         \u001b[0mtree\u001b[0m\u001b[1;33m.\u001b[0m\u001b[0mfit\u001b[0m\u001b[1;33m(\u001b[0m\u001b[0mX\u001b[0m\u001b[1;33m,\u001b[0m \u001b[0my\u001b[0m\u001b[1;33m,\u001b[0m \u001b[0msample_weight\u001b[0m\u001b[1;33m=\u001b[0m\u001b[0mcurr_sample_weight\u001b[0m\u001b[1;33m,\u001b[0m \u001b[0mcheck_input\u001b[0m\u001b[1;33m=\u001b[0m\u001b[1;32mFalse\u001b[0m\u001b[1;33m)\u001b[0m\u001b[1;33m\u001b[0m\u001b[1;33m\u001b[0m\u001b[0m\n\u001b[0m\u001b[0;32m    170\u001b[0m     \u001b[1;32melse\u001b[0m\u001b[1;33m:\u001b[0m\u001b[1;33m\u001b[0m\u001b[1;33m\u001b[0m\u001b[0m\n\u001b[0;32m    171\u001b[0m         \u001b[0mtree\u001b[0m\u001b[1;33m.\u001b[0m\u001b[0mfit\u001b[0m\u001b[1;33m(\u001b[0m\u001b[0mX\u001b[0m\u001b[1;33m,\u001b[0m \u001b[0my\u001b[0m\u001b[1;33m,\u001b[0m \u001b[0msample_weight\u001b[0m\u001b[1;33m=\u001b[0m\u001b[0msample_weight\u001b[0m\u001b[1;33m,\u001b[0m \u001b[0mcheck_input\u001b[0m\u001b[1;33m=\u001b[0m\u001b[1;32mFalse\u001b[0m\u001b[1;33m)\u001b[0m\u001b[1;33m\u001b[0m\u001b[1;33m\u001b[0m\u001b[0m\n",
      "\u001b[1;32mc:\\users\\njeri\\.venvs\\tabular_comp\\lib\\site-packages\\sklearn\\tree\\_classes.py\u001b[0m in \u001b[0;36mfit\u001b[1;34m(self, X, y, sample_weight, check_input, X_idx_sorted)\u001b[0m\n\u001b[0;32m   1249\u001b[0m             \u001b[0msample_weight\u001b[0m\u001b[1;33m=\u001b[0m\u001b[0msample_weight\u001b[0m\u001b[1;33m,\u001b[0m\u001b[1;33m\u001b[0m\u001b[1;33m\u001b[0m\u001b[0m\n\u001b[0;32m   1250\u001b[0m             \u001b[0mcheck_input\u001b[0m\u001b[1;33m=\u001b[0m\u001b[0mcheck_input\u001b[0m\u001b[1;33m,\u001b[0m\u001b[1;33m\u001b[0m\u001b[1;33m\u001b[0m\u001b[0m\n\u001b[1;32m-> 1251\u001b[1;33m             X_idx_sorted=X_idx_sorted)\n\u001b[0m\u001b[0;32m   1252\u001b[0m         \u001b[1;32mreturn\u001b[0m \u001b[0mself\u001b[0m\u001b[1;33m\u001b[0m\u001b[1;33m\u001b[0m\u001b[0m\n\u001b[0;32m   1253\u001b[0m \u001b[1;33m\u001b[0m\u001b[0m\n",
      "\u001b[1;32mc:\\users\\njeri\\.venvs\\tabular_comp\\lib\\site-packages\\sklearn\\tree\\_classes.py\u001b[0m in \u001b[0;36mfit\u001b[1;34m(self, X, y, sample_weight, check_input, X_idx_sorted)\u001b[0m\n\u001b[0;32m    387\u001b[0m                                            min_impurity_split)\n\u001b[0;32m    388\u001b[0m \u001b[1;33m\u001b[0m\u001b[0m\n\u001b[1;32m--> 389\u001b[1;33m         \u001b[0mbuilder\u001b[0m\u001b[1;33m.\u001b[0m\u001b[0mbuild\u001b[0m\u001b[1;33m(\u001b[0m\u001b[0mself\u001b[0m\u001b[1;33m.\u001b[0m\u001b[0mtree_\u001b[0m\u001b[1;33m,\u001b[0m \u001b[0mX\u001b[0m\u001b[1;33m,\u001b[0m \u001b[0my\u001b[0m\u001b[1;33m,\u001b[0m \u001b[0msample_weight\u001b[0m\u001b[1;33m)\u001b[0m\u001b[1;33m\u001b[0m\u001b[1;33m\u001b[0m\u001b[0m\n\u001b[0m\u001b[0;32m    390\u001b[0m \u001b[1;33m\u001b[0m\u001b[0m\n\u001b[0;32m    391\u001b[0m         \u001b[1;32mif\u001b[0m \u001b[0mself\u001b[0m\u001b[1;33m.\u001b[0m\u001b[0mn_outputs_\u001b[0m \u001b[1;33m==\u001b[0m \u001b[1;36m1\u001b[0m \u001b[1;32mand\u001b[0m \u001b[0mis_classifier\u001b[0m\u001b[1;33m(\u001b[0m\u001b[0mself\u001b[0m\u001b[1;33m)\u001b[0m\u001b[1;33m:\u001b[0m\u001b[1;33m\u001b[0m\u001b[1;33m\u001b[0m\u001b[0m\n",
      "\u001b[1;31mKeyboardInterrupt\u001b[0m: "
     ]
    }
   ],
   "source": [
    "%%time\n",
    "\n",
    "# third iteration\n",
    "\n",
    "rf_3 = RandomForestRegressor(n_estimators=300, criterion='mae', max_depth=5)\n",
    "\n",
    "rf_3.fit(X_train, y_train)"
   ]
  },
  {
   "cell_type": "markdown",
   "id": "connected-medication",
   "metadata": {},
   "source": [
    "## LinearSVR vs SGDRegressor with BaggingRegressor"
   ]
  },
  {
   "cell_type": "code",
   "execution_count": 15,
   "id": "killing-medline",
   "metadata": {},
   "outputs": [
    {
     "name": "stderr",
     "output_type": "stream",
     "text": [
      "c:\\users\\njeri\\.venvs\\tabular_comp\\lib\\site-packages\\sklearn\\utils\\validation.py:63: DataConversionWarning: A column-vector y was passed when a 1d array was expected. Please change the shape of y to (n_samples, ), for example using ravel().\n",
      "  return f(*args, **kwargs)\n",
      "c:\\users\\njeri\\.venvs\\tabular_comp\\lib\\site-packages\\sklearn\\svm\\_base.py:986: ConvergenceWarning: Liblinear failed to converge, increase the number of iterations.\n",
      "  \"the number of iterations.\", ConvergenceWarning)\n"
     ]
    },
    {
     "data": {
      "text/plain": [
       "LinearSVR()"
      ]
     },
     "execution_count": 15,
     "metadata": {},
     "output_type": "execute_result"
    }
   ],
   "source": [
    "svr = LinearSVR()\n",
    "svr.fit(X_train, y_train)"
   ]
  },
  {
   "cell_type": "code",
   "execution_count": 16,
   "id": "plastic-warner",
   "metadata": {},
   "outputs": [
    {
     "name": "stdout",
     "output_type": "stream",
     "text": [
      "RMSE = 0.8671861474128816\n"
     ]
    }
   ],
   "source": [
    "y_pred = svr.predict(X_val)\n",
    "mse = mean_squared_error(y_true=y_val, y_pred=y_pred)\n",
    "print('RMSE =', math.sqrt(abs(mse)))"
   ]
  },
  {
   "cell_type": "code",
   "execution_count": 19,
   "id": "introductory-gazette",
   "metadata": {},
   "outputs": [
    {
     "name": "stderr",
     "output_type": "stream",
     "text": [
      "c:\\users\\njeri\\.venvs\\tabular_comp\\lib\\site-packages\\sklearn\\utils\\validation.py:63: DataConversionWarning: A column-vector y was passed when a 1d array was expected. Please change the shape of y to (n_samples, ), for example using ravel().\n",
      "  return f(*args, **kwargs)\n"
     ]
    },
    {
     "data": {
      "text/plain": [
       "SGDRegressor()"
      ]
     },
     "execution_count": 19,
     "metadata": {},
     "output_type": "execute_result"
    }
   ],
   "source": [
    "sgd = SGDRegressor()\n",
    "sgd.fit(X_train, y_train)"
   ]
  },
  {
   "cell_type": "code",
   "execution_count": 20,
   "id": "british-poker",
   "metadata": {},
   "outputs": [
    {
     "name": "stdout",
     "output_type": "stream",
     "text": [
      "RMSE = 0.8634689818426794\n"
     ]
    }
   ],
   "source": [
    "y_pred = sgd.predict(X_val)\n",
    "mse = mean_squared_error(y_true=y_val, y_pred=y_pred)\n",
    "print('RMSE =', math.sqrt(abs(mse)))"
   ]
  },
  {
   "cell_type": "code",
   "execution_count": 24,
   "id": "rough-handy",
   "metadata": {},
   "outputs": [
    {
     "name": "stdout",
     "output_type": "stream",
     "text": [
      "n_iterations: 4\n",
      "n_required_iterations: 4\n",
      "n_possible_iterations: 4\n",
      "min_resources_: 7777\n",
      "max_resources_: 210000\n",
      "aggressive_elimination: False\n",
      "factor: 3\n",
      "----------\n",
      "iter: 0\n",
      "n_candidates: 27\n",
      "n_resources: 7777\n",
      "Fitting 5 folds for each of 27 candidates, totalling 135 fits\n",
      "----------\n",
      "iter: 1\n",
      "n_candidates: 9\n",
      "n_resources: 23331\n",
      "Fitting 5 folds for each of 9 candidates, totalling 45 fits\n",
      "----------\n",
      "iter: 2\n",
      "n_candidates: 3\n",
      "n_resources: 69993\n",
      "Fitting 5 folds for each of 3 candidates, totalling 15 fits\n",
      "----------\n",
      "iter: 3\n",
      "n_candidates: 1\n",
      "n_resources: 209979\n",
      "Fitting 5 folds for each of 1 candidates, totalling 5 fits\n"
     ]
    },
    {
     "name": "stderr",
     "output_type": "stream",
     "text": [
      "c:\\users\\njeri\\.venvs\\tabular_comp\\lib\\site-packages\\sklearn\\utils\\validation.py:63: DataConversionWarning: A column-vector y was passed when a 1d array was expected. Please change the shape of y to (n_samples, ), for example using ravel().\n",
      "  return f(*args, **kwargs)\n"
     ]
    },
    {
     "name": "stdout",
     "output_type": "stream",
     "text": [
      "Wall time: 8.26 s\n"
     ]
    },
    {
     "data": {
      "text/plain": [
       "HalvingGridSearchCV(estimator=SGDRegressor(), n_jobs=-1,\n",
       "                    param_grid={'alpha': [0.0001, 0.001, 0.01],\n",
       "                                'loss': ['squared_loss', 'huber',\n",
       "                                         'epsilon_insensitive'],\n",
       "                                'penalty': ['l2', 'l1', 'elasticnet']},\n",
       "                    refit=<function _refit_callable at 0x000002B7463FD9D8>,\n",
       "                    scoring='neg_mean_squared_error', verbose=1)"
      ]
     },
     "execution_count": 24,
     "metadata": {},
     "output_type": "execute_result"
    }
   ],
   "source": [
    "%%time\n",
    "\n",
    "sgd = SGDRegressor()\n",
    "\n",
    "parameters = {\n",
    "    'penalty': ['l2', 'l1', 'elasticnet'],\n",
    "    'alpha': [0.0001, 0.001, 0.01],\n",
    "    'loss': ['squared_loss', 'huber', 'epsilon_insensitive']\n",
    "    }\n",
    "\n",
    "search = HalvingGridSearchCV(sgd, parameters, n_jobs=-1, \n",
    "                           verbose=1, scoring = \"neg_mean_squared_error\", refit=True)\n",
    "\n",
    "search.fit(X_train, y_train)"
   ]
  },
  {
   "cell_type": "code",
   "execution_count": 25,
   "id": "institutional-causing",
   "metadata": {},
   "outputs": [
    {
     "name": "stdout",
     "output_type": "stream",
     "text": [
      "Best estimator: SGDRegressor(penalty='l1')\n",
      "Best parameters: {'alpha': 0.0001, 'loss': 'squared_loss', 'penalty': 'l1'}\n"
     ]
    }
   ],
   "source": [
    "print(f'Best estimator: {search.best_estimator_}')\n",
    "print(f'Best parameters: {search.best_params_}')"
   ]
  },
  {
   "cell_type": "code",
   "execution_count": 27,
   "id": "certified-ballet",
   "metadata": {},
   "outputs": [
    {
     "name": "stdout",
     "output_type": "stream",
     "text": [
      "RMSE = 0.8635493998587017\n"
     ]
    }
   ],
   "source": [
    "y_pred = search.predict(X_val)\n",
    "mse = mean_squared_error(y_true=y_val, y_pred=y_pred)\n",
    "print('RMSE =', math.sqrt(abs(mse)))"
   ]
  },
  {
   "cell_type": "code",
   "execution_count": 29,
   "id": "manual-relevance",
   "metadata": {},
   "outputs": [
    {
     "name": "stdout",
     "output_type": "stream",
     "text": [
      "n_iterations: 2\n",
      "n_required_iterations: 2\n",
      "n_possible_iterations: 2\n",
      "min_resources_: 70000\n",
      "max_resources_: 210000\n",
      "aggressive_elimination: False\n",
      "factor: 3\n",
      "----------\n",
      "iter: 0\n",
      "n_candidates: 3\n",
      "n_resources: 70000\n",
      "Fitting 5 folds for each of 3 candidates, totalling 15 fits\n",
      "----------\n",
      "iter: 1\n",
      "n_candidates: 1\n",
      "n_resources: 210000\n",
      "Fitting 5 folds for each of 1 candidates, totalling 5 fits\n"
     ]
    },
    {
     "name": "stderr",
     "output_type": "stream",
     "text": [
      "c:\\users\\njeri\\.venvs\\tabular_comp\\lib\\site-packages\\sklearn\\utils\\validation.py:63: DataConversionWarning: A column-vector y was passed when a 1d array was expected. Please change the shape of y to (n_samples, ), for example using ravel().\n",
      "  return f(*args, **kwargs)\n"
     ]
    },
    {
     "name": "stdout",
     "output_type": "stream",
     "text": [
      "Wall time: 1min 16s\n"
     ]
    },
    {
     "data": {
      "text/plain": [
       "HalvingGridSearchCV(estimator=BaggingRegressor(base_estimator=SGDRegressor(penalty='l1')),\n",
       "                    n_jobs=-1, param_grid={'n_estimators': [10, 20, 30]},\n",
       "                    refit=<function _refit_callable at 0x000002B7463FD9D8>,\n",
       "                    scoring='neg_mean_squared_error', verbose=1)"
      ]
     },
     "execution_count": 29,
     "metadata": {},
     "output_type": "execute_result"
    }
   ],
   "source": [
    "%%time\n",
    "\n",
    "sgd = SGDRegressor(loss='squared_loss', penalty='l1', alpha=0.0001)\n",
    "sgd_bag = BaggingRegressor(base_estimator=sgd)\n",
    "\n",
    "parameters = {\n",
    "    'n_estimators': [10, 20, 30]\n",
    "    }\n",
    "\n",
    "search = HalvingGridSearchCV(sgd_bag, parameters, n_jobs=-1, \n",
    "                           verbose=1, scoring = \"neg_mean_squared_error\", refit=True)\n",
    "\n",
    "search.fit(X_train, y_train)"
   ]
  },
  {
   "cell_type": "code",
   "execution_count": 30,
   "id": "supported-excitement",
   "metadata": {},
   "outputs": [
    {
     "name": "stdout",
     "output_type": "stream",
     "text": [
      "Best estimator: BaggingRegressor(base_estimator=SGDRegressor(penalty='l1'), n_estimators=30)\n",
      "Best parameters: {'n_estimators': 30}\n"
     ]
    }
   ],
   "source": [
    "print(f'Best estimator: {search.best_estimator_}')\n",
    "print(f'Best parameters: {search.best_params_}')"
   ]
  },
  {
   "cell_type": "code",
   "execution_count": 31,
   "id": "thorough-filling",
   "metadata": {},
   "outputs": [
    {
     "name": "stdout",
     "output_type": "stream",
     "text": [
      "RMSE = 0.8621076823568952\n"
     ]
    }
   ],
   "source": [
    "y_pred = search.predict(X_val)\n",
    "mse = mean_squared_error(y_true=y_val, y_pred=y_pred)\n",
    "print('RMSE =', math.sqrt(abs(mse)))"
   ]
  },
  {
   "cell_type": "code",
   "execution_count": 32,
   "id": "reverse-music",
   "metadata": {},
   "outputs": [
    {
     "name": "stdout",
     "output_type": "stream",
     "text": [
      "n_iterations: 2\n",
      "n_required_iterations: 2\n",
      "n_possible_iterations: 2\n",
      "min_resources_: 70000\n",
      "max_resources_: 210000\n",
      "aggressive_elimination: False\n",
      "factor: 3\n",
      "----------\n",
      "iter: 0\n",
      "n_candidates: 3\n",
      "n_resources: 70000\n",
      "Fitting 5 folds for each of 3 candidates, totalling 15 fits\n",
      "----------\n",
      "iter: 1\n",
      "n_candidates: 1\n",
      "n_resources: 210000\n",
      "Fitting 5 folds for each of 1 candidates, totalling 5 fits\n"
     ]
    },
    {
     "name": "stderr",
     "output_type": "stream",
     "text": [
      "c:\\users\\njeri\\.venvs\\tabular_comp\\lib\\site-packages\\sklearn\\utils\\validation.py:63: DataConversionWarning: A column-vector y was passed when a 1d array was expected. Please change the shape of y to (n_samples, ), for example using ravel().\n",
      "  return f(*args, **kwargs)\n"
     ]
    },
    {
     "name": "stdout",
     "output_type": "stream",
     "text": [
      "Wall time: 2min 30s\n"
     ]
    },
    {
     "data": {
      "text/plain": [
       "HalvingGridSearchCV(estimator=BaggingRegressor(base_estimator=SGDRegressor(penalty='l1')),\n",
       "                    n_jobs=-1, param_grid={'n_estimators': [30, 50, 100]},\n",
       "                    refit=<function _refit_callable at 0x000002B7463FD9D8>,\n",
       "                    scoring='neg_mean_squared_error', verbose=1)"
      ]
     },
     "execution_count": 32,
     "metadata": {},
     "output_type": "execute_result"
    }
   ],
   "source": [
    "%%time\n",
    "\n",
    "# Second iteration\n",
    "\n",
    "sgd = SGDRegressor(loss='squared_loss', penalty='l1', alpha=0.0001)\n",
    "sgd_bag = BaggingRegressor(base_estimator=sgd)\n",
    "\n",
    "parameters_2 = {\n",
    "    'n_estimators': [30, 50, 100]\n",
    "    }\n",
    "\n",
    "search_2 = HalvingGridSearchCV(sgd_bag, parameters_2, n_jobs=-1, \n",
    "                           verbose=1, scoring = \"neg_mean_squared_error\", refit=True)\n",
    "\n",
    "search_2.fit(X_train, y_train)"
   ]
  },
  {
   "cell_type": "code",
   "execution_count": 33,
   "id": "thirty-decline",
   "metadata": {},
   "outputs": [
    {
     "name": "stdout",
     "output_type": "stream",
     "text": [
      "Best estimator: BaggingRegressor(base_estimator=SGDRegressor(penalty='l1'), n_estimators=50)\n",
      "Best parameters: {'n_estimators': 50}\n"
     ]
    }
   ],
   "source": [
    "print(f'Best estimator: {search_2.best_estimator_}')\n",
    "print(f'Best parameters: {search_2.best_params_}')"
   ]
  },
  {
   "cell_type": "code",
   "execution_count": 34,
   "id": "suffering-vegetarian",
   "metadata": {},
   "outputs": [
    {
     "name": "stdout",
     "output_type": "stream",
     "text": [
      "RMSE = 0.862123450612965\n"
     ]
    }
   ],
   "source": [
    "y_pred_2 = search_2.predict(X_val)\n",
    "mse_2 = mean_squared_error(y_true=y_val, y_pred=y_pred_2)\n",
    "print('RMSE =', math.sqrt(abs(mse_2)))"
   ]
  },
  {
   "cell_type": "markdown",
   "id": "rising-luxembourg",
   "metadata": {},
   "source": [
    "## KNeighborsRegressor"
   ]
  },
  {
   "cell_type": "code",
   "execution_count": 38,
   "id": "measured-manual",
   "metadata": {},
   "outputs": [
    {
     "name": "stdout",
     "output_type": "stream",
     "text": [
      "n_iterations: 3\n",
      "n_required_iterations: 3\n",
      "n_possible_iterations: 3\n",
      "min_resources_: 23333\n",
      "max_resources_: 210000\n",
      "aggressive_elimination: False\n",
      "factor: 3\n",
      "----------\n",
      "iter: 0\n",
      "n_candidates: 18\n",
      "n_resources: 23333\n",
      "Fitting 5 folds for each of 18 candidates, totalling 90 fits\n",
      "----------\n",
      "iter: 1\n",
      "n_candidates: 6\n",
      "n_resources: 69999\n",
      "Fitting 5 folds for each of 6 candidates, totalling 30 fits\n",
      "----------\n",
      "iter: 2\n",
      "n_candidates: 2\n",
      "n_resources: 209997\n",
      "Fitting 5 folds for each of 2 candidates, totalling 10 fits\n",
      "Wall time: 6h 40min 26s\n"
     ]
    },
    {
     "data": {
      "text/plain": [
       "HalvingGridSearchCV(estimator=KNeighborsRegressor(), n_jobs=-1,\n",
       "                    param_grid={'leaf_size': [30, 15, 60],\n",
       "                                'n_neighbors': [5, 10, 15],\n",
       "                                'weights': ['uniform', 'distance']},\n",
       "                    refit=<function _refit_callable at 0x000002B7463FD9D8>,\n",
       "                    scoring='neg_mean_squared_error', verbose=1)"
      ]
     },
     "execution_count": 38,
     "metadata": {},
     "output_type": "execute_result"
    }
   ],
   "source": [
    "%%time\n",
    "\n",
    "knn = KNeighborsRegressor()\n",
    "\n",
    "parameters = {\n",
    "    'n_neighbors': [5, 10, 15],\n",
    "    'weights': ['uniform', 'distance'],\n",
    "    'leaf_size': [30, 15, 60]\n",
    "    }\n",
    "\n",
    "search = HalvingGridSearchCV(knn, parameters, n_jobs=-1, \n",
    "                           verbose=1, scoring = \"neg_mean_squared_error\", refit=True)\n",
    "\n",
    "search.fit(X_train, y_train)"
   ]
  },
  {
   "cell_type": "code",
   "execution_count": 40,
   "id": "cardiovascular-money",
   "metadata": {},
   "outputs": [
    {
     "name": "stdout",
     "output_type": "stream",
     "text": [
      "Best estimator: KNeighborsRegressor(n_neighbors=15)\n",
      "Best parameters: {'leaf_size': 30, 'n_neighbors': 15, 'weights': 'uniform'}\n"
     ]
    }
   ],
   "source": [
    "print(f'Best estimator: {search.best_estimator_}')\n",
    "print(f'Best parameters: {search.best_params_}')"
   ]
  },
  {
   "cell_type": "code",
   "execution_count": 41,
   "id": "chief-worse",
   "metadata": {},
   "outputs": [
    {
     "name": "stdout",
     "output_type": "stream",
     "text": [
      "RMSE = 0.8879376903101438\n"
     ]
    }
   ],
   "source": [
    "y_pred = search.predict(X_val)\n",
    "mse = mean_squared_error(y_true=y_val, y_pred=y_pred)\n",
    "print('RMSE =', math.sqrt(abs(mse)))"
   ]
  },
  {
   "cell_type": "markdown",
   "id": "respiratory-subdivision",
   "metadata": {},
   "source": [
    "## RidgeCV"
   ]
  },
  {
   "cell_type": "code",
   "execution_count": 45,
   "id": "strong-kernel",
   "metadata": {},
   "outputs": [
    {
     "data": {
      "text/plain": [
       "RidgeCV(alphas=array([ 0.1,  1. , 10. ]))"
      ]
     },
     "execution_count": 45,
     "metadata": {},
     "output_type": "execute_result"
    }
   ],
   "source": [
    "ridge = RidgeCV()\n",
    "\n",
    "ridge.fit(X_train, y_train)"
   ]
  },
  {
   "cell_type": "code",
   "execution_count": 46,
   "id": "running-breast",
   "metadata": {},
   "outputs": [
    {
     "data": {
      "text/plain": [
       "{'alpha_per_target': False,\n",
       " 'alphas': array([ 0.1,  1. , 10. ]),\n",
       " 'cv': None,\n",
       " 'fit_intercept': True,\n",
       " 'gcv_mode': None,\n",
       " 'normalize': False,\n",
       " 'scoring': None,\n",
       " 'store_cv_values': False}"
      ]
     },
     "execution_count": 46,
     "metadata": {},
     "output_type": "execute_result"
    }
   ],
   "source": [
    "ridge.get_params()"
   ]
  },
  {
   "cell_type": "code",
   "execution_count": 47,
   "id": "afraid-coast",
   "metadata": {},
   "outputs": [
    {
     "name": "stdout",
     "output_type": "stream",
     "text": [
      "RMSE = 0.861525888168427\n"
     ]
    }
   ],
   "source": [
    "y_pred = ridge.predict(X_val)\n",
    "mse = mean_squared_error(y_true=y_val, y_pred=y_pred)\n",
    "print('RMSE =', math.sqrt(abs(mse)))"
   ]
  },
  {
   "cell_type": "markdown",
   "id": "curious-final",
   "metadata": {},
   "source": [
    "### Add bagging"
   ]
  },
  {
   "cell_type": "code",
   "execution_count": 48,
   "id": "acceptable-glance",
   "metadata": {},
   "outputs": [
    {
     "name": "stdout",
     "output_type": "stream",
     "text": [
      "n_iterations: 2\n",
      "n_required_iterations: 2\n",
      "n_possible_iterations: 2\n",
      "min_resources_: 70000\n",
      "max_resources_: 210000\n",
      "aggressive_elimination: False\n",
      "factor: 3\n",
      "----------\n",
      "iter: 0\n",
      "n_candidates: 3\n",
      "n_resources: 70000\n",
      "Fitting 5 folds for each of 3 candidates, totalling 15 fits\n",
      "----------\n",
      "iter: 1\n",
      "n_candidates: 1\n",
      "n_resources: 210000\n",
      "Fitting 5 folds for each of 1 candidates, totalling 5 fits\n"
     ]
    },
    {
     "name": "stderr",
     "output_type": "stream",
     "text": [
      "c:\\users\\njeri\\.venvs\\tabular_comp\\lib\\site-packages\\sklearn\\utils\\validation.py:63: DataConversionWarning: A column-vector y was passed when a 1d array was expected. Please change the shape of y to (n_samples, ), for example using ravel().\n",
      "  return f(*args, **kwargs)\n"
     ]
    },
    {
     "name": "stdout",
     "output_type": "stream",
     "text": [
      "Wall time: 5min 6s\n"
     ]
    },
    {
     "data": {
      "text/plain": [
       "HalvingGridSearchCV(estimator=BaggingRegressor(base_estimator=RidgeCV(alphas=array([ 0.1,  1. , 10. ]))),\n",
       "                    n_jobs=-1, param_grid={'n_estimators': [10, 20, 30]},\n",
       "                    refit=<function _refit_callable at 0x000002B7463FD9D8>,\n",
       "                    scoring='neg_mean_squared_error', verbose=1)"
      ]
     },
     "execution_count": 48,
     "metadata": {},
     "output_type": "execute_result"
    }
   ],
   "source": [
    "%%time\n",
    "\n",
    "ridge = RidgeCV()\n",
    "ridge_bag = BaggingRegressor(base_estimator=ridge)\n",
    "\n",
    "parameters = {\n",
    "    'n_estimators': [10, 20, 30]\n",
    "    }\n",
    "\n",
    "search = HalvingGridSearchCV(ridge_bag, parameters, n_jobs=-1, \n",
    "                           verbose=1, scoring = \"neg_mean_squared_error\", refit=True)\n",
    "\n",
    "search.fit(X_train, y_train)"
   ]
  },
  {
   "cell_type": "code",
   "execution_count": 49,
   "id": "superb-diabetes",
   "metadata": {},
   "outputs": [
    {
     "name": "stdout",
     "output_type": "stream",
     "text": [
      "Best estimator: BaggingRegressor(base_estimator=RidgeCV(alphas=array([ 0.1,  1. , 10. ])),\n",
      "                 n_estimators=30)\n",
      "Best parameters: {'n_estimators': 30}\n"
     ]
    }
   ],
   "source": [
    "print(f'Best estimator: {search.best_estimator_}')\n",
    "print(f'Best parameters: {search.best_params_}')"
   ]
  },
  {
   "cell_type": "code",
   "execution_count": 50,
   "id": "neither-excerpt",
   "metadata": {},
   "outputs": [
    {
     "name": "stdout",
     "output_type": "stream",
     "text": [
      "RMSE = 0.8615317648647828\n"
     ]
    }
   ],
   "source": [
    "y_pred = search.predict(X_val)\n",
    "mse = mean_squared_error(y_true=y_val, y_pred=y_pred)\n",
    "print('RMSE =', math.sqrt(abs(mse)))"
   ]
  },
  {
   "cell_type": "markdown",
   "id": "dirty-needle",
   "metadata": {},
   "source": [
    "## Stacking Regressor"
   ]
  },
  {
   "cell_type": "code",
   "execution_count": 53,
   "id": "matched-donor",
   "metadata": {},
   "outputs": [
    {
     "name": "stderr",
     "output_type": "stream",
     "text": [
      "c:\\users\\njeri\\.venvs\\tabular_comp\\lib\\site-packages\\sklearn\\utils\\validation.py:63: DataConversionWarning: A column-vector y was passed when a 1d array was expected. Please change the shape of y to (n_samples, ), for example using ravel().\n",
      "  return f(*args, **kwargs)\n"
     ]
    },
    {
     "name": "stdout",
     "output_type": "stream",
     "text": [
      "Wall time: 16min 7s\n"
     ]
    },
    {
     "data": {
      "text/plain": [
       "StackingRegressor(estimators=[('xgb',\n",
       "                               XGBRegressor(base_score=None, booster=None,\n",
       "                                            colsample_bylevel=None,\n",
       "                                            colsample_bynode=None,\n",
       "                                            colsample_bytree=None, gamma=None,\n",
       "                                            gpu_id=None, importance_type='gain',\n",
       "                                            interaction_constraints=None,\n",
       "                                            learning_rate=0.1,\n",
       "                                            max_delta_step=None, max_depth=5,\n",
       "                                            min_child_weight=None, missing=nan,\n",
       "                                            monotone_constraints=None,\n",
       "                                            n_estimators=350, n_...\n",
       "                                            random_state=3, reg_alpha=None,\n",
       "                                            reg_lambda=None,\n",
       "                                            scale_pos_weight=None,\n",
       "                                            subsample=None, tree_method=None,\n",
       "                                            validate_parameters=None,\n",
       "                                            verbosity=None)),\n",
       "                              ('gbr',\n",
       "                               GradientBoostingRegressor(n_estimators=350,\n",
       "                                                         subsample=0.7)),\n",
       "                              ('sgd_bag',\n",
       "                               BaggingRegressor(base_estimator=SGDRegressor(penalty='l1'),\n",
       "                                                n_estimators=50))],\n",
       "                  final_estimator=RidgeCV(alphas=array([ 0.1,  1. , 10. ])),\n",
       "                  n_jobs=-1, verbose=True)"
      ]
     },
     "execution_count": 53,
     "metadata": {},
     "output_type": "execute_result"
    }
   ],
   "source": [
    "%%time\n",
    "\n",
    "xgb = XGBRegressor(learning_rate=0.1, max_depth=5, n_estimators=350, random_state=3)\n",
    "gbr = GradientBoostingRegressor(learning_rate=0.1, loss='ls', n_estimators=350, subsample=0.7)\n",
    "sgd = SGDRegressor(penalty='l1')\n",
    "sgd_bag = BaggingRegressor(base_estimator=sgd, n_estimators=50)\n",
    "ridge = RidgeCV()\n",
    "sr = StackingRegressor(\n",
    "    estimators=[('xgb', xgb), ('gbr', gbr), ('sgd_bag', sgd_bag)],\n",
    "    final_estimator=ridge,\n",
    "    n_jobs=-1, verbose=True\n",
    "    )\n",
    "sr.fit(X_train, y_train)"
   ]
  },
  {
   "cell_type": "code",
   "execution_count": 55,
   "id": "removable-picnic",
   "metadata": {},
   "outputs": [
    {
     "name": "stdout",
     "output_type": "stream",
     "text": [
      "RMSE = 0.8425540494097691\n"
     ]
    }
   ],
   "source": [
    "y_pred = sr.predict(X_val)\n",
    "mse = mean_squared_error(y_true=y_val, y_pred=y_pred)\n",
    "print('RMSE =', math.sqrt(abs(mse)))"
   ]
  },
  {
   "cell_type": "markdown",
   "id": "corresponding-coalition",
   "metadata": {},
   "source": [
    "### Stacking Regressor Submission"
   ]
  },
  {
   "cell_type": "code",
   "execution_count": 56,
   "id": "sonic-douglas",
   "metadata": {},
   "outputs": [],
   "source": [
    "test = pd.read_csv('data/X_test.csv')\n",
    "submission = pd.read_csv('data/sample_submission.csv')\n",
    "submission['target'] = sr.predict(test)\n",
    "submission.to_csv('data/sr.csv', index=False)"
   ]
  },
  {
   "cell_type": "markdown",
   "id": "promising-patrol",
   "metadata": {},
   "source": [
    "## Linear Regression"
   ]
  },
  {
   "cell_type": "code",
   "execution_count": 4,
   "id": "typical-booth",
   "metadata": {},
   "outputs": [
    {
     "ename": "NameError",
     "evalue": "name 'X_train' is not defined",
     "output_type": "error",
     "traceback": [
      "\u001b[1;31m---------------------------------------------------------------------------\u001b[0m",
      "\u001b[1;31mNameError\u001b[0m                                 Traceback (most recent call last)",
      "\u001b[1;32m<timed exec>\u001b[0m in \u001b[0;36m<module>\u001b[1;34m\u001b[0m\n",
      "\u001b[1;31mNameError\u001b[0m: name 'X_train' is not defined"
     ]
    }
   ],
   "source": [
    "%%time\n",
    "\n",
    "linear = LinearRegression()\n",
    "\n",
    "linear.fit(X_train, y_train)"
   ]
  },
  {
   "cell_type": "code",
   "execution_count": 93,
   "id": "abroad-aquatic",
   "metadata": {},
   "outputs": [
    {
     "name": "stdout",
     "output_type": "stream",
     "text": [
      "RMSE = 0.8615413454927261\n"
     ]
    }
   ],
   "source": [
    "y_pred = linear.predict(X_val)\n",
    "mse = mean_squared_error(y_true=y_val, y_pred=y_pred)\n",
    "print('RMSE =', math.sqrt(abs(mse)))"
   ]
  },
  {
   "cell_type": "markdown",
   "id": "recognized-tolerance",
   "metadata": {},
   "source": [
    "### Add bagging"
   ]
  },
  {
   "cell_type": "code",
   "execution_count": 5,
   "id": "polished-color",
   "metadata": {},
   "outputs": [],
   "source": [
    "X = pd.read_csv('data/X_train.csv')\n",
    "y = pd.read_csv('data/y_train.csv')"
   ]
  },
  {
   "cell_type": "code",
   "execution_count": 6,
   "id": "outdoor-chile",
   "metadata": {},
   "outputs": [],
   "source": [
    "X_train, X_val, y_train, y_val = train_test_split(X, y, test_size=0.3, random_state=3)"
   ]
  },
  {
   "cell_type": "code",
   "execution_count": 7,
   "id": "falling-potato",
   "metadata": {},
   "outputs": [
    {
     "name": "stdout",
     "output_type": "stream",
     "text": [
      "n_iterations: 2\n",
      "n_required_iterations: 2\n",
      "n_possible_iterations: 2\n",
      "min_resources_: 70000\n",
      "max_resources_: 210000\n",
      "aggressive_elimination: False\n",
      "factor: 3\n",
      "----------\n",
      "iter: 0\n",
      "n_candidates: 3\n",
      "n_resources: 70000\n",
      "Fitting 5 folds for each of 3 candidates, totalling 15 fits\n",
      "----------\n",
      "iter: 1\n",
      "n_candidates: 1\n",
      "n_resources: 210000\n",
      "Fitting 5 folds for each of 1 candidates, totalling 5 fits\n"
     ]
    },
    {
     "name": "stderr",
     "output_type": "stream",
     "text": [
      "c:\\users\\njeri\\.venvs\\tabular_comp\\lib\\site-packages\\sklearn\\utils\\validation.py:63: DataConversionWarning: A column-vector y was passed when a 1d array was expected. Please change the shape of y to (n_samples, ), for example using ravel().\n",
      "  return f(*args, **kwargs)\n"
     ]
    },
    {
     "name": "stdout",
     "output_type": "stream",
     "text": [
      "Wall time: 2min 55s\n"
     ]
    },
    {
     "data": {
      "text/plain": [
       "HalvingGridSearchCV(estimator=BaggingRegressor(base_estimator=LinearRegression()),\n",
       "                    n_jobs=-1, param_grid={'n_estimators': [10, 20, 30]},\n",
       "                    refit=<function _refit_callable at 0x000001D1664AE828>,\n",
       "                    scoring='neg_mean_squared_error', verbose=1)"
      ]
     },
     "execution_count": 7,
     "metadata": {},
     "output_type": "execute_result"
    }
   ],
   "source": [
    "%%time\n",
    "\n",
    "linear = LinearRegression()\n",
    "linear_bag = BaggingRegressor(base_estimator=linear)\n",
    "\n",
    "parameters = {\n",
    "    'n_estimators': [10, 20, 30]\n",
    "    }\n",
    "\n",
    "search = HalvingGridSearchCV(linear_bag, parameters, n_jobs=-1, \n",
    "                           verbose=1, scoring = \"neg_mean_squared_error\", refit=True)\n",
    "\n",
    "search.fit(X_train, y_train)"
   ]
  },
  {
   "cell_type": "code",
   "execution_count": 8,
   "id": "unlike-scene",
   "metadata": {},
   "outputs": [
    {
     "name": "stdout",
     "output_type": "stream",
     "text": [
      "Best estimator: BaggingRegressor(base_estimator=LinearRegression(), n_estimators=30)\n",
      "Best parameters: {'n_estimators': 30}\n"
     ]
    }
   ],
   "source": [
    "print(f'Best estimator: {search.best_estimator_}')\n",
    "print(f'Best parameters: {search.best_params_}')"
   ]
  },
  {
   "cell_type": "code",
   "execution_count": 9,
   "id": "closed-adjustment",
   "metadata": {},
   "outputs": [
    {
     "name": "stdout",
     "output_type": "stream",
     "text": [
      "RMSE = 75207230.489733\n"
     ]
    }
   ],
   "source": [
    "y_pred = search.predict(X_val)\n",
    "mse = mean_squared_error(y_true=y_val, y_pred=y_pred)\n",
    "print('RMSE =', math.sqrt(abs(mse)))"
   ]
  },
  {
   "cell_type": "markdown",
   "id": "dress-motel",
   "metadata": {},
   "source": [
    "## Polynomial Regression"
   ]
  },
  {
   "cell_type": "code",
   "execution_count": 13,
   "id": "intensive-afternoon",
   "metadata": {},
   "outputs": [
    {
     "data": {
      "text/plain": [
       "Pipeline(steps=[('polynomialfeatures', PolynomialFeatures()),\n",
       "                ('linearregression', LinearRegression())])"
      ]
     },
     "execution_count": 13,
     "metadata": {},
     "output_type": "execute_result"
    }
   ],
   "source": [
    "degree = 2\n",
    "polyreg = make_pipeline(PolynomialFeatures(degree),LinearRegression())\n",
    "polyreg.fit(X_train, y_train)"
   ]
  },
  {
   "cell_type": "code",
   "execution_count": 16,
   "id": "asian-pursuit",
   "metadata": {},
   "outputs": [
    {
     "name": "stdout",
     "output_type": "stream",
     "text": [
      "RMSE = 563173637.4430125\n"
     ]
    }
   ],
   "source": [
    "y_pred = polyreg.predict(X_val)\n",
    "mse = mean_squared_error(y_true=y_val, y_pred=y_pred)\n",
    "print('RMSE =', math.sqrt(abs(mse)))"
   ]
  },
  {
   "cell_type": "markdown",
   "id": "generic-weight",
   "metadata": {},
   "source": [
    "## Ridge Regression"
   ]
  },
  {
   "cell_type": "code",
   "execution_count": 19,
   "id": "civic-prototype",
   "metadata": {},
   "outputs": [
    {
     "name": "stdout",
     "output_type": "stream",
     "text": [
      "n_iterations: 3\n",
      "n_required_iterations: 3\n",
      "n_possible_iterations: 3\n",
      "min_resources_: 23333\n",
      "max_resources_: 210000\n",
      "aggressive_elimination: False\n",
      "factor: 3\n",
      "----------\n",
      "iter: 0\n",
      "n_candidates: 9\n",
      "n_resources: 23333\n",
      "Fitting 5 folds for each of 9 candidates, totalling 45 fits\n",
      "----------\n",
      "iter: 1\n",
      "n_candidates: 3\n",
      "n_resources: 69999\n",
      "Fitting 5 folds for each of 3 candidates, totalling 15 fits\n",
      "----------\n",
      "iter: 2\n",
      "n_candidates: 1\n",
      "n_resources: 209997\n",
      "Fitting 5 folds for each of 1 candidates, totalling 5 fits\n",
      "Wall time: 12 s\n"
     ]
    },
    {
     "data": {
      "text/plain": [
       "HalvingGridSearchCV(estimator=Ridge(), n_jobs=-1,\n",
       "                    param_grid={'alpha': [1, 0.5, 2],\n",
       "                                'solver': ['auto', 'svd', 'cholesky']},\n",
       "                    refit=<function _refit_callable at 0x000001D1664AE828>,\n",
       "                    scoring='neg_mean_squared_error', verbose=1)"
      ]
     },
     "execution_count": 19,
     "metadata": {},
     "output_type": "execute_result"
    }
   ],
   "source": [
    "%%time\n",
    "\n",
    "ridge = Ridge()\n",
    "\n",
    "parameters = {\n",
    "    'alpha': [1, 0.5, 2],\n",
    "    'solver': ['auto', 'svd', 'cholesky']\n",
    "    }\n",
    "\n",
    "search = HalvingGridSearchCV(ridge, parameters, n_jobs=-1, \n",
    "                           verbose=1, scoring = \"neg_mean_squared_error\", refit=True)\n",
    "\n",
    "search.fit(X_train, y_train)"
   ]
  },
  {
   "cell_type": "code",
   "execution_count": 20,
   "id": "liberal-wedding",
   "metadata": {},
   "outputs": [
    {
     "name": "stdout",
     "output_type": "stream",
     "text": [
      "Best estimator: Ridge(alpha=2, solver='svd')\n",
      "Best parameters: {'alpha': 2, 'solver': 'svd'}\n"
     ]
    }
   ],
   "source": [
    "print(f'Best estimator: {search.best_estimator_}')\n",
    "print(f'Best parameters: {search.best_params_}')"
   ]
  },
  {
   "cell_type": "code",
   "execution_count": 21,
   "id": "favorite-breed",
   "metadata": {},
   "outputs": [
    {
     "name": "stdout",
     "output_type": "stream",
     "text": [
      "RMSE = 0.8615327980388531\n"
     ]
    }
   ],
   "source": [
    "y_pred = search.predict(X_val)\n",
    "mse = mean_squared_error(y_true=y_val, y_pred=y_pred)\n",
    "print('RMSE =', math.sqrt(abs(mse)))"
   ]
  },
  {
   "cell_type": "code",
   "execution_count": 22,
   "id": "coated-quantum",
   "metadata": {},
   "outputs": [
    {
     "name": "stdout",
     "output_type": "stream",
     "text": [
      "n_iterations: 3\n",
      "n_required_iterations: 3\n",
      "n_possible_iterations: 3\n",
      "min_resources_: 23333\n",
      "max_resources_: 210000\n",
      "aggressive_elimination: False\n",
      "factor: 3\n",
      "----------\n",
      "iter: 0\n",
      "n_candidates: 9\n",
      "n_resources: 23333\n",
      "Fitting 5 folds for each of 9 candidates, totalling 45 fits\n",
      "----------\n",
      "iter: 1\n",
      "n_candidates: 3\n",
      "n_resources: 69999\n",
      "Fitting 5 folds for each of 3 candidates, totalling 15 fits\n",
      "----------\n",
      "iter: 2\n",
      "n_candidates: 1\n",
      "n_resources: 209997\n",
      "Fitting 5 folds for each of 1 candidates, totalling 5 fits\n",
      "Wall time: 12.9 s\n"
     ]
    },
    {
     "data": {
      "text/plain": [
       "HalvingGridSearchCV(estimator=Ridge(), n_jobs=-1,\n",
       "                    param_grid={'alpha': [2, 3, 4],\n",
       "                                'solver': ['sparse_cg', 'svd', 'lsqr']},\n",
       "                    refit=<function _refit_callable at 0x000001D1664AE828>,\n",
       "                    scoring='neg_mean_squared_error', verbose=1)"
      ]
     },
     "execution_count": 22,
     "metadata": {},
     "output_type": "execute_result"
    }
   ],
   "source": [
    "%%time\n",
    "\n",
    "# second iteration\n",
    "\n",
    "ridge = Ridge()\n",
    "\n",
    "parameters = {\n",
    "    'alpha': [2, 3, 4],\n",
    "    'solver': ['sparse_cg', 'svd', 'lsqr']\n",
    "    }\n",
    "\n",
    "search = HalvingGridSearchCV(ridge, parameters, n_jobs=-1, \n",
    "                           verbose=1, scoring = \"neg_mean_squared_error\", refit=True)\n",
    "\n",
    "search.fit(X_train, y_train)"
   ]
  },
  {
   "cell_type": "code",
   "execution_count": 23,
   "id": "mature-welcome",
   "metadata": {},
   "outputs": [
    {
     "name": "stdout",
     "output_type": "stream",
     "text": [
      "Best estimator: Ridge(alpha=4, solver='svd')\n",
      "Best parameters: {'alpha': 4, 'solver': 'svd'}\n",
      "RMSE = 0.861530440432563\n"
     ]
    }
   ],
   "source": [
    "print(f'Best estimator: {search.best_estimator_}')\n",
    "print(f'Best parameters: {search.best_params_}')\n",
    "y_pred = search.predict(X_val)\n",
    "mse = mean_squared_error(y_true=y_val, y_pred=y_pred)\n",
    "print('RMSE =', math.sqrt(abs(mse)))"
   ]
  },
  {
   "cell_type": "code",
   "execution_count": 24,
   "id": "polyphonic-hobby",
   "metadata": {},
   "outputs": [
    {
     "name": "stdout",
     "output_type": "stream",
     "text": [
      "n_iterations: 2\n",
      "n_required_iterations: 2\n",
      "n_possible_iterations: 2\n",
      "min_resources_: 70000\n",
      "max_resources_: 210000\n",
      "aggressive_elimination: False\n",
      "factor: 3\n",
      "----------\n",
      "iter: 0\n",
      "n_candidates: 3\n",
      "n_resources: 70000\n",
      "Fitting 5 folds for each of 3 candidates, totalling 15 fits\n",
      "----------\n",
      "iter: 1\n",
      "n_candidates: 1\n",
      "n_resources: 210000\n",
      "Fitting 5 folds for each of 1 candidates, totalling 5 fits\n",
      "Wall time: 10.2 s\n"
     ]
    },
    {
     "data": {
      "text/plain": [
       "HalvingGridSearchCV(estimator=Ridge(solver='svd'), n_jobs=-1,\n",
       "                    param_grid={'alpha': [4, 6, 10]},\n",
       "                    refit=<function _refit_callable at 0x000001D1664AE828>,\n",
       "                    scoring='neg_mean_squared_error', verbose=1)"
      ]
     },
     "execution_count": 24,
     "metadata": {},
     "output_type": "execute_result"
    }
   ],
   "source": [
    "%%time\n",
    "\n",
    "# third iteration\n",
    "\n",
    "ridge = Ridge(solver='svd')\n",
    "\n",
    "parameters = {\n",
    "    'alpha': [4, 6, 10]\n",
    "    }\n",
    "\n",
    "search = HalvingGridSearchCV(ridge, parameters, n_jobs=-1, \n",
    "                           verbose=1, scoring = \"neg_mean_squared_error\", refit=True)\n",
    "\n",
    "search.fit(X_train, y_train)"
   ]
  },
  {
   "cell_type": "code",
   "execution_count": 25,
   "id": "fewer-tokyo",
   "metadata": {},
   "outputs": [
    {
     "name": "stdout",
     "output_type": "stream",
     "text": [
      "Best estimator: Ridge(alpha=10, solver='svd')\n",
      "Best parameters: {'alpha': 10}\n",
      "RMSE = 0.8615258881684147\n"
     ]
    }
   ],
   "source": [
    "print(f'Best estimator: {search.best_estimator_}')\n",
    "print(f'Best parameters: {search.best_params_}')\n",
    "y_pred = search.predict(X_val)\n",
    "mse = mean_squared_error(y_true=y_val, y_pred=y_pred)\n",
    "print('RMSE =', math.sqrt(abs(mse)))"
   ]
  },
  {
   "cell_type": "code",
   "execution_count": 26,
   "id": "useful-assault",
   "metadata": {},
   "outputs": [
    {
     "name": "stdout",
     "output_type": "stream",
     "text": [
      "n_iterations: 2\n",
      "n_required_iterations: 2\n",
      "n_possible_iterations: 2\n",
      "min_resources_: 70000\n",
      "max_resources_: 210000\n",
      "aggressive_elimination: False\n",
      "factor: 3\n",
      "----------\n",
      "iter: 0\n",
      "n_candidates: 3\n",
      "n_resources: 70000\n",
      "Fitting 5 folds for each of 3 candidates, totalling 15 fits\n",
      "----------\n",
      "iter: 1\n",
      "n_candidates: 1\n",
      "n_resources: 210000\n",
      "Fitting 5 folds for each of 1 candidates, totalling 5 fits\n",
      "Wall time: 10.1 s\n"
     ]
    },
    {
     "data": {
      "text/plain": [
       "HalvingGridSearchCV(estimator=Ridge(solver='svd'), n_jobs=-1,\n",
       "                    param_grid={'alpha': [10, 20, 50]},\n",
       "                    refit=<function _refit_callable at 0x000001D1664AE828>,\n",
       "                    scoring='neg_mean_squared_error', verbose=1)"
      ]
     },
     "execution_count": 26,
     "metadata": {},
     "output_type": "execute_result"
    }
   ],
   "source": [
    "%%time\n",
    "\n",
    "# fourth iteration\n",
    "\n",
    "ridge = Ridge(solver='svd')\n",
    "\n",
    "parameters = {\n",
    "    'alpha': [10, 20, 50]\n",
    "    }\n",
    "\n",
    "search = HalvingGridSearchCV(ridge, parameters, n_jobs=-1, \n",
    "                           verbose=1, scoring = \"neg_mean_squared_error\", refit=True)\n",
    "\n",
    "search.fit(X_train, y_train)"
   ]
  },
  {
   "cell_type": "code",
   "execution_count": 27,
   "id": "limited-accordance",
   "metadata": {},
   "outputs": [
    {
     "name": "stdout",
     "output_type": "stream",
     "text": [
      "Best estimator: Ridge(alpha=20, solver='svd')\n",
      "Best parameters: {'alpha': 20}\n",
      "RMSE = 0.8615213303107018\n"
     ]
    }
   ],
   "source": [
    "print(f'Best estimator: {search.best_estimator_}')\n",
    "print(f'Best parameters: {search.best_params_}')\n",
    "y_pred = search.predict(X_val)\n",
    "mse = mean_squared_error(y_true=y_val, y_pred=y_pred)\n",
    "print('RMSE =', math.sqrt(abs(mse)))"
   ]
  },
  {
   "cell_type": "markdown",
   "id": "temporal-manitoba",
   "metadata": {},
   "source": [
    "### Add bagging"
   ]
  },
  {
   "cell_type": "code",
   "execution_count": 28,
   "id": "distant-princeton",
   "metadata": {},
   "outputs": [
    {
     "name": "stdout",
     "output_type": "stream",
     "text": [
      "n_iterations: 2\n",
      "n_required_iterations: 2\n",
      "n_possible_iterations: 2\n",
      "min_resources_: 70000\n",
      "max_resources_: 210000\n",
      "aggressive_elimination: False\n",
      "factor: 3\n",
      "----------\n",
      "iter: 0\n",
      "n_candidates: 3\n",
      "n_resources: 70000\n",
      "Fitting 5 folds for each of 3 candidates, totalling 15 fits\n",
      "----------\n",
      "iter: 1\n",
      "n_candidates: 1\n",
      "n_resources: 210000\n",
      "Fitting 5 folds for each of 1 candidates, totalling 5 fits\n"
     ]
    },
    {
     "name": "stderr",
     "output_type": "stream",
     "text": [
      "c:\\users\\njeri\\.venvs\\tabular_comp\\lib\\site-packages\\sklearn\\utils\\validation.py:63: DataConversionWarning: A column-vector y was passed when a 1d array was expected. Please change the shape of y to (n_samples, ), for example using ravel().\n",
      "  return f(*args, **kwargs)\n"
     ]
    },
    {
     "name": "stdout",
     "output_type": "stream",
     "text": [
      "Wall time: 3min 13s\n"
     ]
    },
    {
     "data": {
      "text/plain": [
       "HalvingGridSearchCV(estimator=BaggingRegressor(base_estimator=Ridge(alpha=20,\n",
       "                                                                    solver='svd')),\n",
       "                    n_jobs=-1, param_grid={'n_estimators': [10, 20, 30]},\n",
       "                    refit=<function _refit_callable at 0x000001D1664AE828>,\n",
       "                    scoring='neg_mean_squared_error', verbose=1)"
      ]
     },
     "execution_count": 28,
     "metadata": {},
     "output_type": "execute_result"
    }
   ],
   "source": [
    "%%time\n",
    "\n",
    "ridge = Ridge(alpha=20, solver='svd')\n",
    "ridge_bag = BaggingRegressor(base_estimator=ridge)\n",
    "\n",
    "parameters = {\n",
    "    'n_estimators': [10, 20, 30]\n",
    "    }\n",
    "\n",
    "search = HalvingGridSearchCV(ridge_bag, parameters, n_jobs=-1, \n",
    "                           verbose=1, scoring = \"neg_mean_squared_error\", refit=True)\n",
    "\n",
    "search.fit(X_train, y_train)"
   ]
  },
  {
   "cell_type": "code",
   "execution_count": 29,
   "id": "found-creature",
   "metadata": {},
   "outputs": [
    {
     "name": "stdout",
     "output_type": "stream",
     "text": [
      "Best estimator: BaggingRegressor(base_estimator=Ridge(alpha=20, solver='svd'), n_estimators=20)\n",
      "Best parameters: {'n_estimators': 20}\n",
      "RMSE = 0.8615248621431861\n"
     ]
    }
   ],
   "source": [
    "print(f'Best estimator: {search.best_estimator_}')\n",
    "print(f'Best parameters: {search.best_params_}')\n",
    "y_pred = search.predict(X_val)\n",
    "mse = mean_squared_error(y_true=y_val, y_pred=y_pred)\n",
    "print('RMSE =', math.sqrt(abs(mse)))"
   ]
  },
  {
   "cell_type": "markdown",
   "id": "indie-banner",
   "metadata": {},
   "source": [
    "## Lasso Regresssion"
   ]
  },
  {
   "cell_type": "code",
   "execution_count": 30,
   "id": "precious-liberty",
   "metadata": {},
   "outputs": [
    {
     "name": "stdout",
     "output_type": "stream",
     "text": [
      "n_iterations: 2\n",
      "n_required_iterations: 2\n",
      "n_possible_iterations: 2\n",
      "min_resources_: 70000\n",
      "max_resources_: 210000\n",
      "aggressive_elimination: False\n",
      "factor: 3\n",
      "----------\n",
      "iter: 0\n",
      "n_candidates: 3\n",
      "n_resources: 70000\n",
      "Fitting 5 folds for each of 3 candidates, totalling 15 fits\n",
      "----------\n",
      "iter: 1\n",
      "n_candidates: 1\n",
      "n_resources: 210000\n",
      "Fitting 5 folds for each of 1 candidates, totalling 5 fits\n",
      "Wall time: 3.04 s\n"
     ]
    },
    {
     "data": {
      "text/plain": [
       "HalvingGridSearchCV(estimator=Lasso(), n_jobs=-1,\n",
       "                    param_grid={'alpha': [1, 0.1, 10]},\n",
       "                    refit=<function _refit_callable at 0x000001D1664AE828>,\n",
       "                    scoring='neg_mean_squared_error', verbose=1)"
      ]
     },
     "execution_count": 30,
     "metadata": {},
     "output_type": "execute_result"
    }
   ],
   "source": [
    "%%time\n",
    "\n",
    "lasso = Lasso()\n",
    "\n",
    "parameters = {\n",
    "    'alpha': [1, 0.1, 10]\n",
    "    }\n",
    "\n",
    "search = HalvingGridSearchCV(lasso, parameters, n_jobs=-1, \n",
    "                           verbose=1, scoring = \"neg_mean_squared_error\", refit=True)\n",
    "\n",
    "search.fit(X_train, y_train)"
   ]
  },
  {
   "cell_type": "code",
   "execution_count": 31,
   "id": "million-rebound",
   "metadata": {},
   "outputs": [
    {
     "name": "stdout",
     "output_type": "stream",
     "text": [
      "Best estimator: Lasso(alpha=10)\n",
      "Best parameters: {'alpha': 10}\n",
      "RMSE = 0.8845062029602764\n"
     ]
    }
   ],
   "source": [
    "print(f'Best estimator: {search.best_estimator_}')\n",
    "print(f'Best parameters: {search.best_params_}')\n",
    "y_pred = search.predict(X_val)\n",
    "mse = mean_squared_error(y_true=y_val, y_pred=y_pred)\n",
    "print('RMSE =', math.sqrt(abs(mse)))"
   ]
  },
  {
   "cell_type": "markdown",
   "id": "legal-supply",
   "metadata": {},
   "source": [
    "## ElasticNet Regression"
   ]
  },
  {
   "cell_type": "code",
   "execution_count": 34,
   "id": "solar-passenger",
   "metadata": {},
   "outputs": [
    {
     "name": "stdout",
     "output_type": "stream",
     "text": [
      "n_iterations: 3\n",
      "n_required_iterations: 3\n",
      "n_possible_iterations: 3\n",
      "min_resources_: 23333\n",
      "max_resources_: 210000\n",
      "aggressive_elimination: False\n",
      "factor: 3\n",
      "----------\n",
      "iter: 0\n",
      "n_candidates: 9\n",
      "n_resources: 23333\n",
      "Fitting 5 folds for each of 9 candidates, totalling 45 fits\n",
      "----------\n",
      "iter: 1\n",
      "n_candidates: 3\n",
      "n_resources: 69999\n",
      "Fitting 5 folds for each of 3 candidates, totalling 15 fits\n",
      "----------\n",
      "iter: 2\n",
      "n_candidates: 1\n",
      "n_resources: 209997\n",
      "Fitting 5 folds for each of 1 candidates, totalling 5 fits\n",
      "Wall time: 11min 32s\n"
     ]
    },
    {
     "name": "stderr",
     "output_type": "stream",
     "text": [
      "c:\\users\\njeri\\.venvs\\tabular_comp\\lib\\site-packages\\sklearn\\linear_model\\_coordinate_descent.py:532: ConvergenceWarning: Objective did not converge. You might want to increase the number of iterations. Duality gap: 80007.17369155031, tolerance: 16.57752513647361\n",
      "  positive)\n"
     ]
    },
    {
     "data": {
      "text/plain": [
       "HalvingGridSearchCV(estimator=ElasticNet(max_iter=4000), n_jobs=-1,\n",
       "                    param_grid={'alpha': [1, 0.1, 10], 'l1_ratio': [0.5, 0, 1]},\n",
       "                    refit=<function _refit_callable at 0x000001D1664AE828>,\n",
       "                    scoring='neg_mean_squared_error', verbose=1)"
      ]
     },
     "execution_count": 34,
     "metadata": {},
     "output_type": "execute_result"
    }
   ],
   "source": [
    "%%time\n",
    "\n",
    "elastic = ElasticNet(max_iter=4000)\n",
    "\n",
    "parameters = {\n",
    "    'alpha': [1, 0.1, 10],\n",
    "    'l1_ratio': [0.5, 0, 1]\n",
    "    }\n",
    "\n",
    "search = HalvingGridSearchCV(elastic, parameters, n_jobs=-1, \n",
    "                           verbose=1, scoring = \"neg_mean_squared_error\", refit=True)\n",
    "\n",
    "search.fit(X_train, y_train)"
   ]
  },
  {
   "cell_type": "code",
   "execution_count": 35,
   "id": "built-college",
   "metadata": {},
   "outputs": [
    {
     "name": "stdout",
     "output_type": "stream",
     "text": [
      "Best estimator: ElasticNet(alpha=0.1, l1_ratio=0, max_iter=4000)\n",
      "Best parameters: {'alpha': 0.1, 'l1_ratio': 0}\n",
      "RMSE = 0.8651214089335532\n"
     ]
    }
   ],
   "source": [
    "print(f'Best estimator: {search.best_estimator_}')\n",
    "print(f'Best parameters: {search.best_params_}')\n",
    "y_pred = search.predict(X_val)\n",
    "mse = mean_squared_error(y_true=y_val, y_pred=y_pred)\n",
    "print('RMSE =', math.sqrt(abs(mse)))"
   ]
  },
  {
   "cell_type": "code",
   "execution_count": 36,
   "id": "stopped-rehabilitation",
   "metadata": {},
   "outputs": [
    {
     "name": "stdout",
     "output_type": "stream",
     "text": [
      "n_iterations: 2\n",
      "n_required_iterations: 2\n",
      "n_possible_iterations: 2\n",
      "min_resources_: 70000\n",
      "max_resources_: 210000\n",
      "aggressive_elimination: False\n",
      "factor: 3\n",
      "----------\n",
      "iter: 0\n",
      "n_candidates: 3\n",
      "n_resources: 70000\n",
      "Fitting 5 folds for each of 3 candidates, totalling 15 fits\n",
      "----------\n",
      "iter: 1\n",
      "n_candidates: 1\n",
      "n_resources: 210000\n",
      "Fitting 5 folds for each of 1 candidates, totalling 5 fits\n",
      "Wall time: 27min 32s\n"
     ]
    },
    {
     "name": "stderr",
     "output_type": "stream",
     "text": [
      "c:\\users\\njeri\\.venvs\\tabular_comp\\lib\\site-packages\\sklearn\\linear_model\\_coordinate_descent.py:532: ConvergenceWarning: Objective did not converge. You might want to increase the number of iterations. Duality gap: 78511.56622042067, tolerance: 16.57752513647361\n",
      "  positive)\n"
     ]
    },
    {
     "data": {
      "text/plain": [
       "HalvingGridSearchCV(estimator=ElasticNet(l1_ratio=0, max_iter=10000), n_jobs=-1,\n",
       "                    param_grid={'alpha': [0.1, 0.01, 0.001]},\n",
       "                    refit=<function _refit_callable at 0x000001D1664AE828>,\n",
       "                    scoring='neg_mean_squared_error', verbose=1)"
      ]
     },
     "execution_count": 36,
     "metadata": {},
     "output_type": "execute_result"
    }
   ],
   "source": [
    "%%time\n",
    "\n",
    "# second iteration\n",
    "\n",
    "elastic = ElasticNet(max_iter=10000, l1_ratio=0)\n",
    "\n",
    "parameters = {\n",
    "    'alpha': [0.1, 0.01, 0.001]\n",
    "    }\n",
    "\n",
    "search = HalvingGridSearchCV(elastic, parameters, n_jobs=-1, \n",
    "                           verbose=1, scoring = \"neg_mean_squared_error\", refit=True)\n",
    "\n",
    "search.fit(X_train, y_train)"
   ]
  },
  {
   "cell_type": "code",
   "execution_count": 37,
   "id": "demographic-dryer",
   "metadata": {},
   "outputs": [
    {
     "name": "stdout",
     "output_type": "stream",
     "text": [
      "Best estimator: ElasticNet(alpha=0.001, l1_ratio=0, max_iter=10000)\n",
      "Best parameters: {'alpha': 0.001}\n",
      "RMSE = 0.8615207077911715\n"
     ]
    }
   ],
   "source": [
    "print(f'Best estimator: {search.best_estimator_}')\n",
    "print(f'Best parameters: {search.best_params_}')\n",
    "y_pred = search.predict(X_val)\n",
    "mse = mean_squared_error(y_true=y_val, y_pred=y_pred)\n",
    "print('RMSE =', math.sqrt(abs(mse)))"
   ]
  },
  {
   "cell_type": "markdown",
   "id": "czech-hierarchy",
   "metadata": {},
   "source": [
    "## Voting & stacking regressors with different models"
   ]
  },
  {
   "cell_type": "code",
   "execution_count": 38,
   "id": "vocal-arrival",
   "metadata": {},
   "outputs": [
    {
     "name": "stderr",
     "output_type": "stream",
     "text": [
      "c:\\users\\njeri\\.venvs\\tabular_comp\\lib\\site-packages\\sklearn\\utils\\validation.py:63: DataConversionWarning: A column-vector y was passed when a 1d array was expected. Please change the shape of y to (n_samples, ), for example using ravel().\n",
      "  return f(*args, **kwargs)\n"
     ]
    },
    {
     "data": {
      "text/plain": [
       "VotingRegressor(estimators=[('xgb',\n",
       "                             XGBRegressor(base_score=None, booster=None,\n",
       "                                          colsample_bylevel=None,\n",
       "                                          colsample_bynode=None,\n",
       "                                          colsample_bytree=None, gamma=None,\n",
       "                                          gpu_id=None, importance_type='gain',\n",
       "                                          interaction_constraints=None,\n",
       "                                          learning_rate=0.1,\n",
       "                                          max_delta_step=None, max_depth=5,\n",
       "                                          min_child_weight=None, missing=nan,\n",
       "                                          monotone_constraints=None,\n",
       "                                          n_estimators=350, n_jobs=None,\n",
       "                                          num_parallel_tree=None,\n",
       "                                          random_state=None, reg_alpha=None,\n",
       "                                          reg_lambda=None,\n",
       "                                          scale_pos_weight=None, subsample=None,\n",
       "                                          tree_method=None,\n",
       "                                          validate_parameters=None,\n",
       "                                          verbosity=None)),\n",
       "                            ('gbr',\n",
       "                             GradientBoostingRegressor(n_estimators=350,\n",
       "                                                       subsample=0.7)),\n",
       "                            ('elastic',\n",
       "                             ElasticNet(alpha=0.001, l1_ratio=0,\n",
       "                                        max_iter=20000))],\n",
       "                n_jobs=-1, verbose=True)"
      ]
     },
     "execution_count": 38,
     "metadata": {},
     "output_type": "execute_result"
    }
   ],
   "source": [
    "xgb = XGBRegressor(learning_rate=0.1, max_depth=5, n_estimators=350)\n",
    "gbr = GradientBoostingRegressor(learning_rate=0.1, loss='ls', n_estimators=350, subsample=0.7)\n",
    "elastic = ElasticNet(alpha=0.001, l1_ratio=0, max_iter=20000)\n",
    "vr = VotingRegressor(\n",
    "    estimators=[('xgb', xgb), ('gbr', gbr), ('elastic', elastic)],\n",
    "    n_jobs=-1, verbose=True\n",
    "    )\n",
    "vr.fit(X_train, y_train)"
   ]
  },
  {
   "cell_type": "code",
   "execution_count": 39,
   "id": "protected-camera",
   "metadata": {},
   "outputs": [
    {
     "name": "stdout",
     "output_type": "stream",
     "text": [
      "RMSE = 0.8451112898206954\n"
     ]
    }
   ],
   "source": [
    "y_pred = vr.predict(X_val)\n",
    "mse = mean_squared_error(y_true=y_val, y_pred=y_pred)\n",
    "print('RMSE =', math.sqrt(abs(mse)))"
   ]
  },
  {
   "cell_type": "code",
   "execution_count": 41,
   "id": "olympic-masters",
   "metadata": {},
   "outputs": [
    {
     "name": "stderr",
     "output_type": "stream",
     "text": [
      "c:\\users\\njeri\\.venvs\\tabular_comp\\lib\\site-packages\\sklearn\\utils\\validation.py:63: DataConversionWarning: A column-vector y was passed when a 1d array was expected. Please change the shape of y to (n_samples, ), for example using ravel().\n",
      "  return f(*args, **kwargs)\n"
     ]
    },
    {
     "ename": "TerminatedWorkerError",
     "evalue": "A worker process managed by the executor was unexpectedly terminated. This could be caused by a segmentation fault while calling the function or by an excessive memory usage causing the Operating System to kill the worker.\n",
     "output_type": "error",
     "traceback": [
      "\u001b[1;31m---------------------------------------------------------------------------\u001b[0m",
      "\u001b[1;31mTerminatedWorkerError\u001b[0m                     Traceback (most recent call last)",
      "\u001b[1;32m<timed exec>\u001b[0m in \u001b[0;36m<module>\u001b[1;34m\u001b[0m\n",
      "\u001b[1;32mc:\\users\\njeri\\.venvs\\tabular_comp\\lib\\site-packages\\sklearn\\ensemble\\_stacking.py\u001b[0m in \u001b[0;36mfit\u001b[1;34m(self, X, y, sample_weight)\u001b[0m\n\u001b[0;32m    682\u001b[0m         \"\"\"\n\u001b[0;32m    683\u001b[0m         \u001b[0my\u001b[0m \u001b[1;33m=\u001b[0m \u001b[0mcolumn_or_1d\u001b[0m\u001b[1;33m(\u001b[0m\u001b[0my\u001b[0m\u001b[1;33m,\u001b[0m \u001b[0mwarn\u001b[0m\u001b[1;33m=\u001b[0m\u001b[1;32mTrue\u001b[0m\u001b[1;33m)\u001b[0m\u001b[1;33m\u001b[0m\u001b[1;33m\u001b[0m\u001b[0m\n\u001b[1;32m--> 684\u001b[1;33m         \u001b[1;32mreturn\u001b[0m \u001b[0msuper\u001b[0m\u001b[1;33m(\u001b[0m\u001b[1;33m)\u001b[0m\u001b[1;33m.\u001b[0m\u001b[0mfit\u001b[0m\u001b[1;33m(\u001b[0m\u001b[0mX\u001b[0m\u001b[1;33m,\u001b[0m \u001b[0my\u001b[0m\u001b[1;33m,\u001b[0m \u001b[0msample_weight\u001b[0m\u001b[1;33m)\u001b[0m\u001b[1;33m\u001b[0m\u001b[1;33m\u001b[0m\u001b[0m\n\u001b[0m\u001b[0;32m    685\u001b[0m \u001b[1;33m\u001b[0m\u001b[0m\n\u001b[0;32m    686\u001b[0m     \u001b[1;32mdef\u001b[0m \u001b[0mtransform\u001b[0m\u001b[1;33m(\u001b[0m\u001b[0mself\u001b[0m\u001b[1;33m,\u001b[0m \u001b[0mX\u001b[0m\u001b[1;33m)\u001b[0m\u001b[1;33m:\u001b[0m\u001b[1;33m\u001b[0m\u001b[1;33m\u001b[0m\u001b[0m\n",
      "\u001b[1;32mc:\\users\\njeri\\.venvs\\tabular_comp\\lib\\site-packages\\sklearn\\ensemble\\_stacking.py\u001b[0m in \u001b[0;36mfit\u001b[1;34m(self, X, y, sample_weight)\u001b[0m\n\u001b[0;32m    182\u001b[0m                                        \u001b[0mfit_params\u001b[0m\u001b[1;33m=\u001b[0m\u001b[0mfit_params\u001b[0m\u001b[1;33m,\u001b[0m\u001b[1;33m\u001b[0m\u001b[1;33m\u001b[0m\u001b[0m\n\u001b[0;32m    183\u001b[0m                                        verbose=self.verbose)\n\u001b[1;32m--> 184\u001b[1;33m             \u001b[1;32mfor\u001b[0m \u001b[0mest\u001b[0m\u001b[1;33m,\u001b[0m \u001b[0mmeth\u001b[0m \u001b[1;32min\u001b[0m \u001b[0mzip\u001b[0m\u001b[1;33m(\u001b[0m\u001b[0mall_estimators\u001b[0m\u001b[1;33m,\u001b[0m \u001b[0mself\u001b[0m\u001b[1;33m.\u001b[0m\u001b[0mstack_method_\u001b[0m\u001b[1;33m)\u001b[0m\u001b[1;33m\u001b[0m\u001b[1;33m\u001b[0m\u001b[0m\n\u001b[0m\u001b[0;32m    185\u001b[0m             \u001b[1;32mif\u001b[0m \u001b[0mest\u001b[0m \u001b[1;33m!=\u001b[0m \u001b[1;34m'drop'\u001b[0m\u001b[1;33m\u001b[0m\u001b[1;33m\u001b[0m\u001b[0m\n\u001b[0;32m    186\u001b[0m         )\n",
      "\u001b[1;32mc:\\users\\njeri\\.venvs\\tabular_comp\\lib\\site-packages\\joblib\\parallel.py\u001b[0m in \u001b[0;36m__call__\u001b[1;34m(self, iterable)\u001b[0m\n\u001b[0;32m   1052\u001b[0m \u001b[1;33m\u001b[0m\u001b[0m\n\u001b[0;32m   1053\u001b[0m             \u001b[1;32mwith\u001b[0m \u001b[0mself\u001b[0m\u001b[1;33m.\u001b[0m\u001b[0m_backend\u001b[0m\u001b[1;33m.\u001b[0m\u001b[0mretrieval_context\u001b[0m\u001b[1;33m(\u001b[0m\u001b[1;33m)\u001b[0m\u001b[1;33m:\u001b[0m\u001b[1;33m\u001b[0m\u001b[1;33m\u001b[0m\u001b[0m\n\u001b[1;32m-> 1054\u001b[1;33m                 \u001b[0mself\u001b[0m\u001b[1;33m.\u001b[0m\u001b[0mretrieve\u001b[0m\u001b[1;33m(\u001b[0m\u001b[1;33m)\u001b[0m\u001b[1;33m\u001b[0m\u001b[1;33m\u001b[0m\u001b[0m\n\u001b[0m\u001b[0;32m   1055\u001b[0m             \u001b[1;31m# Make sure that we get a last message telling us we are done\u001b[0m\u001b[1;33m\u001b[0m\u001b[1;33m\u001b[0m\u001b[1;33m\u001b[0m\u001b[0m\n\u001b[0;32m   1056\u001b[0m             \u001b[0melapsed_time\u001b[0m \u001b[1;33m=\u001b[0m \u001b[0mtime\u001b[0m\u001b[1;33m.\u001b[0m\u001b[0mtime\u001b[0m\u001b[1;33m(\u001b[0m\u001b[1;33m)\u001b[0m \u001b[1;33m-\u001b[0m \u001b[0mself\u001b[0m\u001b[1;33m.\u001b[0m\u001b[0m_start_time\u001b[0m\u001b[1;33m\u001b[0m\u001b[1;33m\u001b[0m\u001b[0m\n",
      "\u001b[1;32mc:\\users\\njeri\\.venvs\\tabular_comp\\lib\\site-packages\\joblib\\parallel.py\u001b[0m in \u001b[0;36mretrieve\u001b[1;34m(self)\u001b[0m\n\u001b[0;32m    931\u001b[0m             \u001b[1;32mtry\u001b[0m\u001b[1;33m:\u001b[0m\u001b[1;33m\u001b[0m\u001b[1;33m\u001b[0m\u001b[0m\n\u001b[0;32m    932\u001b[0m                 \u001b[1;32mif\u001b[0m \u001b[0mgetattr\u001b[0m\u001b[1;33m(\u001b[0m\u001b[0mself\u001b[0m\u001b[1;33m.\u001b[0m\u001b[0m_backend\u001b[0m\u001b[1;33m,\u001b[0m \u001b[1;34m'supports_timeout'\u001b[0m\u001b[1;33m,\u001b[0m \u001b[1;32mFalse\u001b[0m\u001b[1;33m)\u001b[0m\u001b[1;33m:\u001b[0m\u001b[1;33m\u001b[0m\u001b[1;33m\u001b[0m\u001b[0m\n\u001b[1;32m--> 933\u001b[1;33m                     \u001b[0mself\u001b[0m\u001b[1;33m.\u001b[0m\u001b[0m_output\u001b[0m\u001b[1;33m.\u001b[0m\u001b[0mextend\u001b[0m\u001b[1;33m(\u001b[0m\u001b[0mjob\u001b[0m\u001b[1;33m.\u001b[0m\u001b[0mget\u001b[0m\u001b[1;33m(\u001b[0m\u001b[0mtimeout\u001b[0m\u001b[1;33m=\u001b[0m\u001b[0mself\u001b[0m\u001b[1;33m.\u001b[0m\u001b[0mtimeout\u001b[0m\u001b[1;33m)\u001b[0m\u001b[1;33m)\u001b[0m\u001b[1;33m\u001b[0m\u001b[1;33m\u001b[0m\u001b[0m\n\u001b[0m\u001b[0;32m    934\u001b[0m                 \u001b[1;32melse\u001b[0m\u001b[1;33m:\u001b[0m\u001b[1;33m\u001b[0m\u001b[1;33m\u001b[0m\u001b[0m\n\u001b[0;32m    935\u001b[0m                     \u001b[0mself\u001b[0m\u001b[1;33m.\u001b[0m\u001b[0m_output\u001b[0m\u001b[1;33m.\u001b[0m\u001b[0mextend\u001b[0m\u001b[1;33m(\u001b[0m\u001b[0mjob\u001b[0m\u001b[1;33m.\u001b[0m\u001b[0mget\u001b[0m\u001b[1;33m(\u001b[0m\u001b[1;33m)\u001b[0m\u001b[1;33m)\u001b[0m\u001b[1;33m\u001b[0m\u001b[1;33m\u001b[0m\u001b[0m\n",
      "\u001b[1;32mc:\\users\\njeri\\.venvs\\tabular_comp\\lib\\site-packages\\joblib\\_parallel_backends.py\u001b[0m in \u001b[0;36mwrap_future_result\u001b[1;34m(future, timeout)\u001b[0m\n\u001b[0;32m    540\u001b[0m         AsyncResults.get from multiprocessing.\"\"\"\n\u001b[0;32m    541\u001b[0m         \u001b[1;32mtry\u001b[0m\u001b[1;33m:\u001b[0m\u001b[1;33m\u001b[0m\u001b[1;33m\u001b[0m\u001b[0m\n\u001b[1;32m--> 542\u001b[1;33m             \u001b[1;32mreturn\u001b[0m \u001b[0mfuture\u001b[0m\u001b[1;33m.\u001b[0m\u001b[0mresult\u001b[0m\u001b[1;33m(\u001b[0m\u001b[0mtimeout\u001b[0m\u001b[1;33m=\u001b[0m\u001b[0mtimeout\u001b[0m\u001b[1;33m)\u001b[0m\u001b[1;33m\u001b[0m\u001b[1;33m\u001b[0m\u001b[0m\n\u001b[0m\u001b[0;32m    543\u001b[0m         \u001b[1;32mexcept\u001b[0m \u001b[0mCfTimeoutError\u001b[0m \u001b[1;32mas\u001b[0m \u001b[0me\u001b[0m\u001b[1;33m:\u001b[0m\u001b[1;33m\u001b[0m\u001b[1;33m\u001b[0m\u001b[0m\n\u001b[0;32m    544\u001b[0m             \u001b[1;32mraise\u001b[0m \u001b[0mTimeoutError\u001b[0m \u001b[1;32mfrom\u001b[0m \u001b[0me\u001b[0m\u001b[1;33m\u001b[0m\u001b[1;33m\u001b[0m\u001b[0m\n",
      "\u001b[1;32m~\\AppData\\Local\\Programs\\Python\\Python37\\lib\\concurrent\\futures\\_base.py\u001b[0m in \u001b[0;36mresult\u001b[1;34m(self, timeout)\u001b[0m\n\u001b[0;32m    433\u001b[0m                 \u001b[1;32mraise\u001b[0m \u001b[0mCancelledError\u001b[0m\u001b[1;33m(\u001b[0m\u001b[1;33m)\u001b[0m\u001b[1;33m\u001b[0m\u001b[1;33m\u001b[0m\u001b[0m\n\u001b[0;32m    434\u001b[0m             \u001b[1;32melif\u001b[0m \u001b[0mself\u001b[0m\u001b[1;33m.\u001b[0m\u001b[0m_state\u001b[0m \u001b[1;33m==\u001b[0m \u001b[0mFINISHED\u001b[0m\u001b[1;33m:\u001b[0m\u001b[1;33m\u001b[0m\u001b[1;33m\u001b[0m\u001b[0m\n\u001b[1;32m--> 435\u001b[1;33m                 \u001b[1;32mreturn\u001b[0m \u001b[0mself\u001b[0m\u001b[1;33m.\u001b[0m\u001b[0m__get_result\u001b[0m\u001b[1;33m(\u001b[0m\u001b[1;33m)\u001b[0m\u001b[1;33m\u001b[0m\u001b[1;33m\u001b[0m\u001b[0m\n\u001b[0m\u001b[0;32m    436\u001b[0m             \u001b[1;32melse\u001b[0m\u001b[1;33m:\u001b[0m\u001b[1;33m\u001b[0m\u001b[1;33m\u001b[0m\u001b[0m\n\u001b[0;32m    437\u001b[0m                 \u001b[1;32mraise\u001b[0m \u001b[0mTimeoutError\u001b[0m\u001b[1;33m(\u001b[0m\u001b[1;33m)\u001b[0m\u001b[1;33m\u001b[0m\u001b[1;33m\u001b[0m\u001b[0m\n",
      "\u001b[1;32m~\\AppData\\Local\\Programs\\Python\\Python37\\lib\\concurrent\\futures\\_base.py\u001b[0m in \u001b[0;36m__get_result\u001b[1;34m(self)\u001b[0m\n\u001b[0;32m    382\u001b[0m     \u001b[1;32mdef\u001b[0m \u001b[0m__get_result\u001b[0m\u001b[1;33m(\u001b[0m\u001b[0mself\u001b[0m\u001b[1;33m)\u001b[0m\u001b[1;33m:\u001b[0m\u001b[1;33m\u001b[0m\u001b[1;33m\u001b[0m\u001b[0m\n\u001b[0;32m    383\u001b[0m         \u001b[1;32mif\u001b[0m \u001b[0mself\u001b[0m\u001b[1;33m.\u001b[0m\u001b[0m_exception\u001b[0m\u001b[1;33m:\u001b[0m\u001b[1;33m\u001b[0m\u001b[1;33m\u001b[0m\u001b[0m\n\u001b[1;32m--> 384\u001b[1;33m             \u001b[1;32mraise\u001b[0m \u001b[0mself\u001b[0m\u001b[1;33m.\u001b[0m\u001b[0m_exception\u001b[0m\u001b[1;33m\u001b[0m\u001b[1;33m\u001b[0m\u001b[0m\n\u001b[0m\u001b[0;32m    385\u001b[0m         \u001b[1;32melse\u001b[0m\u001b[1;33m:\u001b[0m\u001b[1;33m\u001b[0m\u001b[1;33m\u001b[0m\u001b[0m\n\u001b[0;32m    386\u001b[0m             \u001b[1;32mreturn\u001b[0m \u001b[0mself\u001b[0m\u001b[1;33m.\u001b[0m\u001b[0m_result\u001b[0m\u001b[1;33m\u001b[0m\u001b[1;33m\u001b[0m\u001b[0m\n",
      "\u001b[1;31mTerminatedWorkerError\u001b[0m: A worker process managed by the executor was unexpectedly terminated. This could be caused by a segmentation fault while calling the function or by an excessive memory usage causing the Operating System to kill the worker.\n"
     ]
    }
   ],
   "source": [
    "%%time\n",
    "\n",
    "xgb = XGBRegressor(learning_rate=0.1, max_depth=5, n_estimators=350)\n",
    "gbr = GradientBoostingRegressor(learning_rate=0.1, loss='ls', n_estimators=350, subsample=0.7)\n",
    "ridge = Ridge(alpha=20, solver='svd')\n",
    "ridge_cv = RidgeCV()\n",
    "sr = StackingRegressor(\n",
    "    estimators=[('gbr', gbr), ('xgb', xgb), ('ridge', ridge)],\n",
    "    final_estimator=ridge_cv,\n",
    "    n_jobs=-1, verbose=True\n",
    "    )\n",
    "sr.fit(X_train, y_train)"
   ]
  },
  {
   "cell_type": "markdown",
   "id": "improved-inspector",
   "metadata": {},
   "source": [
    "## Tune GBR Further"
   ]
  },
  {
   "cell_type": "code",
   "execution_count": 4,
   "id": "incoming-measure",
   "metadata": {},
   "outputs": [],
   "source": [
    "X = pd.read_csv('data/X_train.csv')\n",
    "y = pd.read_csv('data/y_train.csv')\n",
    "X_train, X_val, y_train, y_val = train_test_split(X, y, test_size=0.3, random_state=3)"
   ]
  },
  {
   "cell_type": "code",
   "execution_count": 5,
   "id": "asian-holiday",
   "metadata": {},
   "outputs": [
    {
     "name": "stdout",
     "output_type": "stream",
     "text": [
      "n_iterations: 2\n",
      "n_required_iterations: 2\n",
      "n_possible_iterations: 2\n",
      "min_resources_: 70000\n",
      "max_resources_: 210000\n",
      "aggressive_elimination: False\n",
      "factor: 3\n",
      "----------\n",
      "iter: 0\n",
      "n_candidates: 4\n",
      "n_resources: 70000\n",
      "Fitting 5 folds for each of 4 candidates, totalling 20 fits\n",
      "----------\n",
      "iter: 1\n",
      "n_candidates: 2\n",
      "n_resources: 210000\n",
      "Fitting 5 folds for each of 2 candidates, totalling 10 fits\n"
     ]
    },
    {
     "name": "stderr",
     "output_type": "stream",
     "text": [
      "c:\\users\\njeri\\.venvs\\tabular_comp\\lib\\site-packages\\sklearn\\utils\\validation.py:63: DataConversionWarning: A column-vector y was passed when a 1d array was expected. Please change the shape of y to (n_samples, ), for example using ravel().\n",
      "  return f(*args, **kwargs)\n"
     ]
    },
    {
     "name": "stdout",
     "output_type": "stream",
     "text": [
      "Wall time: 23min 21s\n"
     ]
    },
    {
     "data": {
      "text/plain": [
       "HalvingGridSearchCV(estimator=GradientBoostingRegressor(n_estimators=350,\n",
       "                                                        subsample=0.7),\n",
       "                    n_jobs=-1,\n",
       "                    param_grid={'criterion': ['friedman_mse', 'mse'],\n",
       "                                'min_samples_split': [2, 4]},\n",
       "                    refit=<function _refit_callable at 0x00000224C0E2E828>,\n",
       "                    scoring='neg_mean_squared_error', verbose=1)"
      ]
     },
     "execution_count": 5,
     "metadata": {},
     "output_type": "execute_result"
    }
   ],
   "source": [
    "%%time\n",
    "\n",
    "gbr = GradientBoostingRegressor(learning_rate=0.1, loss='ls', n_estimators=350, subsample=0.7)\n",
    "\n",
    "parameters = {\n",
    "    'criterion': ['friedman_mse', 'mse'],\n",
    "    'min_samples_split': [2, 4]\n",
    "    }\n",
    "\n",
    "search = HalvingGridSearchCV(gbr, parameters, n_jobs=-1, \n",
    "                           verbose=1, scoring = \"neg_mean_squared_error\", refit=True)\n",
    "\n",
    "search.fit(X_train, y_train)"
   ]
  },
  {
   "cell_type": "code",
   "execution_count": 6,
   "id": "first-caution",
   "metadata": {},
   "outputs": [
    {
     "name": "stdout",
     "output_type": "stream",
     "text": [
      "Best estimator: GradientBoostingRegressor(n_estimators=350, subsample=0.7)\n",
      "Best parameters: {'criterion': 'friedman_mse', 'min_samples_split': 2}\n",
      "RMSE = 0.8436101390265609\n"
     ]
    }
   ],
   "source": [
    "print(f'Best estimator: {search.best_estimator_}')\n",
    "print(f'Best parameters: {search.best_params_}')\n",
    "y_pred = search.predict(X_val)\n",
    "mse = mean_squared_error(y_true=y_val, y_pred=y_pred)\n",
    "print('RMSE =', math.sqrt(abs(mse)))"
   ]
  },
  {
   "cell_type": "code",
   "execution_count": null,
   "id": "competent-petite",
   "metadata": {},
   "outputs": [
    {
     "name": "stdout",
     "output_type": "stream",
     "text": [
      "n_iterations: 2\n",
      "n_required_iterations: 2\n",
      "n_possible_iterations: 2\n",
      "min_resources_: 70000\n",
      "max_resources_: 210000\n",
      "aggressive_elimination: False\n",
      "factor: 3\n",
      "----------\n",
      "iter: 0\n",
      "n_candidates: 4\n",
      "n_resources: 70000\n",
      "Fitting 5 folds for each of 4 candidates, totalling 20 fits\n"
     ]
    }
   ],
   "source": [
    "%%time\n",
    "\n",
    "# second iteration\n",
    "\n",
    "gbr = GradientBoostingRegressor(n_estimators=350, subsample=0.7)\n",
    "\n",
    "parameters = {\n",
    "    'min_samples_leaf': [1, 2],\n",
    "    'min_weight_fraction_leaf': [0, 0.3]\n",
    "    }\n",
    "\n",
    "search = HalvingGridSearchCV(gbr, parameters, n_jobs=-1, \n",
    "                           verbose=1, scoring = \"neg_mean_squared_error\", refit=True)\n",
    "\n",
    "search.fit(X_train, y_train)"
   ]
  },
  {
   "cell_type": "code",
   "execution_count": null,
   "id": "federal-success",
   "metadata": {},
   "outputs": [],
   "source": [
    "print(f'Best estimator: {search.best_estimator_}')\n",
    "print(f'Best parameters: {search.best_params_}')\n",
    "y_pred = search.predict(X_val)\n",
    "mse = mean_squared_error(y_true=y_val, y_pred=y_pred)\n",
    "print('RMSE =', math.sqrt(abs(mse)))"
   ]
  },
  {
   "cell_type": "code",
   "execution_count": null,
   "id": "south-pavilion",
   "metadata": {},
   "outputs": [],
   "source": []
  },
  {
   "cell_type": "code",
   "execution_count": null,
   "id": "exact-pressing",
   "metadata": {},
   "outputs": [],
   "source": []
  },
  {
   "cell_type": "markdown",
   "id": "phantom-plaza",
   "metadata": {},
   "source": [
    "# Deep Learning Models"
   ]
  },
  {
   "cell_type": "markdown",
   "id": "behind-latitude",
   "metadata": {},
   "source": [
    "## Establish Baseline (Vanilla Neural Net)"
   ]
  },
  {
   "cell_type": "code",
   "execution_count": 64,
   "id": "signed-analysis",
   "metadata": {},
   "outputs": [],
   "source": [
    "X = pd.read_csv('data/X_train.csv')\n",
    "y = pd.read_csv('data/y_train.csv')"
   ]
  },
  {
   "cell_type": "code",
   "execution_count": 65,
   "id": "tribal-province",
   "metadata": {},
   "outputs": [],
   "source": [
    "X_train, X_val, y_train, y_val = train_test_split(X, y, test_size=0.3, random_state=3)"
   ]
  },
  {
   "cell_type": "code",
   "execution_count": 62,
   "id": "central-testimony",
   "metadata": {},
   "outputs": [
    {
     "name": "stdout",
     "output_type": "stream",
     "text": [
      "Model: \"sequential\"\n",
      "_________________________________________________________________\n",
      "Layer (type)                 Output Shape              Param #   \n",
      "=================================================================\n",
      "dense (Dense)                (None, 64)                3584      \n",
      "_________________________________________________________________\n",
      "dense_1 (Dense)              (None, 32)                2080      \n",
      "_________________________________________________________________\n",
      "dense_2 (Dense)              (None, 16)                528       \n",
      "_________________________________________________________________\n",
      "dense_3 (Dense)              (None, 1)                 17        \n",
      "=================================================================\n",
      "Total params: 6,209\n",
      "Trainable params: 6,209\n",
      "Non-trainable params: 0\n",
      "_________________________________________________________________\n"
     ]
    }
   ],
   "source": [
    "model = Sequential()\n",
    "model.add(layers.Dense(64, input_dim=55, activation='relu'))\n",
    "model.add(layers.Dense(32, activation='relu'))\n",
    "model.add(layers.Dense(16, activation='relu'))\n",
    "model.add(layers.Dense(1, activation='linear'))\n",
    "model.summary()"
   ]
  },
  {
   "cell_type": "code",
   "execution_count": 67,
   "id": "dress-china",
   "metadata": {},
   "outputs": [],
   "source": [
    "model.compile(loss='mse',\n",
    "              optimizer='adam',\n",
    "              metrics=['mae'])"
   ]
  },
  {
   "cell_type": "code",
   "execution_count": 70,
   "id": "beginning-surname",
   "metadata": {},
   "outputs": [
    {
     "name": "stdout",
     "output_type": "stream",
     "text": [
      "Epoch 1/2000\n",
      "6563/6563 [==============================] - 7s 1ms/step - loss: 0.7222 - mae: 0.7055 - val_loss: 0.7463 - val_mae: 0.7190\n",
      "Epoch 2/2000\n",
      "6563/6563 [==============================] - 7s 1ms/step - loss: 0.7220 - mae: 0.7053 - val_loss: 0.7509 - val_mae: 0.7193\n",
      "Epoch 3/2000\n",
      "6563/6563 [==============================] - 6s 947us/step - loss: 0.7220 - mae: 0.7052 - val_loss: 0.7448 - val_mae: 0.7196\n",
      "Epoch 4/2000\n",
      "6563/6563 [==============================] - 7s 1ms/step - loss: 0.7220 - mae: 0.7052 - val_loss: 0.7463 - val_mae: 0.7193\n",
      "Epoch 5/2000\n",
      "6563/6563 [==============================] - 7s 995us/step - loss: 0.7217 - mae: 0.7052 - val_loss: 0.7467 - val_mae: 0.7192\n",
      "Epoch 6/2000\n",
      "6563/6563 [==============================] - 7s 1ms/step - loss: 0.7219 - mae: 0.7053 - val_loss: 0.7461 - val_mae: 0.7196\n"
     ]
    }
   ],
   "source": [
    "es = EarlyStopping(patience=3, restore_best_weights=True)\n",
    "\n",
    "history = model.fit(X_train, y_train,\n",
    "                    validation_data=(X_val, y_val),\n",
    "                  batch_size=32,\n",
    "                  epochs=2000,\n",
    "                  callbacks=[es],\n",
    "                  verbose=1)"
   ]
  },
  {
   "cell_type": "code",
   "execution_count": 73,
   "id": "wired-cabin",
   "metadata": {},
   "outputs": [
    {
     "data": {
      "image/png": "[encoded data removed]",
      "text/plain": [
       "<Figure size 432x288 with 1 Axes>"
      ]
     },
     "metadata": {
      "needs_background": "light"
     },
     "output_type": "display_data"
    },
    {
     "data": {
      "image/png": "[encoded data removed]",
      "text/plain": [
       "<Figure size 432x288 with 1 Axes>"
      ]
     },
     "metadata": {
      "needs_background": "light"
     },
     "output_type": "display_data"
    }
   ],
   "source": [
    "plot_loss_mae(history)"
   ]
  },
  {
   "cell_type": "code",
   "execution_count": 74,
   "id": "collect-yacht",
   "metadata": {},
   "outputs": [
    {
     "name": "stdout",
     "output_type": "stream",
     "text": [
      "RMSE = 0.8630239763264635\n"
     ]
    }
   ],
   "source": [
    "y_pred = model.predict(X_val)\n",
    "mse = mean_squared_error(y_true=y_val, y_pred=y_pred)\n",
    "print('RMSE =', math.sqrt(abs(mse)))"
   ]
  },
  {
   "cell_type": "markdown",
   "id": "sublime-transfer",
   "metadata": {},
   "source": [
    "## Increase layers"
   ]
  },
  {
   "cell_type": "code",
   "execution_count": 75,
   "id": "ranking-peter",
   "metadata": {},
   "outputs": [
    {
     "name": "stdout",
     "output_type": "stream",
     "text": [
      "Model: \"sequential_1\"\n",
      "_________________________________________________________________\n",
      "Layer (type)                 Output Shape              Param #   \n",
      "=================================================================\n",
      "dense_4 (Dense)              (None, 512)               28672     \n",
      "_________________________________________________________________\n",
      "dense_5 (Dense)              (None, 256)               131328    \n",
      "_________________________________________________________________\n",
      "dense_6 (Dense)              (None, 128)               32896     \n",
      "_________________________________________________________________\n",
      "dense_7 (Dense)              (None, 64)                8256      \n",
      "_________________________________________________________________\n",
      "dense_8 (Dense)              (None, 32)                2080      \n",
      "_________________________________________________________________\n",
      "dense_9 (Dense)              (None, 16)                528       \n",
      "_________________________________________________________________\n",
      "dense_10 (Dense)             (None, 1)                 17        \n",
      "=================================================================\n",
      "Total params: 203,777\n",
      "Trainable params: 203,777\n",
      "Non-trainable params: 0\n",
      "_________________________________________________________________\n"
     ]
    }
   ],
   "source": [
    "model = Sequential()\n",
    "model.add(layers.Dense(512, input_dim=55, activation='relu'))\n",
    "model.add(layers.Dense(256, activation='relu'))\n",
    "model.add(layers.Dense(128, activation='relu'))\n",
    "model.add(layers.Dense(64, activation='relu'))\n",
    "model.add(layers.Dense(32, activation='relu'))\n",
    "model.add(layers.Dense(16, activation='relu'))\n",
    "model.add(layers.Dense(1, activation='linear'))\n",
    "model.summary()"
   ]
  },
  {
   "cell_type": "code",
   "execution_count": 76,
   "id": "therapeutic-fitting",
   "metadata": {},
   "outputs": [
    {
     "name": "stdout",
     "output_type": "stream",
     "text": [
      "Epoch 1/2000\n",
      "6563/6563 [==============================] - 11s 2ms/step - loss: 1.5018 - mae: 0.8451 - val_loss: 0.8069 - val_mae: 0.7463\n",
      "Epoch 2/2000\n",
      "6563/6563 [==============================] - 11s 2ms/step - loss: 0.7852 - mae: 0.7320 - val_loss: 0.7439 - val_mae: 0.7164\n",
      "Epoch 3/2000\n",
      "6563/6563 [==============================] - 11s 2ms/step - loss: 0.7750 - mae: 0.7289 - val_loss: 0.7668 - val_mae: 0.7215\n",
      "Epoch 4/2000\n",
      "6563/6563 [==============================] - 11s 2ms/step - loss: 0.7689 - mae: 0.7257 - val_loss: 0.8185 - val_mae: 0.7400\n",
      "Epoch 5/2000\n",
      "6563/6563 [==============================] - 12s 2ms/step - loss: 0.7629 - mae: 0.7238 - val_loss: 0.7421 - val_mae: 0.7149\n",
      "Epoch 6/2000\n",
      "6563/6563 [==============================] - 11s 2ms/step - loss: 0.7586 - mae: 0.7216 - val_loss: 0.7887 - val_mae: 0.7276\n",
      "Epoch 7/2000\n",
      "6563/6563 [==============================] - 11s 2ms/step - loss: 0.7558 - mae: 0.7213 - val_loss: 0.7463 - val_mae: 0.7215\n",
      "Epoch 8/2000\n",
      "6563/6563 [==============================] - 11s 2ms/step - loss: 0.7543 - mae: 0.7205 - val_loss: 0.8293 - val_mae: 0.7553\n"
     ]
    }
   ],
   "source": [
    "model.compile(loss='mse',\n",
    "              optimizer='adam',\n",
    "              metrics=['mae'])\n",
    "\n",
    "es = EarlyStopping(patience=3, restore_best_weights=True)\n",
    "\n",
    "history = model.fit(X_train, y_train,\n",
    "                    validation_data=(X_val, y_val),\n",
    "                    batch_size=32,\n",
    "                    epochs=2000,\n",
    "                    callbacks=[es],\n",
    "                    verbose=1)"
   ]
  },
  {
   "cell_type": "code",
   "execution_count": 77,
   "id": "polyphonic-liability",
   "metadata": {},
   "outputs": [
    {
     "data": {
      "image/png": "[encoded data removed]",
      "text/plain": [
       "<Figure size 432x288 with 1 Axes>"
      ]
     },
     "metadata": {
      "needs_background": "light"
     },
     "output_type": "display_data"
    },
    {
     "data": {
      "image/png": "[encoded data removed]",
      "text/plain": [
       "<Figure size 432x288 with 1 Axes>"
      ]
     },
     "metadata": {
      "needs_background": "light"
     },
     "output_type": "display_data"
    }
   ],
   "source": [
    "plot_loss_mae(history)"
   ]
  },
  {
   "cell_type": "code",
   "execution_count": 78,
   "id": "competitive-religious",
   "metadata": {},
   "outputs": [
    {
     "name": "stdout",
     "output_type": "stream",
     "text": [
      "RMSE = 0.8614270457998767\n"
     ]
    }
   ],
   "source": [
    "y_pred = model.predict(X_val)\n",
    "mse = mean_squared_error(y_true=y_val, y_pred=y_pred)\n",
    "print('RMSE =', math.sqrt(abs(mse)))"
   ]
  },
  {
   "cell_type": "markdown",
   "id": "strategic-understanding",
   "metadata": {},
   "source": [
    "## Add regularization\n",
    "\n",
    "Previous architecture resulted in overfitting; add dropout layers then add regularization to last layers"
   ]
  },
  {
   "cell_type": "code",
   "execution_count": 79,
   "id": "south-universal",
   "metadata": {},
   "outputs": [
    {
     "name": "stdout",
     "output_type": "stream",
     "text": [
      "Model: \"sequential_2\"\n",
      "_________________________________________________________________\n",
      "Layer (type)                 Output Shape              Param #   \n",
      "=================================================================\n",
      "dense_11 (Dense)             (None, 512)               28672     \n",
      "_________________________________________________________________\n",
      "dropout (Dropout)            (None, 512)               0         \n",
      "_________________________________________________________________\n",
      "dense_12 (Dense)             (None, 256)               131328    \n",
      "_________________________________________________________________\n",
      "dropout_1 (Dropout)          (None, 256)               0         \n",
      "_________________________________________________________________\n",
      "dense_13 (Dense)             (None, 128)               32896     \n",
      "_________________________________________________________________\n",
      "dropout_2 (Dropout)          (None, 128)               0         \n",
      "_________________________________________________________________\n",
      "dense_14 (Dense)             (None, 64)                8256      \n",
      "_________________________________________________________________\n",
      "dropout_3 (Dropout)          (None, 64)                0         \n",
      "_________________________________________________________________\n",
      "dense_15 (Dense)             (None, 32)                2080      \n",
      "_________________________________________________________________\n",
      "dropout_4 (Dropout)          (None, 32)                0         \n",
      "_________________________________________________________________\n",
      "dense_16 (Dense)             (None, 16)                528       \n",
      "_________________________________________________________________\n",
      "dropout_5 (Dropout)          (None, 16)                0         \n",
      "_________________________________________________________________\n",
      "dense_17 (Dense)             (None, 1)                 17        \n",
      "=================================================================\n",
      "Total params: 203,777\n",
      "Trainable params: 203,777\n",
      "Non-trainable params: 0\n",
      "_________________________________________________________________\n"
     ]
    }
   ],
   "source": [
    "# Add dropout layers\n",
    "\n",
    "model = Sequential()\n",
    "model.add(layers.Dense(512, input_dim=55, activation='relu'))\n",
    "model.add(layers.Dropout(rate=0.3))\n",
    "\n",
    "model.add(layers.Dense(256, activation='relu'))\n",
    "model.add(layers.Dropout(rate=0.3))\n",
    "\n",
    "model.add(layers.Dense(128, activation='relu'))\n",
    "model.add(layers.Dropout(rate=0.3))\n",
    "\n",
    "model.add(layers.Dense(64, activation='relu'))\n",
    "model.add(layers.Dropout(rate=0.3))\n",
    "\n",
    "model.add(layers.Dense(32, activation='relu'))\n",
    "model.add(layers.Dropout(rate=0.3))\n",
    "\n",
    "model.add(layers.Dense(16, activation='relu'))\n",
    "model.add(layers.Dropout(rate=0.3))\n",
    "\n",
    "model.add(layers.Dense(1, activation='linear'))\n",
    "model.summary()"
   ]
  },
  {
   "cell_type": "code",
   "execution_count": 80,
   "id": "virgin-procedure",
   "metadata": {},
   "outputs": [
    {
     "name": "stdout",
     "output_type": "stream",
     "text": [
      "Epoch 1/2000\n",
      "6563/6563 [==============================] - 17s 3ms/step - loss: 4.9557 - mae: 1.6985 - val_loss: 0.7982 - val_mae: 0.7473\n",
      "Epoch 2/2000\n",
      "6563/6563 [==============================] - 16s 3ms/step - loss: 1.2092 - mae: 0.8883 - val_loss: 0.7595 - val_mae: 0.7308\n",
      "Epoch 3/2000\n",
      "6563/6563 [==============================] - 17s 3ms/step - loss: 0.7996 - mae: 0.7405 - val_loss: 0.7462 - val_mae: 0.7211\n",
      "Epoch 4/2000\n",
      "6563/6563 [==============================] - 17s 3ms/step - loss: 0.7580 - mae: 0.7248 - val_loss: 0.7431 - val_mae: 0.7203\n",
      "Epoch 5/2000\n",
      "6563/6563 [==============================] - 17s 3ms/step - loss: 0.7556 - mae: 0.7230 - val_loss: 0.7494 - val_mae: 0.7244\n",
      "Epoch 6/2000\n",
      "6563/6563 [==============================] - 16s 2ms/step - loss: 0.7572 - mae: 0.7247 - val_loss: 0.7443 - val_mae: 0.7208\n",
      "Epoch 7/2000\n",
      "6563/6563 [==============================] - 17s 3ms/step - loss: 0.7512 - mae: 0.7215 - val_loss: 0.7427 - val_mae: 0.7204\n",
      "Epoch 8/2000\n",
      "6563/6563 [==============================] - 17s 3ms/step - loss: 0.7514 - mae: 0.7209 - val_loss: 0.7444 - val_mae: 0.7198\n",
      "Epoch 9/2000\n",
      "6563/6563 [==============================] - 16s 2ms/step - loss: 0.7517 - mae: 0.7211 - val_loss: 0.7443 - val_mae: 0.7217\n",
      "Epoch 10/2000\n",
      "6563/6563 [==============================] - 16s 3ms/step - loss: 0.7535 - mae: 0.7230 - val_loss: 0.7428 - val_mae: 0.7202\n"
     ]
    }
   ],
   "source": [
    "model.compile(loss='mse',\n",
    "              optimizer='adam',\n",
    "              metrics=['mae'])\n",
    "\n",
    "es = EarlyStopping(patience=3, restore_best_weights=True)\n",
    "\n",
    "history = model.fit(X_train, y_train,\n",
    "                    validation_data=(X_val, y_val),\n",
    "                    batch_size=32,\n",
    "                    epochs=2000,\n",
    "                    callbacks=[es],\n",
    "                    verbose=1)"
   ]
  },
  {
   "cell_type": "code",
   "execution_count": 81,
   "id": "iraqi-doubt",
   "metadata": {},
   "outputs": [
    {
     "data": {
      "image/png": "[encoded data removed]",
      "text/plain": [
       "<Figure size 432x288 with 1 Axes>"
      ]
     },
     "metadata": {
      "needs_background": "light"
     },
     "output_type": "display_data"
    },
    {
     "data": {
      "image/png": "[encoded data removed]",
      "text/plain": [
       "<Figure size 432x288 with 1 Axes>"
      ]
     },
     "metadata": {
      "needs_background": "light"
     },
     "output_type": "display_data"
    }
   ],
   "source": [
    "plot_loss_mae(history)"
   ]
  },
  {
   "cell_type": "code",
   "execution_count": 82,
   "id": "national-insert",
   "metadata": {},
   "outputs": [
    {
     "name": "stdout",
     "output_type": "stream",
     "text": [
      "RMSE = 0.8618280625337746\n"
     ]
    }
   ],
   "source": [
    "y_pred = model.predict(X_val)\n",
    "mse = mean_squared_error(y_true=y_val, y_pred=y_pred)\n",
    "print('RMSE =', math.sqrt(abs(mse)))"
   ]
  },
  {
   "cell_type": "code",
   "execution_count": 85,
   "id": "running-aside",
   "metadata": {},
   "outputs": [
    {
     "name": "stdout",
     "output_type": "stream",
     "text": [
      "Model: \"sequential_3\"\n",
      "_________________________________________________________________\n",
      "Layer (type)                 Output Shape              Param #   \n",
      "=================================================================\n",
      "dense_18 (Dense)             (None, 512)               28672     \n",
      "_________________________________________________________________\n",
      "dropout_6 (Dropout)          (None, 512)               0         \n",
      "_________________________________________________________________\n",
      "dense_19 (Dense)             (None, 256)               131328    \n",
      "_________________________________________________________________\n",
      "dropout_7 (Dropout)          (None, 256)               0         \n",
      "_________________________________________________________________\n",
      "dense_20 (Dense)             (None, 128)               32896     \n",
      "_________________________________________________________________\n",
      "dropout_8 (Dropout)          (None, 128)               0         \n",
      "_________________________________________________________________\n",
      "dense_21 (Dense)             (None, 64)                8256      \n",
      "_________________________________________________________________\n",
      "dropout_9 (Dropout)          (None, 64)                0         \n",
      "_________________________________________________________________\n",
      "dense_22 (Dense)             (None, 32)                2080      \n",
      "_________________________________________________________________\n",
      "dropout_10 (Dropout)         (None, 32)                0         \n",
      "_________________________________________________________________\n",
      "dense_23 (Dense)             (None, 16)                528       \n",
      "_________________________________________________________________\n",
      "dropout_11 (Dropout)         (None, 16)                0         \n",
      "_________________________________________________________________\n",
      "dense_24 (Dense)             (None, 1)                 17        \n",
      "=================================================================\n",
      "Total params: 203,777\n",
      "Trainable params: 203,777\n",
      "Non-trainable params: 0\n",
      "_________________________________________________________________\n"
     ]
    }
   ],
   "source": [
    "# Add regularization\n",
    "\n",
    "reg_l1 = regularizers.L1(0.01)\n",
    "reg_l2 = regularizers.L2(0.01)\n",
    "reg_l1_l2 = regularizers.l1_l2(l1=0.005, l2=0.0005)\n",
    "\n",
    "model = Sequential()\n",
    "model.add(layers.Dense(512, input_dim=55, activation='relu'))\n",
    "model.add(layers.Dropout(rate=0.3))\n",
    "\n",
    "model.add(layers.Dense(256, activation='relu'))\n",
    "model.add(layers.Dropout(rate=0.3))\n",
    "\n",
    "model.add(layers.Dense(128, activation='relu'))\n",
    "model.add(layers.Dropout(rate=0.3))\n",
    "\n",
    "model.add(layers.Dense(64, activation='relu', kernel_regularizer=reg_l1))\n",
    "model.add(layers.Dropout(rate=0.3))\n",
    "\n",
    "model.add(layers.Dense(32, activation='relu', bias_regularizer=reg_l2))\n",
    "model.add(layers.Dropout(rate=0.3))\n",
    "\n",
    "model.add(layers.Dense(16, activation='relu', activity_regularizer=reg_l1_l2))\n",
    "model.add(layers.Dropout(rate=0.3))\n",
    "\n",
    "model.add(layers.Dense(1, activation='linear'))\n",
    "model.summary()"
   ]
  },
  {
   "cell_type": "code",
   "execution_count": 86,
   "id": "banner-atmosphere",
   "metadata": {},
   "outputs": [
    {
     "name": "stdout",
     "output_type": "stream",
     "text": [
      "Epoch 1/2000\n",
      "6563/6563 [==============================] - 18s 3ms/step - loss: 7.5745 - mae: 1.8868 - val_loss: 0.9521 - val_mae: 0.7728\n",
      "Epoch 2/2000\n",
      "6563/6563 [==============================] - 17s 3ms/step - loss: 1.3132 - mae: 0.8987 - val_loss: 0.7981 - val_mae: 0.7296\n",
      "Epoch 3/2000\n",
      "6563/6563 [==============================] - 17s 3ms/step - loss: 0.8158 - mae: 0.7338 - val_loss: 0.7794 - val_mae: 0.7285\n",
      "Epoch 4/2000\n",
      "6563/6563 [==============================] - 17s 3ms/step - loss: 0.7860 - mae: 0.7261 - val_loss: 0.7704 - val_mae: 0.7233\n",
      "Epoch 5/2000\n",
      "6563/6563 [==============================] - 18s 3ms/step - loss: 0.7795 - mae: 0.7251 - val_loss: 0.7677 - val_mae: 0.7232\n",
      "Epoch 6/2000\n",
      "6563/6563 [==============================] - 17s 3ms/step - loss: 0.7764 - mae: 0.7243 - val_loss: 0.7704 - val_mae: 0.7226\n",
      "Epoch 7/2000\n",
      "6563/6563 [==============================] - 17s 3ms/step - loss: 0.7793 - mae: 0.7247 - val_loss: 0.7653 - val_mae: 0.7229\n",
      "Epoch 8/2000\n",
      "6563/6563 [==============================] - 18s 3ms/step - loss: 0.7789 - mae: 0.7242 - val_loss: 0.7654 - val_mae: 0.7196\n",
      "Epoch 9/2000\n",
      "6563/6563 [==============================] - 17s 3ms/step - loss: 0.7782 - mae: 0.7246 - val_loss: 0.7699 - val_mae: 0.7258\n",
      "Epoch 10/2000\n",
      "6563/6563 [==============================] - 18s 3ms/step - loss: 0.7778 - mae: 0.7244 - val_loss: 0.7669 - val_mae: 0.7226\n"
     ]
    }
   ],
   "source": [
    "model.compile(loss='mse',\n",
    "              optimizer='adam',\n",
    "              metrics=['mae'])\n",
    "\n",
    "es = EarlyStopping(patience=3, restore_best_weights=True)\n",
    "\n",
    "history = model.fit(X_train, y_train,\n",
    "                    validation_data=(X_val, y_val),\n",
    "                    batch_size=32,\n",
    "                    epochs=2000,\n",
    "                    callbacks=[es],\n",
    "                    verbose=1)"
   ]
  },
  {
   "cell_type": "code",
   "execution_count": 87,
   "id": "adverse-joint",
   "metadata": {},
   "outputs": [
    {
     "data": {
      "image/png": "[encoded data removed]",
      "text/plain": [
       "<Figure size 432x288 with 1 Axes>"
      ]
     },
     "metadata": {
      "needs_background": "light"
     },
     "output_type": "display_data"
    },
    {
     "data": {
      "image/png": "[encoded data removed]",
      "text/plain": [
       "<Figure size 432x288 with 1 Axes>"
      ]
     },
     "metadata": {
      "needs_background": "light"
     },
     "output_type": "display_data"
    }
   ],
   "source": [
    "plot_loss_mae(history)"
   ]
  },
  {
   "cell_type": "code",
   "execution_count": 88,
   "id": "orange-device",
   "metadata": {},
   "outputs": [
    {
     "name": "stdout",
     "output_type": "stream",
     "text": [
      "RMSE = 0.8638931936677187\n"
     ]
    }
   ],
   "source": [
    "y_pred = model.predict(X_val)\n",
    "mse = mean_squared_error(y_true=y_val, y_pred=y_pred)\n",
    "print('RMSE =', math.sqrt(abs(mse)))"
   ]
  },
  {
   "cell_type": "code",
   "execution_count": 89,
   "id": "local-theta",
   "metadata": {},
   "outputs": [
    {
     "name": "stdout",
     "output_type": "stream",
     "text": [
      "Model: \"sequential_4\"\n",
      "_________________________________________________________________\n",
      "Layer (type)                 Output Shape              Param #   \n",
      "=================================================================\n",
      "dense_25 (Dense)             (None, 128)               7168      \n",
      "_________________________________________________________________\n",
      "dropout_12 (Dropout)         (None, 128)               0         \n",
      "_________________________________________________________________\n",
      "dense_26 (Dense)             (None, 64)                8256      \n",
      "_________________________________________________________________\n",
      "dropout_13 (Dropout)         (None, 64)                0         \n",
      "_________________________________________________________________\n",
      "dense_27 (Dense)             (None, 32)                2080      \n",
      "_________________________________________________________________\n",
      "dropout_14 (Dropout)         (None, 32)                0         \n",
      "_________________________________________________________________\n",
      "dense_28 (Dense)             (None, 16)                528       \n",
      "_________________________________________________________________\n",
      "dropout_15 (Dropout)         (None, 16)                0         \n",
      "_________________________________________________________________\n",
      "dense_29 (Dense)             (None, 1)                 17        \n",
      "=================================================================\n",
      "Total params: 18,049\n",
      "Trainable params: 18,049\n",
      "Non-trainable params: 0\n",
      "_________________________________________________________________\n"
     ]
    }
   ],
   "source": [
    "# Remove layers\n",
    "\n",
    "model = Sequential()\n",
    "model.add(layers.Dense(128, input_dim=55, activation='relu'))\n",
    "model.add(layers.Dropout(rate=0.3))\n",
    "\n",
    "model.add(layers.Dense(64, activation='relu'))\n",
    "model.add(layers.Dropout(rate=0.3))\n",
    "\n",
    "model.add(layers.Dense(32, activation='relu'))\n",
    "model.add(layers.Dropout(rate=0.3))\n",
    "\n",
    "model.add(layers.Dense(16, activation='relu'))\n",
    "model.add(layers.Dropout(rate=0.3))\n",
    "\n",
    "model.add(layers.Dense(1, activation='linear'))\n",
    "model.summary()"
   ]
  },
  {
   "cell_type": "code",
   "execution_count": 90,
   "id": "competent-pricing",
   "metadata": {},
   "outputs": [
    {
     "name": "stdout",
     "output_type": "stream",
     "text": [
      "Epoch 1/2000\n",
      "6563/6563 [==============================] - 9s 1ms/step - loss: 4.5328 - mae: 1.6279 - val_loss: 0.7825 - val_mae: 0.7392\n",
      "Epoch 2/2000\n",
      "6563/6563 [==============================] - 9s 1ms/step - loss: 1.2088 - mae: 0.8862 - val_loss: 0.7623 - val_mae: 0.7310\n",
      "Epoch 3/2000\n",
      "6563/6563 [==============================] - 9s 1ms/step - loss: 0.8051 - mae: 0.7417 - val_loss: 0.7442 - val_mae: 0.7208\n",
      "Epoch 4/2000\n",
      "6563/6563 [==============================] - 9s 1ms/step - loss: 0.7620 - mae: 0.7267 - val_loss: 0.7489 - val_mae: 0.7234\n",
      "Epoch 5/2000\n",
      "6563/6563 [==============================] - 9s 1ms/step - loss: 0.7542 - mae: 0.7224 - val_loss: 0.7451 - val_mae: 0.7212\n",
      "Epoch 6/2000\n",
      "6563/6563 [==============================] - 9s 1ms/step - loss: 0.7539 - mae: 0.7226 - val_loss: 0.7434 - val_mae: 0.7184\n",
      "Epoch 7/2000\n",
      "6563/6563 [==============================] - 9s 1ms/step - loss: 0.7581 - mae: 0.7254 - val_loss: 0.7446 - val_mae: 0.7214\n",
      "Epoch 8/2000\n",
      "6563/6563 [==============================] - 9s 1ms/step - loss: 0.7499 - mae: 0.7203 - val_loss: 0.7429 - val_mae: 0.7207\n",
      "Epoch 9/2000\n",
      "6563/6563 [==============================] - 9s 1ms/step - loss: 0.7484 - mae: 0.7202 - val_loss: 0.7406 - val_mae: 0.7180\n",
      "Epoch 10/2000\n",
      "6563/6563 [==============================] - 9s 1ms/step - loss: 0.7524 - mae: 0.7221 - val_loss: 0.7418 - val_mae: 0.7201\n",
      "Epoch 11/2000\n",
      "6563/6563 [==============================] - 9s 1ms/step - loss: 0.7491 - mae: 0.7198 - val_loss: 0.7429 - val_mae: 0.7205\n",
      "Epoch 12/2000\n",
      "6563/6563 [==============================] - 9s 1ms/step - loss: 0.7524 - mae: 0.7218 - val_loss: 0.7411 - val_mae: 0.7198\n"
     ]
    }
   ],
   "source": [
    "model.compile(loss='mse',\n",
    "              optimizer='adam',\n",
    "              metrics=['mae'])\n",
    "\n",
    "es = EarlyStopping(patience=3, restore_best_weights=True)\n",
    "\n",
    "history = model.fit(X_train, y_train,\n",
    "                    validation_data=(X_val, y_val),\n",
    "                    batch_size=32,\n",
    "                    epochs=2000,\n",
    "                    callbacks=[es],\n",
    "                    verbose=1)"
   ]
  },
  {
   "cell_type": "code",
   "execution_count": 91,
   "id": "closing-relations",
   "metadata": {},
   "outputs": [
    {
     "data": {
      "image/png": "[encoded data removed]",
      "text/plain": [
       "<Figure size 432x288 with 1 Axes>"
      ]
     },
     "metadata": {
      "needs_background": "light"
     },
     "output_type": "display_data"
    },
    {
     "data": {
      "image/png": "[encoded data removed]",
      "text/plain": [
       "<Figure size 432x288 with 1 Axes>"
      ]
     },
     "metadata": {
      "needs_background": "light"
     },
     "output_type": "display_data"
    }
   ],
   "source": [
    "plot_loss_mae(history)"
   ]
  },
  {
   "cell_type": "code",
   "execution_count": null,
   "id": "digital-richmond",
   "metadata": {},
   "outputs": [],
   "source": []
  }
 ],
 "metadata": {
  "kernelspec": {
   "display_name": "Python 3",
   "language": "python",
   "name": "python3"
  },
  "language_info": {
   "codemirror_mode": {
    "name": "ipython",
    "version": 3
   },
   "file_extension": ".py",
   "mimetype": "text/x-python",
   "name": "python",
   "nbconvert_exporter": "python",
   "pygments_lexer": "ipython3",
   "version": "3.7.7"
  },
  "toc": {
   "base_numbering": 1,
   "nav_menu": {},
   "number_sections": true,
   "sideBar": true,
   "skip_h1_title": false,
   "title_cell": "Table of Contents",
   "title_sidebar": "Contents",
   "toc_cell": false,
   "toc_position": {
    "height": "calc(100% - 180px)",
    "left": "10px",
    "top": "150px",
    "width": "210.2px"
   },
   "toc_section_display": true,
   "toc_window_display": true
  }
 },
 "nbformat": 4,
 "nbformat_minor": 5
}
